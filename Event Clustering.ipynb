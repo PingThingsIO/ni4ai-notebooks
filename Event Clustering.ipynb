{
 "cells": [
  {
   "cell_type": "code",
   "execution_count": 1,
   "metadata": {},
   "outputs": [],
   "source": [
    "import numpy as np\n",
    "import pandas as pd\n",
    "import matplotlib.pyplot as plt\n",
    "\n",
    "from scipy import optimize\n",
    "\n",
    "import btrdb\n",
    "from btrdb.utils.timez import ns_delta, ns_to_datetime, to_nanoseconds\n",
    "\n",
    "import yaml"
   ]
  },
  {
   "cell_type": "code",
   "execution_count": 2,
   "metadata": {},
   "outputs": [],
   "source": [
    "with open('config.yaml', 'r') as f:\n",
    "    config = yaml.safe_load(f)\n",
    "    "
   ]
  },
  {
   "cell_type": "code",
   "execution_count": 3,
   "metadata": {},
   "outputs": [],
   "source": [
    "#Establishing the connecting to the server\n",
    "db = btrdb.connect(config['connection']['api_url'], apikey=config['connection']['api_key'])\n"
   ]
  },
  {
   "cell_type": "code",
   "execution_count": 11,
   "metadata": {},
   "outputs": [
    {
     "data": {
      "text/plain": [
       "762"
      ]
     },
     "execution_count": 11,
     "metadata": {},
     "output_type": "execute_result"
    }
   ],
   "source": [
    "currents = db.streams_in_collection('lndunn/PQdata/epri', tags={\"unit\": \"amps\"})\n",
    "currents = [c for c in currents if c.name != 'In']\n",
    "len(currents)"
   ]
  },
  {
   "cell_type": "code",
   "execution_count": 10,
   "metadata": {},
   "outputs": [
    {
     "data": {
      "text/plain": [
       "762"
      ]
     },
     "execution_count": 10,
     "metadata": {},
     "output_type": "execute_result"
    }
   ],
   "source": [
    "voltages = db.streams_in_collection('lndunn/PQdata/epri', tags={\"unit\": \"volts\"})\n",
    "len(voltages)"
   ]
  },
  {
   "cell_type": "code",
   "execution_count": 14,
   "metadata": {},
   "outputs": [],
   "source": [
    "start = voltages[0].earliest()[0].time\n",
    "end = voltages[0].latest()[0].time\n",
    "uuids = [s.uuid for s in voltages]"
   ]
  },
  {
   "cell_type": "code",
   "execution_count": 45,
   "metadata": {},
   "outputs": [],
   "source": [
    "streamset = db.streams(*uuids[:25])\n",
    "df = streamset.filter(start, end).to_dataframe()"
   ]
  },
  {
   "cell_type": "code",
   "execution_count": 72,
   "metadata": {},
   "outputs": [
    {
     "data": {
      "text/html": [
       "<div>\n",
       "<style scoped>\n",
       "    .dataframe tbody tr th:only-of-type {\n",
       "        vertical-align: middle;\n",
       "    }\n",
       "\n",
       "    .dataframe tbody tr th {\n",
       "        vertical-align: top;\n",
       "    }\n",
       "\n",
       "    .dataframe thead th {\n",
       "        text-align: right;\n",
       "    }\n",
       "</style>\n",
       "<table border=\"1\" class=\"dataframe\">\n",
       "  <thead>\n",
       "    <tr style=\"text-align: right;\">\n",
       "      <th></th>\n",
       "      <th>lndunn/PQdata/epri/event3042/Va</th>\n",
       "      <th>lndunn/PQdata/epri/event3042/Vb</th>\n",
       "      <th>lndunn/PQdata/epri/event3042/Vc</th>\n",
       "      <th>lndunn/PQdata/epri/event3067/Va</th>\n",
       "      <th>lndunn/PQdata/epri/event3067/Vb</th>\n",
       "      <th>lndunn/PQdata/epri/event3067/Vc</th>\n",
       "      <th>lndunn/PQdata/epri/event3152/Va</th>\n",
       "      <th>lndunn/PQdata/epri/event3152/Vb</th>\n",
       "      <th>lndunn/PQdata/epri/event3152/Vc</th>\n",
       "      <th>lndunn/PQdata/epri/event3153/Va</th>\n",
       "      <th>...</th>\n",
       "      <th>lndunn/PQdata/epri/event3402/Va</th>\n",
       "      <th>lndunn/PQdata/epri/event3402/Vb</th>\n",
       "      <th>lndunn/PQdata/epri/event3402/Vc</th>\n",
       "      <th>lndunn/PQdata/epri/event3425/Va</th>\n",
       "      <th>lndunn/PQdata/epri/event3235/Va</th>\n",
       "      <th>lndunn/PQdata/epri/event3235/Vb</th>\n",
       "      <th>lndunn/PQdata/epri/event3235/Vc</th>\n",
       "      <th>lndunn/PQdata/epri/event3298/Va</th>\n",
       "      <th>lndunn/PQdata/epri/event3298/Vb</th>\n",
       "      <th>lndunn/PQdata/epri/event3298/Vc</th>\n",
       "    </tr>\n",
       "    <tr>\n",
       "      <th>time</th>\n",
       "      <th></th>\n",
       "      <th></th>\n",
       "      <th></th>\n",
       "      <th></th>\n",
       "      <th></th>\n",
       "      <th></th>\n",
       "      <th></th>\n",
       "      <th></th>\n",
       "      <th></th>\n",
       "      <th></th>\n",
       "      <th></th>\n",
       "      <th></th>\n",
       "      <th></th>\n",
       "      <th></th>\n",
       "      <th></th>\n",
       "      <th></th>\n",
       "      <th></th>\n",
       "      <th></th>\n",
       "      <th></th>\n",
       "      <th></th>\n",
       "      <th></th>\n",
       "    </tr>\n",
       "  </thead>\n",
       "  <tbody>\n",
       "    <tr>\n",
       "      <th>1104809946273000064</th>\n",
       "      <td>236.259308</td>\n",
       "      <td>-8430.299805</td>\n",
       "      <td>8749.614258</td>\n",
       "      <td>None</td>\n",
       "      <td>None</td>\n",
       "      <td>None</td>\n",
       "      <td>None</td>\n",
       "      <td>None</td>\n",
       "      <td>None</td>\n",
       "      <td>None</td>\n",
       "      <td>...</td>\n",
       "      <td>None</td>\n",
       "      <td>None</td>\n",
       "      <td>None</td>\n",
       "      <td>None</td>\n",
       "      <td>None</td>\n",
       "      <td>None</td>\n",
       "      <td>None</td>\n",
       "      <td>None</td>\n",
       "      <td>None</td>\n",
       "      <td>None</td>\n",
       "    </tr>\n",
       "    <tr>\n",
       "      <th>1104809946273130240</th>\n",
       "      <td>733.647278</td>\n",
       "      <td>-8665.852539</td>\n",
       "      <td>8488.987305</td>\n",
       "      <td>None</td>\n",
       "      <td>None</td>\n",
       "      <td>None</td>\n",
       "      <td>None</td>\n",
       "      <td>None</td>\n",
       "      <td>None</td>\n",
       "      <td>None</td>\n",
       "      <td>...</td>\n",
       "      <td>None</td>\n",
       "      <td>None</td>\n",
       "      <td>None</td>\n",
       "      <td>None</td>\n",
       "      <td>None</td>\n",
       "      <td>None</td>\n",
       "      <td>None</td>\n",
       "      <td>None</td>\n",
       "      <td>None</td>\n",
       "      <td>None</td>\n",
       "    </tr>\n",
       "    <tr>\n",
       "      <th>1104809946273260544</th>\n",
       "      <td>1206.165894</td>\n",
       "      <td>-8913.802734</td>\n",
       "      <td>8228.360352</td>\n",
       "      <td>None</td>\n",
       "      <td>None</td>\n",
       "      <td>None</td>\n",
       "      <td>None</td>\n",
       "      <td>None</td>\n",
       "      <td>None</td>\n",
       "      <td>None</td>\n",
       "      <td>...</td>\n",
       "      <td>None</td>\n",
       "      <td>None</td>\n",
       "      <td>None</td>\n",
       "      <td>None</td>\n",
       "      <td>None</td>\n",
       "      <td>None</td>\n",
       "      <td>None</td>\n",
       "      <td>None</td>\n",
       "      <td>None</td>\n",
       "      <td>None</td>\n",
       "    </tr>\n",
       "    <tr>\n",
       "      <th>1104809946273390720</th>\n",
       "      <td>1641.380371</td>\n",
       "      <td>-9136.958008</td>\n",
       "      <td>7905.679688</td>\n",
       "      <td>None</td>\n",
       "      <td>None</td>\n",
       "      <td>None</td>\n",
       "      <td>None</td>\n",
       "      <td>None</td>\n",
       "      <td>None</td>\n",
       "      <td>None</td>\n",
       "      <td>...</td>\n",
       "      <td>None</td>\n",
       "      <td>None</td>\n",
       "      <td>None</td>\n",
       "      <td>None</td>\n",
       "      <td>None</td>\n",
       "      <td>None</td>\n",
       "      <td>None</td>\n",
       "      <td>None</td>\n",
       "      <td>None</td>\n",
       "      <td>None</td>\n",
       "    </tr>\n",
       "    <tr>\n",
       "      <th>1104809946273521024</th>\n",
       "      <td>2089.029541</td>\n",
       "      <td>-9335.317383</td>\n",
       "      <td>7558.177246</td>\n",
       "      <td>None</td>\n",
       "      <td>None</td>\n",
       "      <td>None</td>\n",
       "      <td>None</td>\n",
       "      <td>None</td>\n",
       "      <td>None</td>\n",
       "      <td>None</td>\n",
       "      <td>...</td>\n",
       "      <td>None</td>\n",
       "      <td>None</td>\n",
       "      <td>None</td>\n",
       "      <td>None</td>\n",
       "      <td>None</td>\n",
       "      <td>None</td>\n",
       "      <td>None</td>\n",
       "      <td>None</td>\n",
       "      <td>None</td>\n",
       "      <td>None</td>\n",
       "    </tr>\n",
       "  </tbody>\n",
       "</table>\n",
       "<p>5 rows × 25 columns</p>\n",
       "</div>"
      ],
      "text/plain": [
       "                     lndunn/PQdata/epri/event3042/Va  \\\n",
       "time                                                   \n",
       "1104809946273000064                       236.259308   \n",
       "1104809946273130240                       733.647278   \n",
       "1104809946273260544                      1206.165894   \n",
       "1104809946273390720                      1641.380371   \n",
       "1104809946273521024                      2089.029541   \n",
       "\n",
       "                     lndunn/PQdata/epri/event3042/Vb  \\\n",
       "time                                                   \n",
       "1104809946273000064                     -8430.299805   \n",
       "1104809946273130240                     -8665.852539   \n",
       "1104809946273260544                     -8913.802734   \n",
       "1104809946273390720                     -9136.958008   \n",
       "1104809946273521024                     -9335.317383   \n",
       "\n",
       "                     lndunn/PQdata/epri/event3042/Vc  \\\n",
       "time                                                   \n",
       "1104809946273000064                      8749.614258   \n",
       "1104809946273130240                      8488.987305   \n",
       "1104809946273260544                      8228.360352   \n",
       "1104809946273390720                      7905.679688   \n",
       "1104809946273521024                      7558.177246   \n",
       "\n",
       "                    lndunn/PQdata/epri/event3067/Va  \\\n",
       "time                                                  \n",
       "1104809946273000064                            None   \n",
       "1104809946273130240                            None   \n",
       "1104809946273260544                            None   \n",
       "1104809946273390720                            None   \n",
       "1104809946273521024                            None   \n",
       "\n",
       "                    lndunn/PQdata/epri/event3067/Vb  \\\n",
       "time                                                  \n",
       "1104809946273000064                            None   \n",
       "1104809946273130240                            None   \n",
       "1104809946273260544                            None   \n",
       "1104809946273390720                            None   \n",
       "1104809946273521024                            None   \n",
       "\n",
       "                    lndunn/PQdata/epri/event3067/Vc  \\\n",
       "time                                                  \n",
       "1104809946273000064                            None   \n",
       "1104809946273130240                            None   \n",
       "1104809946273260544                            None   \n",
       "1104809946273390720                            None   \n",
       "1104809946273521024                            None   \n",
       "\n",
       "                    lndunn/PQdata/epri/event3152/Va  \\\n",
       "time                                                  \n",
       "1104809946273000064                            None   \n",
       "1104809946273130240                            None   \n",
       "1104809946273260544                            None   \n",
       "1104809946273390720                            None   \n",
       "1104809946273521024                            None   \n",
       "\n",
       "                    lndunn/PQdata/epri/event3152/Vb  \\\n",
       "time                                                  \n",
       "1104809946273000064                            None   \n",
       "1104809946273130240                            None   \n",
       "1104809946273260544                            None   \n",
       "1104809946273390720                            None   \n",
       "1104809946273521024                            None   \n",
       "\n",
       "                    lndunn/PQdata/epri/event3152/Vc  \\\n",
       "time                                                  \n",
       "1104809946273000064                            None   \n",
       "1104809946273130240                            None   \n",
       "1104809946273260544                            None   \n",
       "1104809946273390720                            None   \n",
       "1104809946273521024                            None   \n",
       "\n",
       "                    lndunn/PQdata/epri/event3153/Va  ...  \\\n",
       "time                                                 ...   \n",
       "1104809946273000064                            None  ...   \n",
       "1104809946273130240                            None  ...   \n",
       "1104809946273260544                            None  ...   \n",
       "1104809946273390720                            None  ...   \n",
       "1104809946273521024                            None  ...   \n",
       "\n",
       "                    lndunn/PQdata/epri/event3402/Va  \\\n",
       "time                                                  \n",
       "1104809946273000064                            None   \n",
       "1104809946273130240                            None   \n",
       "1104809946273260544                            None   \n",
       "1104809946273390720                            None   \n",
       "1104809946273521024                            None   \n",
       "\n",
       "                    lndunn/PQdata/epri/event3402/Vb  \\\n",
       "time                                                  \n",
       "1104809946273000064                            None   \n",
       "1104809946273130240                            None   \n",
       "1104809946273260544                            None   \n",
       "1104809946273390720                            None   \n",
       "1104809946273521024                            None   \n",
       "\n",
       "                    lndunn/PQdata/epri/event3402/Vc  \\\n",
       "time                                                  \n",
       "1104809946273000064                            None   \n",
       "1104809946273130240                            None   \n",
       "1104809946273260544                            None   \n",
       "1104809946273390720                            None   \n",
       "1104809946273521024                            None   \n",
       "\n",
       "                    lndunn/PQdata/epri/event3425/Va  \\\n",
       "time                                                  \n",
       "1104809946273000064                            None   \n",
       "1104809946273130240                            None   \n",
       "1104809946273260544                            None   \n",
       "1104809946273390720                            None   \n",
       "1104809946273521024                            None   \n",
       "\n",
       "                    lndunn/PQdata/epri/event3235/Va  \\\n",
       "time                                                  \n",
       "1104809946273000064                            None   \n",
       "1104809946273130240                            None   \n",
       "1104809946273260544                            None   \n",
       "1104809946273390720                            None   \n",
       "1104809946273521024                            None   \n",
       "\n",
       "                    lndunn/PQdata/epri/event3235/Vb  \\\n",
       "time                                                  \n",
       "1104809946273000064                            None   \n",
       "1104809946273130240                            None   \n",
       "1104809946273260544                            None   \n",
       "1104809946273390720                            None   \n",
       "1104809946273521024                            None   \n",
       "\n",
       "                    lndunn/PQdata/epri/event3235/Vc  \\\n",
       "time                                                  \n",
       "1104809946273000064                            None   \n",
       "1104809946273130240                            None   \n",
       "1104809946273260544                            None   \n",
       "1104809946273390720                            None   \n",
       "1104809946273521024                            None   \n",
       "\n",
       "                    lndunn/PQdata/epri/event3298/Va  \\\n",
       "time                                                  \n",
       "1104809946273000064                            None   \n",
       "1104809946273130240                            None   \n",
       "1104809946273260544                            None   \n",
       "1104809946273390720                            None   \n",
       "1104809946273521024                            None   \n",
       "\n",
       "                    lndunn/PQdata/epri/event3298/Vb  \\\n",
       "time                                                  \n",
       "1104809946273000064                            None   \n",
       "1104809946273130240                            None   \n",
       "1104809946273260544                            None   \n",
       "1104809946273390720                            None   \n",
       "1104809946273521024                            None   \n",
       "\n",
       "                    lndunn/PQdata/epri/event3298/Vc  \n",
       "time                                                 \n",
       "1104809946273000064                            None  \n",
       "1104809946273130240                            None  \n",
       "1104809946273260544                            None  \n",
       "1104809946273390720                            None  \n",
       "1104809946273521024                            None  \n",
       "\n",
       "[5 rows x 25 columns]"
      ]
     },
     "execution_count": 72,
     "metadata": {},
     "output_type": "execute_result"
    }
   ],
   "source": [
    "df.head()"
   ]
  },
  {
   "cell_type": "code",
   "execution_count": 62,
   "metadata": {},
   "outputs": [],
   "source": [
    "# X = np.ones((len(df.keys()), len(df)))\n",
    "X = df.to_numpy()"
   ]
  },
  {
   "cell_type": "code",
   "execution_count": 63,
   "metadata": {},
   "outputs": [
    {
     "data": {
      "text/plain": [
       "(1148, 25)"
      ]
     },
     "execution_count": 63,
     "metadata": {},
     "output_type": "execute_result"
    }
   ],
   "source": [
    "X.shape"
   ]
  },
  {
   "cell_type": "code",
   "execution_count": null,
   "metadata": {},
   "outputs": [],
   "source": []
  },
  {
   "cell_type": "code",
   "execution_count": 69,
   "metadata": {},
   "outputs": [
    {
     "ename": "ValueError",
     "evalue": "cannot reshape array of size 0 into shape (0,newaxis)",
     "output_type": "error",
     "traceback": [
      "\u001b[0;31m---------------------------------------------------------------------------\u001b[0m",
      "\u001b[0;31mValueError\u001b[0m                                Traceback (most recent call last)",
      "\u001b[0;32m<ipython-input-69-28d90131854c>\u001b[0m in \u001b[0;36m<module>\u001b[0;34m\u001b[0m\n\u001b[1;32m      3\u001b[0m \u001b[0mX_ts\u001b[0m \u001b[0;34m=\u001b[0m \u001b[0mutils\u001b[0m\u001b[0;34m.\u001b[0m\u001b[0mto_time_series_dataset\u001b[0m\u001b[0;34m(\u001b[0m\u001b[0mX\u001b[0m\u001b[0;34m.\u001b[0m\u001b[0mT\u001b[0m\u001b[0;34m)\u001b[0m\u001b[0;34m\u001b[0m\u001b[0;34m\u001b[0m\u001b[0m\n\u001b[1;32m      4\u001b[0m \u001b[0mkm\u001b[0m \u001b[0;34m=\u001b[0m \u001b[0mclustering\u001b[0m\u001b[0;34m.\u001b[0m\u001b[0mTimeSeriesKMeans\u001b[0m\u001b[0;34m(\u001b[0m\u001b[0mn_clusters\u001b[0m\u001b[0;34m=\u001b[0m\u001b[0;36m1\u001b[0m\u001b[0;34m,\u001b[0m \u001b[0mmax_iter\u001b[0m\u001b[0;34m=\u001b[0m\u001b[0;36m50\u001b[0m\u001b[0;34m,\u001b[0m \u001b[0mtol\u001b[0m\u001b[0;34m=\u001b[0m\u001b[0;36m1e-06\u001b[0m\u001b[0;34m,\u001b[0m \u001b[0mn_init\u001b[0m\u001b[0;34m=\u001b[0m\u001b[0;36m1\u001b[0m\u001b[0;34m,\u001b[0m \u001b[0mmetric\u001b[0m\u001b[0;34m=\u001b[0m\u001b[0;34m'dtw'\u001b[0m\u001b[0;34m)\u001b[0m\u001b[0;34m\u001b[0m\u001b[0;34m\u001b[0m\u001b[0m\n\u001b[0;32m----> 5\u001b[0;31m \u001b[0mres\u001b[0m \u001b[0;34m=\u001b[0m \u001b[0mkm\u001b[0m\u001b[0;34m.\u001b[0m\u001b[0mfit\u001b[0m\u001b[0;34m(\u001b[0m\u001b[0mX_ts\u001b[0m\u001b[0;34m)\u001b[0m\u001b[0;34m\u001b[0m\u001b[0;34m\u001b[0m\u001b[0m\n\u001b[0m",
      "\u001b[0;32m~/miniconda3/lib/python3.7/site-packages/tslearn/clustering.py\u001b[0m in \u001b[0;36mfit\u001b[0;34m(self, X, y)\u001b[0m\n\u001b[1;32m    978\u001b[0m                     \u001b[0mprint\u001b[0m\u001b[0;34m(\u001b[0m\u001b[0;34m\"Init %d\"\u001b[0m \u001b[0;34m%\u001b[0m \u001b[0;34m(\u001b[0m\u001b[0mn_successful\u001b[0m \u001b[0;34m+\u001b[0m \u001b[0;36m1\u001b[0m\u001b[0;34m)\u001b[0m\u001b[0;34m)\u001b[0m\u001b[0;34m\u001b[0m\u001b[0;34m\u001b[0m\u001b[0m\n\u001b[1;32m    979\u001b[0m                 \u001b[0mn_attempts\u001b[0m \u001b[0;34m+=\u001b[0m \u001b[0;36m1\u001b[0m\u001b[0;34m\u001b[0m\u001b[0;34m\u001b[0m\u001b[0m\n\u001b[0;32m--> 980\u001b[0;31m                 \u001b[0mself\u001b[0m\u001b[0;34m.\u001b[0m\u001b[0m_fit_one_init\u001b[0m\u001b[0;34m(\u001b[0m\u001b[0mX_\u001b[0m\u001b[0;34m,\u001b[0m \u001b[0mx_squared_norms\u001b[0m\u001b[0;34m,\u001b[0m \u001b[0mrs\u001b[0m\u001b[0;34m)\u001b[0m\u001b[0;34m\u001b[0m\u001b[0;34m\u001b[0m\u001b[0m\n\u001b[0m\u001b[1;32m    981\u001b[0m                 \u001b[0;32mif\u001b[0m \u001b[0mself\u001b[0m\u001b[0;34m.\u001b[0m\u001b[0minertia_\u001b[0m \u001b[0;34m<\u001b[0m \u001b[0mmin_inertia\u001b[0m\u001b[0;34m:\u001b[0m\u001b[0;34m\u001b[0m\u001b[0;34m\u001b[0m\u001b[0m\n\u001b[1;32m    982\u001b[0m                     \u001b[0mbest_correct_centroids\u001b[0m \u001b[0;34m=\u001b[0m \u001b[0mself\u001b[0m\u001b[0;34m.\u001b[0m\u001b[0mcluster_centers_\u001b[0m\u001b[0;34m.\u001b[0m\u001b[0mcopy\u001b[0m\u001b[0;34m(\u001b[0m\u001b[0;34m)\u001b[0m\u001b[0;34m\u001b[0m\u001b[0;34m\u001b[0m\u001b[0m\n",
      "\u001b[0;32m~/miniconda3/lib/python3.7/site-packages/tslearn/clustering.py\u001b[0m in \u001b[0;36m_fit_one_init\u001b[0;34m(self, X, x_squared_norms, rs)\u001b[0m\n\u001b[1;32m    856\u001b[0m             raise ValueError(\"Value %r for parameter 'init'\"\n\u001b[1;32m    857\u001b[0m                              \"is invalid\" % self.init)\n\u001b[0;32m--> 858\u001b[0;31m         \u001b[0mself\u001b[0m\u001b[0;34m.\u001b[0m\u001b[0mcluster_centers_\u001b[0m \u001b[0;34m=\u001b[0m \u001b[0m_check_full_length\u001b[0m\u001b[0;34m(\u001b[0m\u001b[0mself\u001b[0m\u001b[0;34m.\u001b[0m\u001b[0mcluster_centers_\u001b[0m\u001b[0;34m)\u001b[0m\u001b[0;34m\u001b[0m\u001b[0;34m\u001b[0m\u001b[0m\n\u001b[0m\u001b[1;32m    859\u001b[0m         \u001b[0mold_inertia\u001b[0m \u001b[0;34m=\u001b[0m \u001b[0mnumpy\u001b[0m\u001b[0;34m.\u001b[0m\u001b[0minf\u001b[0m\u001b[0;34m\u001b[0m\u001b[0;34m\u001b[0m\u001b[0m\n\u001b[1;32m    860\u001b[0m \u001b[0;34m\u001b[0m\u001b[0m\n",
      "\u001b[0;32m~/miniconda3/lib/python3.7/site-packages/tslearn/clustering.py\u001b[0m in \u001b[0;36m_check_full_length\u001b[0;34m(centroids)\u001b[0m\n\u001b[1;32m    159\u001b[0m     \"\"\"\n\u001b[1;32m    160\u001b[0m     \u001b[0mresampler\u001b[0m \u001b[0;34m=\u001b[0m \u001b[0mTimeSeriesResampler\u001b[0m\u001b[0;34m(\u001b[0m\u001b[0msz\u001b[0m\u001b[0;34m=\u001b[0m\u001b[0mcentroids\u001b[0m\u001b[0;34m.\u001b[0m\u001b[0mshape\u001b[0m\u001b[0;34m[\u001b[0m\u001b[0;36m1\u001b[0m\u001b[0;34m]\u001b[0m\u001b[0;34m)\u001b[0m\u001b[0;34m\u001b[0m\u001b[0;34m\u001b[0m\u001b[0m\n\u001b[0;32m--> 161\u001b[0;31m     \u001b[0;32mreturn\u001b[0m \u001b[0mresampler\u001b[0m\u001b[0;34m.\u001b[0m\u001b[0mfit_transform\u001b[0m\u001b[0;34m(\u001b[0m\u001b[0mcentroids\u001b[0m\u001b[0;34m)\u001b[0m\u001b[0;34m\u001b[0m\u001b[0;34m\u001b[0m\u001b[0m\n\u001b[0m\u001b[1;32m    162\u001b[0m \u001b[0;34m\u001b[0m\u001b[0m\n\u001b[1;32m    163\u001b[0m \u001b[0;34m\u001b[0m\u001b[0m\n",
      "\u001b[0;32m~/miniconda3/lib/python3.7/site-packages/tslearn/preprocessing.py\u001b[0m in \u001b[0;36mfit_transform\u001b[0;34m(self, X, y, **kwargs)\u001b[0m\n\u001b[1;32m     74\u001b[0m             \u001b[0mResampled\u001b[0m \u001b[0mtime\u001b[0m \u001b[0mseries\u001b[0m \u001b[0mdataset\u001b[0m\u001b[0;34m.\u001b[0m\u001b[0;34m\u001b[0m\u001b[0;34m\u001b[0m\u001b[0m\n\u001b[1;32m     75\u001b[0m         \"\"\"\n\u001b[0;32m---> 76\u001b[0;31m         \u001b[0;32mreturn\u001b[0m \u001b[0mself\u001b[0m\u001b[0;34m.\u001b[0m\u001b[0mfit\u001b[0m\u001b[0;34m(\u001b[0m\u001b[0mX\u001b[0m\u001b[0;34m)\u001b[0m\u001b[0;34m.\u001b[0m\u001b[0mtransform\u001b[0m\u001b[0;34m(\u001b[0m\u001b[0mX\u001b[0m\u001b[0;34m)\u001b[0m\u001b[0;34m\u001b[0m\u001b[0;34m\u001b[0m\u001b[0m\n\u001b[0m\u001b[1;32m     77\u001b[0m \u001b[0;34m\u001b[0m\u001b[0m\n\u001b[1;32m     78\u001b[0m     \u001b[0;32mdef\u001b[0m \u001b[0mtransform\u001b[0m\u001b[0;34m(\u001b[0m\u001b[0mself\u001b[0m\u001b[0;34m,\u001b[0m \u001b[0mX\u001b[0m\u001b[0;34m,\u001b[0m \u001b[0my\u001b[0m\u001b[0;34m=\u001b[0m\u001b[0;32mNone\u001b[0m\u001b[0;34m,\u001b[0m \u001b[0;34m**\u001b[0m\u001b[0mkwargs\u001b[0m\u001b[0;34m)\u001b[0m\u001b[0;34m:\u001b[0m\u001b[0;34m\u001b[0m\u001b[0;34m\u001b[0m\u001b[0m\n",
      "\u001b[0;32m~/miniconda3/lib/python3.7/site-packages/tslearn/preprocessing.py\u001b[0m in \u001b[0;36mtransform\u001b[0;34m(self, X, y, **kwargs)\u001b[0m\n\u001b[1;32m    101\u001b[0m             \u001b[0;32mfor\u001b[0m \u001b[0mdi\u001b[0m \u001b[0;32min\u001b[0m \u001b[0mrange\u001b[0m\u001b[0;34m(\u001b[0m\u001b[0md\u001b[0m\u001b[0;34m)\u001b[0m\u001b[0;34m:\u001b[0m\u001b[0;34m\u001b[0m\u001b[0;34m\u001b[0m\u001b[0m\n\u001b[1;32m    102\u001b[0m                 f = interp1d(numpy.linspace(0, 1, sz), X_[i, :sz, di],\n\u001b[0;32m--> 103\u001b[0;31m                              kind=\"slinear\")\n\u001b[0m\u001b[1;32m    104\u001b[0m                 \u001b[0mX_out\u001b[0m\u001b[0;34m[\u001b[0m\u001b[0mi\u001b[0m\u001b[0;34m,\u001b[0m \u001b[0;34m:\u001b[0m\u001b[0;34m,\u001b[0m \u001b[0mdi\u001b[0m\u001b[0;34m]\u001b[0m \u001b[0;34m=\u001b[0m \u001b[0mf\u001b[0m\u001b[0;34m(\u001b[0m\u001b[0mxnew\u001b[0m\u001b[0;34m)\u001b[0m\u001b[0;34m\u001b[0m\u001b[0;34m\u001b[0m\u001b[0m\n\u001b[1;32m    105\u001b[0m         \u001b[0;32mreturn\u001b[0m \u001b[0mX_out\u001b[0m\u001b[0;34m\u001b[0m\u001b[0;34m\u001b[0m\u001b[0m\n",
      "\u001b[0;32m~/miniconda3/lib/python3.7/site-packages/scipy/interpolate/interpolate.py\u001b[0m in \u001b[0;36m__init__\u001b[0;34m(self, x, y, kind, axis, copy, bounds_error, fill_value, assume_sorted)\u001b[0m\n\u001b[1;32m    456\u001b[0m         \u001b[0;31m# Interpolation goes internally along the first axis\u001b[0m\u001b[0;34m\u001b[0m\u001b[0;34m\u001b[0m\u001b[0;34m\u001b[0m\u001b[0m\n\u001b[1;32m    457\u001b[0m         \u001b[0mself\u001b[0m\u001b[0;34m.\u001b[0m\u001b[0my\u001b[0m \u001b[0;34m=\u001b[0m \u001b[0my\u001b[0m\u001b[0;34m\u001b[0m\u001b[0;34m\u001b[0m\u001b[0m\n\u001b[0;32m--> 458\u001b[0;31m         \u001b[0mself\u001b[0m\u001b[0;34m.\u001b[0m\u001b[0m_y\u001b[0m \u001b[0;34m=\u001b[0m \u001b[0mself\u001b[0m\u001b[0;34m.\u001b[0m\u001b[0m_reshape_yi\u001b[0m\u001b[0;34m(\u001b[0m\u001b[0mself\u001b[0m\u001b[0;34m.\u001b[0m\u001b[0my\u001b[0m\u001b[0;34m)\u001b[0m\u001b[0;34m\u001b[0m\u001b[0;34m\u001b[0m\u001b[0m\n\u001b[0m\u001b[1;32m    459\u001b[0m         \u001b[0mself\u001b[0m\u001b[0;34m.\u001b[0m\u001b[0mx\u001b[0m \u001b[0;34m=\u001b[0m \u001b[0mx\u001b[0m\u001b[0;34m\u001b[0m\u001b[0;34m\u001b[0m\u001b[0m\n\u001b[1;32m    460\u001b[0m         \u001b[0;32mdel\u001b[0m \u001b[0my\u001b[0m\u001b[0;34m,\u001b[0m \u001b[0mx\u001b[0m  \u001b[0;31m# clean up namespace to prevent misuse; use attributes\u001b[0m\u001b[0;34m\u001b[0m\u001b[0;34m\u001b[0m\u001b[0m\n",
      "\u001b[0;32m~/miniconda3/lib/python3.7/site-packages/scipy/interpolate/polyint.py\u001b[0m in \u001b[0;36m_reshape_yi\u001b[0;34m(self, yi, check)\u001b[0m\n\u001b[1;32m    104\u001b[0m                                            self._y_extra_shape[:-self._y_axis])\n\u001b[1;32m    105\u001b[0m             \u001b[0;32mraise\u001b[0m \u001b[0mValueError\u001b[0m\u001b[0;34m(\u001b[0m\u001b[0;34m\"Data must be of shape %s\"\u001b[0m \u001b[0;34m%\u001b[0m \u001b[0mok_shape\u001b[0m\u001b[0;34m)\u001b[0m\u001b[0;34m\u001b[0m\u001b[0;34m\u001b[0m\u001b[0m\n\u001b[0;32m--> 106\u001b[0;31m         \u001b[0;32mreturn\u001b[0m \u001b[0myi\u001b[0m\u001b[0;34m.\u001b[0m\u001b[0mreshape\u001b[0m\u001b[0;34m(\u001b[0m\u001b[0;34m(\u001b[0m\u001b[0myi\u001b[0m\u001b[0;34m.\u001b[0m\u001b[0mshape\u001b[0m\u001b[0;34m[\u001b[0m\u001b[0;36m0\u001b[0m\u001b[0;34m]\u001b[0m\u001b[0;34m,\u001b[0m \u001b[0;34m-\u001b[0m\u001b[0;36m1\u001b[0m\u001b[0;34m)\u001b[0m\u001b[0;34m)\u001b[0m\u001b[0;34m\u001b[0m\u001b[0;34m\u001b[0m\u001b[0m\n\u001b[0m\u001b[1;32m    107\u001b[0m \u001b[0;34m\u001b[0m\u001b[0m\n\u001b[1;32m    108\u001b[0m     \u001b[0;32mdef\u001b[0m \u001b[0m_set_yi\u001b[0m\u001b[0;34m(\u001b[0m\u001b[0mself\u001b[0m\u001b[0;34m,\u001b[0m \u001b[0myi\u001b[0m\u001b[0;34m,\u001b[0m \u001b[0mxi\u001b[0m\u001b[0;34m=\u001b[0m\u001b[0;32mNone\u001b[0m\u001b[0;34m,\u001b[0m \u001b[0maxis\u001b[0m\u001b[0;34m=\u001b[0m\u001b[0;32mNone\u001b[0m\u001b[0;34m)\u001b[0m\u001b[0;34m:\u001b[0m\u001b[0;34m\u001b[0m\u001b[0;34m\u001b[0m\u001b[0m\n",
      "\u001b[0;31mValueError\u001b[0m: cannot reshape array of size 0 into shape (0,newaxis)"
     ]
    }
   ],
   "source": [
    "from tslearn import clustering, utils\n",
    "\n",
    "X_ts = utils.to_time_series_dataset(X.T)\n",
    "km = clustering.TimeSeriesKMeans(n_clusters=1, max_iter=50, tol=1e-06, n_init=1, metric='dtw')\n",
    "res = km.fit(X_ts)"
   ]
  },
  {
   "cell_type": "code",
   "execution_count": 67,
   "metadata": {},
   "outputs": [
    {
     "data": {
      "text/plain": [
       "(3, 3, 1)"
      ]
     },
     "execution_count": 67,
     "metadata": {},
     "output_type": "execute_result"
    }
   ],
   "source": [
    "res.cluster_centers_.shape"
   ]
  },
  {
   "cell_type": "code",
   "execution_count": 37,
   "metadata": {},
   "outputs": [
    {
     "data": {
      "image/png": "[encoded data removed]",
      "text/plain": [
       "<Figure size 432x288 with 1 Axes>"
      ]
     },
     "metadata": {
      "needs_background": "light"
     },
     "output_type": "display_data"
    }
   ],
   "source": [
    "fig, ax = plt.subplots()\n",
    "for ix in range(res.cluster_centers_.shape[0]):\n",
    "    ax.plot(np.linspace(df.index.min(), df.index.max(), res.cluster_centers_.shape[1]), res.cluster_centers_[ix, :, 0], lw=2, color='g')\n",
    "df.plot(ax=ax, color='0.5', alpha=0.5)\n",
    "plt.show()"
   ]
  },
  {
   "cell_type": "code",
   "execution_count": 57,
   "metadata": {},
   "outputs": [
    {
     "name": "stdout",
     "output_type": "stream",
     "text": [
      "(3, 32, 1)\n",
      "(3, 32, 1)\n"
     ]
    },
    {
     "ename": "NameError",
     "evalue": "name 'to_time_series_dataset' is not defined",
     "output_type": "error",
     "traceback": [
      "\u001b[0;31m---------------------------------------------------------------------------\u001b[0m",
      "\u001b[0;31mNameError\u001b[0m                                 Traceback (most recent call last)",
      "\u001b[0;32m<ipython-input-57-54ce46331c49>\u001b[0m in \u001b[0;36m<module>\u001b[0;34m\u001b[0m\n\u001b[1;32m     15\u001b[0m \u001b[0mprint\u001b[0m\u001b[0;34m(\u001b[0m\u001b[0mkm_sdtw\u001b[0m\u001b[0;34m.\u001b[0m\u001b[0mcluster_centers_\u001b[0m\u001b[0;34m.\u001b[0m\u001b[0mshape\u001b[0m\u001b[0;34m)\u001b[0m\u001b[0;34m\u001b[0m\u001b[0;34m\u001b[0m\u001b[0m\n\u001b[1;32m     16\u001b[0m \u001b[0;34m\u001b[0m\u001b[0m\n\u001b[0;32m---> 17\u001b[0;31m X_bis = to_time_series_dataset([[1, 2, 3, 4],\n\u001b[0m\u001b[1;32m     18\u001b[0m                                  \u001b[0;34m[\u001b[0m\u001b[0;36m1\u001b[0m\u001b[0;34m,\u001b[0m \u001b[0;36m2\u001b[0m\u001b[0;34m,\u001b[0m \u001b[0;36m3\u001b[0m\u001b[0;34m]\u001b[0m\u001b[0;34m,\u001b[0m\u001b[0;34m\u001b[0m\u001b[0;34m\u001b[0m\u001b[0m\n\u001b[1;32m     19\u001b[0m                                  [2, 5, 6, 7, 8, 9]])\n",
      "\u001b[0;31mNameError\u001b[0m: name 'to_time_series_dataset' is not defined"
     ]
    }
   ],
   "source": [
    "from tslearn.generators import random_walks\n",
    "X = random_walks(n_ts=50, sz=32, d=1)\n",
    "km = clustering.TimeSeriesKMeans(n_clusters=3, metric=\"euclidean\", max_iter=5,\n",
    "                       random_state=0).fit(X)\n",
    "print(km.cluster_centers_.shape)\n",
    "km_dba = clustering.TimeSeriesKMeans(n_clusters=3, metric=\"dtw\", max_iter=5,\n",
    "                           max_iter_barycenter=5,\n",
    "                           random_state=0).fit(X)\n",
    "km_dba.cluster_centers_.shape\n",
    "\n",
    "km_sdtw = clustering.TimeSeriesKMeans(n_clusters=3, metric=\"softdtw\", max_iter=5,\n",
    "                            max_iter_barycenter=5,\n",
    "                            metric_params={\"gamma\": .5},\n",
    "                            random_state=0).fit(X)\n",
    "print(km_sdtw.cluster_centers_.shape)\n",
    "\n",
    "X_bis = to_time_series_dataset([[1, 2, 3, 4],\n",
    "                                 [1, 2, 3],\n",
    "                                 [2, 5, 6, 7, 8, 9]])\n",
    "km = clustering.TimeSeriesKMeans(n_clusters=2, max_iter=5,\n",
    "                       metric=\"dtw\", random_state=0).fit(X_bis)\n",
    "print(km.cluster_centers_.shape)"
   ]
  },
  {
   "cell_type": "code",
   "execution_count": 59,
   "metadata": {},
   "outputs": [
    {
     "data": {
      "text/plain": [
       "(50, 32, 1)"
      ]
     },
     "execution_count": 59,
     "metadata": {},
     "output_type": "execute_result"
    }
   ],
   "source": [
    "X.shape"
   ]
  },
  {
   "cell_type": "code",
   "execution_count": 78,
   "metadata": {},
   "outputs": [],
   "source": [
    "streaming = ['ni4ai','streaming','texas_pmus']"
   ]
  },
  {
   "cell_type": "code",
   "execution_count": 84,
   "metadata": {},
   "outputs": [
    {
     "name": "stdout",
     "output_type": "stream",
     "text": [
      "ni4ai/weld2 2021-01-09 19:05:27.466667+00:00\n",
      "ni4ai/weld 2021-01-04 21:28:15.666667+00:00\n",
      "streaming/zurich 2021-01-09 19:05:27.660000+00:00\n",
      "texas_pmus/conroe 2021-01-09 19:05:27.900000+00:00\n",
      "texas_pmus/whitesands 2021-01-09 19:05:28.033333+00:00\n",
      "texas_pmus/centex 2021-01-09 19:05:28.100000+00:00\n"
     ]
    }
   ],
   "source": [
    "for coll in streaming:\n",
    "    streams = db.streams_in_collection(coll)\n",
    "    for _s in streams:\n",
    "        if _s.name == 'FREQ':\n",
    "            print(_s.collection, str(ns_to_datetime(_s.latest()[0].time)))"
   ]
  },
  {
   "cell_type": "code",
   "execution_count": 86,
   "metadata": {},
   "outputs": [],
   "source": [
    "streams = db.streams_in_collection('lndunn')\n",
    "streamdict = {}\n",
    "for s in streams:\n",
    "    path = s.collection.split('/')\n",
    "    if path[1] not in streamdict.keys():\n",
    "        streamdict[path[1]] = {}\n",
    "    if path[2] not in streamdict[path[1]]:\n",
    "        streamdict[path[1]][path[2]] = None"
   ]
  },
  {
   "cell_type": "code",
   "execution_count": 87,
   "metadata": {},
   "outputs": [
    {
     "data": {
      "text/plain": [
       "{'events': {'switching_A': None, 'oscillations': None, 'switching_B': None},\n",
       " 'brownout': {'whitesands': None, 'centex': None, 'conroe': None},\n",
       " 'PQdata': {'underground': None, 'epri': None, 'site1': None},\n",
       " 'sentinel': {'bedford': None}}"
      ]
     },
     "execution_count": 87,
     "metadata": {},
     "output_type": "execute_result"
    }
   ],
   "source": [
    "streamdict"
   ]
  },
  {
   "cell_type": "code",
   "execution_count": null,
   "metadata": {},
   "outputs": [],
   "source": []
  }
 ],
 "metadata": {
  "kernelspec": {
   "display_name": "Python 3",
   "language": "python",
   "name": "python3"
  },
  "language_info": {
   "codemirror_mode": {
    "name": "ipython",
    "version": 3
   },
   "file_extension": ".py",
   "mimetype": "text/x-python",
   "name": "python",
   "nbconvert_exporter": "python",
   "pygments_lexer": "ipython3",
   "version": "3.7.7"
  }
 },
 "nbformat": 4,
 "nbformat_minor": 4
}
