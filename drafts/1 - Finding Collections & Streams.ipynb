{
 "cells": [
  {
   "cell_type": "markdown",
   "metadata": {},
   "source": [
    "# Finding Collections & Streams\n",
    "\n",
    "In this notebook we will focus on finding our data streams.  We start with collections which are how streams are organized.  Then, we can use the collections to find individual streams.\n",
    "\n",
    "If you would like to learn more about any of the topics covered here, please see the btrdb library [documentation](https://btrdb.readthedocs.io/en/develop/index.html)."
   ]
  },
  {
   "cell_type": "markdown",
   "metadata": {},
   "source": [
    "## Imports"
   ]
  },
  {
   "cell_type": "code",
   "execution_count": 1,
   "metadata": {},
   "outputs": [],
   "source": [
    "import btrdb\n",
    "from tabulate import tabulate"
   ]
  },
  {
   "cell_type": "markdown",
   "metadata": {},
   "source": [
    "## Establish Server Connection\n",
    "\n",
    "We always start with establishing a connection to the server using the `connect` function from the `btrdb` library.  The connect function takes two optional arguments - the address of the BTrDB cluster and an API key to identify the user as follows:  \n",
    "\n",
    "```python\n",
    "conn = btrdb.connect(\"btrdb.endpoint:4411\", apikey=\"mykey\")\n",
    "```\n",
    "\n",
    "Both of these arguments are optional and if not supplied, then the function will look for corresponding `BTRDB_ENDPOINTS` and `BTRDB_API_KEY` environment variables. "
   ]
  },
  {
   "cell_type": "code",
   "execution_count": 2,
   "metadata": {},
   "outputs": [
    {
     "data": {
      "text/plain": [
       "{'majorVersion': 5, 'build': '5.1.10', 'proxy': {'proxyEndpoints': []}}"
      ]
     },
     "execution_count": 2,
     "metadata": {},
     "output_type": "execute_result"
    }
   ],
   "source": [
    "# Note that this connection uses the environment\n",
    "conn = btrdb.connect(apikey=\"AE0C013A87C48930E37ED8D8\")\n",
    "conn.info()"
   ]
  },
  {
   "cell_type": "markdown",
   "metadata": {},
   "source": [
    "# Finding Collections\n",
    "\n",
    "Time series data in BTrDB is organized into collections which can be thought of as a hierarchical paths such as `CALIFORNIA/SanFrancisco/91405`.  Within this collection/path you can put as many time series streams as you like.  Listing all available collections is easy an can be done with the `list_collections` method from the primary database handle."
   ]
  },
  {
   "cell_type": "code",
   "execution_count": 3,
   "metadata": {},
   "outputs": [
    {
     "data": {
      "text/plain": [
       "['relay/Suffolk_11-1L8',\n",
       " 'relay/Mtsto500_11-2Pmu',\n",
       " 'relay/Lexington_11-1T1',\n",
       " 'relay/Chesa115_11-2Pmu',\n",
       " 'relay/Cunningha_11-1L2',\n",
       " 'relay/Lexington_11-1L2',\n",
       " 'relay/Carson_11-1Pmu',\n",
       " 'relay/Nanna500_11-2Pmu',\n",
       " 'relay/Morrisvi_11-1Pmu',\n",
       " 'relay/Chancello_11-1T1',\n",
       " 'relay/Suffo230_11-2Pmu',\n",
       " 'relay/Chancello_11-1L1',\n",
       " 'relay/Morrisvil_11-1T2',\n",
       " 'relay/Chancello_11-1T4',\n",
       " 'relay/Mount Sto_11-1L4',\n",
       " 'relay/Valley_11-1L3',\n",
       " 'relay/Mtsto500_11-1Pmu',\n",
       " 'relay/Carson_11-1L5',\n",
       " 'relay/Suffo230_11-1Pmu',\n",
       " 'relay/Suffolk_11-1L7',\n",
       " 'relay/Carson_11-1L1',\n",
       " 'relay/Chesa115_11-1Pmu',\n",
       " 'relay/Lexin500_11-1Pmu',\n",
       " 'relay/Nanna500_11-1Pmu',\n",
       " 'relay/Possum Po_11-1L3',\n",
       " 'relay/Clover_11-1L1',\n",
       " 'relay/Morrisvil_11-1L3',\n",
       " 'relay/Chancello_11-1L3',\n",
       " 'relay/Morrisvil_11-1L1',\n",
       " 'relay/Cunningha_11-1L1',\n",
       " 'relay/Loudoun_11-1L1',\n",
       " 'relay/Suffolk_11-1L9',\n",
       " 'relay/Mount Sto_11-1L3',\n",
       " 'relay/Valle500_11-1Pmu',\n",
       " 'relay/Chancello_11-1L2',\n",
       " 'relay/Morrisvi_11-2Pmu',\n",
       " 'relay/Carson_11-1L2',\n",
       " 'relay/Dooms500_11-1Pmu',\n",
       " 'relay/Morrisvil_11-1T1',\n",
       " 'relay/Possum Po_11-1L1']"
      ]
     },
     "execution_count": 3,
     "metadata": {},
     "output_type": "execute_result"
    }
   ],
   "source": [
    "conn.list_collections()"
   ]
  },
  {
   "cell_type": "markdown",
   "metadata": {},
   "source": [
    "## Narrowing Our Search\n",
    "\n",
    "Alternatively, you can use a targetted search if you want to limit the results to a particular set of collections by providing the first part of the collection path."
   ]
  },
  {
   "cell_type": "code",
   "execution_count": 4,
   "metadata": {},
   "outputs": [
    {
     "data": {
      "text/plain": [
       "['relay/Mount Sto_11-1L3', 'relay/Mount Sto_11-1L4']"
      ]
     },
     "execution_count": 4,
     "metadata": {},
     "output_type": "execute_result"
    }
   ],
   "source": [
    "conn.list_collections(\"relay/Mount\")"
   ]
  },
  {
   "cell_type": "markdown",
   "metadata": {},
   "source": [
    "# Finding Streams\n",
    "\n",
    "Streams in BTrDB are one of the most important objects you will be dealing with.  Each represents a particular time series within the database and contains both metadata as well as the underlying time/value pairs.\n",
    "\n",
    "We will look at stream objects in more detail as a future exercise but for now we will concentrate on just retrieving the stream objects."
   ]
  },
  {
   "cell_type": "markdown",
   "metadata": {},
   "source": [
    "## Search By Collection"
   ]
  },
  {
   "cell_type": "markdown",
   "metadata": {},
   "source": [
    "The easiest way to find the particular streams you are looking for is to use the `streams_in_collection` method.  In the simplest use case, you can provide the collection that contains your streams.  \n",
    "\n",
    "Note that this method returns a generator and so the examples below convert it to a list to retrieve the data."
   ]
  },
  {
   "cell_type": "code",
   "execution_count": 5,
   "metadata": {},
   "outputs": [
    {
     "data": {
      "text/plain": [
       "[<btrdb.stream.Stream at 0x7f4eb3777208>,\n",
       " <btrdb.stream.Stream at 0x7f4eb3777400>,\n",
       " <btrdb.stream.Stream at 0x7f4eb37775f8>,\n",
       " <btrdb.stream.Stream at 0x7f4eb37777f0>,\n",
       " <btrdb.stream.Stream at 0x7f4eb37779e8>,\n",
       " <btrdb.stream.Stream at 0x7f4eb3777be0>,\n",
       " <btrdb.stream.Stream at 0x7f4eb3777dd8>,\n",
       " <btrdb.stream.Stream at 0x7f4eb3777fd0>,\n",
       " <btrdb.stream.Stream at 0x7f4eb12e4208>,\n",
       " <btrdb.stream.Stream at 0x7f4eb12e4400>,\n",
       " <btrdb.stream.Stream at 0x7f4eb12e45f8>,\n",
       " <btrdb.stream.Stream at 0x7f4eb12e47f0>,\n",
       " <btrdb.stream.Stream at 0x7f4eb12e49e8>,\n",
       " <btrdb.stream.Stream at 0x7f4eb12e4be0>,\n",
       " <btrdb.stream.Stream at 0x7f4eb12e4dd8>,\n",
       " <btrdb.stream.Stream at 0x7f4eb12e4fd0>,\n",
       " <btrdb.stream.Stream at 0x7f4eb12ed208>,\n",
       " <btrdb.stream.Stream at 0x7f4eb12ed400>,\n",
       " <btrdb.stream.Stream at 0x7f4eb12ed5f8>]"
      ]
     },
     "execution_count": 5,
     "metadata": {},
     "output_type": "execute_result"
    }
   ],
   "source": [
    "streams = list(conn.streams_in_collection('relay/Possum Po_11-1L1'))\n",
    "streams"
   ]
  },
  {
   "cell_type": "markdown",
   "metadata": {},
   "source": [
    "## Convenience Function for Displaying Metadata \n",
    "\n",
    "Each of these streams has its own metadata such as `collection`, `name`, `uuid` and so on.  Let's create a simple convenience function to display the stream metadata using the `tabulate` library."
   ]
  },
  {
   "cell_type": "code",
   "execution_count": 6,
   "metadata": {},
   "outputs": [
    {
     "name": "stdout",
     "output_type": "stream",
     "text": [
      "Collection              Name             Units          Version  UUID\n",
      "----------------------  ---------------  -----------  ---------  ------------------------------------\n",
      "relay/Possum Po_11-1L1  LINE560VA-ANG    Degrees            942  b1f13dda-0aac-45d1-9b19-9529bf805d6b\n",
      "relay/Possum Po_11-1L1  LINE560V1-ANG    Degrees            942  03676c19-ffbd-44f9-af8b-90f4b253bb19\n",
      "relay/Possum Po_11-1L1  LINE560I1-ANG    Degrees            942  5ef8b03d-dc5e-47f5-866a-1ccaba234ca3\n",
      "relay/Possum Po_11-1L1  LINE560IC-ANG    Degrees            942  c08c8a79-e0d4-43f0-9ef6-fb6a59e385c3\n",
      "relay/Possum Po_11-1L1  LINE560V1-MAG    Volts              942  1027914c-b84a-43e9-9f6e-f04f6e006dbc\n",
      "relay/Possum Po_11-1L1  LINE560VA-MAG    Volts              942  171facf4-fdb3-4589-9404-37fe705f46d3\n",
      "relay/Possum Po_11-1L1  LINE560VB-MAG    Volts              942  44c8db28-18b8-4f12-9a22-7b062d8e646c\n",
      "relay/Possum Po_11-1L1  LINE560IA-MAG    Amps              1874  83a53a42-2f8d-4e19-bf4d-b787bb710ee9\n",
      "relay/Possum Po_11-1L1  Digital Value 1  Digital            942  010ce4f4-eaa1-490a-a65c-c6a51b8ab9c9\n",
      "relay/Possum Po_11-1L1  Frequency        Hz                 942  53e57810-b373-433c-ab40-bacc7966e053\n",
      "relay/Possum Po_11-1L1  LINE560VB-ANG    Degrees            942  f53f3123-8249-426f-86e7-f5482669fd7e\n",
      "relay/Possum Po_11-1L1  LINE560VC-ANG    Degrees            942  cb00a6af-32d8-4c04-bdc2-f037517239fc\n",
      "relay/Possum Po_11-1L1  LINE560IA-ANG    Degrees            942  50133960-e917-41f3-9026-8a4d0e104625\n",
      "relay/Possum Po_11-1L1  LINE560IB-ANG    Degrees            942  bdf36b84-861d-48a7-bbdf-e817c6e1264e\n",
      "relay/Possum Po_11-1L1  LINE560VC-MAG    Volts              942  af8cf764-6f04-4f9b-b25b-467778bc5320\n",
      "relay/Possum Po_11-1L1  LINE560I1-MAG    Amps               942  cb18e312-66dd-4a9e-9d33-e7b3e9379f55\n",
      "relay/Possum Po_11-1L1  LINE560IC-MAG    Amps               942  efba2ad3-c1b7-486d-91f6-bc8dd54534fe\n",
      "relay/Possum Po_11-1L1  Frequency Delta  DfDt               942  7a392c81-dd47-4c69-9048-552c9e6f426c\n",
      "relay/Possum Po_11-1L1  Status Flags     StatusFlags        942  5ef4e3fd-71b1-4c71-9b88-4aebfbcddc75\n"
     ]
    }
   ],
   "source": [
    "def describe_streams(streams):\n",
    "    table = [[\"Collection\", \"Name\", \"Units\", \"Version\", \"UUID\"]]\n",
    "    for stream in streams:\n",
    "        tags = stream.tags()\n",
    "        table.append([\n",
    "            stream.collection, stream.name, tags[\"unit\"], stream.version(), stream.uuid\n",
    "        ])\n",
    "    return tabulate(table, headers=\"firstrow\")\n",
    "\n",
    "print(describe_streams(streams))"
   ]
  },
  {
   "cell_type": "markdown",
   "metadata": {},
   "source": [
    "## Narrowing Our Search\n",
    "\n",
    "We can also include extra parameters to `streams_in_collection` when searching for streams.  Streams contain dictionaries for metadata called `tags` and `annotations`.  Tags are generally reserved for internal use while annotations are for custom metadata.\n",
    "\n",
    "Let's do our search again but narrow our results to just include streams that have a unit of \"Volts\".  Similarly we can provide a dictionary for the custom annotation data if that would help to narrow our search."
   ]
  },
  {
   "cell_type": "code",
   "execution_count": 7,
   "metadata": {
    "scrolled": false
   },
   "outputs": [
    {
     "name": "stdout",
     "output_type": "stream",
     "text": [
      "Collection              Name           Units      Version  UUID\n",
      "----------------------  -------------  -------  ---------  ------------------------------------\n",
      "relay/Possum Po_11-1L1  LINE560V1-MAG  Volts          942  1027914c-b84a-43e9-9f6e-f04f6e006dbc\n",
      "relay/Possum Po_11-1L1  LINE560VA-MAG  Volts          942  171facf4-fdb3-4589-9404-37fe705f46d3\n",
      "relay/Possum Po_11-1L1  LINE560VB-MAG  Volts          942  44c8db28-18b8-4f12-9a22-7b062d8e646c\n",
      "relay/Possum Po_11-1L1  LINE560VC-MAG  Volts          942  af8cf764-6f04-4f9b-b25b-467778bc5320\n"
     ]
    }
   ],
   "source": [
    "streams = conn.streams_in_collection('relay/Possum Po_11-1L1', tags={\"unit\": \"Volts\"})\n",
    "print(describe_streams(streams))"
   ]
  }
 ],
 "metadata": {
  "kernelspec": {
   "display_name": "Python 3",
   "language": "python",
   "name": "python3"
  },
  "language_info": {
   "codemirror_mode": {
    "name": "ipython",
    "version": 3
   },
   "file_extension": ".py",
   "mimetype": "text/x-python",
   "name": "python",
   "nbconvert_exporter": "python",
   "pygments_lexer": "ipython3",
   "version": "3.6.5"
  }
 },
 "nbformat": 4,
 "nbformat_minor": 2
}
