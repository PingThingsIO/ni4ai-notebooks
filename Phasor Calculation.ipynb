{
 "cells": [
  {
   "cell_type": "code",
   "execution_count": 1,
   "metadata": {
    "id": "r0y6zlpxrZhj"
   },
   "outputs": [],
   "source": [
    "import numpy as np\n",
    "import pandas as pd\n",
    "import matplotlib.pyplot as plt\n",
    "\n",
    "from scipy import optimize\n",
    "\n",
    "import btrdb\n",
    "from btrdb.utils.timez import ns_delta, ns_to_datetime, to_nanoseconds\n",
    "\n",
    "import yaml"
   ]
  },
  {
   "cell_type": "markdown",
   "metadata": {
    "id": "XlWIHkupPMJ_"
   },
   "source": [
    "##  Connecting to the API\n",
    "Visit your profile on ni4ai.org to get an API key."
   ]
  },
  {
   "cell_type": "code",
   "execution_count": 2,
   "metadata": {},
   "outputs": [],
   "source": [
    "with open('config.yaml', 'r') as f:\n",
    "    config = yaml.safe_load(f)\n",
    "    "
   ]
  },
  {
   "cell_type": "code",
   "execution_count": 3,
   "metadata": {
    "id": "2IpUHyHZrZhn"
   },
   "outputs": [],
   "source": [
    "#Establishing the connecting to the server\n",
    "db = btrdb.connect(config['connection']['api_url'], apikey=config['connection']['api_key'])\n"
   ]
  },
  {
   "cell_type": "code",
   "execution_count": 4,
   "metadata": {
    "colab": {
     "base_uri": "https://localhost:8080/"
    },
    "id": "QoSdeVdYrZhv",
    "outputId": "be995e5b-c296-4544-ca10-497b3b52c7a1"
   },
   "outputs": [
    {
     "data": {
      "text/plain": [
       "['lndunn/PQdata/epri/event21877',\n",
       " 'lndunn/PQdata/epri/event2850',\n",
       " 'lndunn/PQdata/epri/event3433',\n",
       " 'lndunn/PQdata/epri/event21837',\n",
       " 'lndunn/PQdata/epri/event21870',\n",
       " 'lndunn/PQdata/epri/event2812',\n",
       " 'lndunn/PQdata/epri/event3429',\n",
       " 'lndunn/PQdata/epri/event0793',\n",
       " 'lndunn/PQdata/epri/event2885',\n",
       " 'lndunn/PQdata/epri/event21880',\n",
       " 'lndunn/PQdata/epri/event21849',\n",
       " 'lndunn/PQdata/epri/event21876',\n",
       " 'lndunn/PQdata/epri/event0001',\n",
       " 'lndunn/PQdata/epri/event0366',\n",
       " 'lndunn/PQdata/epri/event3458',\n",
       " 'lndunn/PQdata/epri/event2826',\n",
       " 'lndunn/PQdata/epri/event0207',\n",
       " 'lndunn/PQdata/epri/event2914',\n",
       " 'lndunn/PQdata/epri/event21881',\n",
       " 'lndunn/PQdata/site_2',\n",
       " 'lndunn/PQdata/epri/event21871',\n",
       " 'lndunn/PQdata/epri/event0775',\n",
       " 'lndunn/PQdata/epri/event0722',\n",
       " 'lndunn/PQdata/epri/event2786',\n",
       " 'lndunn/PQdata/epri/event2948',\n",
       " 'lndunn/PQdata/epri/event0799',\n",
       " 'lndunn/PQdata/epri/event2994',\n",
       " 'lndunn/PQdata/epri/event0064',\n",
       " 'lndunn/PQdata/epri/event3430',\n",
       " 'lndunn/PQdata/epri/event2949',\n",
       " 'lndunn/PQdata/epri/event2797',\n",
       " 'lndunn/PQdata/epri/event0952',\n",
       " 'lndunn/PQdata/epri/event2803',\n",
       " 'lndunn/PQdata/epri/event4373',\n",
       " 'lndunn/PQdata/epri/event0790',\n",
       " 'lndunn/PQdata/epri/event3460',\n",
       " 'lndunn/PQdata/epri/event2878',\n",
       " 'lndunn/PQdata/epri/event21853',\n",
       " 'lndunn/PQdata/epri/event0785',\n",
       " 'lndunn/PQdata/epri/event2856',\n",
       " 'lndunn/PQdata/epri/event0067',\n",
       " 'lndunn/PQdata/epri/event2920',\n",
       " 'lndunn/PQdata/epri/event3934',\n",
       " 'lndunn/PQdata/epri/event0807',\n",
       " 'lndunn/PQdata/epri/event3403',\n",
       " 'lndunn/PQdata/epri/event2881',\n",
       " 'lndunn/PQdata/epri/event21846',\n",
       " 'lndunn/PQdata/epri/event3404',\n",
       " 'lndunn/PQdata/epri/event2997',\n",
       " 'lndunn/PQdata/epri/event21860',\n",
       " 'lndunn/PQdata/epri/event0963',\n",
       " 'lndunn/PQdata/epri/event2906',\n",
       " 'lndunn/PQdata/site_1',\n",
       " 'lndunn/PQdata/epri/event2911',\n",
       " 'lndunn/PQdata/epri/event3895',\n",
       " 'lndunn/PQdata/epri/event0868',\n",
       " 'lndunn/PQdata/epri/event0852',\n",
       " 'lndunn/PQdata/epri/event2842',\n",
       " 'lndunn/PQdata/epri/event2788',\n",
       " 'lndunn/PQdata/epri/event2940',\n",
       " 'lndunn/PQdata/epri/event2904',\n",
       " 'lndunn/PQdata/epri/event0965',\n",
       " 'lndunn/PQdata/epri/event1089',\n",
       " 'lndunn/PQdata/epri/event21836',\n",
       " 'lndunn/PQdata/epri/event2868',\n",
       " 'lndunn/PQdata/epri/event0935',\n",
       " 'lndunn/PQdata/epri/event21863',\n",
       " 'lndunn/PQdata/epri/event21869',\n",
       " 'lndunn/PQdata/epri/event0245',\n",
       " 'lndunn/PQdata/epri/event2828',\n",
       " 'lndunn/PQdata/epri/event21868',\n",
       " 'lndunn/PQdata/epri/event2791',\n",
       " 'lndunn/PQdata/epri/event3042',\n",
       " 'lndunn/PQdata/epri/event3235',\n",
       " 'lndunn/PQdata/epri/event21872',\n",
       " 'lndunn/PQdata/epri/event2884',\n",
       " 'lndunn/PQdata/epri/event2880',\n",
       " 'lndunn/PQdata/epri/event0855',\n",
       " 'lndunn/PQdata/epri/event21845',\n",
       " 'lndunn/PQdata/epri/event21864',\n",
       " 'lndunn/PQdata/epri/event3153',\n",
       " 'lndunn/PQdata/epri/event2893',\n",
       " 'lndunn/PQdata/epri/event21847',\n",
       " 'lndunn/PQdata/epri/event21851',\n",
       " 'lndunn/PQdata/epri/event21865',\n",
       " 'lndunn/PQdata/epri/event1111',\n",
       " 'lndunn/PQdata/epri/event0283',\n",
       " 'lndunn/PQdata/epri/event0247',\n",
       " 'lndunn/PQdata/epri/event2887',\n",
       " 'lndunn/PQdata/epri/event3730',\n",
       " 'lndunn/PQdata/epri/event2789',\n",
       " 'lndunn/PQdata/epri/event3152',\n",
       " 'lndunn/PQdata/epri/event3436',\n",
       " 'lndunn/PQdata/epri/event2811',\n",
       " 'lndunn/PQdata/epri/event2956',\n",
       " 'lndunn/PQdata/epri/event3435',\n",
       " 'lndunn/PQdata/epri/event3296',\n",
       " 'lndunn/PQdata/epri/event0809',\n",
       " 'lndunn/PQdata/epri/event0065',\n",
       " 'lndunn/PQdata/epri/event3894',\n",
       " 'lndunn/PQdata/epri/event0251',\n",
       " 'lndunn/PQdata/epri/event2867',\n",
       " 'lndunn/PQdata/epri/event2889',\n",
       " 'lndunn/PQdata/epri/event21874',\n",
       " 'lndunn/PQdata/epri/event21844',\n",
       " 'lndunn/PQdata/epri/event0804',\n",
       " 'lndunn/PQdata/epri/event4004',\n",
       " 'lndunn/PQdata/epri/event2908',\n",
       " 'lndunn/PQdata/epri/event0857',\n",
       " 'lndunn/PQdata/epri/event4348',\n",
       " 'lndunn/PQdata/epri/event21832',\n",
       " 'lndunn/PQdata/epri/event0811',\n",
       " 'lndunn/PQdata/epri/event0289',\n",
       " 'lndunn/PQdata/epri/event3553',\n",
       " 'lndunn/PQdata/epri/event0719',\n",
       " 'lndunn/PQdata/epri/event4084',\n",
       " 'lndunn/PQdata/epri/event21843',\n",
       " 'lndunn/PQdata/epri/event2813',\n",
       " 'lndunn/PQdata/epri/event21834',\n",
       " 'lndunn/PQdata/epri/event2830',\n",
       " 'lndunn/PQdata/epri/event3434',\n",
       " 'lndunn/PQdata/epri/event3554',\n",
       " 'lndunn/PQdata/epri/event21859',\n",
       " 'lndunn/PQdata/epri/event2932',\n",
       " 'lndunn/PQdata/epri/event3472',\n",
       " 'lndunn/PQdata/epri/event2899',\n",
       " 'lndunn/PQdata/epri/event2827',\n",
       " 'lndunn/PQdata/epri/event2849',\n",
       " 'lndunn/PQdata/epri/event21879',\n",
       " 'lndunn/PQdata/epri/event0781',\n",
       " 'lndunn/PQdata/epri/event21866',\n",
       " 'lndunn/PQdata/epri/event0962',\n",
       " 'lndunn/PQdata/epri/event0959',\n",
       " 'lndunn/PQdata/epri/event0723',\n",
       " 'lndunn/PQdata/epri/event3933',\n",
       " 'lndunn/PQdata/epri/event2905',\n",
       " 'lndunn/PQdata/epri/event21835',\n",
       " 'lndunn/PQdata/epri/event0796',\n",
       " 'lndunn/PQdata/epri/event0788',\n",
       " 'lndunn/PQdata/epri/event3457',\n",
       " 'lndunn/PQdata/epri/event21862',\n",
       " 'lndunn/PQdata/epri/event2802',\n",
       " 'lndunn/PQdata/epri/event0021',\n",
       " 'lndunn/PQdata/epri/event0249',\n",
       " 'lndunn/PQdata/epri/event2907',\n",
       " 'lndunn/PQdata/epri/event2941',\n",
       " 'lndunn/PQdata/epri/event3425',\n",
       " 'lndunn/PQdata/epri/event1108',\n",
       " 'lndunn/PQdata/epri/event2825',\n",
       " 'lndunn/PQdata/epri/event1196',\n",
       " 'lndunn/PQdata/epri/event2912',\n",
       " 'lndunn/PQdata/epri/event3426',\n",
       " 'lndunn/PQdata/epri/event3843',\n",
       " 'lndunn/PQdata/epri/event0281',\n",
       " 'lndunn/PQdata/epri/event2888',\n",
       " 'lndunn/PQdata/epri/event2998',\n",
       " 'lndunn/PQdata/epri/event2882',\n",
       " 'lndunn/PQdata/epri/event21858',\n",
       " 'lndunn/PQdata/epri/event21839',\n",
       " 'lndunn/PQdata/epri/event4083',\n",
       " 'lndunn/PQdata/epri/event0062',\n",
       " 'lndunn/PQdata/epri/event0715',\n",
       " 'lndunn/PQdata/epri/event21838',\n",
       " 'lndunn/PQdata/epri/event3298',\n",
       " 'lndunn/PQdata/epri/event21878',\n",
       " 'lndunn/PQdata/epri/event21855',\n",
       " 'lndunn/PQdata/epri/event21873',\n",
       " 'lndunn/PQdata/epri/event2846',\n",
       " 'lndunn/PQdata/epri/event0550',\n",
       " 'lndunn/PQdata/epri/event2795',\n",
       " 'lndunn/PQdata/epri/event2886',\n",
       " 'lndunn/PQdata/epri/event3555',\n",
       " 'lndunn/PQdata/epri/event21857',\n",
       " 'lndunn/PQdata/epri/event2919',\n",
       " 'lndunn/PQdata/epri/event1088',\n",
       " 'lndunn/PQdata/epri/event0287',\n",
       " 'lndunn/PQdata/epri/event3431',\n",
       " 'lndunn/PQdata/epri/event21875',\n",
       " 'lndunn/PQdata/epri/event0801',\n",
       " 'lndunn/PQdata/epri/event2861',\n",
       " 'lndunn/PQdata/epri/event1106',\n",
       " 'lndunn/PQdata/epri/event3775',\n",
       " 'lndunn/PQdata/epri/event0782',\n",
       " 'lndunn/PQdata/epri/event2879',\n",
       " 'lndunn/PQdata/epri/event2950',\n",
       " 'lndunn/PQdata/epri/event21852',\n",
       " 'lndunn/PQdata/epri/event21831',\n",
       " 'lndunn/PQdata/epri/event2915',\n",
       " 'lndunn/PQdata/epri/event21854',\n",
       " 'lndunn/PQdata/epri/event0942',\n",
       " 'lndunn/PQdata/epri/event3893',\n",
       " 'lndunn/PQdata/epri/event0957',\n",
       " 'lndunn/PQdata/epri/event2942',\n",
       " 'lndunn/PQdata/epri/event3459',\n",
       " 'lndunn/PQdata/epri/event3428',\n",
       " 'lndunn/PQdata/epri/event3552',\n",
       " 'lndunn/PQdata/epri/event3557',\n",
       " 'lndunn/PQdata/epri/event3577',\n",
       " 'lndunn/PQdata/epri/event0779',\n",
       " 'lndunn/PQdata/epri/event0022',\n",
       " 'lndunn/PQdata/epri/event3498',\n",
       " 'lndunn/PQdata/epri/event21840',\n",
       " 'lndunn/PQdata/epri/event0859',\n",
       " 'lndunn/PQdata/epri/event21850',\n",
       " 'lndunn/PQdata/epri/event2857',\n",
       " 'lndunn/PQdata/epri/event3432',\n",
       " 'lndunn/PQdata/epri/event0284',\n",
       " 'lndunn/PQdata/underground',\n",
       " 'lndunn/PQdata/epri/event21841',\n",
       " 'lndunn/PQdata/epri/event0716',\n",
       " 'lndunn/PQdata/epri/event2955',\n",
       " 'lndunn/PQdata/epri/event2891',\n",
       " 'lndunn/PQdata/epri/event0803',\n",
       " 'lndunn/PQdata/epri/event0713',\n",
       " 'lndunn/PQdata/epri/event3778',\n",
       " 'lndunn/PQdata/epri/event0306',\n",
       " 'lndunn/PQdata/epri/event0947',\n",
       " 'lndunn/PQdata/epri/event2831',\n",
       " 'lndunn/PQdata/epri/event2909',\n",
       " 'lndunn/PQdata/epri/event3067',\n",
       " 'lndunn/PQdata/epri/event3931',\n",
       " 'lndunn/PQdata/epri/event2771',\n",
       " 'lndunn/PQdata/epri/event3929',\n",
       " 'lndunn/PQdata/epri/event3473',\n",
       " 'lndunn/PQdata/epri/event3776',\n",
       " 'lndunn/PQdata/epri/event3402',\n",
       " 'lndunn/PQdata/epri/event2993',\n",
       " 'lndunn/PQdata/epri/event3427',\n",
       " 'lndunn/PQdata/epri/event0253',\n",
       " 'lndunn/PQdata/epri/event0005',\n",
       " 'lndunn/PQdata/epri/event3437',\n",
       " 'lndunn/PQdata/epri/event2890',\n",
       " 'lndunn/PQdata/epri/event2787',\n",
       " 'lndunn/PQdata/epri/event4513',\n",
       " 'lndunn/PQdata/epri/event2995',\n",
       " 'lndunn/PQdata/epri/event0940',\n",
       " 'lndunn/PQdata/epri/event0068',\n",
       " 'lndunn/PQdata/epri/event4253',\n",
       " 'lndunn/PQdata/epri/event0007',\n",
       " 'lndunn/PQdata/epri/event21861',\n",
       " 'lndunn/PQdata/epri/event0243',\n",
       " 'lndunn/PQdata/epri/event2883',\n",
       " 'lndunn/PQdata/epri/event3556',\n",
       " 'lndunn/PQdata/epri/event2784',\n",
       " 'lndunn/PQdata/epri/event1057',\n",
       " 'lndunn/PQdata/epri/event0004',\n",
       " 'lndunn/PQdata/epri/event21833',\n",
       " 'lndunn/PQdata/epri/event21856',\n",
       " 'lndunn/PQdata/epri/event21842',\n",
       " 'lndunn/PQdata/epri/event0960',\n",
       " 'lndunn/PQdata/epri/event2999',\n",
       " 'lndunn/PQdata/epri/event3738',\n",
       " 'lndunn/PQdata/epri/event21848',\n",
       " 'lndunn/PQdata/epri/event2892',\n",
       " 'lndunn/PQdata/epri/event2792',\n",
       " 'lndunn/PQdata/epri/event2918',\n",
       " 'lndunn/PQdata/epri/event21867']"
      ]
     },
     "execution_count": 4,
     "metadata": {},
     "output_type": "execute_result"
    }
   ],
   "source": [
    "#View streams in the collection\n",
    "db.list_collections(\"lndunn/PQdata\")\n"
   ]
  },
  {
   "cell_type": "code",
   "execution_count": 5,
   "metadata": {
    "colab": {
     "base_uri": "https://localhost:8080/"
    },
    "id": "9HHP8Yh4rZhz",
    "outputId": "b735e44c-2740-4f34-aee5-8224d5b0ad45"
   },
   "outputs": [
    {
     "data": {
      "text/plain": [
       "[<Stream collection=lndunn/PQdata/underground name=phB_amp>,\n",
       " <Stream collection=lndunn/PQdata/underground name=phC_volt>,\n",
       " <Stream collection=lndunn/PQdata/underground name=phA_amp>,\n",
       " <Stream collection=lndunn/PQdata/underground name=phC_amp>,\n",
       " <Stream collection=lndunn/PQdata/underground name=phA_volt>,\n",
       " <Stream collection=lndunn/PQdata/underground name=phB_volt>]"
      ]
     },
     "execution_count": 5,
     "metadata": {},
     "output_type": "execute_result"
    }
   ],
   "source": [
    "#Choose streams for a particular collection\n",
    "streams = db.streams_in_collection('lndunn/PQdata/underground')\n",
    "streams"
   ]
  },
  {
   "cell_type": "code",
   "execution_count": 6,
   "metadata": {
    "colab": {
     "base_uri": "https://localhost:8080/"
    },
    "id": "7ex1HbRB59Q_",
    "outputId": "f8bd922c-ba90-4429-d167-be4cc2b1a837"
   },
   "outputs": [
    {
     "name": "stdout",
     "output_type": "stream",
     "text": [
      "{'name': 'phB_amp', 'unit': 'amps', 'ingress': '', 'distiller': ''}\n",
      "({'documentation': 'https://grouper.ieee.org/groups/td/pq/data/downloads/XLPE_data.pdf', 'equipment_specs': '{\"cable type\": \"XLPE underground cable\", \"cable rating\": \"8 kV\", \"Year of installation\": \"1991\", \"PT ratio\": \"8050:115\", \"CT ratio\": \"600:5\"}', 'measurement_params': '{\"Sampling mode\": \"Continuous (gap-less) data recording\", \"Sampling rate\": \"64 samples/cycle\", \"Measured signals\": \"Three-phase bus voltages and feeder currents\"}', 'source': 'https://drive.google.com/drive/folders/0B6vSVhUYNe86TGQ3bmgwdG1ySnM'}, 13)\n"
     ]
    }
   ],
   "source": [
    "# Print metadata (tags, annotations) for the first stream in the collection\n",
    "print(streams[0].tags())\n",
    "print(streams[0].annotations())"
   ]
  },
  {
   "cell_type": "code",
   "execution_count": 7,
   "metadata": {
    "colab": {
     "base_uri": "https://localhost:8080/",
     "height": 35
    },
    "id": "IaRQTFj67JjB",
    "outputId": "77e73bba-28fe-46ad-b6bf-d4db6ff1008c"
   },
   "outputs": [
    {
     "data": {
      "text/plain": [
       "'https://grouper.ieee.org/groups/td/pq/data/downloads/XLPE_data.pdf'"
      ]
     },
     "execution_count": 7,
     "metadata": {},
     "output_type": "execute_result"
    }
   ],
   "source": [
    "# Read the docs\n",
    "streams[0].annotations()[0]['documentation']"
   ]
  },
  {
   "cell_type": "code",
   "execution_count": 8,
   "metadata": {
    "colab": {
     "base_uri": "https://localhost:8080/",
     "height": 235
    },
    "id": "yFZ8QEPqrZh4",
    "outputId": "9b833e05-8960-4166-dcf5-6ead05f73c62"
   },
   "outputs": [
    {
     "data": {
      "text/html": [
       "<div>\n",
       "<style scoped>\n",
       "    .dataframe tbody tr th:only-of-type {\n",
       "        vertical-align: middle;\n",
       "    }\n",
       "\n",
       "    .dataframe tbody tr th {\n",
       "        vertical-align: top;\n",
       "    }\n",
       "\n",
       "    .dataframe thead th {\n",
       "        text-align: right;\n",
       "    }\n",
       "</style>\n",
       "<table border=\"1\" class=\"dataframe\">\n",
       "  <thead>\n",
       "    <tr style=\"text-align: right;\">\n",
       "      <th></th>\n",
       "      <th>Collection</th>\n",
       "      <th>Name</th>\n",
       "      <th>Units</th>\n",
       "      <th>UUID</th>\n",
       "    </tr>\n",
       "  </thead>\n",
       "  <tbody>\n",
       "    <tr>\n",
       "      <th>0</th>\n",
       "      <td>lndunn/PQdata/underground</td>\n",
       "      <td>phB_amp</td>\n",
       "      <td>amps</td>\n",
       "      <td>2e08ba24-61ea-4fa7-bb72-24f005150ac2</td>\n",
       "    </tr>\n",
       "    <tr>\n",
       "      <th>1</th>\n",
       "      <td>lndunn/PQdata/underground</td>\n",
       "      <td>phC_volt</td>\n",
       "      <td>volts</td>\n",
       "      <td>47dfc415-1704-4447-88a4-43e68645ab0f</td>\n",
       "    </tr>\n",
       "    <tr>\n",
       "      <th>2</th>\n",
       "      <td>lndunn/PQdata/underground</td>\n",
       "      <td>phA_amp</td>\n",
       "      <td>amps</td>\n",
       "      <td>9cc032a1-6c32-4c3a-bb37-7c87da13dc4b</td>\n",
       "    </tr>\n",
       "    <tr>\n",
       "      <th>3</th>\n",
       "      <td>lndunn/PQdata/underground</td>\n",
       "      <td>phC_amp</td>\n",
       "      <td>amps</td>\n",
       "      <td>33f91f08-ed6f-49fb-a83e-1dc9889d5b36</td>\n",
       "    </tr>\n",
       "    <tr>\n",
       "      <th>4</th>\n",
       "      <td>lndunn/PQdata/underground</td>\n",
       "      <td>phA_volt</td>\n",
       "      <td>volts</td>\n",
       "      <td>ca93b50c-612c-4d10-b211-fe98f21ea39c</td>\n",
       "    </tr>\n",
       "    <tr>\n",
       "      <th>5</th>\n",
       "      <td>lndunn/PQdata/underground</td>\n",
       "      <td>phB_volt</td>\n",
       "      <td>volts</td>\n",
       "      <td>a63f75e8-38f5-4f2f-8327-8fd8ae94013b</td>\n",
       "    </tr>\n",
       "  </tbody>\n",
       "</table>\n",
       "</div>"
      ],
      "text/plain": [
       "                  Collection      Name  Units  \\\n",
       "0  lndunn/PQdata/underground   phB_amp   amps   \n",
       "1  lndunn/PQdata/underground  phC_volt  volts   \n",
       "2  lndunn/PQdata/underground   phA_amp   amps   \n",
       "3  lndunn/PQdata/underground   phC_amp   amps   \n",
       "4  lndunn/PQdata/underground  phA_volt  volts   \n",
       "5  lndunn/PQdata/underground  phB_volt  volts   \n",
       "\n",
       "                                   UUID  \n",
       "0  2e08ba24-61ea-4fa7-bb72-24f005150ac2  \n",
       "1  47dfc415-1704-4447-88a4-43e68645ab0f  \n",
       "2  9cc032a1-6c32-4c3a-bb37-7c87da13dc4b  \n",
       "3  33f91f08-ed6f-49fb-a83e-1dc9889d5b36  \n",
       "4  ca93b50c-612c-4d10-b211-fe98f21ea39c  \n",
       "5  a63f75e8-38f5-4f2f-8327-8fd8ae94013b  "
      ]
     },
     "execution_count": 8,
     "metadata": {},
     "output_type": "execute_result"
    }
   ],
   "source": [
    "df = pd.DataFrame(columns=['Collection','Name','Units','UUID'])\n",
    "for ix, stream in enumerate(streams):\n",
    "  tags = stream.tags()\n",
    "  df.loc[ix] = [stream.collection, stream.name, tags['unit'], stream.uuid]\n",
    "\n",
    "df"
   ]
  },
  {
   "cell_type": "code",
   "execution_count": 9,
   "metadata": {
    "colab": {
     "base_uri": "https://localhost:8080/",
     "height": 142
    },
    "id": "GI-g56pD8HHs",
    "outputId": "ae298485-0cc5-4522-826e-692631b7f240"
   },
   "outputs": [
    {
     "data": {
      "text/html": [
       "<div>\n",
       "<style scoped>\n",
       "    .dataframe tbody tr th:only-of-type {\n",
       "        vertical-align: middle;\n",
       "    }\n",
       "\n",
       "    .dataframe tbody tr th {\n",
       "        vertical-align: top;\n",
       "    }\n",
       "\n",
       "    .dataframe thead th {\n",
       "        text-align: right;\n",
       "    }\n",
       "</style>\n",
       "<table border=\"1\" class=\"dataframe\">\n",
       "  <thead>\n",
       "    <tr style=\"text-align: right;\">\n",
       "      <th></th>\n",
       "      <th>Collection</th>\n",
       "      <th>Name</th>\n",
       "      <th>Units</th>\n",
       "      <th>UUID</th>\n",
       "    </tr>\n",
       "  </thead>\n",
       "  <tbody>\n",
       "    <tr>\n",
       "      <th>1</th>\n",
       "      <td>lndunn/PQdata/underground</td>\n",
       "      <td>phC_volt</td>\n",
       "      <td>volts</td>\n",
       "      <td>47dfc415-1704-4447-88a4-43e68645ab0f</td>\n",
       "    </tr>\n",
       "    <tr>\n",
       "      <th>4</th>\n",
       "      <td>lndunn/PQdata/underground</td>\n",
       "      <td>phA_volt</td>\n",
       "      <td>volts</td>\n",
       "      <td>ca93b50c-612c-4d10-b211-fe98f21ea39c</td>\n",
       "    </tr>\n",
       "    <tr>\n",
       "      <th>5</th>\n",
       "      <td>lndunn/PQdata/underground</td>\n",
       "      <td>phB_volt</td>\n",
       "      <td>volts</td>\n",
       "      <td>a63f75e8-38f5-4f2f-8327-8fd8ae94013b</td>\n",
       "    </tr>\n",
       "  </tbody>\n",
       "</table>\n",
       "</div>"
      ],
      "text/plain": [
       "                  Collection      Name  Units  \\\n",
       "1  lndunn/PQdata/underground  phC_volt  volts   \n",
       "4  lndunn/PQdata/underground  phA_volt  volts   \n",
       "5  lndunn/PQdata/underground  phB_volt  volts   \n",
       "\n",
       "                                   UUID  \n",
       "1  47dfc415-1704-4447-88a4-43e68645ab0f  \n",
       "4  ca93b50c-612c-4d10-b211-fe98f21ea39c  \n",
       "5  a63f75e8-38f5-4f2f-8327-8fd8ae94013b  "
      ]
     },
     "execution_count": 9,
     "metadata": {},
     "output_type": "execute_result"
    }
   ],
   "source": [
    "idx = df['Name'].str.contains('volt')\n",
    "df[idx]"
   ]
  },
  {
   "cell_type": "code",
   "execution_count": 10,
   "metadata": {
    "colab": {
     "base_uri": "https://localhost:8080/",
     "height": 35
    },
    "id": "kw-2zRTAGguX",
    "outputId": "866a23cc-d558-4407-91be-bea2d548b7a5"
   },
   "outputs": [
    {
     "name": "stdout",
     "output_type": "stream",
     "text": [
      "2020-01-01 00:00:00.000127+00:00 2020-01-01 23:59:59.999866+00:00\n"
     ]
    }
   ],
   "source": [
    "stream = streams[0]\n",
    "\n",
    "(start_time, start_val), _ = stream.earliest()\n",
    "(end_time, end_val), _ = stream.latest()\n",
    "\n",
    "print(ns_to_datetime(start_time), ns_to_datetime(end_time))"
   ]
  },
  {
   "cell_type": "code",
   "execution_count": 11,
   "metadata": {
    "colab": {
     "base_uri": "https://localhost:8080/"
    },
    "id": "CX6Q2sOJAZ-8",
    "outputId": "ad2c4591-f291-43c6-8d0b-5b6fd5014085"
   },
   "outputs": [
    {
     "name": "stdout",
     "output_type": "stream",
     "text": [
      "315\n"
     ]
    }
   ],
   "source": [
    "pw = 38\n",
    "points, _ = zip(*stream.aligned_windows(start_time, end_time, pw))\n",
    "print(len(points))"
   ]
  },
  {
   "cell_type": "code",
   "execution_count": 12,
   "metadata": {
    "id": "xLpQgvEOD3L1"
   },
   "outputs": [],
   "source": [
    "def get_stats(points, attrs=['time','min','max','mean','stddev','count']):\n",
    "  df = pd.DataFrame(columns=attrs)\n",
    "  for i, point in enumerate(points):\n",
    "    df.loc[i] = [getattr(point, attr) for attr in attrs]\n",
    "  return df"
   ]
  },
  {
   "cell_type": "code",
   "execution_count": 13,
   "metadata": {
    "id": "o2HBFPIXFAuU"
   },
   "outputs": [],
   "source": [
    "data = get_stats(points)"
   ]
  },
  {
   "cell_type": "code",
   "execution_count": 14,
   "metadata": {
    "colab": {
     "base_uri": "https://localhost:8080/",
     "height": 204
    },
    "id": "buqI0-tpFNmJ",
    "outputId": "82044159-b87f-45e2-cbbe-8c1245c5bc72"
   },
   "outputs": [
    {
     "data": {
      "text/html": [
       "<div>\n",
       "<style scoped>\n",
       "    .dataframe tbody tr th:only-of-type {\n",
       "        vertical-align: middle;\n",
       "    }\n",
       "\n",
       "    .dataframe tbody tr th {\n",
       "        vertical-align: top;\n",
       "    }\n",
       "\n",
       "    .dataframe thead th {\n",
       "        text-align: right;\n",
       "    }\n",
       "</style>\n",
       "<table border=\"1\" class=\"dataframe\">\n",
       "  <thead>\n",
       "    <tr style=\"text-align: right;\">\n",
       "      <th></th>\n",
       "      <th>time</th>\n",
       "      <th>min</th>\n",
       "      <th>max</th>\n",
       "      <th>mean</th>\n",
       "      <th>stddev</th>\n",
       "      <th>count</th>\n",
       "    </tr>\n",
       "  </thead>\n",
       "  <tbody>\n",
       "    <tr>\n",
       "      <th>0</th>\n",
       "      <td>1.577837e+18</td>\n",
       "      <td>-4.579173</td>\n",
       "      <td>4.574318</td>\n",
       "      <td>-0.000128</td>\n",
       "      <td>3.070760</td>\n",
       "      <td>169423.0</td>\n",
       "    </tr>\n",
       "    <tr>\n",
       "      <th>1</th>\n",
       "      <td>1.577837e+18</td>\n",
       "      <td>-4.629345</td>\n",
       "      <td>4.626648</td>\n",
       "      <td>-0.000490</td>\n",
       "      <td>3.072483</td>\n",
       "      <td>1055265.0</td>\n",
       "    </tr>\n",
       "    <tr>\n",
       "      <th>2</th>\n",
       "      <td>1.577837e+18</td>\n",
       "      <td>-4.759901</td>\n",
       "      <td>4.757204</td>\n",
       "      <td>-0.000338</td>\n",
       "      <td>3.066348</td>\n",
       "      <td>1055265.0</td>\n",
       "    </tr>\n",
       "    <tr>\n",
       "      <th>3</th>\n",
       "      <td>1.577837e+18</td>\n",
       "      <td>-4.838667</td>\n",
       "      <td>4.840825</td>\n",
       "      <td>-0.000426</td>\n",
       "      <td>3.201099</td>\n",
       "      <td>1055264.0</td>\n",
       "    </tr>\n",
       "    <tr>\n",
       "      <th>4</th>\n",
       "      <td>1.577838e+18</td>\n",
       "      <td>-4.842443</td>\n",
       "      <td>4.846759</td>\n",
       "      <td>-0.000377</td>\n",
       "      <td>3.201372</td>\n",
       "      <td>1055264.0</td>\n",
       "    </tr>\n",
       "  </tbody>\n",
       "</table>\n",
       "</div>"
      ],
      "text/plain": [
       "           time       min       max      mean    stddev      count\n",
       "0  1.577837e+18 -4.579173  4.574318 -0.000128  3.070760   169423.0\n",
       "1  1.577837e+18 -4.629345  4.626648 -0.000490  3.072483  1055265.0\n",
       "2  1.577837e+18 -4.759901  4.757204 -0.000338  3.066348  1055265.0\n",
       "3  1.577837e+18 -4.838667  4.840825 -0.000426  3.201099  1055264.0\n",
       "4  1.577838e+18 -4.842443  4.846759 -0.000377  3.201372  1055264.0"
      ]
     },
     "execution_count": 14,
     "metadata": {},
     "output_type": "execute_result"
    }
   ],
   "source": [
    "data.head()"
   ]
  },
  {
   "cell_type": "code",
   "execution_count": 15,
   "metadata": {
    "colab": {
     "base_uri": "https://localhost:8080/",
     "height": 235
    },
    "id": "MHxSNcW9CVOB",
    "outputId": "78976906-8c8f-42d5-c763-5fbb52b580a1"
   },
   "outputs": [
    {
     "data": {
      "text/html": [
       "<div>\n",
       "<style scoped>\n",
       "    .dataframe tbody tr th:only-of-type {\n",
       "        vertical-align: middle;\n",
       "    }\n",
       "\n",
       "    .dataframe tbody tr th {\n",
       "        vertical-align: top;\n",
       "    }\n",
       "\n",
       "    .dataframe thead th {\n",
       "        text-align: right;\n",
       "    }\n",
       "</style>\n",
       "<table border=\"1\" class=\"dataframe\">\n",
       "  <thead>\n",
       "    <tr style=\"text-align: right;\">\n",
       "      <th></th>\n",
       "      <th>Collection</th>\n",
       "      <th>Name</th>\n",
       "      <th>Units</th>\n",
       "      <th>UUID</th>\n",
       "    </tr>\n",
       "  </thead>\n",
       "  <tbody>\n",
       "    <tr>\n",
       "      <th>0</th>\n",
       "      <td>lndunn/PQdata/underground</td>\n",
       "      <td>phB_amp</td>\n",
       "      <td>amps</td>\n",
       "      <td>2e08ba24-61ea-4fa7-bb72-24f005150ac2</td>\n",
       "    </tr>\n",
       "    <tr>\n",
       "      <th>1</th>\n",
       "      <td>lndunn/PQdata/underground</td>\n",
       "      <td>phC_volt</td>\n",
       "      <td>volts</td>\n",
       "      <td>47dfc415-1704-4447-88a4-43e68645ab0f</td>\n",
       "    </tr>\n",
       "    <tr>\n",
       "      <th>2</th>\n",
       "      <td>lndunn/PQdata/underground</td>\n",
       "      <td>phA_amp</td>\n",
       "      <td>amps</td>\n",
       "      <td>9cc032a1-6c32-4c3a-bb37-7c87da13dc4b</td>\n",
       "    </tr>\n",
       "    <tr>\n",
       "      <th>3</th>\n",
       "      <td>lndunn/PQdata/underground</td>\n",
       "      <td>phC_amp</td>\n",
       "      <td>amps</td>\n",
       "      <td>33f91f08-ed6f-49fb-a83e-1dc9889d5b36</td>\n",
       "    </tr>\n",
       "    <tr>\n",
       "      <th>4</th>\n",
       "      <td>lndunn/PQdata/underground</td>\n",
       "      <td>phA_volt</td>\n",
       "      <td>volts</td>\n",
       "      <td>ca93b50c-612c-4d10-b211-fe98f21ea39c</td>\n",
       "    </tr>\n",
       "    <tr>\n",
       "      <th>5</th>\n",
       "      <td>lndunn/PQdata/underground</td>\n",
       "      <td>phB_volt</td>\n",
       "      <td>volts</td>\n",
       "      <td>a63f75e8-38f5-4f2f-8327-8fd8ae94013b</td>\n",
       "    </tr>\n",
       "  </tbody>\n",
       "</table>\n",
       "</div>"
      ],
      "text/plain": [
       "                  Collection      Name  Units  \\\n",
       "0  lndunn/PQdata/underground   phB_amp   amps   \n",
       "1  lndunn/PQdata/underground  phC_volt  volts   \n",
       "2  lndunn/PQdata/underground   phA_amp   amps   \n",
       "3  lndunn/PQdata/underground   phC_amp   amps   \n",
       "4  lndunn/PQdata/underground  phA_volt  volts   \n",
       "5  lndunn/PQdata/underground  phB_volt  volts   \n",
       "\n",
       "                                   UUID  \n",
       "0  2e08ba24-61ea-4fa7-bb72-24f005150ac2  \n",
       "1  47dfc415-1704-4447-88a4-43e68645ab0f  \n",
       "2  9cc032a1-6c32-4c3a-bb37-7c87da13dc4b  \n",
       "3  33f91f08-ed6f-49fb-a83e-1dc9889d5b36  \n",
       "4  ca93b50c-612c-4d10-b211-fe98f21ea39c  \n",
       "5  a63f75e8-38f5-4f2f-8327-8fd8ae94013b  "
      ]
     },
     "execution_count": 15,
     "metadata": {},
     "output_type": "execute_result"
    }
   ],
   "source": [
    "df"
   ]
  },
  {
   "cell_type": "markdown",
   "metadata": {
    "id": "Ldan7aoSlqs-"
   },
   "source": [
    "## Query individual points"
   ]
  },
  {
   "cell_type": "code",
   "execution_count": 16,
   "metadata": {
    "id": "SCLBaHK1B8_0"
   },
   "outputs": [],
   "source": [
    "dt = ns_delta(seconds=1/60.)\n",
    "_streams = db.streams(*df['UUID'].tolist())\n",
    "data = _streams.filter(start_time, start_time+10*dt).to_dataframe()"
   ]
  },
  {
   "cell_type": "code",
   "execution_count": 17,
   "metadata": {
    "colab": {
     "base_uri": "https://localhost:8080/",
     "height": 410
    },
    "id": "j0W6AyPHKQGR",
    "outputId": "65f02bec-6449-49c9-83ab-3646a68abfdf"
   },
   "outputs": [
    {
     "data": {
      "text/html": [
       "<div>\n",
       "<style scoped>\n",
       "    .dataframe tbody tr th:only-of-type {\n",
       "        vertical-align: middle;\n",
       "    }\n",
       "\n",
       "    .dataframe tbody tr th {\n",
       "        vertical-align: top;\n",
       "    }\n",
       "\n",
       "    .dataframe thead th {\n",
       "        text-align: right;\n",
       "    }\n",
       "</style>\n",
       "<table border=\"1\" class=\"dataframe\">\n",
       "  <thead>\n",
       "    <tr style=\"text-align: right;\">\n",
       "      <th></th>\n",
       "      <th>lndunn/PQdata/underground/phB_amp</th>\n",
       "      <th>lndunn/PQdata/underground/phC_volt</th>\n",
       "      <th>lndunn/PQdata/underground/phA_amp</th>\n",
       "      <th>lndunn/PQdata/underground/phC_amp</th>\n",
       "      <th>lndunn/PQdata/underground/phA_volt</th>\n",
       "      <th>lndunn/PQdata/underground/phB_volt</th>\n",
       "    </tr>\n",
       "    <tr>\n",
       "      <th>time</th>\n",
       "      <th></th>\n",
       "      <th></th>\n",
       "      <th></th>\n",
       "      <th></th>\n",
       "      <th></th>\n",
       "      <th></th>\n",
       "    </tr>\n",
       "  </thead>\n",
       "  <tbody>\n",
       "    <tr>\n",
       "      <th>1577836800000126720</th>\n",
       "      <td>-2.190860</td>\n",
       "      <td>130.124481</td>\n",
       "      <td>4.445920</td>\n",
       "      <td>-2.253441</td>\n",
       "      <td>-148.154160</td>\n",
       "      <td>12.106109</td>\n",
       "    </tr>\n",
       "    <tr>\n",
       "      <th>1577836800000387328</th>\n",
       "      <td>-1.774915</td>\n",
       "      <td>139.155502</td>\n",
       "      <td>4.280297</td>\n",
       "      <td>-2.521027</td>\n",
       "      <td>-140.903442</td>\n",
       "      <td>-2.524803</td>\n",
       "    </tr>\n",
       "    <tr>\n",
       "      <th>1577836800000647680</th>\n",
       "      <td>-1.312574</td>\n",
       "      <td>147.539154</td>\n",
       "      <td>4.035369</td>\n",
       "      <td>-2.752467</td>\n",
       "      <td>-131.678207</td>\n",
       "      <td>-16.378853</td>\n",
       "    </tr>\n",
       "    <tr>\n",
       "      <th>1577836800000908288</th>\n",
       "      <td>-0.812469</td>\n",
       "      <td>153.365616</td>\n",
       "      <td>3.759691</td>\n",
       "      <td>-2.936433</td>\n",
       "      <td>-121.287666</td>\n",
       "      <td>-29.585516</td>\n",
       "    </tr>\n",
       "    <tr>\n",
       "      <th>1577836800001168640</th>\n",
       "      <td>-0.367931</td>\n",
       "      <td>155.760941</td>\n",
       "      <td>3.546054</td>\n",
       "      <td>-3.137662</td>\n",
       "      <td>-109.828949</td>\n",
       "      <td>-44.701965</td>\n",
       "    </tr>\n",
       "    <tr>\n",
       "      <th>1577836800001429248</th>\n",
       "      <td>0.067436</td>\n",
       "      <td>156.861496</td>\n",
       "      <td>3.373418</td>\n",
       "      <td>-3.412261</td>\n",
       "      <td>-96.881233</td>\n",
       "      <td>-60.433434</td>\n",
       "    </tr>\n",
       "    <tr>\n",
       "      <th>1577836800001689600</th>\n",
       "      <td>0.528159</td>\n",
       "      <td>157.508881</td>\n",
       "      <td>3.186755</td>\n",
       "      <td>-3.704663</td>\n",
       "      <td>-82.023743</td>\n",
       "      <td>-75.452774</td>\n",
       "    </tr>\n",
       "    <tr>\n",
       "      <th>1577836800001950208</th>\n",
       "      <td>1.032580</td>\n",
       "      <td>157.832581</td>\n",
       "      <td>2.969881</td>\n",
       "      <td>-3.994908</td>\n",
       "      <td>-66.357010</td>\n",
       "      <td>-89.695259</td>\n",
       "    </tr>\n",
       "    <tr>\n",
       "      <th>1577836800002210560</th>\n",
       "      <td>1.500855</td>\n",
       "      <td>157.088089</td>\n",
       "      <td>2.717940</td>\n",
       "      <td>-4.204769</td>\n",
       "      <td>-50.755020</td>\n",
       "      <td>-102.772446</td>\n",
       "    </tr>\n",
       "    <tr>\n",
       "      <th>1577836800002471168</th>\n",
       "      <td>1.917340</td>\n",
       "      <td>155.307770</td>\n",
       "      <td>2.432011</td>\n",
       "      <td>-4.337482</td>\n",
       "      <td>-35.250137</td>\n",
       "      <td>-114.716705</td>\n",
       "    </tr>\n",
       "  </tbody>\n",
       "</table>\n",
       "</div>"
      ],
      "text/plain": [
       "                     lndunn/PQdata/underground/phB_amp  \\\n",
       "time                                                     \n",
       "1577836800000126720                          -2.190860   \n",
       "1577836800000387328                          -1.774915   \n",
       "1577836800000647680                          -1.312574   \n",
       "1577836800000908288                          -0.812469   \n",
       "1577836800001168640                          -0.367931   \n",
       "1577836800001429248                           0.067436   \n",
       "1577836800001689600                           0.528159   \n",
       "1577836800001950208                           1.032580   \n",
       "1577836800002210560                           1.500855   \n",
       "1577836800002471168                           1.917340   \n",
       "\n",
       "                     lndunn/PQdata/underground/phC_volt  \\\n",
       "time                                                      \n",
       "1577836800000126720                          130.124481   \n",
       "1577836800000387328                          139.155502   \n",
       "1577836800000647680                          147.539154   \n",
       "1577836800000908288                          153.365616   \n",
       "1577836800001168640                          155.760941   \n",
       "1577836800001429248                          156.861496   \n",
       "1577836800001689600                          157.508881   \n",
       "1577836800001950208                          157.832581   \n",
       "1577836800002210560                          157.088089   \n",
       "1577836800002471168                          155.307770   \n",
       "\n",
       "                     lndunn/PQdata/underground/phA_amp  \\\n",
       "time                                                     \n",
       "1577836800000126720                           4.445920   \n",
       "1577836800000387328                           4.280297   \n",
       "1577836800000647680                           4.035369   \n",
       "1577836800000908288                           3.759691   \n",
       "1577836800001168640                           3.546054   \n",
       "1577836800001429248                           3.373418   \n",
       "1577836800001689600                           3.186755   \n",
       "1577836800001950208                           2.969881   \n",
       "1577836800002210560                           2.717940   \n",
       "1577836800002471168                           2.432011   \n",
       "\n",
       "                     lndunn/PQdata/underground/phC_amp  \\\n",
       "time                                                     \n",
       "1577836800000126720                          -2.253441   \n",
       "1577836800000387328                          -2.521027   \n",
       "1577836800000647680                          -2.752467   \n",
       "1577836800000908288                          -2.936433   \n",
       "1577836800001168640                          -3.137662   \n",
       "1577836800001429248                          -3.412261   \n",
       "1577836800001689600                          -3.704663   \n",
       "1577836800001950208                          -3.994908   \n",
       "1577836800002210560                          -4.204769   \n",
       "1577836800002471168                          -4.337482   \n",
       "\n",
       "                     lndunn/PQdata/underground/phA_volt  \\\n",
       "time                                                      \n",
       "1577836800000126720                         -148.154160   \n",
       "1577836800000387328                         -140.903442   \n",
       "1577836800000647680                         -131.678207   \n",
       "1577836800000908288                         -121.287666   \n",
       "1577836800001168640                         -109.828949   \n",
       "1577836800001429248                          -96.881233   \n",
       "1577836800001689600                          -82.023743   \n",
       "1577836800001950208                          -66.357010   \n",
       "1577836800002210560                          -50.755020   \n",
       "1577836800002471168                          -35.250137   \n",
       "\n",
       "                     lndunn/PQdata/underground/phB_volt  \n",
       "time                                                     \n",
       "1577836800000126720                           12.106109  \n",
       "1577836800000387328                           -2.524803  \n",
       "1577836800000647680                          -16.378853  \n",
       "1577836800000908288                          -29.585516  \n",
       "1577836800001168640                          -44.701965  \n",
       "1577836800001429248                          -60.433434  \n",
       "1577836800001689600                          -75.452774  \n",
       "1577836800001950208                          -89.695259  \n",
       "1577836800002210560                         -102.772446  \n",
       "1577836800002471168                         -114.716705  "
      ]
     },
     "execution_count": 17,
     "metadata": {},
     "output_type": "execute_result"
    }
   ],
   "source": [
    "data.head(n=10)"
   ]
  },
  {
   "cell_type": "code",
   "execution_count": 18,
   "metadata": {
    "colab": {
     "base_uri": "https://localhost:8080/",
     "height": 235
    },
    "id": "YWjKQmN4FsMk",
    "outputId": "d6885d76-cca0-4331-bc72-f972c9506889"
   },
   "outputs": [
    {
     "data": {
      "text/html": [
       "<div>\n",
       "<style scoped>\n",
       "    .dataframe tbody tr th:only-of-type {\n",
       "        vertical-align: middle;\n",
       "    }\n",
       "\n",
       "    .dataframe tbody tr th {\n",
       "        vertical-align: top;\n",
       "    }\n",
       "\n",
       "    .dataframe thead th {\n",
       "        text-align: right;\n",
       "    }\n",
       "</style>\n",
       "<table border=\"1\" class=\"dataframe\">\n",
       "  <thead>\n",
       "    <tr style=\"text-align: right;\">\n",
       "      <th></th>\n",
       "      <th>phB_amp</th>\n",
       "      <th>phC_volt</th>\n",
       "      <th>phA_amp</th>\n",
       "      <th>phC_amp</th>\n",
       "      <th>phA_volt</th>\n",
       "      <th>phB_volt</th>\n",
       "    </tr>\n",
       "    <tr>\n",
       "      <th>time</th>\n",
       "      <th></th>\n",
       "      <th></th>\n",
       "      <th></th>\n",
       "      <th></th>\n",
       "      <th></th>\n",
       "      <th></th>\n",
       "    </tr>\n",
       "  </thead>\n",
       "  <tbody>\n",
       "    <tr>\n",
       "      <th>1577836800000126720</th>\n",
       "      <td>-2.190860</td>\n",
       "      <td>130.124481</td>\n",
       "      <td>4.445920</td>\n",
       "      <td>-2.253441</td>\n",
       "      <td>-148.154160</td>\n",
       "      <td>12.106109</td>\n",
       "    </tr>\n",
       "    <tr>\n",
       "      <th>1577836800000387328</th>\n",
       "      <td>-1.774915</td>\n",
       "      <td>139.155502</td>\n",
       "      <td>4.280297</td>\n",
       "      <td>-2.521027</td>\n",
       "      <td>-140.903442</td>\n",
       "      <td>-2.524803</td>\n",
       "    </tr>\n",
       "    <tr>\n",
       "      <th>1577836800000647680</th>\n",
       "      <td>-1.312574</td>\n",
       "      <td>147.539154</td>\n",
       "      <td>4.035369</td>\n",
       "      <td>-2.752467</td>\n",
       "      <td>-131.678207</td>\n",
       "      <td>-16.378853</td>\n",
       "    </tr>\n",
       "    <tr>\n",
       "      <th>1577836800000908288</th>\n",
       "      <td>-0.812469</td>\n",
       "      <td>153.365616</td>\n",
       "      <td>3.759691</td>\n",
       "      <td>-2.936433</td>\n",
       "      <td>-121.287666</td>\n",
       "      <td>-29.585516</td>\n",
       "    </tr>\n",
       "    <tr>\n",
       "      <th>1577836800001168640</th>\n",
       "      <td>-0.367931</td>\n",
       "      <td>155.760941</td>\n",
       "      <td>3.546054</td>\n",
       "      <td>-3.137662</td>\n",
       "      <td>-109.828949</td>\n",
       "      <td>-44.701965</td>\n",
       "    </tr>\n",
       "  </tbody>\n",
       "</table>\n",
       "</div>"
      ],
      "text/plain": [
       "                      phB_amp    phC_volt   phA_amp   phC_amp    phA_volt  \\\n",
       "time                                                                        \n",
       "1577836800000126720 -2.190860  130.124481  4.445920 -2.253441 -148.154160   \n",
       "1577836800000387328 -1.774915  139.155502  4.280297 -2.521027 -140.903442   \n",
       "1577836800000647680 -1.312574  147.539154  4.035369 -2.752467 -131.678207   \n",
       "1577836800000908288 -0.812469  153.365616  3.759691 -2.936433 -121.287666   \n",
       "1577836800001168640 -0.367931  155.760941  3.546054 -3.137662 -109.828949   \n",
       "\n",
       "                      phB_volt  \n",
       "time                            \n",
       "1577836800000126720  12.106109  \n",
       "1577836800000387328  -2.524803  \n",
       "1577836800000647680 -16.378853  \n",
       "1577836800000908288 -29.585516  \n",
       "1577836800001168640 -44.701965  "
      ]
     },
     "execution_count": 18,
     "metadata": {},
     "output_type": "execute_result"
    }
   ],
   "source": [
    "data = data.rename(columns=dict(zip(data.keys(), [k.split('/')[-1] for k in data.keys()])))\n",
    "data.head()"
   ]
  },
  {
   "cell_type": "code",
   "execution_count": 19,
   "metadata": {
    "colab": {
     "base_uri": "https://localhost:8080/",
     "height": 225
    },
    "id": "muCk9chADECN",
    "outputId": "56ef68f9-da18-4c77-f00b-9a01d355c766"
   },
   "outputs": [
    {
     "data": {
      "image/png": "[encoded data removed]",
      "text/plain": [
       "<Figure size 720x216 with 1 Axes>"
      ]
     },
     "metadata": {
      "needs_background": "light"
     },
     "output_type": "display_data"
    }
   ],
   "source": [
    "data[['phA_volt','phB_volt','phC_volt']].plot(figsize=(10,3))\n",
    "plt.xlabel('Time Stamp (nanoseconds)')\n",
    "plt.ylabel('Voltage (volts)')\n",
    "plt.show()"
   ]
  },
  {
   "cell_type": "code",
   "execution_count": 20,
   "metadata": {
    "colab": {
     "base_uri": "https://localhost:8080/"
    },
    "id": "8JUEMiNk_cEq",
    "outputId": "d7988b82-149a-4824-b2d3-0a4f74fded5e"
   },
   "outputs": [
    {
     "name": "stdout",
     "output_type": "stream",
     "text": [
      "{'frequency': 60.000000563943715, 'phase angle': 0.0, 'magnitude': 166.96462395809692}\n"
     ]
    }
   ],
   "source": [
    "def calc_sine(params, t):\n",
    "  freq, phase, magnitude = params\n",
    "  return magnitude * np.sin(2*np.pi*freq * t/1e9 - np.radians(phase))\n",
    "\n",
    "def func(params, t, y):\n",
    "  return calc_sine(params, t) - y\n",
    "\n",
    "t = data.index\n",
    "y = data['phA_volt']\n",
    "\n",
    "p0 = [60, 0, y.max()]\n",
    "\n",
    "result = optimize.least_squares(func, p0, args=(t, y))\n",
    "print(dict(zip(['frequency', 'phase angle', 'magnitude'], result.x)))"
   ]
  },
  {
   "cell_type": "code",
   "execution_count": 21,
   "metadata": {
    "colab": {
     "base_uri": "https://localhost:8080/",
     "height": 224
    },
    "id": "K-nHUoNosc6j",
    "outputId": "f66bae59-db0c-4659-ad3b-3a63efd9da61"
   },
   "outputs": [
    {
     "data": {
      "image/png": "[encoded data removed]",
      "text/plain": [
       "<Figure size 720x216 with 1 Axes>"
      ]
     },
     "metadata": {
      "needs_background": "light"
     },
     "output_type": "display_data"
    }
   ],
   "source": [
    "y_hat = calc_sine(result.x, t)\n",
    "\n",
    "fig, ax = plt.subplots(figsize=(10,3))\n",
    "ax.plot(t, y, label='True')\n",
    "ax.plot(t, y_hat, label='Approx')\n",
    "plt.legend()\n",
    "plt.show()"
   ]
  },
  {
   "cell_type": "code",
   "execution_count": 22,
   "metadata": {
    "id": "0GCMyAiYwwto"
   },
   "outputs": [],
   "source": [
    "p0 = {'phA_volt': [60., 0, data['phA_volt'].max()],\n",
    "      'phB_volt': [60., 120, data['phB_volt'].max()], \n",
    "      'phC_volt': [60., -120, data['phC_volt'].max()]}\n",
    "\n",
    "params = {}\n",
    "for phase in ['phA_volt', 'phB_volt', 'phC_volt']:\n",
    "    y = data[phase]\n",
    "    result = optimize.least_squares(func, p0[phase], args=(t, y), xtol=1e-9)\n",
    "  \n",
    "    params[phase] = dict(zip(['frequency','phase','magnitude'], result.x.tolist()))"
   ]
  },
  {
   "cell_type": "code",
   "execution_count": 23,
   "metadata": {
    "colab": {
     "base_uri": "https://localhost:8080/"
    },
    "id": "DL-OGbNGxXqT",
    "outputId": "31c032b5-4a39-46be-a94d-1bab5d49d352"
   },
   "outputs": [
    {
     "name": "stdout",
     "output_type": "stream",
     "text": [
      "{\n",
      "   \"phA_volt\": {\n",
      "      \"frequency\": 60.000000563943715,\n",
      "      \"phase\": 0.0,\n",
      "      \"magnitude\": 166.96462395809692\n",
      "   },\n",
      "   \"phB_volt\": {\n",
      "      \"frequency\": 60.00000072744839,\n",
      "      \"phase\": 120.0,\n",
      "      \"magnitude\": 157.2608760387304\n",
      "   },\n",
      "   \"phC_volt\": {\n",
      "      \"frequency\": 60.00000082284371,\n",
      "      \"phase\": 58.90666679794896,\n",
      "      \"magnitude\": 262.33381668307567\n",
      "   }\n",
      "}\n"
     ]
    }
   ],
   "source": [
    "import json\n",
    "\n",
    "print(json.dumps(params, indent=3))"
   ]
  },
  {
   "cell_type": "code",
   "execution_count": null,
   "metadata": {},
   "outputs": [],
   "source": [
    "\n",
    "\n"
   ]
  }
 ],
 "metadata": {
  "colab": {
   "collapsed_sections": [],
   "name": "Phasor Calculation.ipynb",
   "provenance": []
  },
  "kernelspec": {
   "display_name": "Python 3",
   "language": "python",
   "name": "python3"
  },
  "language_info": {
   "codemirror_mode": {
    "name": "ipython",
    "version": 3
   },
   "file_extension": ".py",
   "mimetype": "text/x-python",
   "name": "python",
   "nbconvert_exporter": "python",
   "pygments_lexer": "ipython3",
   "version": "3.7.7"
  }
 },
 "nbformat": 4,
 "nbformat_minor": 1
}
