{
  "nbformat": 4,
  "nbformat_minor": 0,
  "metadata": {
    "kernelspec": {
      "display_name": "Python 3",
      "language": "python",
      "name": "python3"
    },
    "language_info": {
      "codemirror_mode": {
        "name": "ipython",
        "version": 3
      },
      "file_extension": ".py",
      "mimetype": "text/x-python",
      "name": "python",
      "nbconvert_exporter": "python",
      "pygments_lexer": "ipython3",
      "version": "3.7.6"
    },
    "colab": {
      "name": "Phasor Calculation.ipynb",
      "provenance": [],
      "collapsed_sections": []
    }
  },
  "cells": [
    {
      "cell_type": "code",
      "metadata": {
        "id": "x5P_pdOcrZhc",
        "colab": {
          "base_uri": "https://localhost:8080/"
        },
        "outputId": "9e08ca64-bba4-4bb2-a4b0-6202c65d5e1f"
      },
      "source": [
        "!pip install btrdb"
      ],
      "execution_count": 4,
      "outputs": [
        {
          "output_type": "stream",
          "text": [
            "Collecting btrdb\n",
            "\u001b[?25l  Downloading https://files.pythonhosted.org/packages/05/ce/ef4b979ccf9272f4299fbc9a35cfd1e0f576f9add37bc7b27988411fd431/btrdb-5.10.2-py3-none-any.whl (73kB)\n",
            "\u001b[K     |████████████████████████████████| 81kB 3.0MB/s \n",
            "\u001b[?25hCollecting grpcio-tools>=1.16.1\n",
            "\u001b[?25l  Downloading https://files.pythonhosted.org/packages/d1/17/c798dc75caf987b9f0429a5551ca546d1111fdb128900123ccd7f8c9d6f4/grpcio_tools-1.34.0-cp36-cp36m-manylinux2014_x86_64.whl (2.5MB)\n",
            "\u001b[K     |████████████████████████████████| 2.5MB 6.9MB/s \n",
            "\u001b[?25hRequirement already satisfied: grpcio>=1.16.1 in /usr/local/lib/python3.6/dist-packages (from btrdb) (1.34.0)\n",
            "Requirement already satisfied: pyyaml in /usr/local/lib/python3.6/dist-packages (from btrdb) (3.13)\n",
            "Requirement already satisfied: pytz in /usr/local/lib/python3.6/dist-packages (from btrdb) (2018.9)\n",
            "Requirement already satisfied: setuptools in /usr/local/lib/python3.6/dist-packages (from grpcio-tools>=1.16.1->btrdb) (50.3.2)\n",
            "Requirement already satisfied: protobuf<4.0dev,>=3.5.0.post1 in /usr/local/lib/python3.6/dist-packages (from grpcio-tools>=1.16.1->btrdb) (3.12.4)\n",
            "Requirement already satisfied: six>=1.5.2 in /usr/local/lib/python3.6/dist-packages (from grpcio>=1.16.1->btrdb) (1.15.0)\n",
            "Installing collected packages: grpcio-tools, btrdb\n",
            "Successfully installed btrdb-5.10.2 grpcio-tools-1.34.0\n"
          ],
          "name": "stdout"
        }
      ]
    },
    {
      "cell_type": "code",
      "metadata": {
        "id": "r0y6zlpxrZhj"
      },
      "source": [
        "import numpy as np\n",
        "import pandas as pd\n",
        "import matplotlib.pyplot as plt\n",
        "\n",
        "from scipy import optimize\n",
        "\n",
        "import btrdb\n",
        "from btrdb.utils.timez import ns_delta, ns_to_datetime, to_nanoseconds"
      ],
      "execution_count": 5,
      "outputs": []
    },
    {
      "cell_type": "code",
      "metadata": {
        "id": "4jyCyuuxPKfd"
      },
      "source": [
        ""
      ],
      "execution_count": 5,
      "outputs": []
    },
    {
      "cell_type": "markdown",
      "metadata": {
        "id": "XlWIHkupPMJ_"
      },
      "source": [
        "##  Connecting to the API\n",
        "Visit your profile on ni4ai.org to get an API key."
      ]
    },
    {
      "cell_type": "code",
      "metadata": {
        "id": "2IpUHyHZrZhn"
      },
      "source": [
        "YOUR_API_KEY = 'YOUR API KEY GOES HERE'\n",
        "URL = \"api.ni4ai.org:4411\"\n",
        "\n",
        "#Establishing the connecting to the server\n",
        "db = btrdb.connect(URL, apikey=YOUR_API_KEY)\n"
      ],
      "execution_count": 6,
      "outputs": []
    },
    {
      "cell_type": "code",
      "metadata": {
        "id": "QoSdeVdYrZhv",
        "colab": {
          "base_uri": "https://localhost:8080/"
        },
        "outputId": "be995e5b-c296-4544-ca10-497b3b52c7a1"
      },
      "source": [
        "#View streams in the collection\n",
        "db.list_collections(\"lndunn/PQdata\")\n"
      ],
      "execution_count": 7,
      "outputs": [
        {
          "output_type": "execute_result",
          "data": {
            "text/plain": [
              "['lndunn/PQdata/underground']"
            ]
          },
          "metadata": {
            "tags": []
          },
          "execution_count": 7
        }
      ]
    },
    {
      "cell_type": "code",
      "metadata": {
        "id": "9HHP8Yh4rZhz",
        "colab": {
          "base_uri": "https://localhost:8080/"
        },
        "outputId": "b735e44c-2740-4f34-aee5-8224d5b0ad45"
      },
      "source": [
        "#Choose streams for a particular collection\n",
        "streams = db.streams_in_collection('lndunn/PQdata/underground')\n",
        "streams"
      ],
      "execution_count": 8,
      "outputs": [
        {
          "output_type": "execute_result",
          "data": {
            "text/plain": [
              "[<Stream collection=lndunn/PQdata/underground name=phB_volt>,\n",
              " <Stream collection=lndunn/PQdata/underground name=phB_amp>,\n",
              " <Stream collection=lndunn/PQdata/underground name=phC_volt>,\n",
              " <Stream collection=lndunn/PQdata/underground name=phA_amp>,\n",
              " <Stream collection=lndunn/PQdata/underground name=phC_amp>,\n",
              " <Stream collection=lndunn/PQdata/underground name=phA_volt>]"
            ]
          },
          "metadata": {
            "tags": []
          },
          "execution_count": 8
        }
      ]
    },
    {
      "cell_type": "code",
      "metadata": {
        "colab": {
          "base_uri": "https://localhost:8080/"
        },
        "id": "7ex1HbRB59Q_",
        "outputId": "f8bd922c-ba90-4429-d167-be4cc2b1a837"
      },
      "source": [
        "# Print metadata (tags, annotations) for the first stream in the collection\n",
        "print(streams[0].tags())\n",
        "print(streams[0].annotations())"
      ],
      "execution_count": 9,
      "outputs": [
        {
          "output_type": "stream",
          "text": [
            "{'ingress': '', 'distiller': '', 'name': 'phB_volt', 'unit': 'volts'}\n",
            "({'source': 'https://drive.google.com/drive/folders/0B6vSVhUYNe86TGQ3bmgwdG1ySnM', 'documentation': 'https://grouper.ieee.org/groups/td/pq/data/downloads/XLPE_data.pdf', 'equipment_specs': '{\"cable type\": \"XLPE underground cable\", \"cable rating\": \"8 kV\", \"Year of installation\": \"1991\", \"PT ratio\": \"8050:115\", \"CT ratio\": \"600:5\"}', 'measurement_params': '{\"Sampling mode\": \"Continuous (gap-less) data recording\", \"Sampling rate\": \"64 samples/cycle\", \"Measured signals\": \"Three-phase bus voltages and feeder currents\"}'}, 7)\n"
          ],
          "name": "stdout"
        }
      ]
    },
    {
      "cell_type": "code",
      "metadata": {
        "colab": {
          "base_uri": "https://localhost:8080/",
          "height": 35
        },
        "id": "IaRQTFj67JjB",
        "outputId": "77e73bba-28fe-46ad-b6bf-d4db6ff1008c"
      },
      "source": [
        "# Read the docs\n",
        "streams[0].annotations()[0]['documentation']"
      ],
      "execution_count": 10,
      "outputs": [
        {
          "output_type": "execute_result",
          "data": {
            "application/vnd.google.colaboratory.intrinsic+json": {
              "type": "string"
            },
            "text/plain": [
              "'https://grouper.ieee.org/groups/td/pq/data/downloads/XLPE_data.pdf'"
            ]
          },
          "metadata": {
            "tags": []
          },
          "execution_count": 10
        }
      ]
    },
    {
      "cell_type": "code",
      "metadata": {
        "id": "yFZ8QEPqrZh4",
        "colab": {
          "base_uri": "https://localhost:8080/",
          "height": 235
        },
        "outputId": "9b833e05-8960-4166-dcf5-6ead05f73c62"
      },
      "source": [
        "df = pd.DataFrame(columns=['Collection','Name','Units','UUID'])\n",
        "for ix, stream in enumerate(streams):\n",
        "  tags = stream.tags()\n",
        "  df.loc[ix] = [stream.collection, stream.name, tags['unit'], stream.uuid]\n",
        "\n",
        "df"
      ],
      "execution_count": 11,
      "outputs": [
        {
          "output_type": "execute_result",
          "data": {
            "text/html": [
              "<div>\n",
              "<style scoped>\n",
              "    .dataframe tbody tr th:only-of-type {\n",
              "        vertical-align: middle;\n",
              "    }\n",
              "\n",
              "    .dataframe tbody tr th {\n",
              "        vertical-align: top;\n",
              "    }\n",
              "\n",
              "    .dataframe thead th {\n",
              "        text-align: right;\n",
              "    }\n",
              "</style>\n",
              "<table border=\"1\" class=\"dataframe\">\n",
              "  <thead>\n",
              "    <tr style=\"text-align: right;\">\n",
              "      <th></th>\n",
              "      <th>Collection</th>\n",
              "      <th>Name</th>\n",
              "      <th>Units</th>\n",
              "      <th>UUID</th>\n",
              "    </tr>\n",
              "  </thead>\n",
              "  <tbody>\n",
              "    <tr>\n",
              "      <th>0</th>\n",
              "      <td>lndunn/PQdata/underground</td>\n",
              "      <td>phB_volt</td>\n",
              "      <td>volts</td>\n",
              "      <td>a63f75e8-38f5-4f2f-8327-8fd8ae94013b</td>\n",
              "    </tr>\n",
              "    <tr>\n",
              "      <th>1</th>\n",
              "      <td>lndunn/PQdata/underground</td>\n",
              "      <td>phB_amp</td>\n",
              "      <td>amps</td>\n",
              "      <td>2e08ba24-61ea-4fa7-bb72-24f005150ac2</td>\n",
              "    </tr>\n",
              "    <tr>\n",
              "      <th>2</th>\n",
              "      <td>lndunn/PQdata/underground</td>\n",
              "      <td>phC_volt</td>\n",
              "      <td>volts</td>\n",
              "      <td>47dfc415-1704-4447-88a4-43e68645ab0f</td>\n",
              "    </tr>\n",
              "    <tr>\n",
              "      <th>3</th>\n",
              "      <td>lndunn/PQdata/underground</td>\n",
              "      <td>phA_amp</td>\n",
              "      <td>amps</td>\n",
              "      <td>9cc032a1-6c32-4c3a-bb37-7c87da13dc4b</td>\n",
              "    </tr>\n",
              "    <tr>\n",
              "      <th>4</th>\n",
              "      <td>lndunn/PQdata/underground</td>\n",
              "      <td>phC_amp</td>\n",
              "      <td>amps</td>\n",
              "      <td>33f91f08-ed6f-49fb-a83e-1dc9889d5b36</td>\n",
              "    </tr>\n",
              "    <tr>\n",
              "      <th>5</th>\n",
              "      <td>lndunn/PQdata/underground</td>\n",
              "      <td>phA_volt</td>\n",
              "      <td>volts</td>\n",
              "      <td>ca93b50c-612c-4d10-b211-fe98f21ea39c</td>\n",
              "    </tr>\n",
              "  </tbody>\n",
              "</table>\n",
              "</div>"
            ],
            "text/plain": [
              "                  Collection  ...                                  UUID\n",
              "0  lndunn/PQdata/underground  ...  a63f75e8-38f5-4f2f-8327-8fd8ae94013b\n",
              "1  lndunn/PQdata/underground  ...  2e08ba24-61ea-4fa7-bb72-24f005150ac2\n",
              "2  lndunn/PQdata/underground  ...  47dfc415-1704-4447-88a4-43e68645ab0f\n",
              "3  lndunn/PQdata/underground  ...  9cc032a1-6c32-4c3a-bb37-7c87da13dc4b\n",
              "4  lndunn/PQdata/underground  ...  33f91f08-ed6f-49fb-a83e-1dc9889d5b36\n",
              "5  lndunn/PQdata/underground  ...  ca93b50c-612c-4d10-b211-fe98f21ea39c\n",
              "\n",
              "[6 rows x 4 columns]"
            ]
          },
          "metadata": {
            "tags": []
          },
          "execution_count": 11
        }
      ]
    },
    {
      "cell_type": "code",
      "metadata": {
        "colab": {
          "base_uri": "https://localhost:8080/",
          "height": 142
        },
        "id": "GI-g56pD8HHs",
        "outputId": "ae298485-0cc5-4522-826e-692631b7f240"
      },
      "source": [
        "idx = df['Name'].str.contains('volt')\n",
        "df[idx]"
      ],
      "execution_count": 12,
      "outputs": [
        {
          "output_type": "execute_result",
          "data": {
            "text/html": [
              "<div>\n",
              "<style scoped>\n",
              "    .dataframe tbody tr th:only-of-type {\n",
              "        vertical-align: middle;\n",
              "    }\n",
              "\n",
              "    .dataframe tbody tr th {\n",
              "        vertical-align: top;\n",
              "    }\n",
              "\n",
              "    .dataframe thead th {\n",
              "        text-align: right;\n",
              "    }\n",
              "</style>\n",
              "<table border=\"1\" class=\"dataframe\">\n",
              "  <thead>\n",
              "    <tr style=\"text-align: right;\">\n",
              "      <th></th>\n",
              "      <th>Collection</th>\n",
              "      <th>Name</th>\n",
              "      <th>Units</th>\n",
              "      <th>UUID</th>\n",
              "    </tr>\n",
              "  </thead>\n",
              "  <tbody>\n",
              "    <tr>\n",
              "      <th>0</th>\n",
              "      <td>lndunn/PQdata/underground</td>\n",
              "      <td>phB_volt</td>\n",
              "      <td>volts</td>\n",
              "      <td>a63f75e8-38f5-4f2f-8327-8fd8ae94013b</td>\n",
              "    </tr>\n",
              "    <tr>\n",
              "      <th>2</th>\n",
              "      <td>lndunn/PQdata/underground</td>\n",
              "      <td>phC_volt</td>\n",
              "      <td>volts</td>\n",
              "      <td>47dfc415-1704-4447-88a4-43e68645ab0f</td>\n",
              "    </tr>\n",
              "    <tr>\n",
              "      <th>5</th>\n",
              "      <td>lndunn/PQdata/underground</td>\n",
              "      <td>phA_volt</td>\n",
              "      <td>volts</td>\n",
              "      <td>ca93b50c-612c-4d10-b211-fe98f21ea39c</td>\n",
              "    </tr>\n",
              "  </tbody>\n",
              "</table>\n",
              "</div>"
            ],
            "text/plain": [
              "                  Collection  ...                                  UUID\n",
              "0  lndunn/PQdata/underground  ...  a63f75e8-38f5-4f2f-8327-8fd8ae94013b\n",
              "2  lndunn/PQdata/underground  ...  47dfc415-1704-4447-88a4-43e68645ab0f\n",
              "5  lndunn/PQdata/underground  ...  ca93b50c-612c-4d10-b211-fe98f21ea39c\n",
              "\n",
              "[3 rows x 4 columns]"
            ]
          },
          "metadata": {
            "tags": []
          },
          "execution_count": 12
        }
      ]
    },
    {
      "cell_type": "code",
      "metadata": {
        "colab": {
          "base_uri": "https://localhost:8080/",
          "height": 35
        },
        "id": "kw-2zRTAGguX",
        "outputId": "866a23cc-d558-4407-91be-bea2d548b7a5"
      },
      "source": [
        "stream = streams[0]\n",
        "\n",
        "stream.name"
      ],
      "execution_count": 13,
      "outputs": [
        {
          "output_type": "execute_result",
          "data": {
            "application/vnd.google.colaboratory.intrinsic+json": {
              "type": "string"
            },
            "text/plain": [
              "'phB_volt'"
            ]
          },
          "metadata": {
            "tags": []
          },
          "execution_count": 13
        }
      ]
    },
    {
      "cell_type": "code",
      "metadata": {
        "colab": {
          "base_uri": "https://localhost:8080/"
        },
        "id": "EWgSbTRnBY57",
        "outputId": "7e8f4b75-caff-41a0-d2e4-a8fa2835e492"
      },
      "source": [
        "start = stream.earliest(version=6642)\n",
        "print(start)"
      ],
      "execution_count": 14,
      "outputs": [
        {
          "output_type": "stream",
          "text": [
            "(RawPoint(1577836800000126720, 12.106108665466309), 6642)\n"
          ],
          "name": "stdout"
        }
      ]
    },
    {
      "cell_type": "code",
      "metadata": {
        "colab": {
          "base_uri": "https://localhost:8080/"
        },
        "id": "6EUVwgDjG_Bi",
        "outputId": "b4e3ba41-7ede-4ea7-8e57-d4f3581f7c42"
      },
      "source": [
        "print(ns_to_datetime(start[0][0]))"
      ],
      "execution_count": 17,
      "outputs": [
        {
          "output_type": "stream",
          "text": [
            "2020-01-01 00:00:00.000127+00:00\n"
          ],
          "name": "stdout"
        }
      ]
    },
    {
      "cell_type": "code",
      "metadata": {
        "id": "s6-5eQO8Cpdx"
      },
      "source": [
        "(start_time, start_val), _ = stream.earliest()\n",
        "(end_time, end_val), _ = stream.latest()"
      ],
      "execution_count": 18,
      "outputs": []
    },
    {
      "cell_type": "code",
      "metadata": {
        "colab": {
          "base_uri": "https://localhost:8080/"
        },
        "id": "CX6Q2sOJAZ-8",
        "outputId": "ad2c4591-f291-43c6-8d0b-5b6fd5014085"
      },
      "source": [
        "pw = 38\n",
        "points = stream.aligned_windows(start_time, end_time, pw)\n",
        "print(len(points))"
      ],
      "execution_count": 19,
      "outputs": [
        {
          "output_type": "stream",
          "text": [
            "315\n"
          ],
          "name": "stdout"
        }
      ]
    },
    {
      "cell_type": "code",
      "metadata": {
        "colab": {
          "base_uri": "https://localhost:8080/"
        },
        "id": "2H7IKdsrDyRp",
        "outputId": "d15f2614-cd47-447f-c379-2468dc5a4efb"
      },
      "source": [
        "print(points[0])"
      ],
      "execution_count": 20,
      "outputs": [
        {
          "output_type": "stream",
          "text": [
            "(StatPoint(1577836569253904384, -157.31466674804688, -0.04172204669137316, 157.37940979003906, 169423, 112.8249708305788), 6655)\n"
          ],
          "name": "stdout"
        }
      ]
    },
    {
      "cell_type": "code",
      "metadata": {
        "id": "J22kV9uYGH2O"
      },
      "source": [
        "points, _ = zip(*stream.aligned_windows(start_time, end_time, pw))"
      ],
      "execution_count": 21,
      "outputs": []
    },
    {
      "cell_type": "code",
      "metadata": {
        "colab": {
          "base_uri": "https://localhost:8080/"
        },
        "id": "g4kz_UoVI7jl",
        "outputId": "89822b44-4d71-40b2-ddb7-6ec5a3149b40"
      },
      "source": [
        "points[10].min, points[10].stddev"
      ],
      "execution_count": 22,
      "outputs": [
        {
          "output_type": "execute_result",
          "data": {
            "text/plain": [
              "(-157.02334594726562, 112.63509226857258)"
            ]
          },
          "metadata": {
            "tags": []
          },
          "execution_count": 22
        }
      ]
    },
    {
      "cell_type": "code",
      "metadata": {
        "id": "xLpQgvEOD3L1"
      },
      "source": [
        "def get_stats(points, attrs=['time','min','max','mean','stddev','count']):\n",
        "  df = pd.DataFrame(columns=attrs)\n",
        "  for i, point in enumerate(points):\n",
        "    df.loc[i] = [getattr(point, attr) for attr in attrs]\n",
        "  return df"
      ],
      "execution_count": 23,
      "outputs": []
    },
    {
      "cell_type": "code",
      "metadata": {
        "id": "o2HBFPIXFAuU"
      },
      "source": [
        "data = get_stats(points)"
      ],
      "execution_count": 24,
      "outputs": []
    },
    {
      "cell_type": "code",
      "metadata": {
        "colab": {
          "base_uri": "https://localhost:8080/",
          "height": 204
        },
        "id": "buqI0-tpFNmJ",
        "outputId": "82044159-b87f-45e2-cbbe-8c1245c5bc72"
      },
      "source": [
        "data.head()"
      ],
      "execution_count": 25,
      "outputs": [
        {
          "output_type": "execute_result",
          "data": {
            "text/html": [
              "<div>\n",
              "<style scoped>\n",
              "    .dataframe tbody tr th:only-of-type {\n",
              "        vertical-align: middle;\n",
              "    }\n",
              "\n",
              "    .dataframe tbody tr th {\n",
              "        vertical-align: top;\n",
              "    }\n",
              "\n",
              "    .dataframe thead th {\n",
              "        text-align: right;\n",
              "    }\n",
              "</style>\n",
              "<table border=\"1\" class=\"dataframe\">\n",
              "  <thead>\n",
              "    <tr style=\"text-align: right;\">\n",
              "      <th></th>\n",
              "      <th>time</th>\n",
              "      <th>min</th>\n",
              "      <th>max</th>\n",
              "      <th>mean</th>\n",
              "      <th>stddev</th>\n",
              "      <th>count</th>\n",
              "    </tr>\n",
              "  </thead>\n",
              "  <tbody>\n",
              "    <tr>\n",
              "      <th>0</th>\n",
              "      <td>1.577837e+18</td>\n",
              "      <td>-157.314667</td>\n",
              "      <td>157.379410</td>\n",
              "      <td>-0.041722</td>\n",
              "      <td>112.824971</td>\n",
              "      <td>169423.0</td>\n",
              "    </tr>\n",
              "    <tr>\n",
              "      <th>1</th>\n",
              "      <td>1.577837e+18</td>\n",
              "      <td>-157.314667</td>\n",
              "      <td>157.314667</td>\n",
              "      <td>-0.024379</td>\n",
              "      <td>112.833548</td>\n",
              "      <td>1055265.0</td>\n",
              "    </tr>\n",
              "    <tr>\n",
              "      <th>2</th>\n",
              "      <td>1.577837e+18</td>\n",
              "      <td>-157.476517</td>\n",
              "      <td>157.444153</td>\n",
              "      <td>-0.027099</td>\n",
              "      <td>112.907396</td>\n",
              "      <td>1139096.0</td>\n",
              "    </tr>\n",
              "    <tr>\n",
              "      <th>3</th>\n",
              "      <td>1.577837e+18</td>\n",
              "      <td>-157.152817</td>\n",
              "      <td>157.152817</td>\n",
              "      <td>-0.024968</td>\n",
              "      <td>112.830574</td>\n",
              "      <td>1055264.0</td>\n",
              "    </tr>\n",
              "    <tr>\n",
              "      <th>4</th>\n",
              "      <td>1.577838e+18</td>\n",
              "      <td>-157.379410</td>\n",
              "      <td>157.314667</td>\n",
              "      <td>-0.025629</td>\n",
              "      <td>112.873527</td>\n",
              "      <td>1055264.0</td>\n",
              "    </tr>\n",
              "  </tbody>\n",
              "</table>\n",
              "</div>"
            ],
            "text/plain": [
              "           time         min         max      mean      stddev      count\n",
              "0  1.577837e+18 -157.314667  157.379410 -0.041722  112.824971   169423.0\n",
              "1  1.577837e+18 -157.314667  157.314667 -0.024379  112.833548  1055265.0\n",
              "2  1.577837e+18 -157.476517  157.444153 -0.027099  112.907396  1139096.0\n",
              "3  1.577837e+18 -157.152817  157.152817 -0.024968  112.830574  1055264.0\n",
              "4  1.577838e+18 -157.379410  157.314667 -0.025629  112.873527  1055264.0"
            ]
          },
          "metadata": {
            "tags": []
          },
          "execution_count": 25
        }
      ]
    },
    {
      "cell_type": "code",
      "metadata": {
        "colab": {
          "base_uri": "https://localhost:8080/",
          "height": 235
        },
        "id": "MHxSNcW9CVOB",
        "outputId": "78976906-8c8f-42d5-c763-5fbb52b580a1"
      },
      "source": [
        "df"
      ],
      "execution_count": 26,
      "outputs": [
        {
          "output_type": "execute_result",
          "data": {
            "text/html": [
              "<div>\n",
              "<style scoped>\n",
              "    .dataframe tbody tr th:only-of-type {\n",
              "        vertical-align: middle;\n",
              "    }\n",
              "\n",
              "    .dataframe tbody tr th {\n",
              "        vertical-align: top;\n",
              "    }\n",
              "\n",
              "    .dataframe thead th {\n",
              "        text-align: right;\n",
              "    }\n",
              "</style>\n",
              "<table border=\"1\" class=\"dataframe\">\n",
              "  <thead>\n",
              "    <tr style=\"text-align: right;\">\n",
              "      <th></th>\n",
              "      <th>Collection</th>\n",
              "      <th>Name</th>\n",
              "      <th>Units</th>\n",
              "      <th>UUID</th>\n",
              "    </tr>\n",
              "  </thead>\n",
              "  <tbody>\n",
              "    <tr>\n",
              "      <th>0</th>\n",
              "      <td>lndunn/PQdata/underground</td>\n",
              "      <td>phB_volt</td>\n",
              "      <td>volts</td>\n",
              "      <td>a63f75e8-38f5-4f2f-8327-8fd8ae94013b</td>\n",
              "    </tr>\n",
              "    <tr>\n",
              "      <th>1</th>\n",
              "      <td>lndunn/PQdata/underground</td>\n",
              "      <td>phB_amp</td>\n",
              "      <td>amps</td>\n",
              "      <td>2e08ba24-61ea-4fa7-bb72-24f005150ac2</td>\n",
              "    </tr>\n",
              "    <tr>\n",
              "      <th>2</th>\n",
              "      <td>lndunn/PQdata/underground</td>\n",
              "      <td>phC_volt</td>\n",
              "      <td>volts</td>\n",
              "      <td>47dfc415-1704-4447-88a4-43e68645ab0f</td>\n",
              "    </tr>\n",
              "    <tr>\n",
              "      <th>3</th>\n",
              "      <td>lndunn/PQdata/underground</td>\n",
              "      <td>phA_amp</td>\n",
              "      <td>amps</td>\n",
              "      <td>9cc032a1-6c32-4c3a-bb37-7c87da13dc4b</td>\n",
              "    </tr>\n",
              "    <tr>\n",
              "      <th>4</th>\n",
              "      <td>lndunn/PQdata/underground</td>\n",
              "      <td>phC_amp</td>\n",
              "      <td>amps</td>\n",
              "      <td>33f91f08-ed6f-49fb-a83e-1dc9889d5b36</td>\n",
              "    </tr>\n",
              "    <tr>\n",
              "      <th>5</th>\n",
              "      <td>lndunn/PQdata/underground</td>\n",
              "      <td>phA_volt</td>\n",
              "      <td>volts</td>\n",
              "      <td>ca93b50c-612c-4d10-b211-fe98f21ea39c</td>\n",
              "    </tr>\n",
              "  </tbody>\n",
              "</table>\n",
              "</div>"
            ],
            "text/plain": [
              "                  Collection  ...                                  UUID\n",
              "0  lndunn/PQdata/underground  ...  a63f75e8-38f5-4f2f-8327-8fd8ae94013b\n",
              "1  lndunn/PQdata/underground  ...  2e08ba24-61ea-4fa7-bb72-24f005150ac2\n",
              "2  lndunn/PQdata/underground  ...  47dfc415-1704-4447-88a4-43e68645ab0f\n",
              "3  lndunn/PQdata/underground  ...  9cc032a1-6c32-4c3a-bb37-7c87da13dc4b\n",
              "4  lndunn/PQdata/underground  ...  33f91f08-ed6f-49fb-a83e-1dc9889d5b36\n",
              "5  lndunn/PQdata/underground  ...  ca93b50c-612c-4d10-b211-fe98f21ea39c\n",
              "\n",
              "[6 rows x 4 columns]"
            ]
          },
          "metadata": {
            "tags": []
          },
          "execution_count": 26
        }
      ]
    },
    {
      "cell_type": "markdown",
      "metadata": {
        "id": "Ldan7aoSlqs-"
      },
      "source": [
        "## Query individual points"
      ]
    },
    {
      "cell_type": "code",
      "metadata": {
        "id": "SCLBaHK1B8_0"
      },
      "source": [
        "dt = ns_delta(seconds=1/60.)\n",
        "_streams = db.streams(*df['UUID'].tolist())\n",
        "data = _streams.filter(start_time, start_time+10*dt).to_dataframe()"
      ],
      "execution_count": 48,
      "outputs": []
    },
    {
      "cell_type": "code",
      "metadata": {
        "colab": {
          "base_uri": "https://localhost:8080/",
          "height": 410
        },
        "id": "j0W6AyPHKQGR",
        "outputId": "65f02bec-6449-49c9-83ab-3646a68abfdf"
      },
      "source": [
        "data.head(n=10)"
      ],
      "execution_count": 49,
      "outputs": [
        {
          "output_type": "execute_result",
          "data": {
            "text/html": [
              "<div>\n",
              "<style scoped>\n",
              "    .dataframe tbody tr th:only-of-type {\n",
              "        vertical-align: middle;\n",
              "    }\n",
              "\n",
              "    .dataframe tbody tr th {\n",
              "        vertical-align: top;\n",
              "    }\n",
              "\n",
              "    .dataframe thead th {\n",
              "        text-align: right;\n",
              "    }\n",
              "</style>\n",
              "<table border=\"1\" class=\"dataframe\">\n",
              "  <thead>\n",
              "    <tr style=\"text-align: right;\">\n",
              "      <th></th>\n",
              "      <th>lndunn/PQdata/underground/phB_volt</th>\n",
              "      <th>lndunn/PQdata/underground/phB_amp</th>\n",
              "      <th>lndunn/PQdata/underground/phC_volt</th>\n",
              "      <th>lndunn/PQdata/underground/phA_amp</th>\n",
              "      <th>lndunn/PQdata/underground/phC_amp</th>\n",
              "      <th>lndunn/PQdata/underground/phA_volt</th>\n",
              "    </tr>\n",
              "    <tr>\n",
              "      <th>time</th>\n",
              "      <th></th>\n",
              "      <th></th>\n",
              "      <th></th>\n",
              "      <th></th>\n",
              "      <th></th>\n",
              "      <th></th>\n",
              "    </tr>\n",
              "  </thead>\n",
              "  <tbody>\n",
              "    <tr>\n",
              "      <th>1577836800000126720</th>\n",
              "      <td>12.106109</td>\n",
              "      <td>-2.190860</td>\n",
              "      <td>130.124481</td>\n",
              "      <td>4.445920</td>\n",
              "      <td>-2.253441</td>\n",
              "      <td>-148.154160</td>\n",
              "    </tr>\n",
              "    <tr>\n",
              "      <th>1577836800000387328</th>\n",
              "      <td>-2.524803</td>\n",
              "      <td>-1.774915</td>\n",
              "      <td>139.155502</td>\n",
              "      <td>4.280297</td>\n",
              "      <td>-2.521027</td>\n",
              "      <td>-140.903442</td>\n",
              "    </tr>\n",
              "    <tr>\n",
              "      <th>1577836800000647680</th>\n",
              "      <td>-16.378853</td>\n",
              "      <td>-1.312574</td>\n",
              "      <td>147.539154</td>\n",
              "      <td>4.035369</td>\n",
              "      <td>-2.752467</td>\n",
              "      <td>-131.678207</td>\n",
              "    </tr>\n",
              "    <tr>\n",
              "      <th>1577836800000908288</th>\n",
              "      <td>-29.585516</td>\n",
              "      <td>-0.812469</td>\n",
              "      <td>153.365616</td>\n",
              "      <td>3.759691</td>\n",
              "      <td>-2.936433</td>\n",
              "      <td>-121.287666</td>\n",
              "    </tr>\n",
              "    <tr>\n",
              "      <th>1577836800001168640</th>\n",
              "      <td>-44.701965</td>\n",
              "      <td>-0.367931</td>\n",
              "      <td>155.760941</td>\n",
              "      <td>3.546054</td>\n",
              "      <td>-3.137662</td>\n",
              "      <td>-109.828949</td>\n",
              "    </tr>\n",
              "    <tr>\n",
              "      <th>1577836800001429248</th>\n",
              "      <td>-60.433434</td>\n",
              "      <td>0.067436</td>\n",
              "      <td>156.861496</td>\n",
              "      <td>3.373418</td>\n",
              "      <td>-3.412261</td>\n",
              "      <td>-96.881233</td>\n",
              "    </tr>\n",
              "    <tr>\n",
              "      <th>1577836800001689600</th>\n",
              "      <td>-75.452774</td>\n",
              "      <td>0.528159</td>\n",
              "      <td>157.508881</td>\n",
              "      <td>3.186755</td>\n",
              "      <td>-3.704663</td>\n",
              "      <td>-82.023743</td>\n",
              "    </tr>\n",
              "    <tr>\n",
              "      <th>1577836800001950208</th>\n",
              "      <td>-89.695259</td>\n",
              "      <td>1.032580</td>\n",
              "      <td>157.832581</td>\n",
              "      <td>2.969881</td>\n",
              "      <td>-3.994908</td>\n",
              "      <td>-66.357010</td>\n",
              "    </tr>\n",
              "    <tr>\n",
              "      <th>1577836800002210560</th>\n",
              "      <td>-102.772446</td>\n",
              "      <td>1.500855</td>\n",
              "      <td>157.088089</td>\n",
              "      <td>2.717940</td>\n",
              "      <td>-4.204769</td>\n",
              "      <td>-50.755020</td>\n",
              "    </tr>\n",
              "    <tr>\n",
              "      <th>1577836800002471168</th>\n",
              "      <td>-114.716705</td>\n",
              "      <td>1.917340</td>\n",
              "      <td>155.307770</td>\n",
              "      <td>2.432011</td>\n",
              "      <td>-4.337482</td>\n",
              "      <td>-35.250137</td>\n",
              "    </tr>\n",
              "  </tbody>\n",
              "</table>\n",
              "</div>"
            ],
            "text/plain": [
              "                     lndunn/PQdata/underground/phB_volt  ...  lndunn/PQdata/underground/phA_volt\n",
              "time                                                     ...                                    \n",
              "1577836800000126720                           12.106109  ...                         -148.154160\n",
              "1577836800000387328                           -2.524803  ...                         -140.903442\n",
              "1577836800000647680                          -16.378853  ...                         -131.678207\n",
              "1577836800000908288                          -29.585516  ...                         -121.287666\n",
              "1577836800001168640                          -44.701965  ...                         -109.828949\n",
              "1577836800001429248                          -60.433434  ...                          -96.881233\n",
              "1577836800001689600                          -75.452774  ...                          -82.023743\n",
              "1577836800001950208                          -89.695259  ...                          -66.357010\n",
              "1577836800002210560                         -102.772446  ...                          -50.755020\n",
              "1577836800002471168                         -114.716705  ...                          -35.250137\n",
              "\n",
              "[10 rows x 6 columns]"
            ]
          },
          "metadata": {
            "tags": []
          },
          "execution_count": 49
        }
      ]
    },
    {
      "cell_type": "code",
      "metadata": {
        "colab": {
          "base_uri": "https://localhost:8080/",
          "height": 235
        },
        "id": "YWjKQmN4FsMk",
        "outputId": "d6885d76-cca0-4331-bc72-f972c9506889"
      },
      "source": [
        "data = data.rename(columns=dict(zip(data.keys(), [k.split('/')[-1] for k in data.keys()])))\n",
        "data.head()"
      ],
      "execution_count": 50,
      "outputs": [
        {
          "output_type": "execute_result",
          "data": {
            "text/html": [
              "<div>\n",
              "<style scoped>\n",
              "    .dataframe tbody tr th:only-of-type {\n",
              "        vertical-align: middle;\n",
              "    }\n",
              "\n",
              "    .dataframe tbody tr th {\n",
              "        vertical-align: top;\n",
              "    }\n",
              "\n",
              "    .dataframe thead th {\n",
              "        text-align: right;\n",
              "    }\n",
              "</style>\n",
              "<table border=\"1\" class=\"dataframe\">\n",
              "  <thead>\n",
              "    <tr style=\"text-align: right;\">\n",
              "      <th></th>\n",
              "      <th>phB_volt</th>\n",
              "      <th>phB_amp</th>\n",
              "      <th>phC_volt</th>\n",
              "      <th>phA_amp</th>\n",
              "      <th>phC_amp</th>\n",
              "      <th>phA_volt</th>\n",
              "    </tr>\n",
              "    <tr>\n",
              "      <th>time</th>\n",
              "      <th></th>\n",
              "      <th></th>\n",
              "      <th></th>\n",
              "      <th></th>\n",
              "      <th></th>\n",
              "      <th></th>\n",
              "    </tr>\n",
              "  </thead>\n",
              "  <tbody>\n",
              "    <tr>\n",
              "      <th>1577836800000126720</th>\n",
              "      <td>12.106109</td>\n",
              "      <td>-2.190860</td>\n",
              "      <td>130.124481</td>\n",
              "      <td>4.445920</td>\n",
              "      <td>-2.253441</td>\n",
              "      <td>-148.154160</td>\n",
              "    </tr>\n",
              "    <tr>\n",
              "      <th>1577836800000387328</th>\n",
              "      <td>-2.524803</td>\n",
              "      <td>-1.774915</td>\n",
              "      <td>139.155502</td>\n",
              "      <td>4.280297</td>\n",
              "      <td>-2.521027</td>\n",
              "      <td>-140.903442</td>\n",
              "    </tr>\n",
              "    <tr>\n",
              "      <th>1577836800000647680</th>\n",
              "      <td>-16.378853</td>\n",
              "      <td>-1.312574</td>\n",
              "      <td>147.539154</td>\n",
              "      <td>4.035369</td>\n",
              "      <td>-2.752467</td>\n",
              "      <td>-131.678207</td>\n",
              "    </tr>\n",
              "    <tr>\n",
              "      <th>1577836800000908288</th>\n",
              "      <td>-29.585516</td>\n",
              "      <td>-0.812469</td>\n",
              "      <td>153.365616</td>\n",
              "      <td>3.759691</td>\n",
              "      <td>-2.936433</td>\n",
              "      <td>-121.287666</td>\n",
              "    </tr>\n",
              "    <tr>\n",
              "      <th>1577836800001168640</th>\n",
              "      <td>-44.701965</td>\n",
              "      <td>-0.367931</td>\n",
              "      <td>155.760941</td>\n",
              "      <td>3.546054</td>\n",
              "      <td>-3.137662</td>\n",
              "      <td>-109.828949</td>\n",
              "    </tr>\n",
              "  </tbody>\n",
              "</table>\n",
              "</div>"
            ],
            "text/plain": [
              "                      phB_volt   phB_amp  ...   phC_amp    phA_volt\n",
              "time                                      ...                      \n",
              "1577836800000126720  12.106109 -2.190860  ... -2.253441 -148.154160\n",
              "1577836800000387328  -2.524803 -1.774915  ... -2.521027 -140.903442\n",
              "1577836800000647680 -16.378853 -1.312574  ... -2.752467 -131.678207\n",
              "1577836800000908288 -29.585516 -0.812469  ... -2.936433 -121.287666\n",
              "1577836800001168640 -44.701965 -0.367931  ... -3.137662 -109.828949\n",
              "\n",
              "[5 rows x 6 columns]"
            ]
          },
          "metadata": {
            "tags": []
          },
          "execution_count": 50
        }
      ]
    },
    {
      "cell_type": "code",
      "metadata": {
        "colab": {
          "base_uri": "https://localhost:8080/",
          "height": 225
        },
        "id": "muCk9chADECN",
        "outputId": "56ef68f9-da18-4c77-f00b-9a01d355c766"
      },
      "source": [
        "data[['phA_volt','phB_volt','phC_volt']].plot(figsize=(10,3))\n",
        "plt.xlabel('Time Stamp (nanoseconds)')\n",
        "plt.ylabel('Voltage (volts)')\n",
        "plt.show()"
      ],
      "execution_count": 77,
      "outputs": [
        {
          "output_type": "display_data",
          "data": {
            "image/png": "[encoded data removed]",
            "text/plain": [
              "<Figure size 720x216 with 1 Axes>"
            ]
          },
          "metadata": {
            "tags": [],
            "needs_background": "light"
          }
        }
      ]
    },
    {
      "cell_type": "code",
      "metadata": {
        "colab": {
          "base_uri": "https://localhost:8080/"
        },
        "id": "8JUEMiNk_cEq",
        "outputId": "d7988b82-149a-4824-b2d3-0a4f74fded5e"
      },
      "source": [
        "def calc_sine(params, t):\n",
        "  freq, phase, magnitude = params\n",
        "  return magnitude * np.sin(2*np.pi*freq * t/1e9 - np.radians(phase))\n",
        "\n",
        "def func(params, t, y):\n",
        "  return calc_sine(params, t) - y\n",
        "\n",
        "t = data.index\n",
        "y = data['phA_volt']\n",
        "\n",
        "p0 = [60, 0, y.max()]\n",
        "\n",
        "result = optimize.least_squares(func, p0, args=(t, y))\n",
        "print(dict(zip(['frequency', 'phase angle', 'magnitude'], result.x)))"
      ],
      "execution_count": 118,
      "outputs": [
        {
          "output_type": "stream",
          "text": [
            "{'frequency': 59.99991630108517, 'phase angle': -8.369891483178954e-05, 'magnitude': 157.57066616213953}\n"
          ],
          "name": "stdout"
        }
      ]
    },
    {
      "cell_type": "code",
      "metadata": {
        "colab": {
          "base_uri": "https://localhost:8080/",
          "height": 224
        },
        "id": "K-nHUoNosc6j",
        "outputId": "f66bae59-db0c-4659-ad3b-3a63efd9da61"
      },
      "source": [
        "y_hat = calc_sine(result.x, t)\n",
        "\n",
        "fig, ax = plt.subplots(figsize=(10,3))\n",
        "ax.plot(t, y, label='True')\n",
        "ax.plot(t, y_hat, label='Approx')\n",
        "plt.legend()\n",
        "plt.show()"
      ],
      "execution_count": 119,
      "outputs": [
        {
          "output_type": "display_data",
          "data": {
            "image/png": "[encoded data removed]",
            "text/plain": [
              "<Figure size 720x216 with 1 Axes>"
            ]
          },
          "metadata": {
            "tags": [],
            "needs_background": "light"
          }
        }
      ]
    },
    {
      "cell_type": "code",
      "metadata": {
        "id": "0GCMyAiYwwto"
      },
      "source": [
        "p0 = {'phA_volt': [60., 0, data['phA_volt'].max()],\n",
        "      'phB_volt': [60., 120, data['phB_volt'].max()], \n",
        "      'phC_volt': [60., -120, data['phC_volt'].max()]}\n",
        "\n",
        "params = {}\n",
        "for phase in ['phA_volt', 'phB_volt', 'phC_volt']:\n",
        "  y = data[phase]\n",
        "  result = optimize.least_squares(func, p0[phase], args=(t, y), xtol=1e-9)\n",
        "  params[phase] = result.x"
      ],
      "execution_count": 120,
      "outputs": []
    },
    {
      "cell_type": "code",
      "metadata": {
        "colab": {
          "base_uri": "https://localhost:8080/"
        },
        "id": "DL-OGbNGxXqT",
        "outputId": "31c032b5-4a39-46be-a94d-1bab5d49d352"
      },
      "source": [
        "params"
      ],
      "execution_count": 121,
      "outputs": [
        {
          "output_type": "execute_result",
          "data": {
            "text/plain": [
              "{'phA_volt': array([ 5.99999163e+01, -8.36989148e-05,  1.57570666e+02]),\n",
              " 'phB_volt': array([ 60.00001931, 120.00001931, 156.98022894]),\n",
              " 'phC_volt': array([  60.00000886, -119.99999114,  157.85239831])}"
            ]
          },
          "metadata": {
            "tags": []
          },
          "execution_count": 121
        }
      ]
    },
    {
      "cell_type": "code",
      "metadata": {
        "id": "NUO0BEOO87o3"
      },
      "source": [
        ""
      ],
      "execution_count": null,
      "outputs": []
    }
  ]
}