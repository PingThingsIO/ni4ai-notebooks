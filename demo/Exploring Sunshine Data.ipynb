{
 "cells": [
  {
   "cell_type": "markdown",
   "metadata": {
    "id": "IKkPVkqZmh-5"
   },
   "source": [
    "This notebook replicates code posted in an NI4AI [blog post](https://blog.ni4ai.org/post/2020-03-30-sunshine-data/) written by Sascha von Meier. The code provides a basic exploration of the \"Sunshine\" data hosted in the NI4AI platform."
   ]
  },
  {
   "cell_type": "code",
   "execution_count": 1,
   "metadata": {
    "id": "r0y6zlpxrZhj"
   },
   "outputs": [],
   "source": [
    "import numpy as np\n",
    "import pandas as pd\n",
    "import matplotlib.pyplot as plt\n",
    "\n",
    "from tabulate import tabulate\n",
    "\n",
    "import btrdb\n",
    "from btrdb.utils.timez import ns_delta, ns_to_datetime, to_nanoseconds"
   ]
  },
  {
   "cell_type": "code",
   "execution_count": 2,
   "metadata": {
    "id": "2IpUHyHZrZhn"
   },
   "outputs": [],
   "source": [
    "YOUR_API_KEY = 'ENTER YOUR API KEY HERE'\n",
    "\n",
    "#Establishing the connecting to the server\n",
    "db = btrdb.connect(\"api.ni4ai.org:4411\", apikey=YOUR_API_KEY)\n"
   ]
  },
  {
   "cell_type": "code",
   "execution_count": 3,
   "metadata": {
    "colab": {
     "base_uri": "https://localhost:8080/"
    },
    "id": "QoSdeVdYrZhv",
    "outputId": "aca992c3-cb53-4c65-f009-912a0c4f6ca7"
   },
   "outputs": [
    {
     "data": {
      "text/plain": [
       "['sunshine/PMU1',\n",
       " 'sunshine/PMU2',\n",
       " 'sunshine/PMU3',\n",
       " 'sunshine/PMU4',\n",
       " 'sunshine/PMU5',\n",
       " 'sunshine/PMU6']"
      ]
     },
     "execution_count": 3,
     "metadata": {},
     "output_type": "execute_result"
    }
   ],
   "source": [
    "#Viewing the collection: Data streams are organized into a hierarchichal tree of collections, so let’s view the collections available for the Sunshine dataset using the list_collections method.\n",
    "db.list_collections(\"sunshine\")\n"
   ]
  },
  {
   "cell_type": "code",
   "execution_count": 4,
   "metadata": {
    "colab": {
     "base_uri": "https://localhost:8080/"
    },
    "id": "9HHP8Yh4rZhz",
    "outputId": "d9346b8e-a392-4003-f599-41fec9d755b4"
   },
   "outputs": [
    {
     "data": {
      "text/plain": [
       "[<Stream collection=sunshine/PMU3 name=C3ANG>,\n",
       " <Stream collection=sunshine/PMU3 name=C2ANG>,\n",
       " <Stream collection=sunshine/PMU3 name=C3MAG>,\n",
       " <Stream collection=sunshine/PMU3 name=L1ANG>,\n",
       " <Stream collection=sunshine/PMU3 name=C2MAG>,\n",
       " <Stream collection=sunshine/PMU3 name=C1ANG>,\n",
       " <Stream collection=sunshine/PMU3 name=L2ANG>,\n",
       " <Stream collection=sunshine/PMU3 name=L1MAG>,\n",
       " <Stream collection=sunshine/PMU3 name=C1MAG>,\n",
       " <Stream collection=sunshine/PMU3 name=L3ANG>,\n",
       " <Stream collection=sunshine/PMU3 name=L2MAG>,\n",
       " <Stream collection=sunshine/PMU3 name=L3MAG>,\n",
       " <Stream collection=sunshine/PMU3 name=LSTATE>]"
      ]
     },
     "execution_count": 4,
     "metadata": {},
     "output_type": "execute_result"
    }
   ],
   "source": [
    "#Choosing streams; we are choosing PMU3 here.\n",
    "streams = db.streams_in_collection('sunshine/PMU3')\n",
    "streams"
   ]
  },
  {
   "cell_type": "code",
   "execution_count": 5,
   "metadata": {
    "colab": {
     "base_uri": "https://localhost:8080/"
    },
    "id": "yFZ8QEPqrZh4",
    "outputId": "1b7efcd1-68bf-46a4-aff4-33bbba7f971b"
   },
   "outputs": [
    {
     "name": "stdout",
     "output_type": "stream",
     "text": [
      "  Index  Collection     Name    Units    UUID\n",
      "-------  -------------  ------  -------  ------------------------------------\n",
      "      0  sunshine/PMU3  C3ANG   deg      b3ca2159-8fa7-4341-801d-d1228af675b7\n",
      "      1  sunshine/PMU3  C2ANG   deg      c71f34d1-3cba-4959-b4b9-032ec078c66d\n",
      "      2  sunshine/PMU3  C3MAG   amps     cd6d2be2-6b7b-4c46-be1e-8432990ef23c\n",
      "      3  sunshine/PMU3  L1ANG   deg      bc73226c-c877-438a-ab37-7a6703cbfbce\n",
      "      4  sunshine/PMU3  C2MAG   amps     47da9f9a-f8d9-4955-9e87-9c17dabde298\n",
      "      5  sunshine/PMU3  C1ANG   deg      bc9d458c-9b54-4ad2-b837-53170a4d7331\n",
      "      6  sunshine/PMU3  L2ANG   deg      f4b400e1-26f4-4ca9-b301-c2fbb7d77e87\n",
      "      7  sunshine/PMU3  L1MAG   volts    0295f80f-6776-4384-b563-4582f7256600\n",
      "      8  sunshine/PMU3  C1MAG   amps     1e641edc-d95a-494f-99f3-cbb991ef05bf\n",
      "      9  sunshine/PMU3  L3ANG   deg      fabd1511-f6f8-4670-b336-7fbfe412e4a2\n",
      "     10  sunshine/PMU3  L2MAG   volts    38d62795-6341-4069-96d3-fe74bffcac67\n",
      "     11  sunshine/PMU3  L3MAG   volts    37539589-88aa-48b7-8cb4-1ea2f32c9e8d\n",
      "     12  sunshine/PMU3  LSTATE  mask     b50e8372-6a6e-405a-a366-832f4c9b98f0\n"
     ]
    }
   ],
   "source": [
    "#Retrieving Stream Data\n",
    "def describe_streams(streams):\n",
    "    table = [[\"Index\", \"Collection\", \"Name\", \"Units\", \"UUID\"]]\n",
    "    for idx, stream in enumerate(streams):\n",
    "        tags = stream.tags()\n",
    "        table.append([\n",
    "            idx, stream.collection, stream.name, tags[\"unit\"], stream.uuid\n",
    "        ])\n",
    "    return tabulate(table, headers=\"firstrow\")\n",
    "\n",
    "print(describe_streams(streams))"
   ]
  },
  {
   "cell_type": "code",
   "execution_count": 6,
   "metadata": {
    "id": "Qv8aqKS_rZiM"
   },
   "outputs": [],
   "source": [
    "#Choose a time window\n",
    "start = to_nanoseconds('2015-08-15 3:42:00')\n",
    "end = to_nanoseconds('2015-08-15 3:47:00')"
   ]
  },
  {
   "cell_type": "code",
   "execution_count": 7,
   "metadata": {
    "colab": {
     "base_uri": "https://localhost:8080/"
    },
    "id": "JbzHq5oprZiO",
    "outputId": "17c1be15-44c1-46d1-ed7c-7a9d20b135cd"
   },
   "outputs": [
    {
     "data": {
      "text/plain": [
       "[(RawPoint(1439610120008333000, 7301.33935546875), 122084),\n",
       " (RawPoint(1439610120016666000, 7301.66796875), 122084)]"
      ]
     },
     "execution_count": 7,
     "metadata": {},
     "output_type": "execute_result"
    }
   ],
   "source": [
    "#Retrieve values from stream 7 (current magnitude for PMU 3)\n",
    "s = streams[7]\n",
    "data = s.values(start, end)\n",
    "data[:2]"
   ]
  },
  {
   "cell_type": "markdown",
   "metadata": {
    "id": "u1xshV30koRQ"
   },
   "source": [
    "Values are returned as a list of tuples reporting RawPoint values and the associated version. Each RawPoint object includes a time stamp (in nanoseconds) and a measurement value.\n",
    "\n",
    "(RawPoint(time_stamp, value), version)"
   ]
  },
  {
   "cell_type": "code",
   "execution_count": 8,
   "metadata": {
    "id": "L2vxrYjLrZiU"
   },
   "outputs": [],
   "source": [
    "# Retrieve only the RawPoint objects (without the version)\n",
    "points, _ = zip(*data)\n",
    "\n",
    "# Unpack raw points into time stamps and values\n",
    "times, values = zip(*points)\n",
    "\n",
    "# Convert time stamps (in nanoseconds) to datetime objects\n",
    "dtimes = [ns_to_datetime(t) for t in times]\n",
    "\n",
    "# Convert to a Series, using the time stamp as an index\n",
    "series = pd.Series(values, index=times)"
   ]
  },
  {
   "cell_type": "code",
   "execution_count": 9,
   "metadata": {
    "colab": {
     "base_uri": "https://localhost:8080/",
     "height": 279
    },
    "id": "5SoAzyRqrZiX",
    "outputId": "747695a2-4215-445c-cbd3-8e1d498591f1"
   },
   "outputs": [
    {
     "data": {
      "image/png": "[encoded data removed]",
      "text/plain": [
       "<Figure size 432x288 with 1 Axes>"
      ]
     },
     "metadata": {
      "needs_background": "light"
     },
     "output_type": "display_data"
    }
   ],
   "source": [
    "# Graph time series measurements\n",
    "series.plot()\n",
    "plt.xlabel('Time Stamp')\n",
    "plt.ylabel('Phase 1 Current Magnitude')\n",
    "plt.show()"
   ]
  },
  {
   "cell_type": "code",
   "execution_count": null,
   "metadata": {
    "id": "qS0x18lVrZia"
   },
   "outputs": [],
   "source": []
  }
 ],
 "metadata": {
  "colab": {
   "collapsed_sections": [],
   "name": "Exploring Sunshine Data.ipynb",
   "provenance": []
  },
  "kernelspec": {
   "display_name": "Python 3",
   "language": "python",
   "name": "python3"
  },
  "language_info": {
   "codemirror_mode": {
    "name": "ipython",
    "version": 3
   },
   "file_extension": ".py",
   "mimetype": "text/x-python",
   "name": "python",
   "nbconvert_exporter": "python",
   "pygments_lexer": "ipython3",
   "version": "3.7.7"
  }
 },
 "nbformat": 4,
 "nbformat_minor": 1
}
