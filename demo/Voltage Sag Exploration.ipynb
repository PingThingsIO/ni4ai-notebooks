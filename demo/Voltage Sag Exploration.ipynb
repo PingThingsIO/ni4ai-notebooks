{
 "cells": [
  {
   "cell_type": "code",
   "execution_count": 1,
   "metadata": {},
   "outputs": [],
   "source": [
    "import btrdb\n",
    "import numpy as np\n",
    "import pandas as pd\n",
    "import time\n",
    "\n",
    "from tabulate import tabulate\n",
    "from btrdb.utils.timez import ns_delta\n",
    "from btrdb.utils.timez import ns_delta, to_nanoseconds\n",
    "from btrdb.utils.timez import ns_to_datetime\n",
    "from btrdb.utils.general import pointwidth\n",
    "\n",
    "# Plotting\n",
    "import matplotlib.pyplot as plt\n",
    "#plt.style.use('Solarize_Light2')\n",
    "plt.style.use('fivethirtyeight')\n",
    "%matplotlib inline"
   ]
  },
  {
   "cell_type": "code",
   "execution_count": 2,
   "metadata": {},
   "outputs": [
    {
     "data": {
      "text/plain": [
       "{'majorVersion': 5, 'build': '5.11.37', 'proxy': {'proxyEndpoints': []}}"
      ]
     },
     "execution_count": 2,
     "metadata": {},
     "output_type": "execute_result"
    }
   ],
   "source": [
    "# Insert your API key here!\n",
    "APIKEY='YOUR API KEY HERE'\n",
    "\n",
    "db = btrdb.connect(\"api.ni4ai.org:4411\", apikey=APIKEY)\n",
    "db.info()"
   ]
  },
  {
   "cell_type": "code",
   "execution_count": 3,
   "metadata": {},
   "outputs": [],
   "source": [
    "# Get voltage streams\n",
    "uuids = db.query(\"SELECT collection, name FROM streams WHERE collection like 'sunshine/%' and unit='volts'\")\n",
    "names = [row[\"collection\"]+\"/\"+row[\"name\"] for row in uuids]\n",
    "\n",
    "streams = db.streams(*names)"
   ]
  },
  {
   "cell_type": "code",
   "execution_count": 4,
   "metadata": {},
   "outputs": [
    {
     "name": "stdout",
     "output_type": "stream",
     "text": [
      "UUID                                  Collection     Name    Unit\n",
      "------------------------------------  -------------  ------  ------\n",
      "d60fc469-a6da-4c98-8763-fd833293d955  sunshine/PMU6  L2MAG   volts\n",
      "4833b5e0-ef30-40ed-8db8-352e79d38c28  sunshine/PMU6  L3MAG   volts\n",
      "6ef43c96-9429-48db-9d37-bffd981b4a24  sunshine/PMU2  L2MAG   volts\n",
      "d3e9ed52-6db9-4b98-bfda-e1b509148e47  sunshine/PMU6  L1MAG   volts\n",
      "e290a69d-1e52-4411-bccd-da7c3f39531c  sunshine/PMU2  L1MAG   volts\n",
      "b4920286-9aaa-4ca0-82ac-937e3ff7d8e8  sunshine/PMU2  L3MAG   volts\n",
      "0295f80f-6776-4384-b563-4582f7256600  sunshine/PMU3  L1MAG   volts\n",
      "38d62795-6341-4069-96d3-fe74bffcac67  sunshine/PMU3  L2MAG   volts\n",
      "37539589-88aa-48b7-8cb4-1ea2f32c9e8d  sunshine/PMU3  L3MAG   volts\n",
      "08060a62-04c0-4597-8d2f-7df58e461ba2  sunshine/PMU4  L1MAG   volts\n",
      "5031918c-346f-4488-9755-b3917153e607  sunshine/PMU4  L3MAG   volts\n",
      "08aac678-a2f5-4a9c-9c18-c569cd414368  sunshine/PMU4  L2MAG   volts\n",
      "b2936212-253e-488a-87f6-a9927042031f  sunshine/PMU1  L3MAG   volts\n",
      "35bdb8dc-bf18-4523-85ca-8ebe384bd9b5  sunshine/PMU1  L1MAG   volts\n",
      "d4cfa9a6-e11a-4370-9eda-16e80773ce8c  sunshine/PMU1  L2MAG   volts\n",
      "b4de2e84-7816-4dc7-9702-f1c210586e1c  sunshine/PMU5  L2MAG   volts\n",
      "edb36769-f56f-47c5-bbda-a177c424cc4f  sunshine/PMU5  L1MAG   volts\n",
      "a60aa7aa-9ad1-425b-bb2e-74b42a2cd3e0  sunshine/PMU5  L3MAG   volts\n"
     ]
    }
   ],
   "source": [
    "# Print table of streams\n",
    "table = [[\"UUID\", \"Collection\", \"Name\", \"Unit\"]]\n",
    "for stream in streams:\n",
    "    table.append([stream.uuid, stream.collection, stream.tags()[\"name\"], stream.tags()[\"unit\"]])\n",
    "print(tabulate(table, headers=\"firstrow\", tablefmt=\"simple\"))"
   ]
  },
  {
   "cell_type": "markdown",
   "metadata": {},
   "source": [
    "## What are voltage sags?\n",
    "A brief dip in voltage level is classified as a voltage sag when it exceeds 0.9 pu and lasts from 0.5 cycles to 0.5 seconds. Voltage sags smaller than this amount would generally go unnoticed or be neglected, but the power of BTrDB allows us to study even smaller dips. In the following, we find voltage sags across several days of measurements from the sunshine dataset. \n",
    "\n",
    "### Finding voltage sags\n",
    "To find the voltage sags, we first write a depth-first-search function to find the timestamps below our voltage sag threshold. "
   ]
  },
  {
   "cell_type": "code",
   "execution_count": 5,
   "metadata": {},
   "outputs": [],
   "source": [
    "from btrdb.utils.general import pointwidth\n",
    "from btrdb.utils.timez import ns_to_datetime\n",
    "\n",
    "def find_vsags_dfs(\n",
    "    stream,\n",
    "    tau,\n",
    "    start=btrdb.MINIMUM_TIME,\n",
    "    end=btrdb.MAXIMUM_TIME,\n",
    "    pw=48,\n",
    "    version=0\n",
    "):\n",
    "    # Ensure pw is a pointwidth object\n",
    "    pw = pointwidth(pw)\n",
    "\n",
    "    # Begin by collecting all stat points at the specified pointwidth\n",
    "    # Note that zip creates a list of windows and versions and we ignore the versions\n",
    "    windows, _ = zip(*stream.aligned_windows(start, end, pw, version))\n",
    "\n",
    "    # Traversing from left to right from the windows\n",
    "    for window in windows:\n",
    "        # Check to see if the value is in the window\n",
    "        if window.min <= tau:\n",
    "            # Get the time range of the current window\n",
    "            wstart = window.time\n",
    "            wend = window.time + pw.nanoseconds\n",
    "\n",
    "            if pw <= 30:\n",
    "                # If we are at a window length of a second, use values\n",
    "                points, _ = zip(*stream.values(wstart, wend, version))\n",
    "            else:\n",
    "                # Otherwise, traverse the stat point children of this node\n",
    "                points = find_vsags_dfs(stream, tau, wstart, wend, pw-1, version)\n",
    "\n",
    "            # Yield all points to the calling function\n",
    "            for point in points:\n",
    "                if point.value <= tau:\n",
    "                    yield point\n",
    "\n",
    "                    \n",
    "###########################################################################\n",
    "# Utility functions\n",
    "\n",
    "# Converts pointwidths to seconds\n",
    "def seconds2pointwidth(seconds):\n",
    "    return np.log(1e9*seconds) / np.log(2); \n",
    "\n",
    "# Returns the mean value of a stream. Useful for automatically getting the \n",
    "# nominal voltage\n",
    "def get_mean_value(stream, version=0):\n",
    "    # Get all of the stat points at the highest level of the tree as possible\n",
    "    windows = stream.aligned_windows(\n",
    "        start=btrdb.MINIMUM_TIME, end=btrdb.MAXIMUM_TIME, pointwidth=60, version=version\n",
    "    )\n",
    "\n",
    "    # Unless you have decades of data, this will likely only be one stat point\n",
    "    values = [window.mean for window, _ in windows]\n",
    "    return np.mean(values)\n",
    "\n",
    "# Gets window of data around point\n",
    "def get_event(stream, time, window = 0.5, version=0):\n",
    "    window = 1e9 * window; \n",
    "    points, _ = zip(*stream.values(time-window, time+window, version)); \n",
    "    T = len(points); \n",
    "    values = np.zeros(T);\n",
    "    \n",
    "    for i in range(T):\n",
    "        values[i] = points[i][1]\n",
    "    \n",
    "    return values\n",
    "\n",
    "def freq_vs_size(size_min, size_max):\n",
    "    x = np.arange(size_min, size_max, 0.001); \n",
    "    y = x / (1-x); \n",
    "    area = integral(size_max) - integral(size_min);\n",
    "    return x, y / area; \n",
    "    \n",
    "def integral(x):\n",
    "    return -x-np.log(1-x);"
   ]
  },
  {
   "cell_type": "code",
   "execution_count": 6,
   "metadata": {},
   "outputs": [],
   "source": [
    "start = \"2015-10-31T00:00:00.000Z\"\n",
    "end = \"2015-11-05T00:00:00.000Z\"\n",
    "# Sunshine PMU 1\n",
    "stream = streams[\"35bdb8dc-bf18-4523-85ca-8ebe384bd9b5\"];\n",
    "vnom = get_mean_value(stream); \n",
    "thresh = 0.9 * vnom; \n",
    "\n",
    "sags = find_vsags_dfs(stream, thresh, start=start, end=end); "
   ]
  },
  {
   "cell_type": "markdown",
   "metadata": {},
   "source": [
    "Visualize a voltage sags from PMU 1 of the sunshine dataset. "
   ]
  },
  {
   "cell_type": "code",
   "execution_count": 7,
   "metadata": {},
   "outputs": [
    {
     "data": {
      "image/png": "[encoded data removed]",
      "text/plain": [
       "<Figure size 432x288 with 1 Axes>"
      ]
     },
     "metadata": {
      "needs_background": "light"
     },
     "output_type": "display_data"
    }
   ],
   "source": [
    "sag_point = next(sags);\n",
    "sag_data = get_event(stream, sag_point[0]);\n",
    "plt.figure(); plt.plot(sag_data / vnom); plt.title('Sample Voltage Sag');\n",
    "plt.xlabel('Time Index'); plt.ylabel('Magnitude (p.u.)');\n",
    "\n",
    "\n",
    "#plt.tight_layout();\n",
    "#plt.savefig('example_sag', dpi=100);"
   ]
  },
  {
   "cell_type": "markdown",
   "metadata": {},
   "source": [
    "Now that we have a function that finds voltage sags, we can write functions to analyze aspects of the sags, such as their size and duration. "
   ]
  },
  {
   "cell_type": "code",
   "execution_count": 8,
   "metadata": {},
   "outputs": [],
   "source": [
    "def sag_survey(sags, verbose=False, limit=100):\n",
    "    # Initialize sag information\n",
    "    starts = [];\n",
    "    durations = [];\n",
    "    magnitudes = []; \n",
    "    \n",
    "    # Get the first sag\n",
    "    sag = safe_next(sags);\n",
    "    if sag==None: \n",
    "        print(\"No voltage sags found.\")\n",
    "    else:\n",
    "        if verbose: print(\"Voltage sag found!\")\n",
    "        start, mag = sag;\n",
    "        dur = 0; \n",
    "    \n",
    "    count = 0; \n",
    "    while sag:\n",
    "        sag = safe_next(sags);\n",
    "        \n",
    "        # If we are on the last sag\n",
    "        if (sag == None) or (count > limit):\n",
    "            starts.append(start);\n",
    "            durations.append(dur);\n",
    "            magnitudes.append(mag);\n",
    "            sag = None; \n",
    "        else:\n",
    "            sag_time, sag_value = sag;\n",
    "            # Check if this is a different sag\n",
    "            # More than 1 s after last sag point\n",
    "            if sag_time - (start + dur) > 1e9:\n",
    "                if verbose: print(\"Voltage sag found!\", count)\n",
    "                # Save last sag\n",
    "                starts.append(start);\n",
    "                durations.append(dur);\n",
    "                magnitudes.append(mag);\n",
    "                # Increment sag count\n",
    "                count += 1; \n",
    "                # Initialize next sag\n",
    "                start = sag_time; \n",
    "                mag = sag_value;\n",
    "                dur = 0; \n",
    "            # Otherwise update properties of this sag\n",
    "            else:\n",
    "                dur = sag_time - start; \n",
    "                mag = min(mag, sag_value)\n",
    "                \n",
    "    return np.array(starts), np.array(durations), np.array(magnitudes)\n",
    "\n",
    "# A convenience for iterating through a generator\n",
    "def safe_next(iterable):\n",
    "    try:\n",
    "        first = next(iterable)\n",
    "    except StopIteration:\n",
    "        return None\n",
    "    return first"
   ]
  },
  {
   "cell_type": "markdown",
   "metadata": {},
   "source": [
    "### Find voltage sags over one month of data\n",
    "We look at voltage sags from November 20, 2016 to December 20, 2016. "
   ]
  },
  {
   "cell_type": "code",
   "execution_count": 9,
   "metadata": {},
   "outputs": [
    {
     "name": "stdout",
     "output_type": "stream",
     "text": [
      "[6769.92675781 6753.34423828 6851.39550781 6591.23486328]\n",
      "Time:  6.672967195510864\n"
     ]
    }
   ],
   "source": [
    "# Choose the stream\n",
    "# PMU 1 from sunshine dataset\n",
    "stream = streams[\"35bdb8dc-bf18-4523-85ca-8ebe384bd9b5\"];\n",
    "# Get nominal voltage of stream\n",
    "vnom = get_mean_value(stream); \n",
    "\n",
    "# Start and end times of period to study\n",
    "start = \"2016-11-20T00:00:00.000Z\"\n",
    "end = \"2016-12-20T00:00:00.000Z\"\n",
    "\n",
    "# Threshold below which data is considered a voltage sag\n",
    "thresh = 0.98 * vnom; \n",
    "\n",
    "# For timing - start\n",
    "go = time.time(); \n",
    "\n",
    "# Find voltage sag data points\n",
    "sags = find_vsags_dfs(stream, thresh, start=start, end=end); \n",
    "# Get features of voltage sags\n",
    "starts, durs, mags = sag_survey(sags, verbose=False);\n",
    "\n",
    "# For timing - end\n",
    "stop = time.time(); \n",
    "\n",
    "# Print magnitudes of sags\n",
    "print(mags)\n",
    "print('Time: ', stop-go)"
   ]
  },
  {
   "cell_type": "code",
   "execution_count": 10,
   "metadata": {},
   "outputs": [
    {
     "data": {
      "image/png": "[encoded data removed]",
      "text/plain": [
       "<Figure size 432x288 with 1 Axes>"
      ]
     },
     "metadata": {
      "needs_background": "light"
     },
     "output_type": "display_data"
    }
   ],
   "source": [
    "plt.scatter(durs / 1e9, mags / vnom);\n",
    "plt.title('Size vs. Duration of Voltage Sags');\n",
    "plt.xlabel('Durations (s.)'); plt.ylabel('Magnitude (p.u.)');\n",
    "\n",
    "plt.tight_layout();\n",
    "plt.savefig('size_vs_durs', dpi=100);"
   ]
  },
  {
   "cell_type": "markdown",
   "metadata": {},
   "source": [
    "### Find voltage sags over 3 months of data.\n",
    "We look at voltage sags from November 19, 2016 to February 4, 2017. "
   ]
  },
  {
   "cell_type": "code",
   "execution_count": 11,
   "metadata": {},
   "outputs": [],
   "source": [
    "# Choose the stream\n",
    "# PMU 1 from sunshine dataset\n",
    "stream = streams[\"35bdb8dc-bf18-4523-85ca-8ebe384bd9b5\"];\n",
    "# Get nominal voltage of stream\n",
    "vnom = get_mean_value(stream); \n",
    "\n",
    "# Start and end times of period to study\n",
    "start = \"2016-11-19T00:00:00.000Z\"\n",
    "end = \"2017-02-04T00:00:00.000Z\"\n",
    "\n",
    "# Threshold below which data is considered a voltage sag\n",
    "thresh = 0.99 * vnom; \n",
    "\n",
    "# Find voltage sag data points\n",
    "sags = find_vsags_dfs(stream, thresh, start=start, end=end); \n",
    "# Get features of voltage sags\n",
    "starts, durs, mags = sag_survey(sags, verbose=False);"
   ]
  },
  {
   "cell_type": "markdown",
   "metadata": {},
   "source": [
    "### Sag Features\n",
    "Now we can explore patterns and features of the voltage sags found across several months of data. "
   ]
  },
  {
   "cell_type": "code",
   "execution_count": 12,
   "metadata": {},
   "outputs": [
    {
     "data": {
      "image/png": "[encoded data removed]",
      "text/plain": [
       "<Figure size 432x288 with 1 Axes>"
      ]
     },
     "metadata": {
      "needs_background": "light"
     },
     "output_type": "display_data"
    }
   ],
   "source": [
    "plt.scatter(durs / 1e9, mags / vnom);\n",
    "plt.title('Size vs. Duration of Voltage Sags');\n",
    "plt.xlabel('Durations (s.)'); plt.ylabel('Magnitude (p.u.)');\n",
    "\n",
    "plt.tight_layout();\n",
    "plt.savefig('size_vs_durs', dpi=100);"
   ]
  },
  {
   "cell_type": "code",
   "execution_count": 13,
   "metadata": {},
   "outputs": [
    {
     "data": {
      "image/png": "[encoded data removed]",
      "text/plain": [
       "<Figure size 432x288 with 1 Axes>"
      ]
     },
     "metadata": {
      "needs_background": "light"
     },
     "output_type": "display_data"
    }
   ],
   "source": [
    "# Plot a histogram of the normalized magnitude\n",
    "# of the voltage sags\n",
    "pmags = mags / vnom; \n",
    "plt.hist(pmags, density=True);\n",
    "\n",
    "# A result in the literature says that the frequency of\n",
    "# a voltage sag with minimum value V will be V / (1-V)\n",
    "# Plot this fit\n",
    "x, y = freq_vs_size(0.8, 0.99);\n",
    "plt.plot(x, y, label = r'$\\frac{V}{1-V}$');\n",
    "\n",
    "# Add keys\n",
    "plt.legend(fontsize=20); \n",
    "plt.title('Frequency vs Magnitude of Voltage Sags'); \n",
    "plt.xlabel('Magnitude'); plt.ylabel('Normalized Frequency');\n",
    "\n",
    "plt.tight_layout();\n",
    "plt.savefig('freq_vs_voltage', dpi=100);"
   ]
  },
  {
   "cell_type": "markdown",
   "metadata": {},
   "source": [
    "### Compare voltage sag occurrences at multiple locations. "
   ]
  },
  {
   "cell_type": "code",
   "execution_count": 14,
   "metadata": {
    "scrolled": true
   },
   "outputs": [
    {
     "name": "stdout",
     "output_type": "stream",
     "text": [
      "Searching in stream 1...\n",
      "Voltage sag found!\n",
      "Voltage sag found! 0\n",
      "Voltage sag found! 1\n",
      "Voltage sag found! 2\n",
      "Voltage sag found! 3\n",
      "Voltage sag found! 4\n",
      "Voltage sag found! 5\n",
      "Voltage sag found! 6\n",
      "Voltage sag found! 7\n",
      "Voltage sag found! 8\n",
      "Voltage sag found! 9\n",
      "Searching in stream 2...\n",
      "Voltage sag found!\n",
      "Voltage sag found! 0\n",
      "Voltage sag found! 1\n",
      "Voltage sag found! 2\n",
      "Voltage sag found! 3\n",
      "Voltage sag found! 4\n",
      "Voltage sag found! 5\n",
      "Voltage sag found! 6\n",
      "Voltage sag found! 7\n",
      "Voltage sag found! 8\n",
      "Voltage sag found! 9\n",
      "Voltage sag found! 10\n",
      "Voltage sag found! 11\n",
      "Voltage sag found! 12\n",
      "Voltage sag found! 13\n",
      "Voltage sag found! 14\n",
      "Voltage sag found! 15\n",
      "Voltage sag found! 16\n",
      "Voltage sag found! 17\n",
      "Voltage sag found! 18\n",
      "Voltage sag found! 19\n",
      "Voltage sag found! 20\n",
      "Voltage sag found! 21\n",
      "Voltage sag found! 22\n",
      "Voltage sag found! 23\n",
      "Voltage sag found! 24\n",
      "Voltage sag found! 25\n",
      "Voltage sag found! 26\n",
      "Searching in stream 3...\n",
      "Voltage sag found!\n",
      "Voltage sag found! 0\n",
      "Voltage sag found! 1\n",
      "Voltage sag found! 2\n",
      "Voltage sag found! 3\n",
      "Voltage sag found! 4\n",
      "Voltage sag found! 5\n",
      "Voltage sag found! 6\n",
      "Voltage sag found! 7\n",
      "Voltage sag found! 8\n",
      "Voltage sag found! 9\n",
      "Voltage sag found! 10\n",
      "Voltage sag found! 11\n",
      "Voltage sag found! 12\n",
      "Voltage sag found! 13\n",
      "Searching in stream 4...\n",
      "Voltage sag found!\n",
      "Voltage sag found! 0\n",
      "Voltage sag found! 1\n",
      "Voltage sag found! 2\n",
      "Voltage sag found! 3\n",
      "Voltage sag found! 4\n",
      "Voltage sag found! 5\n",
      "Voltage sag found! 6\n",
      "Voltage sag found! 7\n",
      "Voltage sag found! 8\n",
      "Voltage sag found! 9\n",
      "Voltage sag found! 10\n",
      "Voltage sag found! 11\n",
      "Voltage sag found! 12\n",
      "Voltage sag found! 13\n",
      "Voltage sag found! 14\n",
      "Voltage sag found! 15\n",
      "Voltage sag found! 16\n",
      "Voltage sag found! 17\n",
      "Voltage sag found! 18\n",
      "Voltage sag found! 19\n",
      "Voltage sag found! 20\n",
      "Voltage sag found! 21\n",
      "Voltage sag found! 22\n"
     ]
    }
   ],
   "source": [
    "# Choose the stream\n",
    "# PMU 1 from sunshine dataset (PV site)\n",
    "stream1 = streams[\"35bdb8dc-bf18-4523-85ca-8ebe384bd9b5\"];\n",
    "# PMU 3 from sunshine dataset (substation above PV site)\n",
    "stream2 = streams[\"0295f80f-6776-4384-b563-4582f7256600\"]\n",
    "# PMU 4 from sunshine dataset (substation)\n",
    "stream3 = streams[\"08060a62-04c0-4597-8d2f-7df58e461ba2\"];\n",
    "# PMU 5 from sunshine dataset (substation)\n",
    "stream4 = streams[\"edb36769-f56f-47c5-bbda-a177c424cc4f\"];\n",
    "\n",
    "# Get nominal voltage of stream\n",
    "vnom1 = get_mean_value(stream1); \n",
    "vnom2 = get_mean_value(stream2);\n",
    "vnom3 = get_mean_value(stream3);\n",
    "vnom4 = get_mean_value(stream4);\n",
    "\n",
    "# Start and end times of period to study\n",
    "start = \"2016-03-01T00:00:00.000Z\"\n",
    "end = \"2016-06-01T00:00:00.000Z\"\n",
    "\n",
    "# Threshold below which data is considered a voltage sag\n",
    "level = 0.97\n",
    "thresh1 = level * vnom1; \n",
    "thresh2 = level * vnom2; \n",
    "thresh3 = level * vnom3; \n",
    "thresh4 = level * vnom4;\n",
    "\n",
    "# Find voltage sag data points\n",
    "sags1 = find_vsags_dfs(stream1, thresh1, start=start, end=end);\n",
    "sags2 = find_vsags_dfs(stream2, thresh2, start=start, end=end); \n",
    "sags3 = find_vsags_dfs(stream3, thresh3, start=start, end=end);\n",
    "sags4 = find_vsags_dfs(stream4, thresh4, start=start, end=end);\n",
    "\n",
    "# Get features of voltage sags\n",
    "print(\"Searching in stream 1...\")\n",
    "starts1, durations1, magnitudes1 = sag_survey(sags1, verbose=True);\n",
    "print(\"Searching in stream 2...\")\n",
    "starts2, durations2, magnitudes2 = sag_survey(sags2, verbose=True);\n",
    "print(\"Searching in stream 3...\")\n",
    "starts3, durations3, magnitudes3 = sag_survey(sags3, verbose=True);\n",
    "print(\"Searching in stream 4...\")\n",
    "starts4, durations4, magnitudes4 = sag_survey(sags4, verbose=True);"
   ]
  },
  {
   "cell_type": "code",
   "execution_count": 15,
   "metadata": {},
   "outputs": [
    {
     "data": {
      "image/png": "[encoded data removed]",
      "text/plain": [
       "<Figure size 720x504 with 1 Axes>"
      ]
     },
     "metadata": {
      "needs_background": "light"
     },
     "output_type": "display_data"
    }
   ],
   "source": [
    "plt.figure(figsize=(10, 7))\n",
    "plt.scatter(durations1 / 1e9, magnitudes1 / vnom1, c='r', label='PMU 1 (PV)');\n",
    "plt.scatter(durations2 / 1e9, magnitudes2 / vnom2, c='g', label='PMU 3');\n",
    "plt.scatter(durations3 / 1e9, magnitudes3 / vnom3, c='b', label='PMU 4');\n",
    "plt.scatter(durations4 / 1e9, magnitudes4 / vnom4, c='orange', label='PMU 5');\n",
    "plt.legend(fontsize=14); \n",
    "\n",
    "# Plot average durations and magnitude for each PMU\n",
    "plt.scatter(np.mean(durations1 / 1e9), np.mean(magnitudes1 / vnom1), c='r', s=300, marker='*');\n",
    "plt.scatter(np.mean(durations2 / 1e9), np.mean(magnitudes2 / vnom2), c='g', s=300, marker='*');\n",
    "plt.scatter(np.mean(durations3 / 1e9), np.mean(magnitudes3 / vnom3), c='b', s=300, marker='*');\n",
    "plt.scatter(np.mean(durations4 / 1e9), np.mean(magnitudes4 / vnom4), c='orange', s=300, marker='*');\n",
    "\n",
    "plt.xlabel(\"Duration (s)\", fontsize=15); \n",
    "plt.ylabel(\"Magnitude (p.u.)\", fontsize=15);\n",
    "plt.title(\"Voltage Sag Comparison Across PMUs\", fontsize=15);\n",
    "\n",
    "plt.tight_layout();\n",
    "plt.savefig('sag_comparison', dpi=100);"
   ]
  },
  {
   "cell_type": "code",
   "execution_count": 16,
   "metadata": {},
   "outputs": [
    {
     "data": {
      "image/png": "[encoded data removed]",
      "text/plain": [
       "<Figure size 1080x720 with 4 Axes>"
      ]
     },
     "metadata": {
      "needs_background": "light"
     },
     "output_type": "display_data"
    }
   ],
   "source": [
    "# Histogram comparing size of sags. \n",
    "fig = plt.figure(figsize=(15, 10)); \n",
    "\n",
    "plt.subplot(2, 2, 1)\n",
    "plt.hist(magnitudes2 / vnom2, density=True);\n",
    "min_mag = np.min(magnitudes2 / vnom ) - 0.1; \n",
    "x, y = freq_vs_size(min_mag, 0.99);\n",
    "plt.plot(x, y)\n",
    "plt.title('PMU 3')\n",
    "plt.ylabel('Normalized Frequency')\n",
    "\n",
    "plt.subplot(2, 2, 2)\n",
    "plt.hist(magnitudes3 / vnom3, density=True);\n",
    "min_mag = np.min(magnitudes3 / vnom ) - 0.1; \n",
    "x, y = freq_vs_size(min_mag, 0.99);\n",
    "plt.plot(x, y)\n",
    "plt.title('PMU 4')\n",
    "\n",
    "plt.subplot(2, 2, 3)\n",
    "plt.hist(magnitudes4 / vnom4, density=True);\n",
    "min_mag = np.min(magnitudes4 / vnom ) - 0.1; \n",
    "x, y = freq_vs_size(min_mag, 0.99);\n",
    "plt.plot(x, y)\n",
    "plt.title('PMU 5')\n",
    "plt.xlabel('Magnitude (p.u.)')\n",
    "plt.ylabel('Normalized Frequency')\n",
    "\n",
    "plt.subplot(2, 2, 4)\n",
    "plt.hist(magnitudes1 / vnom1, density=True);\n",
    "min_mag = np.min(magnitudes1 / vnom ) - 0.1; \n",
    "x, y = freq_vs_size(min_mag, 0.99);\n",
    "plt.plot(x, y)\n",
    "plt.title('PMU 1')\n",
    "plt.xlabel('Magnitude (p.u.)');"
   ]
  },
  {
   "cell_type": "markdown",
   "metadata": {},
   "source": [
    "### Weekly patterns in voltage sags. "
   ]
  },
  {
   "cell_type": "code",
   "execution_count": 17,
   "metadata": {
    "scrolled": true
   },
   "outputs": [
    {
     "name": "stdout",
     "output_type": "stream",
     "text": [
      "Searching in stream 1...\n",
      "Voltage sag found!\n",
      "Voltage sag found! 0\n",
      "Voltage sag found! 1\n",
      "Voltage sag found! 2\n",
      "Voltage sag found! 3\n",
      "Voltage sag found! 4\n",
      "Voltage sag found! 5\n",
      "Voltage sag found! 6\n",
      "Voltage sag found! 7\n",
      "Voltage sag found! 8\n",
      "Voltage sag found! 9\n",
      "Voltage sag found! 10\n",
      "Voltage sag found! 11\n",
      "Voltage sag found! 12\n",
      "Voltage sag found! 13\n",
      "Voltage sag found! 14\n",
      "Voltage sag found! 15\n",
      "Voltage sag found! 16\n",
      "Voltage sag found! 17\n",
      "Voltage sag found! 18\n",
      "Voltage sag found! 19\n",
      "Voltage sag found! 20\n",
      "Voltage sag found! 21\n",
      "Voltage sag found! 22\n",
      "Voltage sag found! 23\n",
      "Voltage sag found! 24\n",
      "Voltage sag found! 25\n",
      "Voltage sag found! 26\n",
      "Voltage sag found! 27\n",
      "Voltage sag found! 28\n",
      "Voltage sag found! 29\n",
      "Voltage sag found! 30\n",
      "Voltage sag found! 31\n",
      "Voltage sag found! 32\n",
      "Voltage sag found! 33\n",
      "Voltage sag found! 34\n",
      "Voltage sag found! 35\n",
      "Voltage sag found! 36\n",
      "Voltage sag found! 37\n",
      "Voltage sag found! 38\n",
      "Voltage sag found! 39\n",
      "Voltage sag found! 40\n",
      "Voltage sag found! 41\n",
      "Voltage sag found! 42\n",
      "Voltage sag found! 43\n",
      "Voltage sag found! 44\n",
      "Voltage sag found! 45\n",
      "Voltage sag found! 46\n",
      "Voltage sag found! 47\n",
      "Voltage sag found! 48\n",
      "Voltage sag found! 49\n",
      "Voltage sag found! 50\n",
      "Voltage sag found! 51\n",
      "Voltage sag found! 52\n",
      "Voltage sag found! 53\n",
      "Voltage sag found! 54\n",
      "Voltage sag found! 55\n",
      "Voltage sag found! 56\n",
      "Voltage sag found! 57\n",
      "Voltage sag found! 58\n",
      "Voltage sag found! 59\n",
      "Voltage sag found! 60\n",
      "Voltage sag found! 61\n",
      "Voltage sag found! 62\n",
      "Voltage sag found! 63\n",
      "Voltage sag found! 64\n",
      "Voltage sag found! 65\n",
      "Voltage sag found! 66\n",
      "Voltage sag found! 67\n",
      "Voltage sag found! 68\n",
      "Voltage sag found! 69\n",
      "Voltage sag found! 70\n",
      "Voltage sag found! 71\n",
      "Voltage sag found! 72\n",
      "Voltage sag found! 73\n",
      "Voltage sag found! 74\n",
      "Voltage sag found! 75\n",
      "Voltage sag found! 76\n",
      "Voltage sag found! 77\n",
      "Voltage sag found! 78\n",
      "Voltage sag found! 79\n",
      "Voltage sag found! 80\n",
      "Voltage sag found! 81\n",
      "Voltage sag found! 82\n",
      "Voltage sag found! 83\n",
      "Voltage sag found! 84\n",
      "Voltage sag found! 85\n",
      "Voltage sag found! 86\n",
      "Voltage sag found! 87\n",
      "Voltage sag found! 88\n",
      "Voltage sag found! 89\n",
      "Voltage sag found! 90\n",
      "Voltage sag found! 91\n",
      "Voltage sag found! 92\n",
      "Voltage sag found! 93\n",
      "Voltage sag found! 94\n",
      "Voltage sag found! 95\n",
      "Voltage sag found! 96\n",
      "Voltage sag found! 97\n",
      "Voltage sag found! 98\n",
      "Voltage sag found! 99\n",
      "Voltage sag found! 100\n",
      "Searching in stream 2...\n",
      "Voltage sag found!\n",
      "Voltage sag found! 0\n",
      "Voltage sag found! 1\n",
      "Voltage sag found! 2\n",
      "Voltage sag found! 3\n",
      "Voltage sag found! 4\n",
      "Voltage sag found! 5\n",
      "Voltage sag found! 6\n",
      "Voltage sag found! 7\n",
      "Voltage sag found! 8\n",
      "Voltage sag found! 9\n",
      "Voltage sag found! 10\n",
      "Voltage sag found! 11\n",
      "Voltage sag found! 12\n",
      "Voltage sag found! 13\n",
      "Voltage sag found! 14\n",
      "Voltage sag found! 15\n",
      "Voltage sag found! 16\n",
      "Voltage sag found! 17\n",
      "Voltage sag found! 18\n",
      "Voltage sag found! 19\n",
      "Voltage sag found! 20\n",
      "Voltage sag found! 21\n",
      "Voltage sag found! 22\n",
      "Voltage sag found! 23\n",
      "Voltage sag found! 24\n",
      "Voltage sag found! 25\n",
      "Voltage sag found! 26\n",
      "Voltage sag found! 27\n",
      "Voltage sag found! 28\n",
      "Voltage sag found! 29\n",
      "Voltage sag found! 30\n",
      "Voltage sag found! 31\n",
      "Voltage sag found! 32\n",
      "Voltage sag found! 33\n",
      "Voltage sag found! 34\n",
      "Voltage sag found! 35\n",
      "Voltage sag found! 36\n",
      "Voltage sag found! 37\n",
      "Voltage sag found! 38\n",
      "Voltage sag found! 39\n",
      "Voltage sag found! 40\n",
      "Voltage sag found! 41\n",
      "Voltage sag found! 42\n",
      "Voltage sag found! 43\n",
      "Voltage sag found! 44\n",
      "Voltage sag found! 45\n",
      "Voltage sag found! 46\n",
      "Voltage sag found! 47\n",
      "Voltage sag found! 48\n",
      "Voltage sag found! 49\n",
      "Voltage sag found! 50\n",
      "Voltage sag found! 51\n",
      "Voltage sag found! 52\n",
      "Voltage sag found! 53\n",
      "Voltage sag found! 54\n",
      "Voltage sag found! 55\n",
      "Voltage sag found! 56\n",
      "Voltage sag found! 57\n",
      "Voltage sag found! 58\n",
      "Voltage sag found! 59\n",
      "Voltage sag found! 60\n",
      "Voltage sag found! 61\n",
      "Voltage sag found! 62\n",
      "Voltage sag found! 63\n",
      "Voltage sag found! 64\n",
      "Voltage sag found! 65\n",
      "Voltage sag found! 66\n",
      "Voltage sag found! 67\n",
      "Voltage sag found! 68\n",
      "Voltage sag found! 69\n",
      "Voltage sag found! 70\n",
      "Voltage sag found! 71\n",
      "Voltage sag found! 72\n",
      "Voltage sag found! 73\n",
      "Voltage sag found! 74\n",
      "Voltage sag found! 75\n",
      "Voltage sag found! 76\n",
      "Voltage sag found! 77\n",
      "Voltage sag found! 78\n",
      "Voltage sag found! 79\n",
      "Voltage sag found! 80\n",
      "Voltage sag found! 81\n",
      "Voltage sag found! 82\n",
      "Voltage sag found! 83\n",
      "Voltage sag found! 84\n",
      "Voltage sag found! 85\n",
      "Voltage sag found! 86\n",
      "Voltage sag found! 87\n",
      "Voltage sag found! 88\n",
      "Voltage sag found! 89\n",
      "Voltage sag found! 90\n",
      "Voltage sag found! 91\n",
      "Voltage sag found! 92\n",
      "Voltage sag found! 93\n",
      "Voltage sag found! 94\n",
      "Voltage sag found! 95\n",
      "Voltage sag found! 96\n",
      "Voltage sag found! 97\n",
      "Voltage sag found! 98\n",
      "Voltage sag found! 99\n",
      "Voltage sag found! 100\n"
     ]
    }
   ],
   "source": [
    "# PMU 4 from sunshine dataset (substation)\n",
    "stream1 = streams[\"08060a62-04c0-4597-8d2f-7df58e461ba2\"];\n",
    "# PMU 5 from sunshine dataset (substation)\n",
    "stream2 = streams[\"edb36769-f56f-47c5-bbda-a177c424cc4f\"];\n",
    "\n",
    "# Get nominal voltage of stream\n",
    "vnom1 = get_mean_value(stream1); \n",
    "vnom2 = get_mean_value(stream2);\n",
    "\n",
    "# Start and end times of period to study\n",
    "start = \"2016-03-01T00:00:00.000Z\"\n",
    "end = \"2016-06-01T00:00:00.000Z\"\n",
    "\n",
    "# Threshold below which data is considered a voltage sag\n",
    "level = 0.98\n",
    "thresh1 = level * vnom1; \n",
    "thresh2 = level * vnom2; \n",
    "\n",
    "# Find voltage sag data points\n",
    "sags1 = find_vsags_dfs(stream1, thresh1, start=start, end=end);\n",
    "sags2 = find_vsags_dfs(stream2, thresh2, start=start, end=end); \n",
    "\n",
    "# Get features of voltage sags\n",
    "print(\"Searching in stream 1...\")\n",
    "starts1, durations1, magnitudes1 = sag_survey(sags1, verbose=True);\n",
    "print(\"Searching in stream 2...\")\n",
    "starts2, durations2, magnitudes2 = sag_survey(sags2, verbose=True);"
   ]
  },
  {
   "cell_type": "code",
   "execution_count": 18,
   "metadata": {},
   "outputs": [],
   "source": [
    "def get_day_counts(times):\n",
    "    counts = np.zeros(7)\n",
    "    \n",
    "    N = np.size(times);\n",
    "    days = np.zeros(N);\n",
    "    \n",
    "    i = 0; \n",
    "    for time in times:\n",
    "        dt = ns_to_datetime(time);\n",
    "        day = int(dt.weekday());\n",
    "        counts[day] += 1;\n",
    "        days[i] = day; i = i + 1;\n",
    "    return counts, days;\n",
    "\n",
    "counts1, D1 = get_day_counts(starts1);\n",
    "counts2, D2 = get_day_counts(starts2);"
   ]
  },
  {
   "cell_type": "code",
   "execution_count": 19,
   "metadata": {},
   "outputs": [
    {
     "data": {
      "image/png": "[encoded data removed]",
      "text/plain": [
       "<Figure size 1008x504 with 2 Axes>"
      ]
     },
     "metadata": {
      "needs_background": "light"
     },
     "output_type": "display_data"
    }
   ],
   "source": [
    "daysofweek = ['M', 'Tu', 'W', 'Th', 'F', 'Sa', 'Su']\n",
    "\n",
    "    \n",
    "plt.figure(figsize=(14, 7)); \n",
    "plt.subplot(1, 2, 1)\n",
    "plt.bar(daysofweek, counts1, align='center');\n",
    "plt.title('Sags at PMU 4'); \n",
    "plt.ylabel('Count', fontsize=20)\n",
    "\n",
    "plt.subplot(1, 2, 2)\n",
    "plt.bar(daysofweek, counts2, align='center');\n",
    "plt.title('Sags at PMU 5');\n",
    "\n",
    "plt.tight_layout();\n",
    "plt.savefig('sags_by_day', dpi=100);"
   ]
  },
  {
   "cell_type": "code",
   "execution_count": null,
   "metadata": {},
   "outputs": [],
   "source": []
  }
 ],
 "metadata": {
  "kernelspec": {
   "display_name": "Python 3",
   "language": "python",
   "name": "python3"
  },
  "language_info": {
   "codemirror_mode": {
    "name": "ipython",
    "version": 3
   },
   "file_extension": ".py",
   "mimetype": "text/x-python",
   "name": "python",
   "nbconvert_exporter": "python",
   "pygments_lexer": "ipython3",
   "version": "3.7.7"
  }
 },
 "nbformat": 4,
 "nbformat_minor": 4
}
