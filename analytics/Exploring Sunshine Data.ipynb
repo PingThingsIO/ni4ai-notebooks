{
 "cells": [
  {
   "cell_type": "markdown",
   "metadata": {
    "id": "IKkPVkqZmh-5"
   },
   "source": [
    "This notebook replicates code posted in an NI4AI [blog post](https://blog.ni4ai.org/post/2020-03-30-sunshine-data/) written by Sascha von Meier. The code provides a basic exploration of the \"Sunshine\" data hosted in the NI4AI platform."
   ]
  },
  {
   "cell_type": "code",
   "execution_count": 1,
   "metadata": {
    "id": "r0y6zlpxrZhj"
   },
   "outputs": [],
   "source": [
    "import numpy as np\n",
    "import pandas as pd\n",
    "import matplotlib.pyplot as plt\n",
    "\n",
    "from tabulate import tabulate\n",
    "\n",
    "import btrdb\n",
    "from btrdb.utils.timez import ns_delta, ns_to_datetime, to_nanoseconds"
   ]
  },
  {
   "cell_type": "code",
   "execution_count": 2,
   "metadata": {
    "id": "2IpUHyHZrZhn"
   },
   "outputs": [],
   "source": [
    "#Establishing the connecting to the server\n",
    "db = btrdb.connect()\n"
   ]
  },
  {
   "cell_type": "code",
   "execution_count": 11,
   "metadata": {
    "colab": {
     "base_uri": "https://localhost:8080/"
    },
    "id": "QoSdeVdYrZhv",
    "outputId": "aca992c3-cb53-4c65-f009-912a0c4f6ca7"
   },
   "outputs": [
    {
     "data": {
      "text/plain": [
       "['sunshine/PMU1']"
      ]
     },
     "execution_count": 11,
     "metadata": {},
     "output_type": "execute_result"
    }
   ],
   "source": [
    "#Viewing the collection: Data streams are organized into a hierarchichal tree of collections, so let’s view the collections available for the Sunshine dataset using the list_collections method.\n",
    "db.list_collections(\"sunshine\")\n"
   ]
  },
  {
   "cell_type": "code",
   "execution_count": 10,
   "metadata": {
    "colab": {
     "base_uri": "https://localhost:8080/"
    },
    "id": "9HHP8Yh4rZhz",
    "outputId": "d9346b8e-a392-4003-f599-41fec9d755b4"
   },
   "outputs": [
    {
     "data": {
      "text/plain": [
       "[]"
      ]
     },
     "execution_count": 10,
     "metadata": {},
     "output_type": "execute_result"
    }
   ],
   "source": [
    "#Choosing streams; we are choosing PMU3 here.\n",
    "streams = db.streams_in_collection('sunshine/PMU3')\n",
    "streams"
   ]
  },
  {
   "cell_type": "code",
   "execution_count": 5,
   "metadata": {
    "colab": {
     "base_uri": "https://localhost:8080/"
    },
    "id": "yFZ8QEPqrZh4",
    "outputId": "1b7efcd1-68bf-46a4-aff4-33bbba7f971b"
   },
   "outputs": [
    {
     "name": "stdout",
     "output_type": "stream",
     "text": [
      "  Index  Collection     Name    Units    UUID\n",
      "-------  -------------  ------  -------  ------------------------------------\n",
      "      0  sunshine/PMU1  LSTATE  mask     6ffb2e7e-273c-4963-9143-b416923980b0\n",
      "      1  sunshine/PMU1  C1ANG   deg      d625793b-721f-46e2-8b8c-18f882366eeb\n",
      "      2  sunshine/PMU1  C3MAG   amps     fb61e4d1-3e17-48ee-bdf3-43c54b03d7c8\n",
      "      3  sunshine/PMU1  C2MAG   amps     d765f128-4c00-4226-bacf-0de8ebb090b5\n",
      "      4  sunshine/PMU1  C1MAG   amps     1187af71-2d54-49d4-9027-bae5d23c4bda\n",
      "      5  sunshine/PMU1  C3ANG   deg      0be8a8f4-3b45-4fe3-b77c-1cbdadb92039\n",
      "      6  sunshine/PMU1  L3ANG   deg      e4efd9f6-9932-49b6-9799-90815507aed0\n",
      "      7  sunshine/PMU1  L2ANG   deg      886203ca-d3e8-4fca-90cc-c88dfd0283d4\n",
      "      8  sunshine/PMU1  L3MAG   volts    b2936212-253e-488a-87f6-a9927042031f\n",
      "      9  sunshine/PMU1  L1ANG   deg      51840b07-297a-42e5-a73a-290c0a47bddb\n",
      "     10  sunshine/PMU1  C2ANG   deg      97de3802-d38d-403c-96af-d23b874b5e95\n",
      "     11  sunshine/PMU1  L1MAG   volts    35bdb8dc-bf18-4523-85ca-8ebe384bd9b5\n",
      "     12  sunshine/PMU1  L2MAG   volts    d4cfa9a6-e11a-4370-9eda-16e80773ce8c\n"
     ]
    }
   ],
   "source": [
    "#Retrieving Stream Data\n",
    "def describe_streams(streams):\n",
    "    table = [[\"Index\", \"Collection\", \"Name\", \"Units\", \"UUID\"]]\n",
    "    for idx, stream in enumerate(streams):\n",
    "        tags = stream.tags()\n",
    "        table.append([\n",
    "            idx, stream.collection, stream.name, tags[\"unit\"], stream.uuid\n",
    "        ])\n",
    "    return tabulate(table, headers=\"firstrow\")\n",
    "\n",
    "print(describe_streams(streams))"
   ]
  },
  {
   "cell_type": "code",
   "execution_count": 6,
   "metadata": {
    "id": "Qv8aqKS_rZiM"
   },
   "outputs": [],
   "source": [
    "#Choose a time window\n",
    "start = to_nanoseconds('2015-08-15 3:42:00')\n",
    "end = to_nanoseconds('2015-08-15 3:47:00')"
   ]
  },
  {
   "cell_type": "code",
   "execution_count": 9,
   "metadata": {
    "colab": {
     "base_uri": "https://localhost:8080/"
    },
    "id": "JbzHq5oprZiO",
    "outputId": "17c1be15-44c1-46d1-ed7c-7a9d20b135cd"
   },
   "outputs": [
    {
     "data": {
      "text/plain": [
       "[]"
      ]
     },
     "execution_count": 9,
     "metadata": {},
     "output_type": "execute_result"
    }
   ],
   "source": [
    "#Retrieve values from stream 4 (current magnitude for PMU 1)\n",
    "s = streams[4]\n",
    "data = s.values(start, end)\n",
    "data[:2]"
   ]
  },
  {
   "cell_type": "markdown",
   "metadata": {
    "id": "u1xshV30koRQ"
   },
   "source": [
    "Values are returned as a list of tuples reporting RawPoint values and the associated version. Each RawPoint object includes a time stamp (in nanoseconds) and a measurement value.\n",
    "\n",
    "(RawPoint(time_stamp, value), version)"
   ]
  },
  {
   "cell_type": "code",
   "execution_count": 8,
   "metadata": {
    "id": "L2vxrYjLrZiU"
   },
   "outputs": [
    {
     "ename": "ValueError",
     "evalue": "not enough values to unpack (expected 2, got 0)",
     "output_type": "error",
     "traceback": [
      "\u001b[0;31m---------------------------------------------------------------------------\u001b[0m",
      "\u001b[0;31mValueError\u001b[0m                                Traceback (most recent call last)",
      "\u001b[0;32m<ipython-input-8-47adfb6c712e>\u001b[0m in \u001b[0;36m<module>\u001b[0;34m\u001b[0m\n\u001b[1;32m      1\u001b[0m \u001b[0;31m# Retrieve only the RawPoint objects (without the version)\u001b[0m\u001b[0;34m\u001b[0m\u001b[0;34m\u001b[0m\u001b[0;34m\u001b[0m\u001b[0m\n\u001b[0;32m----> 2\u001b[0;31m \u001b[0mpoints\u001b[0m\u001b[0;34m,\u001b[0m \u001b[0m_\u001b[0m \u001b[0;34m=\u001b[0m \u001b[0mzip\u001b[0m\u001b[0;34m(\u001b[0m\u001b[0;34m*\u001b[0m\u001b[0mdata\u001b[0m\u001b[0;34m)\u001b[0m\u001b[0;34m\u001b[0m\u001b[0;34m\u001b[0m\u001b[0m\n\u001b[0m\u001b[1;32m      3\u001b[0m \u001b[0;34m\u001b[0m\u001b[0m\n\u001b[1;32m      4\u001b[0m \u001b[0;31m# Unpack raw points into time stamps and values\u001b[0m\u001b[0;34m\u001b[0m\u001b[0;34m\u001b[0m\u001b[0;34m\u001b[0m\u001b[0m\n\u001b[1;32m      5\u001b[0m \u001b[0mtimes\u001b[0m\u001b[0;34m,\u001b[0m \u001b[0mvalues\u001b[0m \u001b[0;34m=\u001b[0m \u001b[0mzip\u001b[0m\u001b[0;34m(\u001b[0m\u001b[0;34m*\u001b[0m\u001b[0mpoints\u001b[0m\u001b[0;34m)\u001b[0m\u001b[0;34m\u001b[0m\u001b[0;34m\u001b[0m\u001b[0m\n",
      "\u001b[0;31mValueError\u001b[0m: not enough values to unpack (expected 2, got 0)"
     ]
    }
   ],
   "source": [
    "# Retrieve only the RawPoint objects (without the version)\n",
    "points, _ = zip(*data)\n",
    "\n",
    "# Unpack raw points into time stamps and values\n",
    "times, values = zip(*points)\n",
    "\n",
    "# Convert time stamps (in nanoseconds) to datetime objects\n",
    "dtimes = [ns_to_datetime(t) for t in times]\n",
    "\n",
    "# Convert to a Series, using the time stamp as an index\n",
    "series = pd.Series(values, index=times)"
   ]
  },
  {
   "cell_type": "code",
   "execution_count": null,
   "metadata": {
    "colab": {
     "base_uri": "https://localhost:8080/",
     "height": 279
    },
    "id": "5SoAzyRqrZiX",
    "outputId": "747695a2-4215-445c-cbd3-8e1d498591f1"
   },
   "outputs": [],
   "source": [
    "# Graph time series measurements\n",
    "series.plot()\n",
    "plt.xlabel('Time Stamp')\n",
    "plt.ylabel('Phase 1 Current Magnitude')\n",
    "plt.show()"
   ]
  },
  {
   "cell_type": "code",
   "execution_count": null,
   "metadata": {
    "id": "qS0x18lVrZia"
   },
   "outputs": [],
   "source": []
  }
 ],
 "metadata": {
  "colab": {
   "collapsed_sections": [],
   "name": "Exploring Sunshine Data.ipynb",
   "provenance": []
  },
  "kernelspec": {
   "display_name": "Python 3",
   "language": "python",
   "name": "python3"
  },
  "language_info": {
   "codemirror_mode": {
    "name": "ipython",
    "version": 3
   },
   "file_extension": ".py",
   "mimetype": "text/x-python",
   "name": "python",
   "nbconvert_exporter": "python",
   "pygments_lexer": "ipython3",
   "version": "3.7.3"
  }
 },
 "nbformat": 4,
 "nbformat_minor": 1
}
