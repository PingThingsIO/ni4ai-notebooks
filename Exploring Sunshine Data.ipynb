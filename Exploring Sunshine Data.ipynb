{
  "nbformat": 4,
  "nbformat_minor": 0,
  "metadata": {
    "kernelspec": {
      "display_name": "Python 3",
      "language": "python",
      "name": "python3"
    },
    "language_info": {
      "codemirror_mode": {
        "name": "ipython",
        "version": 3
      },
      "file_extension": ".py",
      "mimetype": "text/x-python",
      "name": "python",
      "nbconvert_exporter": "python",
      "pygments_lexer": "ipython3",
      "version": "3.7.6"
    },
    "colab": {
      "name": "Exploring Sunshine Data.ipynb",
      "provenance": [],
      "collapsed_sections": []
    }
  },
  "cells": [
    {
      "cell_type": "markdown",
      "metadata": {
        "id": "IKkPVkqZmh-5"
      },
      "source": [
        "This notebook replicates code posted in an NI4AI [blog post](https://blog.ni4ai.org/post/2020-03-30-sunshine-data/) written by Sascha von Meier. The code provides a basic exploration of the \"Sunshine\" data hosted in the NI4AI platform."
      ]
    },
    {
      "cell_type": "code",
      "metadata": {
        "id": "x5P_pdOcrZhc",
        "colab": {
          "base_uri": "https://localhost:8080/"
        },
        "outputId": "2dbd8051-74d9-4334-e596-830d9b31d277"
      },
      "source": [
        "!pip install btrdb\n"
      ],
      "execution_count": 2,
      "outputs": [
        {
          "output_type": "stream",
          "text": [
            "Collecting btrdb\n",
            "\u001b[?25l  Downloading https://files.pythonhosted.org/packages/05/ce/ef4b979ccf9272f4299fbc9a35cfd1e0f576f9add37bc7b27988411fd431/btrdb-5.10.2-py3-none-any.whl (73kB)\n",
            "\r\u001b[K     |████▌                           | 10kB 14.7MB/s eta 0:00:01\r\u001b[K     |█████████                       | 20kB 20.4MB/s eta 0:00:01\r\u001b[K     |█████████████▍                  | 30kB 11.9MB/s eta 0:00:01\r\u001b[K     |█████████████████▉              | 40kB 8.4MB/s eta 0:00:01\r\u001b[K     |██████████████████████▎         | 51kB 4.3MB/s eta 0:00:01\r\u001b[K     |██████████████████████████▊     | 61kB 4.7MB/s eta 0:00:01\r\u001b[K     |███████████████████████████████▏| 71kB 5.2MB/s eta 0:00:01\r\u001b[K     |████████████████████████████████| 81kB 3.3MB/s \n",
            "\u001b[?25hRequirement already satisfied: pytz in /usr/local/lib/python3.6/dist-packages (from btrdb) (2018.9)\n",
            "Requirement already satisfied: grpcio>=1.16.1 in /usr/local/lib/python3.6/dist-packages (from btrdb) (1.34.0)\n",
            "Requirement already satisfied: pyyaml in /usr/local/lib/python3.6/dist-packages (from btrdb) (3.13)\n",
            "Collecting grpcio-tools>=1.16.1\n",
            "\u001b[?25l  Downloading https://files.pythonhosted.org/packages/d1/17/c798dc75caf987b9f0429a5551ca546d1111fdb128900123ccd7f8c9d6f4/grpcio_tools-1.34.0-cp36-cp36m-manylinux2014_x86_64.whl (2.5MB)\n",
            "\u001b[K     |████████████████████████████████| 2.5MB 7.4MB/s \n",
            "\u001b[?25hRequirement already satisfied: six>=1.5.2 in /usr/local/lib/python3.6/dist-packages (from grpcio>=1.16.1->btrdb) (1.15.0)\n",
            "Requirement already satisfied: protobuf<4.0dev,>=3.5.0.post1 in /usr/local/lib/python3.6/dist-packages (from grpcio-tools>=1.16.1->btrdb) (3.12.4)\n",
            "Requirement already satisfied: setuptools in /usr/local/lib/python3.6/dist-packages (from grpcio-tools>=1.16.1->btrdb) (50.3.2)\n",
            "Installing collected packages: grpcio-tools, btrdb\n",
            "Successfully installed btrdb-5.10.2 grpcio-tools-1.34.0\n"
          ],
          "name": "stdout"
        }
      ]
    },
    {
      "cell_type": "code",
      "metadata": {
        "id": "r0y6zlpxrZhj"
      },
      "source": [
        "import numpy as np\n",
        "import pandas as pd\n",
        "import matplotlib.pyplot as plt\n",
        "\n",
        "#you will need tabulate package installed beforehand by \"$ conda install -c conda-forge tabulate\"\n",
        "from tabulate import tabulate\n",
        "\n",
        "import btrdb\n",
        "from btrdb.utils.timez import ns_delta, ns_to_datetime, to_nanoseconds"
      ],
      "execution_count": 3,
      "outputs": []
    },
    {
      "cell_type": "code",
      "metadata": {
        "id": "2IpUHyHZrZhn"
      },
      "source": [
        "YOUR_API_KEY = 'ENTER YOUR API KEY HERE'\n",
        "\n",
        "#Establishing the connecting to the server\n",
        "db = btrdb.connect(\"api.ni4ai.org:4411\", apikey=YOUR_API_KEY)\n"
      ],
      "execution_count": 6,
      "outputs": []
    },
    {
      "cell_type": "code",
      "metadata": {
        "id": "QoSdeVdYrZhv",
        "colab": {
          "base_uri": "https://localhost:8080/"
        },
        "outputId": "aca992c3-cb53-4c65-f009-912a0c4f6ca7"
      },
      "source": [
        "#Viewing the collection: Data streams are organized into a hierarchichal tree of collections, so let’s view the collections available for the Sunshine dataset using the list_collections method.\n",
        "db.list_collections(\"sunshine\")\n"
      ],
      "execution_count": 7,
      "outputs": [
        {
          "output_type": "execute_result",
          "data": {
            "text/plain": [
              "['sunshine/PMU1',\n",
              " 'sunshine/PMU2',\n",
              " 'sunshine/PMU3',\n",
              " 'sunshine/PMU4',\n",
              " 'sunshine/PMU5',\n",
              " 'sunshine/PMU6']"
            ]
          },
          "metadata": {
            "tags": []
          },
          "execution_count": 7
        }
      ]
    },
    {
      "cell_type": "code",
      "metadata": {
        "id": "9HHP8Yh4rZhz",
        "colab": {
          "base_uri": "https://localhost:8080/"
        },
        "outputId": "d9346b8e-a392-4003-f599-41fec9d755b4"
      },
      "source": [
        "#Choosing streams; we are choosing PMU3 here.\n",
        "streams = db.streams_in_collection('sunshine/PMU3')\n",
        "streams"
      ],
      "execution_count": 8,
      "outputs": [
        {
          "output_type": "execute_result",
          "data": {
            "text/plain": [
              "[<Stream collection=sunshine/PMU3 name=C3ANG>,\n",
              " <Stream collection=sunshine/PMU3 name=C2ANG>,\n",
              " <Stream collection=sunshine/PMU3 name=C3MAG>,\n",
              " <Stream collection=sunshine/PMU3 name=L1ANG>,\n",
              " <Stream collection=sunshine/PMU3 name=C2MAG>,\n",
              " <Stream collection=sunshine/PMU3 name=C1ANG>,\n",
              " <Stream collection=sunshine/PMU3 name=L2ANG>,\n",
              " <Stream collection=sunshine/PMU3 name=L1MAG>,\n",
              " <Stream collection=sunshine/PMU3 name=C1MAG>,\n",
              " <Stream collection=sunshine/PMU3 name=L3ANG>,\n",
              " <Stream collection=sunshine/PMU3 name=L2MAG>,\n",
              " <Stream collection=sunshine/PMU3 name=L3MAG>,\n",
              " <Stream collection=sunshine/PMU3 name=LSTATE>]"
            ]
          },
          "metadata": {
            "tags": []
          },
          "execution_count": 8
        }
      ]
    },
    {
      "cell_type": "code",
      "metadata": {
        "id": "yFZ8QEPqrZh4",
        "colab": {
          "base_uri": "https://localhost:8080/"
        },
        "outputId": "1b7efcd1-68bf-46a4-aff4-33bbba7f971b"
      },
      "source": [
        "#Retrieving Stream Data\n",
        "def describe_streams(streams):\n",
        "    table = [[\"Index\", \"Collection\", \"Name\", \"Units\", \"UUID\"]]\n",
        "    for idx, stream in enumerate(streams):\n",
        "        tags = stream.tags()\n",
        "        table.append([\n",
        "            idx, stream.collection, stream.name, tags[\"unit\"], stream.uuid\n",
        "        ])\n",
        "    return tabulate(table, headers=\"firstrow\")\n",
        "\n",
        "print(describe_streams(streams))"
      ],
      "execution_count": 9,
      "outputs": [
        {
          "output_type": "stream",
          "text": [
            "  Index  Collection     Name    Units    UUID\n",
            "-------  -------------  ------  -------  ------------------------------------\n",
            "      0  sunshine/PMU3  C3ANG   deg      b3ca2159-8fa7-4341-801d-d1228af675b7\n",
            "      1  sunshine/PMU3  C2ANG   deg      c71f34d1-3cba-4959-b4b9-032ec078c66d\n",
            "      2  sunshine/PMU3  C3MAG   amps     cd6d2be2-6b7b-4c46-be1e-8432990ef23c\n",
            "      3  sunshine/PMU3  L1ANG   deg      bc73226c-c877-438a-ab37-7a6703cbfbce\n",
            "      4  sunshine/PMU3  C2MAG   amps     47da9f9a-f8d9-4955-9e87-9c17dabde298\n",
            "      5  sunshine/PMU3  C1ANG   deg      bc9d458c-9b54-4ad2-b837-53170a4d7331\n",
            "      6  sunshine/PMU3  L2ANG   deg      f4b400e1-26f4-4ca9-b301-c2fbb7d77e87\n",
            "      7  sunshine/PMU3  L1MAG   volts    0295f80f-6776-4384-b563-4582f7256600\n",
            "      8  sunshine/PMU3  C1MAG   amps     1e641edc-d95a-494f-99f3-cbb991ef05bf\n",
            "      9  sunshine/PMU3  L3ANG   deg      fabd1511-f6f8-4670-b336-7fbfe412e4a2\n",
            "     10  sunshine/PMU3  L2MAG   volts    38d62795-6341-4069-96d3-fe74bffcac67\n",
            "     11  sunshine/PMU3  L3MAG   volts    37539589-88aa-48b7-8cb4-1ea2f32c9e8d\n",
            "     12  sunshine/PMU3  LSTATE  mask     b50e8372-6a6e-405a-a366-832f4c9b98f0\n"
          ],
          "name": "stdout"
        }
      ]
    },
    {
      "cell_type": "code",
      "metadata": {
        "id": "Qv8aqKS_rZiM"
      },
      "source": [
        "#Choose a time window\n",
        "start = to_nanoseconds('2015-08-15 3:42:00')\n",
        "end = to_nanoseconds('2015-08-15 3:47:00')"
      ],
      "execution_count": 10,
      "outputs": []
    },
    {
      "cell_type": "code",
      "metadata": {
        "id": "JbzHq5oprZiO",
        "colab": {
          "base_uri": "https://localhost:8080/"
        },
        "outputId": "17c1be15-44c1-46d1-ed7c-7a9d20b135cd"
      },
      "source": [
        "#Retrieve values from stream 7 (current magnitude for PMU 3)\n",
        "s = streams[7]\n",
        "data = s.values(start, end)\n",
        "data[:2]"
      ],
      "execution_count": 15,
      "outputs": [
        {
          "output_type": "execute_result",
          "data": {
            "text/plain": [
              "[(RawPoint(1439610120008333000, 7301.33935546875), 122084),\n",
              " (RawPoint(1439610120016666000, 7301.66796875), 122084)]"
            ]
          },
          "metadata": {
            "tags": []
          },
          "execution_count": 15
        }
      ]
    },
    {
      "cell_type": "markdown",
      "metadata": {
        "id": "u1xshV30koRQ"
      },
      "source": [
        "Values are returned as a list of tuples reporting RawPoint values and the associated version. Each RawPoint object includes a time stamp (in nanoseconds) and a measurement value.\n",
        "\n",
        "(RawPoint(time_stamp, value), version)"
      ]
    },
    {
      "cell_type": "code",
      "metadata": {
        "id": "L2vxrYjLrZiU"
      },
      "source": [
        "# Retrieve only the RawPoint objects (without the version)\n",
        "points, _ = zip(*data)\n",
        "\n",
        "# Unpack raw points into time stamps and values\n",
        "times, values = zip(*points)\n",
        "\n",
        "# Convert time stamps (in nanoseconds) to datetime objects\n",
        "dtimes = [ns_to_datetime(t) for t in times]\n",
        "\n",
        "# Convert to a Series, using the time stamp as an index\n",
        "series = pd.Series(values, index=dtimes)"
      ],
      "execution_count": 16,
      "outputs": []
    },
    {
      "cell_type": "code",
      "metadata": {
        "id": "5SoAzyRqrZiX",
        "colab": {
          "base_uri": "https://localhost:8080/",
          "height": 279
        },
        "outputId": "747695a2-4215-445c-cbd3-8e1d498591f1"
      },
      "source": [
        "# Graph time series measurements\n",
        "series.plot()\n",
        "plt.xlabel('Time Stamp')\n",
        "plt.ylabel('Phase 1 Current Magnitude')\n",
        "plt.show()"
      ],
      "execution_count": 20,
      "outputs": [
        {
          "output_type": "display_data",
          "data": {
            "image/png": "[encoded data removed]",
            "text/plain": [
              "<Figure size 432x288 with 1 Axes>"
            ]
          },
          "metadata": {
            "tags": [],
            "needs_background": "light"
          }
        }
      ]
    },
    {
      "cell_type": "code",
      "metadata": {
        "id": "qS0x18lVrZia"
      },
      "source": [
        ""
      ],
      "execution_count": null,
      "outputs": []
    }
  ]
}