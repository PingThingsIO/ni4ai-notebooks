{
 "cells": [
  {
   "cell_type": "markdown",
   "metadata": {},
   "source": [
    "# Memory Efficient Queries\n",
    "\n",
    "Part 6 of this tutorial described how to use the `aligned_windows` to return `StatPoint` objects that give summary statistics for time intervals at different levels of the tree database. Here, we describe how to mine these `StatPoint` objects do different types of analysis."
   ]
  },
  {
   "cell_type": "code",
   "execution_count": 1,
   "metadata": {},
   "outputs": [],
   "source": [
    "import btrdb\n",
    "import yaml\n",
    "from datetime import datetime\n",
    "from btrdb.utils import timez"
   ]
  },
  {
   "cell_type": "code",
   "execution_count": 2,
   "metadata": {},
   "outputs": [],
   "source": [
    "# Make sure you add your API key to the config file to connect!\n",
    "with open('../config.yaml', 'r') as f:\n",
    "    config = yaml.safe_load(f)\n",
    "    \n",
    "conn = btrdb.connect(config['connection']['api_url'], config['connection']['api_key'])"
   ]
  },
  {
   "cell_type": "code",
   "execution_count": 3,
   "metadata": {},
   "outputs": [
    {
     "name": "stdout",
     "output_type": "stream",
     "text": [
      "sunshine/PMU6 C3MAG amps\n"
     ]
    }
   ],
   "source": [
    "streams = conn.streams_in_collection('sunshine', tags={\"unit\": \"amps\"})\n",
    "stream = streams[0]\n",
    "print(stream.collection, stream.name, stream.unit)"
   ]
  },
  {
   "cell_type": "markdown",
   "metadata": {},
   "source": [
    "## What was the maximum?"
   ]
  },
  {
   "cell_type": "code",
   "execution_count": 4,
   "metadata": {},
   "outputs": [
    {
     "name": "stdout",
     "output_type": "stream",
     "text": [
      "Max value is 503.07 amps\n"
     ]
    }
   ],
   "source": [
    "pw = 50\n",
    "\n",
    "START = stream.earliest()[0].time\n",
    "END = stream.latest()[0].time\n",
    "VERSION = 0\n",
    "\n",
    "windows, _ = zip(*stream.aligned_windows(start=START, end=END, pointwidth=pw))\n",
    "\n",
    "max_val = max([w.max for w in windows])\n",
    "print('Max value is %.2f amps'%(max_val))"
   ]
  },
  {
   "cell_type": "markdown",
   "metadata": {},
   "source": [
    "## OK, but *when* did it happen?"
   ]
  },
  {
   "cell_type": "code",
   "execution_count": 5,
   "metadata": {},
   "outputs": [
    {
     "name": "stdout",
     "output_type": "stream",
     "text": [
      "Max value occurred between 2016-03-28 and 2016-04-10\n"
     ]
    }
   ],
   "source": [
    "for i, window in enumerate(windows):\n",
    "    if window.max == max_val:\n",
    "        break\n",
    "\n",
    "interval_start = timez.ns_to_datetime(window.time)\n",
    "interval_end = timez.ns_to_datetime(window.time + 2**pw)\n",
    "\n",
    "str_fmt = '%Y-%m-%d'\n",
    "print('Max value occurred between %s and %s'%(interval_start.strftime(str_fmt), interval_end.strftime(str_fmt)))"
   ]
  },
  {
   "cell_type": "markdown",
   "metadata": {},
   "source": [
    "Aligned windows tells us the max value within a time range, but doesn't tell us *when* in that time range it happened"
   ]
  },
  {
   "cell_type": "markdown",
   "metadata": {},
   "source": [
    "### Getting more specific\n",
    "We can get more specific by iteratively decreasing the point width. Recall that at each level in the tree, the parent node is time-partitioned into 64 intervals. We can look at the max value in each of those 64 intervals, and then zoom in from there to figure out more precisely where to look."
   ]
  },
  {
   "cell_type": "code",
   "execution_count": 6,
   "metadata": {},
   "outputs": [],
   "source": [
    "def find_max(stream, start=START, end=END, pw=pw, version=0):\n",
    "    windows, _ = zip(*stream.aligned_windows(start=start, end=end, pointwidth=pw, version=version))\n",
    "    target = max([w.max for w in windows])\n",
    "\n",
    "    for w in windows:\n",
    "        if w.max == target:\n",
    "            start, end = w.time, w.time + 2**pw\n",
    "            if pw >= 32:\n",
    "                pw = pw - 1\n",
    "                point = find_max(stream, start=start, end=end, pw=pw, version=version)\n",
    "            else:\n",
    "                points, _ = zip(*stream.values(start=start, end=end, version=version))\n",
    "                for point in points:\n",
    "                    if point.value == target:\n",
    "                        return point\n",
    "    return point\n"
   ]
  },
  {
   "cell_type": "code",
   "execution_count": 7,
   "metadata": {},
   "outputs": [],
   "source": [
    "max_point = find_max(stream, start=START, end=END, pw=pw, version=VERSION)"
   ]
  },
  {
   "cell_type": "code",
   "execution_count": 8,
   "metadata": {},
   "outputs": [
    {
     "name": "stdout",
     "output_type": "stream",
     "text": [
      "RawPoint(1459430776374999000, 503.07232666015625)\n"
     ]
    }
   ],
   "source": [
    "print(max_point)"
   ]
  },
  {
   "cell_type": "markdown",
   "metadata": {},
   "source": [
    "## Plot the result"
   ]
  },
  {
   "cell_type": "code",
   "execution_count": 9,
   "metadata": {},
   "outputs": [
    {
     "data": {
      "image/png": "[encoded data removed]",
      "text/plain": [
       "<Figure size 720x216 with 1 Axes>"
      ]
     },
     "metadata": {
      "needs_background": "light"
     },
     "output_type": "display_data"
    }
   ],
   "source": [
    "import matplotlib.pyplot as plt\n",
    "vals, _ = zip(*stream.values(start=max_point.time-1e9, end=max_point.time+1e9, version=VERSION))\n",
    "\n",
    "fig, ax = plt.subplots(figsize=(10,3))\n",
    "ax.plot(*zip(*vals), ls=' ', marker='.')\n",
    "ax.plot(max_point.time, max_point.value, ls=' ', marker='*', ms=20, label='Max Value')\n",
    "ax.set_xlabel('Time (nanoseconds)')\n",
    "ax.set_ylabel('Current (%s)'%(stream.unit))\n",
    "plt.legend()\n",
    "plt.show()"
   ]
  },
  {
   "cell_type": "code",
   "execution_count": null,
   "metadata": {},
   "outputs": [],
   "source": []
  }
 ],
 "metadata": {
  "kernelspec": {
   "display_name": "Python 3",
   "language": "python",
   "name": "python3"
  },
  "language_info": {
   "codemirror_mode": {
    "name": "ipython",
    "version": 3
   },
   "file_extension": ".py",
   "mimetype": "text/x-python",
   "name": "python",
   "nbconvert_exporter": "python",
   "pygments_lexer": "ipython3",
   "version": "3.7.7"
  }
 },
 "nbformat": 4,
 "nbformat_minor": 4
}
