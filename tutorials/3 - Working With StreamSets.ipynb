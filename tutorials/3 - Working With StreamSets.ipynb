{
 "cells": [
  {
   "cell_type": "markdown",
   "metadata": {},
   "source": [
    "# 3 - Working with StreamSets\n",
    "\n",
    "The previous tutorial demonstrated how to retrieve data from individual streams.\n",
    "\n",
    "Here, we pull data from groups of streams known as `StreamSet` objects. You can think of a `StreamSet` as a wrapper around a list of `Stream` objects that simplifies workflows like getting data into a dataframe, or time-aligning values across streams.\n",
    "\n",
    "The StreamSet class has a number of methods to mirror those found in regular Stream objects including methods for transforming and serializing the data to different formats. \n",
    "\n",
    "As with a `Stream`, retrieving data from the BTrDB server will fully materialize in memory so please keep this in mind.  In other words, do not attempt to retreive data that is greater than the amount of memory available to you.\n"
   ]
  },
  {
   "cell_type": "markdown",
   "metadata": {},
   "source": [
    "#### Imports"
   ]
  },
  {
   "cell_type": "code",
   "execution_count": 1,
   "metadata": {},
   "outputs": [],
   "source": [
    "import btrdb\n",
    "from btrdb.stream import StreamSet\n",
    "from tabulate import tabulate\n",
    "from btrdb.utils.timez import ns_delta"
   ]
  },
  {
   "cell_type": "markdown",
   "metadata": {},
   "source": [
    "#### Connect To Server\n",
    "\n",
    "To get started we'll connect to the server and define a helper method from a previous notebook."
   ]
  },
  {
   "cell_type": "code",
   "execution_count": 2,
   "metadata": {},
   "outputs": [
    {
     "data": {
      "text/plain": [
       "{'majorVersion': 5, 'build': '5.11.157', 'proxy': {'proxyEndpoints': []}}"
      ]
     },
     "execution_count": 2,
     "metadata": {},
     "output_type": "execute_result"
    }
   ],
   "source": [
    "# Make sure you add your API key to the config file to connect!\n",
    "conn = btrdb.connect()\n",
    "conn.info()"
   ]
  },
  {
   "cell_type": "code",
   "execution_count": 3,
   "metadata": {},
   "outputs": [],
   "source": [
    "def describe_streams(streams):\n",
    "    table = [[\"Collection\", \"Name\", \"Units\", \"Version\", \"Earliest\", \"Latest\"]]\n",
    "    for stream in streams:\n",
    "        tags = stream.tags()\n",
    "        table.append([\n",
    "            stream.collection, stream.name, tags[\"unit\"], stream.version(), \n",
    "            stream.earliest()[0].time, stream.latest()[0].time, \n",
    "        ])\n",
    "    return tabulate(table, headers=\"firstrow\")"
   ]
  },
  {
   "cell_type": "markdown",
   "metadata": {},
   "source": [
    "## Helper Methods\n",
    "\n",
    "The best way to think about the `StreamSet` is as a wrapper around a list of `Stream` objects with appropriate methods added to help with examining your data. To create a `StreamSet` we can just pass in a list of streams, which we will obtain by selecting a few current streams from the database."
   ]
  },
  {
   "cell_type": "code",
   "execution_count": 4,
   "metadata": {},
   "outputs": [
    {
     "name": "stdout",
     "output_type": "stream",
     "text": [
      "Collection     Name    Units      Version             Earliest               Latest\n",
      "-------------  ------  -------  ---------  -------------------  -------------------\n",
      "sunshine/PMU1  C3MAG   amps        240481  1443715704008333000  1492220199333333000\n",
      "sunshine/PMU1  C2MAG   amps        240718  1443715704008333000  1492220199333333000\n",
      "sunshine/PMU1  C1MAG   amps        240380  1443715704008333000  1492220495999999000\n"
     ]
    }
   ],
   "source": [
    "streams = conn.streams_in_collection('sunshine/PMU1', tags={\"unit\": \"amps\"})\n",
    "streamset = StreamSet(streams)\n",
    "print(describe_streams(streamset))"
   ]
  },
  {
   "cell_type": "markdown",
   "metadata": {},
   "source": [
    "Now that we have a StreamSet with the three streams, let's take a look at some of the helper methods.  In a Stream object, the `earliest` method would provide the first point in the Stream.  `StreamSet.earliest` will provide a tuple containing the first points from each individual stream.  The order is the same as the UUIDs that were provided when creating the instance."
   ]
  },
  {
   "cell_type": "code",
   "execution_count": 5,
   "metadata": {},
   "outputs": [
    {
     "data": {
      "text/plain": [
       "(RawPoint(1443715704008333000, 0.14318889379501343),\n",
       " RawPoint(1443715704008333000, 0.14414265751838684),\n",
       " RawPoint(1443715704008333000, 0.14462821185588837))"
      ]
     },
     "execution_count": 5,
     "metadata": {},
     "output_type": "execute_result"
    }
   ],
   "source": [
    "streamset.earliest()"
   ]
  },
  {
   "cell_type": "markdown",
   "metadata": {},
   "source": [
    "Similarly, let's look at the latest points in the streams."
   ]
  },
  {
   "cell_type": "code",
   "execution_count": 6,
   "metadata": {},
   "outputs": [
    {
     "data": {
      "text/plain": [
       "(RawPoint(1492220199333333000, 19.179134368896484),\n",
       " RawPoint(1492220199333333000, 23.198545455932617),\n",
       " RawPoint(1492220495999999000, 20.29911994934082))"
      ]
     },
     "execution_count": 6,
     "metadata": {},
     "output_type": "execute_result"
    }
   ],
   "source": [
    "streamset.latest()"
   ]
  },
  {
   "cell_type": "markdown",
   "metadata": {},
   "source": [
    "## Viewing Data\n",
    "\n",
    "Like the `Stream` object, the `StreamSet` has a `values` method which will return a list of lists.  Each internal list contains the `RawPoint` instances for a given stream.  Just as before we will return only a little bit of the data from the beginning of the streams.\n",
    "\n",
    "We will start by finding the earliest time from all of the earliest points although in this case they all have the same beginning time."
   ]
  },
  {
   "cell_type": "code",
   "execution_count": 7,
   "metadata": {},
   "outputs": [
    {
     "data": {
      "text/plain": [
       "1443715704008333000"
      ]
     },
     "execution_count": 7,
     "metadata": {},
     "output_type": "execute_result"
    }
   ],
   "source": [
    "earliest_point = sorted(streamset.earliest(), key=lambda p: p.time)[0]\n",
    "earliest_point.time"
   ]
  },
  {
   "cell_type": "markdown",
   "metadata": {},
   "source": [
    "Next we will ask for the values in the streams. Stream values are returned as a list of list of points such that the lists of points are ordered according to the UUIDs provided on initialization. Using this method data is fetched for each stream and returned and can be thought of as a helper method to query multiple streams simultaneously."
   ]
  },
  {
   "cell_type": "code",
   "execution_count": 8,
   "metadata": {},
   "outputs": [
    {
     "data": {
      "text/plain": [
       "[[RawPoint(1443715704008333000, 0.14318889379501343),\n",
       "  RawPoint(1443715704016666000, 0.14324119687080383),\n",
       "  RawPoint(1443715704024999000, 0.14320218563079834),\n",
       "  RawPoint(1443715704033333000, 0.14330747723579407),\n",
       "  RawPoint(1443715704041666000, 0.14341890811920166),\n",
       "  RawPoint(1443715704049999000, 0.1432417333126068),\n",
       "  RawPoint(1443715704058333000, 0.14306816458702087),\n",
       "  RawPoint(1443715704066666000, 0.14304737746715546),\n",
       "  RawPoint(1443715704074999000, 0.14306952059268951),\n",
       "  RawPoint(1443715704083333000, 0.14308595657348633),\n",
       "  RawPoint(1443715704091666000, 0.1431303173303604),\n",
       "  RawPoint(1443715704099999000, 0.14315181970596313)],\n",
       " [RawPoint(1443715704008333000, 0.14414265751838684),\n",
       "  RawPoint(1443715704016666000, 0.14403386414051056),\n",
       "  RawPoint(1443715704024999000, 0.14402998983860016),\n",
       "  RawPoint(1443715704033333000, 0.14409348368644714),\n",
       "  RawPoint(1443715704041666000, 0.14425787329673767),\n",
       "  RawPoint(1443715704049999000, 0.1443229466676712),\n",
       "  RawPoint(1443715704058333000, 0.14423619210720062),\n",
       "  RawPoint(1443715704066666000, 0.1443118453025818),\n",
       "  RawPoint(1443715704074999000, 0.14431005716323853),\n",
       "  RawPoint(1443715704083333000, 0.14416487514972687),\n",
       "  RawPoint(1443715704091666000, 0.14408448338508606),\n",
       "  RawPoint(1443715704099999000, 0.1440746784210205)],\n",
       " [RawPoint(1443715704008333000, 0.14462821185588837),\n",
       "  RawPoint(1443715704016666000, 0.144479438662529),\n",
       "  RawPoint(1443715704024999000, 0.14440062642097473),\n",
       "  RawPoint(1443715704033333000, 0.14451566338539124),\n",
       "  RawPoint(1443715704041666000, 0.14469324052333832),\n",
       "  RawPoint(1443715704049999000, 0.14457932114601135),\n",
       "  RawPoint(1443715704058333000, 0.14438524842262268),\n",
       "  RawPoint(1443715704066666000, 0.14439848065376282),\n",
       "  RawPoint(1443715704074999000, 0.14448127150535583),\n",
       "  RawPoint(1443715704083333000, 0.14456181228160858),\n",
       "  RawPoint(1443715704091666000, 0.14456859230995178),\n",
       "  RawPoint(1443715704099999000, 0.14451190829277039)]]"
      ]
     },
     "execution_count": 8,
     "metadata": {},
     "output_type": "execute_result"
    }
   ],
   "source": [
    "start = earliest_point.time\n",
    "end = start + ns_delta(milliseconds=100)\n",
    "streamset.filter(start, end).values()"
   ]
  },
  {
   "cell_type": "markdown",
   "metadata": {},
   "source": [
    "You may have noticed that we first called the `filter` method and then called the `values` method with no arguments.  The `StreamSet` class was designed to support a method chaining style of programming and so behaves slightly differently from the `Stream`.\n",
    "\n",
    "Data is only ever materialized when calling the `values` or `rows` method as demonstrated below.  The `rows` method is similar to the `values` method but orients the data differently.  Here you will notice that the streams are aligned according to time.  The first tuple contains all of the data for the first time index.  If any streams do not have data at that time index, then `None` is used as a placeholder."
   ]
  },
  {
   "cell_type": "code",
   "execution_count": 9,
   "metadata": {},
   "outputs": [
    {
     "data": {
      "text/plain": [
       "[(RawPoint(1443715704008333000, 0.14318889379501343),\n",
       "  RawPoint(1443715704008333000, 0.14414265751838684),\n",
       "  RawPoint(1443715704008333000, 0.14462821185588837)),\n",
       " (RawPoint(1443715704016666000, 0.14324119687080383),\n",
       "  RawPoint(1443715704016666000, 0.14403386414051056),\n",
       "  RawPoint(1443715704016666000, 0.144479438662529)),\n",
       " (RawPoint(1443715704024999000, 0.14320218563079834),\n",
       "  RawPoint(1443715704024999000, 0.14402998983860016),\n",
       "  RawPoint(1443715704024999000, 0.14440062642097473)),\n",
       " (RawPoint(1443715704033333000, 0.14330747723579407),\n",
       "  RawPoint(1443715704033333000, 0.14409348368644714),\n",
       "  RawPoint(1443715704033333000, 0.14451566338539124)),\n",
       " (RawPoint(1443715704041666000, 0.14341890811920166),\n",
       "  RawPoint(1443715704041666000, 0.14425787329673767),\n",
       "  RawPoint(1443715704041666000, 0.14469324052333832)),\n",
       " (RawPoint(1443715704049999000, 0.1432417333126068),\n",
       "  RawPoint(1443715704049999000, 0.1443229466676712),\n",
       "  RawPoint(1443715704049999000, 0.14457932114601135)),\n",
       " (RawPoint(1443715704058333000, 0.14306816458702087),\n",
       "  RawPoint(1443715704058333000, 0.14423619210720062),\n",
       "  RawPoint(1443715704058333000, 0.14438524842262268)),\n",
       " (RawPoint(1443715704066666000, 0.14304737746715546),\n",
       "  RawPoint(1443715704066666000, 0.1443118453025818),\n",
       "  RawPoint(1443715704066666000, 0.14439848065376282)),\n",
       " (RawPoint(1443715704074999000, 0.14306952059268951),\n",
       "  RawPoint(1443715704074999000, 0.14431005716323853),\n",
       "  RawPoint(1443715704074999000, 0.14448127150535583)),\n",
       " (RawPoint(1443715704083333000, 0.14308595657348633),\n",
       "  RawPoint(1443715704083333000, 0.14416487514972687),\n",
       "  RawPoint(1443715704083333000, 0.14456181228160858)),\n",
       " (RawPoint(1443715704091666000, 0.1431303173303604),\n",
       "  RawPoint(1443715704091666000, 0.14408448338508606),\n",
       "  RawPoint(1443715704091666000, 0.14456859230995178)),\n",
       " (RawPoint(1443715704099999000, 0.14315181970596313),\n",
       "  RawPoint(1443715704099999000, 0.1440746784210205),\n",
       "  RawPoint(1443715704099999000, 0.14451190829277039))]"
      ]
     },
     "execution_count": 9,
     "metadata": {},
     "output_type": "execute_result"
    }
   ],
   "source": [
    "streamset.filter(start, end).rows()"
   ]
  },
  {
   "cell_type": "markdown",
   "metadata": {},
   "source": [
    "Let's use the tabulate library again to better format the data rows."
   ]
  },
  {
   "cell_type": "code",
   "execution_count": 10,
   "metadata": {
    "scrolled": true
   },
   "outputs": [
    {
     "name": "stdout",
     "output_type": "stream",
     "text": [
      "               time     C3MAG     C2MAG     C1MAG\n",
      "-------------------  --------  --------  --------\n",
      "1443715704008333000  0.143189  0.144143  0.144628\n",
      "1443715704016666000  0.143241  0.144034  0.144479\n",
      "1443715704024999000  0.143202  0.14403   0.144401\n",
      "1443715704033333000  0.143307  0.144093  0.144516\n",
      "1443715704041666000  0.143419  0.144258  0.144693\n",
      "1443715704049999000  0.143242  0.144323  0.144579\n",
      "1443715704058333000  0.143068  0.144236  0.144385\n",
      "1443715704066666000  0.143047  0.144312  0.144398\n",
      "1443715704074999000  0.14307   0.14431   0.144481\n",
      "1443715704083333000  0.143086  0.144165  0.144562\n",
      "1443715704091666000  0.14313   0.144084  0.144569\n",
      "1443715704099999000  0.143152  0.144075  0.144512\n"
     ]
    }
   ],
   "source": [
    "table = [[\"time\"] + [s.name for s in streamset]]\n",
    "\n",
    "for row in streamset.filter(start, end).rows():\n",
    "    time = sorted([p.time for p in row])[-1]\n",
    "    data = [time]\n",
    "    for point in row:\n",
    "        data.append(point.value)\n",
    "    table.append(data)\n",
    "        \n",
    "print(tabulate(table, headers=\"firstrow\"))"
   ]
  },
  {
   "cell_type": "markdown",
   "metadata": {},
   "source": [
    "## Transforming Data to Other Formats\n",
    "\n",
    "A number of methods have been provided to convert the point data objects into objects you may already be familiar with such as numpy arrays and pandas dataframes.  Using these transformation methods materializes the data similar to the `values` method.  Examples of the available transformations follow.\n",
    "\n",
    "### Numpy Arrays\n",
    "\n",
    "Converting to Numpy arrays will produce a list of arrays.  This output will be similar in structure to calling the `values` method."
   ]
  },
  {
   "cell_type": "code",
   "execution_count": 11,
   "metadata": {},
   "outputs": [
    {
     "data": {
      "text/plain": [
       "array([[0.14318889, 0.1432412 , 0.14320219, 0.14330748, 0.14341891,\n",
       "        0.14324173, 0.14306816, 0.14304738, 0.14306952, 0.14308596,\n",
       "        0.14313032, 0.14315182],\n",
       "       [0.14414266, 0.14403386, 0.14402999, 0.14409348, 0.14425787,\n",
       "        0.14432295, 0.14423619, 0.14431185, 0.14431006, 0.14416488,\n",
       "        0.14408448, 0.14407468],\n",
       "       [0.14462821, 0.14447944, 0.14440063, 0.14451566, 0.14469324,\n",
       "        0.14457932, 0.14438525, 0.14439848, 0.14448127, 0.14456181,\n",
       "        0.14456859, 0.14451191]])"
      ]
     },
     "execution_count": 11,
     "metadata": {},
     "output_type": "execute_result"
    }
   ],
   "source": [
    "start = earliest_point.time\n",
    "end = start + ns_delta(milliseconds=100)\n",
    "\n",
    "streamset.filter(start, end).to_array()"
   ]
  },
  {
   "cell_type": "markdown",
   "metadata": {},
   "source": [
    "### Pandas Series\n",
    "\n",
    "Converting to a pandas series will produce a view of the data similar to calling the `values` method.  The resulting series will be indexed by time."
   ]
  },
  {
   "cell_type": "code",
   "execution_count": 12,
   "metadata": {},
   "outputs": [
    {
     "data": {
      "text/plain": [
       "[2015-10-01 16:08:24.008333    0.143189\n",
       " 2015-10-01 16:08:24.016666    0.143241\n",
       " 2015-10-01 16:08:24.024999    0.143202\n",
       " 2015-10-01 16:08:24.033333    0.143307\n",
       " 2015-10-01 16:08:24.041666    0.143419\n",
       " 2015-10-01 16:08:24.049999    0.143242\n",
       " 2015-10-01 16:08:24.058333    0.143068\n",
       " 2015-10-01 16:08:24.066666    0.143047\n",
       " 2015-10-01 16:08:24.074999    0.143070\n",
       " 2015-10-01 16:08:24.083333    0.143086\n",
       " 2015-10-01 16:08:24.091666    0.143130\n",
       " 2015-10-01 16:08:24.099999    0.143152\n",
       " Name: sunshine/PMU1/C3MAG, dtype: float64,\n",
       " 2015-10-01 16:08:24.008333    0.144143\n",
       " 2015-10-01 16:08:24.016666    0.144034\n",
       " 2015-10-01 16:08:24.024999    0.144030\n",
       " 2015-10-01 16:08:24.033333    0.144093\n",
       " 2015-10-01 16:08:24.041666    0.144258\n",
       " 2015-10-01 16:08:24.049999    0.144323\n",
       " 2015-10-01 16:08:24.058333    0.144236\n",
       " 2015-10-01 16:08:24.066666    0.144312\n",
       " 2015-10-01 16:08:24.074999    0.144310\n",
       " 2015-10-01 16:08:24.083333    0.144165\n",
       " 2015-10-01 16:08:24.091666    0.144084\n",
       " 2015-10-01 16:08:24.099999    0.144075\n",
       " Name: sunshine/PMU1/C2MAG, dtype: float64,\n",
       " 2015-10-01 16:08:24.008333    0.144628\n",
       " 2015-10-01 16:08:24.016666    0.144479\n",
       " 2015-10-01 16:08:24.024999    0.144401\n",
       " 2015-10-01 16:08:24.033333    0.144516\n",
       " 2015-10-01 16:08:24.041666    0.144693\n",
       " 2015-10-01 16:08:24.049999    0.144579\n",
       " 2015-10-01 16:08:24.058333    0.144385\n",
       " 2015-10-01 16:08:24.066666    0.144398\n",
       " 2015-10-01 16:08:24.074999    0.144481\n",
       " 2015-10-01 16:08:24.083333    0.144562\n",
       " 2015-10-01 16:08:24.091666    0.144569\n",
       " 2015-10-01 16:08:24.099999    0.144512\n",
       " Name: sunshine/PMU1/C1MAG, dtype: float64]"
      ]
     },
     "execution_count": 12,
     "metadata": {},
     "output_type": "execute_result"
    }
   ],
   "source": [
    "streamset.filter(start, end).to_series()"
   ]
  },
  {
   "cell_type": "markdown",
   "metadata": {},
   "source": [
    "### Pandas DataFrame\n",
    "\n",
    "Converting to a pandas dataframe will produce a tabular view of the data similar to calling the `rows` method.  The resulting dataframe will be indexed by time."
   ]
  },
  {
   "cell_type": "code",
   "execution_count": 13,
   "metadata": {},
   "outputs": [
    {
     "data": {
      "text/html": [
       "<div>\n",
       "<style scoped>\n",
       "    .dataframe tbody tr th:only-of-type {\n",
       "        vertical-align: middle;\n",
       "    }\n",
       "\n",
       "    .dataframe tbody tr th {\n",
       "        vertical-align: top;\n",
       "    }\n",
       "\n",
       "    .dataframe thead th {\n",
       "        text-align: right;\n",
       "    }\n",
       "</style>\n",
       "<table border=\"1\" class=\"dataframe\">\n",
       "  <thead>\n",
       "    <tr style=\"text-align: right;\">\n",
       "      <th></th>\n",
       "      <th>sunshine/PMU1/C3MAG</th>\n",
       "      <th>sunshine/PMU1/C2MAG</th>\n",
       "      <th>sunshine/PMU1/C1MAG</th>\n",
       "    </tr>\n",
       "    <tr>\n",
       "      <th>time</th>\n",
       "      <th></th>\n",
       "      <th></th>\n",
       "      <th></th>\n",
       "    </tr>\n",
       "  </thead>\n",
       "  <tbody>\n",
       "    <tr>\n",
       "      <th>1443715704008333000</th>\n",
       "      <td>0.143189</td>\n",
       "      <td>0.144143</td>\n",
       "      <td>0.144628</td>\n",
       "    </tr>\n",
       "    <tr>\n",
       "      <th>1443715704016666000</th>\n",
       "      <td>0.143241</td>\n",
       "      <td>0.144034</td>\n",
       "      <td>0.144479</td>\n",
       "    </tr>\n",
       "    <tr>\n",
       "      <th>1443715704024999000</th>\n",
       "      <td>0.143202</td>\n",
       "      <td>0.144030</td>\n",
       "      <td>0.144401</td>\n",
       "    </tr>\n",
       "    <tr>\n",
       "      <th>1443715704033333000</th>\n",
       "      <td>0.143307</td>\n",
       "      <td>0.144093</td>\n",
       "      <td>0.144516</td>\n",
       "    </tr>\n",
       "    <tr>\n",
       "      <th>1443715704041666000</th>\n",
       "      <td>0.143419</td>\n",
       "      <td>0.144258</td>\n",
       "      <td>0.144693</td>\n",
       "    </tr>\n",
       "    <tr>\n",
       "      <th>1443715704049999000</th>\n",
       "      <td>0.143242</td>\n",
       "      <td>0.144323</td>\n",
       "      <td>0.144579</td>\n",
       "    </tr>\n",
       "    <tr>\n",
       "      <th>1443715704058333000</th>\n",
       "      <td>0.143068</td>\n",
       "      <td>0.144236</td>\n",
       "      <td>0.144385</td>\n",
       "    </tr>\n",
       "    <tr>\n",
       "      <th>1443715704066666000</th>\n",
       "      <td>0.143047</td>\n",
       "      <td>0.144312</td>\n",
       "      <td>0.144398</td>\n",
       "    </tr>\n",
       "    <tr>\n",
       "      <th>1443715704074999000</th>\n",
       "      <td>0.143070</td>\n",
       "      <td>0.144310</td>\n",
       "      <td>0.144481</td>\n",
       "    </tr>\n",
       "    <tr>\n",
       "      <th>1443715704083333000</th>\n",
       "      <td>0.143086</td>\n",
       "      <td>0.144165</td>\n",
       "      <td>0.144562</td>\n",
       "    </tr>\n",
       "    <tr>\n",
       "      <th>1443715704091666000</th>\n",
       "      <td>0.143130</td>\n",
       "      <td>0.144084</td>\n",
       "      <td>0.144569</td>\n",
       "    </tr>\n",
       "    <tr>\n",
       "      <th>1443715704099999000</th>\n",
       "      <td>0.143152</td>\n",
       "      <td>0.144075</td>\n",
       "      <td>0.144512</td>\n",
       "    </tr>\n",
       "  </tbody>\n",
       "</table>\n",
       "</div>"
      ],
      "text/plain": [
       "                     sunshine/PMU1/C3MAG  sunshine/PMU1/C2MAG  \\\n",
       "time                                                            \n",
       "1443715704008333000             0.143189             0.144143   \n",
       "1443715704016666000             0.143241             0.144034   \n",
       "1443715704024999000             0.143202             0.144030   \n",
       "1443715704033333000             0.143307             0.144093   \n",
       "1443715704041666000             0.143419             0.144258   \n",
       "1443715704049999000             0.143242             0.144323   \n",
       "1443715704058333000             0.143068             0.144236   \n",
       "1443715704066666000             0.143047             0.144312   \n",
       "1443715704074999000             0.143070             0.144310   \n",
       "1443715704083333000             0.143086             0.144165   \n",
       "1443715704091666000             0.143130             0.144084   \n",
       "1443715704099999000             0.143152             0.144075   \n",
       "\n",
       "                     sunshine/PMU1/C1MAG  \n",
       "time                                      \n",
       "1443715704008333000             0.144628  \n",
       "1443715704016666000             0.144479  \n",
       "1443715704024999000             0.144401  \n",
       "1443715704033333000             0.144516  \n",
       "1443715704041666000             0.144693  \n",
       "1443715704049999000             0.144579  \n",
       "1443715704058333000             0.144385  \n",
       "1443715704066666000             0.144398  \n",
       "1443715704074999000             0.144481  \n",
       "1443715704083333000             0.144562  \n",
       "1443715704091666000             0.144569  \n",
       "1443715704099999000             0.144512  "
      ]
     },
     "execution_count": 13,
     "metadata": {},
     "output_type": "execute_result"
    }
   ],
   "source": [
    "streamset.filter(start, end).to_dataframe()"
   ]
  },
  {
   "cell_type": "markdown",
   "metadata": {},
   "source": [
    "### Dictionaries\n",
    "\n",
    "Converting to Python dictionaries produces a list of `OrderedDicts` similar to calling the `rows` method. "
   ]
  },
  {
   "cell_type": "code",
   "execution_count": 14,
   "metadata": {},
   "outputs": [
    {
     "data": {
      "text/plain": [
       "[OrderedDict([('time', 1443715704008333000),\n",
       "              ('sunshine/PMU1/C3MAG', 0.14318889379501343),\n",
       "              ('sunshine/PMU1/C2MAG', 0.14414265751838684),\n",
       "              ('sunshine/PMU1/C1MAG', 0.14462821185588837)]),\n",
       " OrderedDict([('time', 1443715704016666000),\n",
       "              ('sunshine/PMU1/C3MAG', 0.14324119687080383),\n",
       "              ('sunshine/PMU1/C2MAG', 0.14403386414051056),\n",
       "              ('sunshine/PMU1/C1MAG', 0.144479438662529)]),\n",
       " OrderedDict([('time', 1443715704024999000),\n",
       "              ('sunshine/PMU1/C3MAG', 0.14320218563079834),\n",
       "              ('sunshine/PMU1/C2MAG', 0.14402998983860016),\n",
       "              ('sunshine/PMU1/C1MAG', 0.14440062642097473)]),\n",
       " OrderedDict([('time', 1443715704033333000),\n",
       "              ('sunshine/PMU1/C3MAG', 0.14330747723579407),\n",
       "              ('sunshine/PMU1/C2MAG', 0.14409348368644714),\n",
       "              ('sunshine/PMU1/C1MAG', 0.14451566338539124)]),\n",
       " OrderedDict([('time', 1443715704041666000),\n",
       "              ('sunshine/PMU1/C3MAG', 0.14341890811920166),\n",
       "              ('sunshine/PMU1/C2MAG', 0.14425787329673767),\n",
       "              ('sunshine/PMU1/C1MAG', 0.14469324052333832)]),\n",
       " OrderedDict([('time', 1443715704049999000),\n",
       "              ('sunshine/PMU1/C3MAG', 0.1432417333126068),\n",
       "              ('sunshine/PMU1/C2MAG', 0.1443229466676712),\n",
       "              ('sunshine/PMU1/C1MAG', 0.14457932114601135)]),\n",
       " OrderedDict([('time', 1443715704058333000),\n",
       "              ('sunshine/PMU1/C3MAG', 0.14306816458702087),\n",
       "              ('sunshine/PMU1/C2MAG', 0.14423619210720062),\n",
       "              ('sunshine/PMU1/C1MAG', 0.14438524842262268)]),\n",
       " OrderedDict([('time', 1443715704066666000),\n",
       "              ('sunshine/PMU1/C3MAG', 0.14304737746715546),\n",
       "              ('sunshine/PMU1/C2MAG', 0.1443118453025818),\n",
       "              ('sunshine/PMU1/C1MAG', 0.14439848065376282)]),\n",
       " OrderedDict([('time', 1443715704074999000),\n",
       "              ('sunshine/PMU1/C3MAG', 0.14306952059268951),\n",
       "              ('sunshine/PMU1/C2MAG', 0.14431005716323853),\n",
       "              ('sunshine/PMU1/C1MAG', 0.14448127150535583)]),\n",
       " OrderedDict([('time', 1443715704083333000),\n",
       "              ('sunshine/PMU1/C3MAG', 0.14308595657348633),\n",
       "              ('sunshine/PMU1/C2MAG', 0.14416487514972687),\n",
       "              ('sunshine/PMU1/C1MAG', 0.14456181228160858)]),\n",
       " OrderedDict([('time', 1443715704091666000),\n",
       "              ('sunshine/PMU1/C3MAG', 0.1431303173303604),\n",
       "              ('sunshine/PMU1/C2MAG', 0.14408448338508606),\n",
       "              ('sunshine/PMU1/C1MAG', 0.14456859230995178)]),\n",
       " OrderedDict([('time', 1443715704099999000),\n",
       "              ('sunshine/PMU1/C3MAG', 0.14315181970596313),\n",
       "              ('sunshine/PMU1/C2MAG', 0.1440746784210205),\n",
       "              ('sunshine/PMU1/C1MAG', 0.14451190829277039)])]"
      ]
     },
     "execution_count": 14,
     "metadata": {},
     "output_type": "execute_result"
    }
   ],
   "source": [
    "streamset.filter(start, end).to_dict()"
   ]
  }
 ],
 "metadata": {
  "kernelspec": {
   "display_name": "Python 3",
   "language": "python",
   "name": "python3"
  },
  "language_info": {
   "codemirror_mode": {
    "name": "ipython",
    "version": 3
   },
   "file_extension": ".py",
   "mimetype": "text/x-python",
   "name": "python",
   "nbconvert_exporter": "python",
   "pygments_lexer": "ipython3",
   "version": "3.7.3"
  }
 },
 "nbformat": 4,
 "nbformat_minor": 2
}
