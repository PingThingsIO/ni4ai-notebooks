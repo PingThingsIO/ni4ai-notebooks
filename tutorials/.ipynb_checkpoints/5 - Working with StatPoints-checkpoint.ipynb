{
 "cells": [
  {
   "cell_type": "markdown",
   "metadata": {},
   "source": [
    "# Working with StatPoints\n",
    "\n",
    "Capitalizing on the tree structure of the database can allow you to work more efficiently with large volumes of time series data. This tutorial describes the structure of the database and how it can be used to develop efficient code.\n",
    "\n",
    "This notebook gives a primer on how the database is structured, and how you can interact with it efficiently."
   ]
  },
  {
   "cell_type": "code",
   "execution_count": 62,
   "metadata": {},
   "outputs": [],
   "source": [
    "import btrdb\n",
    "import yaml\n",
    "\n",
    "from datetime import datetime, timedelta\n",
    "\n",
    "from btrdb.utils import timez"
   ]
  },
  {
   "cell_type": "code",
   "execution_count": 2,
   "metadata": {},
   "outputs": [],
   "source": [
    "# Make sure you add your API key to the config file to connect!\n",
    "with open('../config.yaml', 'r') as f:\n",
    "    config = yaml.safe_load(f)\n",
    "    \n",
    "conn = btrdb.connect(config['connection']['api_url'], config['connection']['api_key'])"
   ]
  },
  {
   "cell_type": "markdown",
   "metadata": {},
   "source": [
    "## Database structure\n",
    "Data are archived using a tree-based structure, where each level of the tree spans a prescribed time interval. The root node spans about 146 years (or $2^{62}$ nanoseconds). At each level of the database, the parent node is time-partitioned into 64 child nodes, each of which spans a time interval $1/64^{th}$ of the parent node. \n",
    "\n",
    "Each node is characterized by a parameter called the `pointwidth` which describes how many nanoseconds the node spans. The point width is specified in powers of two, and increases by a factor of 64 (or $2^6$) at each level.\n",
    "\n",
    "### Pointwidth reference table\n",
    "<table class=\"table table-sm table-striped table-bordered\">\n",
    "<thead>\n",
    "<tr>\n",
    "<th>level</th>\n",
    "<th>node width</th>\n",
    "</tr>\n",
    "</thead>\n",
    "<tbody>\n",
    "<tr>\n",
    "<td>1</td>\n",
    "<td>2<sup>62</sup> ns  (~146 years)</td>\n",
    "</tr>\n",
    "<tr>\n",
    "<td>2</td>\n",
    "<td>2<sup>56</sup> ns  (~2.28 years)</td>\n",
    "</tr>\n",
    "<tr>\n",
    "<td>3</td>\n",
    "<td>2<sup>50</sup> ns  (~13.03 days)</td>\n",
    "</tr>\n",
    "<tr>\n",
    "<td>4</td>\n",
    "<td>2<sup>44</sup> ns  (~4.88 hours)</td>\n",
    "</tr>\n",
    "<tr>\n",
    "<td>5</td>\n",
    "<td>2<sup>38</sup> ns  (~4.58 min)</td>\n",
    "</tr>\n",
    "<tr>\n",
    "<td>6</td>\n",
    "<td>2<sup>32</sup> ns  (~4.29 s)</td>\n",
    "</tr>\n",
    "<tr>\n",
    "<td>7</td>\n",
    "<td>2<sup>26</sup> ns  (~67.11 ms)</td>\n",
    "</tr>\n",
    "<tr>\n",
    "<td>8</td>\n",
    "<td>2<sup>20</sup> ns  (~1.05 ms)</td>\n",
    "</tr>\n",
    "<tr>\n",
    "<td>9</td>\n",
    "<td>2<sup>14</sup> ns  (~16.38 µs)</td>\n",
    "</tr>\n",
    "<tr>\n",
    "<td>10</td>\n",
    "<td>2<sup>8</sup> ns   (256 ns)</td>\n",
    "</tr>\n",
    "<tr>\n",
    "<td>11</td>\n",
    "<td>2<sup>2</sup> ns   (4 ns)</td>\n",
    "</tr>\n",
    "</tbody>\n",
    "</table>"
   ]
  },
  {
   "cell_type": "code",
   "execution_count": 77,
   "metadata": {},
   "outputs": [
    {
     "name": "stdout",
     "output_type": "stream",
     "text": [
      "sunshine/PMU6 C1ANG deg\n"
     ]
    }
   ],
   "source": [
    "streams = conn.streams_in_collection('sunshine')\n",
    "stream = streams[2]\n",
    "\n",
    "print(stream.collection, stream.name, stream.unit)"
   ]
  },
  {
   "cell_type": "code",
   "execution_count": 78,
   "metadata": {},
   "outputs": [],
   "source": [
    "earliest, _ = stream.earliest()\n",
    "start = earliest.time\n",
    "\n",
    "latest, _ = stream.latest()\n",
    "end = latest.time"
   ]
  },
  {
   "cell_type": "code",
   "execution_count": 79,
   "metadata": {},
   "outputs": [
    {
     "data": {
      "text/plain": [
       "91.99572135416666"
      ]
     },
     "execution_count": 79,
     "metadata": {},
     "output_type": "execute_result"
    }
   ],
   "source": [
    "# converts from nanoseconds to days\n",
    "ns_to_days = lambda dt: dt/1e9/60/60/24\n",
    "ns_to_days(end-start)"
   ]
  },
  {
   "cell_type": "markdown",
   "metadata": {},
   "source": [
    "## Making queries using `aligned_windows`\n",
    "\n",
    "The `aligned_windows` function rounds the start and end times to the nearest time window native to the database. It returns statpoints that span time intervals specified by the point width."
   ]
  },
  {
   "cell_type": "code",
   "execution_count": 94,
   "metadata": {},
   "outputs": [
    {
     "name": "stdout",
     "output_type": "stream",
     "text": [
      "Stream duration is 92 days\n",
      "There are 7 statpoints in measurement interval, where each statpoint spans 13.03 days\n",
      "Query took 0.10 seconds to run\n"
     ]
    }
   ],
   "source": [
    "pw = 50 # or 2^50 nanoseconds\n",
    "\n",
    "t0 = datetime.now()\n",
    "points = stream.aligned_windows(start=start, end=end, pointwidth=pw)\n",
    "\n",
    "dt = points[1][0].time - points[0][0].time\n",
    "\n",
    "print('Stream duration is %.0f days'%(ns_to_days(end-start)))\n",
    "print('There are %i statpoints in measurement interval, where each statpoint spans %.2f days'%(len(points), ns_to_days(dt)))\n",
    "print('Query took %.2f seconds to run'%((datetime.now()-t0)).total_seconds())\n"
   ]
  },
  {
   "cell_type": "code",
   "execution_count": 99,
   "metadata": {},
   "outputs": [
    {
     "name": "stdout",
     "output_type": "stream",
     "text": [
      "Start time\n",
      "   Specified:\t 2016-03-01 00:00:00.008333+00:00\n",
      "   Actual:\t 2016-02-18 09:42:59.547513+00:00\n",
      "End time\n",
      "   Specified:\t 2016-05-31 23:53:50.333333+00:00\n",
      "   Actual:\t 2016-05-19 14:57:58.895411+00:00\n"
     ]
    }
   ],
   "source": [
    "# note that aligned_windows queries gain efficiency by rounding start and end times to the nearest node\n",
    "print('Start time')\n",
    "print('   Specified:\\t', str(timez.ns_to_datetime(start)))\n",
    "print('   Actual:\\t', str(timez.ns_to_datetime(points[0][0].time)))\n",
    "print('End time')\n",
    "print('   Specified:\\t', str(timez.ns_to_datetime(end)))\n",
    "print('   Actual:\\t', str(timez.ns_to_datetime(points[-1][0].time + 2**pw)))\n"
   ]
  },
  {
   "cell_type": "code",
   "execution_count": 102,
   "metadata": {},
   "outputs": [
    {
     "data": {
      "text/html": [
       "<div>\n",
       "<style scoped>\n",
       "    .dataframe tbody tr th:only-of-type {\n",
       "        vertical-align: middle;\n",
       "    }\n",
       "\n",
       "    .dataframe tbody tr th {\n",
       "        vertical-align: top;\n",
       "    }\n",
       "\n",
       "    .dataframe thead th {\n",
       "        text-align: right;\n",
       "    }\n",
       "</style>\n",
       "<table border=\"1\" class=\"dataframe\">\n",
       "  <thead>\n",
       "    <tr style=\"text-align: right;\">\n",
       "      <th></th>\n",
       "      <th>Time Duration (days)</th>\n",
       "      <th>Number of Points</th>\n",
       "    </tr>\n",
       "  </thead>\n",
       "  <tbody>\n",
       "    <tr>\n",
       "      <th>0</th>\n",
       "      <td>13.031249</td>\n",
       "      <td>14889534</td>\n",
       "    </tr>\n",
       "    <tr>\n",
       "      <th>1</th>\n",
       "      <td>13.031249</td>\n",
       "      <td>135107989</td>\n",
       "    </tr>\n",
       "    <tr>\n",
       "      <th>2</th>\n",
       "      <td>13.031249</td>\n",
       "      <td>135107989</td>\n",
       "    </tr>\n",
       "    <tr>\n",
       "      <th>3</th>\n",
       "      <td>13.031249</td>\n",
       "      <td>135107988</td>\n",
       "    </tr>\n",
       "    <tr>\n",
       "      <th>4</th>\n",
       "      <td>13.031249</td>\n",
       "      <td>134302309</td>\n",
       "    </tr>\n",
       "    <tr>\n",
       "      <th>5</th>\n",
       "      <td>13.031249</td>\n",
       "      <td>132032629</td>\n",
       "    </tr>\n",
       "  </tbody>\n",
       "</table>\n",
       "</div>"
      ],
      "text/plain": [
       "   Time Duration (days)  Number of Points\n",
       "0             13.031249          14889534\n",
       "1             13.031249         135107989\n",
       "2             13.031249         135107989\n",
       "3             13.031249         135107988\n",
       "4             13.031249         134302309\n",
       "5             13.031249         132032629"
      ]
     },
     "execution_count": 102,
     "metadata": {},
     "output_type": "execute_result"
    }
   ],
   "source": [
    "pd.DataFrame({'Time Duration (days)': [ns_to_days(points[i][0].time - points[i-1][0].time) for i in range(1,len(points))],\n",
    "             'Number of Points': [points[i][0].count for i in range(0,len(points)-1)]})"
   ]
  },
  {
   "cell_type": "code",
   "execution_count": 104,
   "metadata": {},
   "outputs": [
    {
     "name": "stdout",
     "output_type": "stream",
     "text": [
      "Stream duration is 92 days\n",
      "There are 452 statpoints in measurement interval, where each statpoint spans 0.20 days\n",
      "Query took 0.11 seconds to run\n"
     ]
    }
   ],
   "source": [
    "pw = 44 # or 2^44 nanoseconds\n",
    "\n",
    "t0 = datetime.now()\n",
    "points = stream.aligned_windows(start=start, end=end, pointwidth=pw)\n",
    "\n",
    "# points = stream.windows(start=start, end=end+1e9, width=2**pw, depth=3)\n",
    "\n",
    "dt = points[1][0].time - points[0][0].time\n",
    "\n",
    "print('Stream duration is %.0f days'%(ns_to_days(end-start)))\n",
    "print('There are %i statpoints in measurement interval, where each statpoint spans %.2f days'%(len(points), ns_to_days(dt)))\n",
    "print('Query took %.2f seconds to run'%((datetime.now()-t0)).total_seconds())\n"
   ]
  },
  {
   "cell_type": "code",
   "execution_count": 105,
   "metadata": {},
   "outputs": [
    {
     "name": "stdout",
     "output_type": "stream",
     "text": [
      "Start time\n",
      "   Specified:\t 2016-03-01 00:00:00.008333+00:00\n",
      "   Actual:\t 2016-02-29 19:22:21.966000+00:00\n",
      "End time\n",
      "   Specified:\t 2016-05-31 23:53:50.333333+00:00\n",
      "   Actual:\t 2016-05-31 20:10:10.058076+00:00\n"
     ]
    }
   ],
   "source": [
    "# note that aligned_windows queries gain efficiency by rounding start and end times to the nearest node\n",
    "print('Start time')\n",
    "print('   Specified:\\t', str(timez.ns_to_datetime(start)))\n",
    "print('   Actual:\\t', str(timez.ns_to_datetime(points[0][0].time)))\n",
    "print('End time')\n",
    "print('   Specified:\\t', str(timez.ns_to_datetime(end)))\n",
    "print('   Actual:\\t', str(timez.ns_to_datetime(points[-1][0].time + 2**pw)))\n"
   ]
  },
  {
   "cell_type": "code",
   "execution_count": null,
   "metadata": {},
   "outputs": [],
   "source": [
    "pw = 44 # or 2^44 nanoseconds\n",
    "\n",
    "t0 = datetime.now()\n",
    "points = stream.windows(start=start, end=end+1e9, width=2**pw, depth=3)\n",
    "\n",
    "dt = points[1][0].time - points[0][0].time\n",
    "\n",
    "print('Stream duration is %.0f days'%(ns_to_days(end-start)))\n",
    "print('There are %i statpoints in measurement interval, where each statpoint spans %.2f days'%(len(points), ns_to_days(dt)))\n",
    "print('Query took %.2f seconds to run'%((datetime.now()-t0)).total_seconds())\n"
   ]
  },
  {
   "cell_type": "code",
   "execution_count": 81,
   "metadata": {},
   "outputs": [
    {
     "name": "stdout",
     "output_type": "stream",
     "text": [
      "Stream duration is 92 days\n",
      "There are 452 statpoints in measurement interval, where each statpoint spans 0.20 days\n",
      "Query took 0.20 seconds to run\n"
     ]
    }
   ],
   "source": [
    "pw = 44 # or 2^44 nanoseconds\n",
    "\n",
    "t0 = datetime.now()\n",
    "\n",
    "points = stream.aligned_windows(start=start, \n",
    "                                end=end, \n",
    "                                pointwidth=pw)\n",
    "\n",
    "dt = points[1][0].time - points[0][0].time\n",
    "\n",
    "print('Stream duration is %.0f days'%(ns_to_days(end-start)))\n",
    "print('There are %i statpoints in measurement interval, where each statpoint spans %.2f days'%(len(points), ns_to_days(dt)))\n",
    "print('Query took %.2f seconds to run'%((datetime.now()-t0)).total_seconds())\n"
   ]
  },
  {
   "cell_type": "code",
   "execution_count": 82,
   "metadata": {},
   "outputs": [
    {
     "name": "stdout",
     "output_type": "stream",
     "text": [
      "Stream duration is 92 days\n",
      "There are 28820 statpoints in measurement interval, where each statpoint spans 0.00 days\n",
      "Query took 0.91 seconds to run\n"
     ]
    }
   ],
   "source": [
    "pw = 38 # or 2^38 nanoseconds\n",
    "\n",
    "t0 = datetime.now()\n",
    "\n",
    "points = stream.aligned_windows(start=start, \n",
    "                                end=end, \n",
    "                                pointwidth=pw)\n",
    "\n",
    "dt = points[1][0].time - points[0][0].time\n",
    "\n",
    "print('Stream duration is %.0f days'%(ns_to_days(end-start)))\n",
    "print('There are %i statpoints in measurement interval, where each statpoint spans %.2f days'%(len(points), ns_to_days(dt)))\n",
    "print('Query took %.2f seconds to run'%((datetime.now()-t0)).total_seconds())\n"
   ]
  },
  {
   "cell_type": "markdown",
   "metadata": {},
   "source": [
    "### Stat Points\n",
    "Every node in a window is characterized by a `StatPoint` which reports summary statistics including the `mean`, `min`, `max`, `stddev`, and `count` of raw values within the interval. The interval is defined as `(start_time, end_time]` which is inclusive of the `start_time` and exclusive of `end_time`.\n",
    "\n",
    "Here, we'll use statpoints to expl"
   ]
  },
  {
   "cell_type": "markdown",
   "metadata": {},
   "source": [
    "`aligned_streams` returns a list of tuples, with one tuple for each statpoint in the interval between `(start, end]`"
   ]
  },
  {
   "cell_type": "code",
   "execution_count": 7,
   "metadata": {},
   "outputs": [
    {
     "data": {
      "text/plain": [
       "7"
      ]
     },
     "execution_count": 7,
     "metadata": {},
     "output_type": "execute_result"
    }
   ],
   "source": [
    "len(points)"
   ]
  },
  {
   "cell_type": "code",
   "execution_count": 8,
   "metadata": {},
   "outputs": [
    {
     "data": {
      "text/plain": [
       "StatPoint(1455788579547512832, 278.09783935546875, 287.6503201884692, 291.8509216308594, 14889534, 2.2875381760179407)"
      ]
     },
     "execution_count": 8,
     "metadata": {},
     "output_type": "execute_result"
    }
   ],
   "source": [
    "statpoints, versions = zip(*points)\n",
    "statpoints[0]"
   ]
  },
  {
   "cell_type": "code",
   "execution_count": 9,
   "metadata": {},
   "outputs": [
    {
     "name": "stdout",
     "output_type": "stream",
     "text": [
      "time \t 1455788579547512832\n",
      "min \t 278.09783935546875\n",
      "mean \t 287.6503201884692\n",
      "max \t 291.8509216308594\n",
      "stddev \t 2.2875381760179407\n",
      "count \t 14889534\n"
     ]
    }
   ],
   "source": [
    "attrs = ['time','min','mean','max','stddev','count']\n",
    "for attr in attrs:\n",
    "    print(attr, '\\t', getattr(statpoints[0], attr))"
   ]
  },
  {
   "cell_type": "code",
   "execution_count": 29,
   "metadata": {},
   "outputs": [
    {
     "data": {
      "text/html": [
       "<div>\n",
       "<style scoped>\n",
       "    .dataframe tbody tr th:only-of-type {\n",
       "        vertical-align: middle;\n",
       "    }\n",
       "\n",
       "    .dataframe tbody tr th {\n",
       "        vertical-align: top;\n",
       "    }\n",
       "\n",
       "    .dataframe thead th {\n",
       "        text-align: right;\n",
       "    }\n",
       "</style>\n",
       "<table border=\"1\" class=\"dataframe\">\n",
       "  <thead>\n",
       "    <tr style=\"text-align: right;\">\n",
       "      <th></th>\n",
       "      <th>count</th>\n",
       "      <th>min</th>\n",
       "      <th>mean</th>\n",
       "      <th>max</th>\n",
       "      <th>stddev</th>\n",
       "      <th>time</th>\n",
       "      <th>datetime</th>\n",
       "    </tr>\n",
       "  </thead>\n",
       "  <tbody>\n",
       "    <tr>\n",
       "      <th>0</th>\n",
       "      <td>14889534</td>\n",
       "      <td>278.098</td>\n",
       "      <td>287.65</td>\n",
       "      <td>291.851</td>\n",
       "      <td>2.28754</td>\n",
       "      <td>1455788579547512832</td>\n",
       "      <td>2016-02-18 09:42:59.547513+00:00</td>\n",
       "    </tr>\n",
       "    <tr>\n",
       "      <th>1</th>\n",
       "      <td>135107989</td>\n",
       "      <td>255.095</td>\n",
       "      <td>288.504</td>\n",
       "      <td>293.361</td>\n",
       "      <td>1.70531</td>\n",
       "      <td>1456914479454355456</td>\n",
       "      <td>2016-03-02 10:27:59.454355+00:00</td>\n",
       "    </tr>\n",
       "    <tr>\n",
       "      <th>2</th>\n",
       "      <td>135107989</td>\n",
       "      <td>249.115</td>\n",
       "      <td>288.71</td>\n",
       "      <td>294.417</td>\n",
       "      <td>1.80007</td>\n",
       "      <td>1458040379361198080</td>\n",
       "      <td>2016-03-15 11:12:59.361198+00:00</td>\n",
       "    </tr>\n",
       "    <tr>\n",
       "      <th>3</th>\n",
       "      <td>135107988</td>\n",
       "      <td>279.405</td>\n",
       "      <td>288.608</td>\n",
       "      <td>294.953</td>\n",
       "      <td>1.85815</td>\n",
       "      <td>1459166279268040704</td>\n",
       "      <td>2016-03-28 11:57:59.268041+00:00</td>\n",
       "    </tr>\n",
       "    <tr>\n",
       "      <th>4</th>\n",
       "      <td>134024869</td>\n",
       "      <td>278.375</td>\n",
       "      <td>288.196</td>\n",
       "      <td>293.629</td>\n",
       "      <td>1.61662</td>\n",
       "      <td>1460292179174883328</td>\n",
       "      <td>2016-04-10 12:42:59.174883+00:00</td>\n",
       "    </tr>\n",
       "    <tr>\n",
       "      <th>5</th>\n",
       "      <td>133097749</td>\n",
       "      <td>280.649</td>\n",
       "      <td>288.67</td>\n",
       "      <td>294.834</td>\n",
       "      <td>1.79631</td>\n",
       "      <td>1461418079081725952</td>\n",
       "      <td>2016-04-23 13:27:59.081726+00:00</td>\n",
       "    </tr>\n",
       "    <tr>\n",
       "      <th>6</th>\n",
       "      <td>134884189</td>\n",
       "      <td>274.378</td>\n",
       "      <td>288.385</td>\n",
       "      <td>293.21</td>\n",
       "      <td>1.57637</td>\n",
       "      <td>1462543978988568576</td>\n",
       "      <td>2016-05-06 14:12:58.988569+00:00</td>\n",
       "    </tr>\n",
       "  </tbody>\n",
       "</table>\n",
       "</div>"
      ],
      "text/plain": [
       "       count      min     mean      max   stddev                 time  \\\n",
       "0   14889534  278.098   287.65  291.851  2.28754  1455788579547512832   \n",
       "1  135107989  255.095  288.504  293.361  1.70531  1456914479454355456   \n",
       "2  135107989  249.115   288.71  294.417  1.80007  1458040379361198080   \n",
       "3  135107988  279.405  288.608  294.953  1.85815  1459166279268040704   \n",
       "4  134024869  278.375  288.196  293.629  1.61662  1460292179174883328   \n",
       "5  133097749  280.649   288.67  294.834  1.79631  1461418079081725952   \n",
       "6  134884189  274.378  288.385   293.21  1.57637  1462543978988568576   \n",
       "\n",
       "                          datetime  \n",
       "0 2016-02-18 09:42:59.547513+00:00  \n",
       "1 2016-03-02 10:27:59.454355+00:00  \n",
       "2 2016-03-15 11:12:59.361198+00:00  \n",
       "3 2016-03-28 11:57:59.268041+00:00  \n",
       "4 2016-04-10 12:42:59.174883+00:00  \n",
       "5 2016-04-23 13:27:59.081726+00:00  \n",
       "6 2016-05-06 14:12:58.988569+00:00  "
      ]
     },
     "execution_count": 29,
     "metadata": {},
     "output_type": "execute_result"
    }
   ],
   "source": [
    "import pandas as pd\n",
    "\n",
    "def stats_to_df(statpoints, \n",
    "                datetime_col=True, \n",
    "                attrs=['count','min','mean','max','stddev','time']):\n",
    "    df = pd.DataFrame(columns=attrs, index=range(len(statpoints)))\n",
    "    for i, spoint in enumerate(statpoints):\n",
    "        df.loc[i] = [getattr(spoint, attr) for attr in attrs]\n",
    "    \n",
    "    if datetime_col:\n",
    "        df['datetime'] = [timez.ns_to_datetime(t) for t in df['time'].tolist()]\n",
    "    return df\n",
    "\n",
    "dataframe = stats_to_df(statpoints)\n",
    "dataframe"
   ]
  },
  {
   "cell_type": "code",
   "execution_count": null,
   "metadata": {},
   "outputs": [],
   "source": []
  },
  {
   "cell_type": "code",
   "execution_count": null,
   "metadata": {},
   "outputs": [],
   "source": []
  }
 ],
 "metadata": {
  "kernelspec": {
   "display_name": "Python 3",
   "language": "python",
   "name": "python3"
  },
  "language_info": {
   "codemirror_mode": {
    "name": "ipython",
    "version": 3
   },
   "file_extension": ".py",
   "mimetype": "text/x-python",
   "name": "python",
   "nbconvert_exporter": "python",
   "pygments_lexer": "ipython3",
   "version": "3.7.7"
  }
 },
 "nbformat": 4,
 "nbformat_minor": 4
}
