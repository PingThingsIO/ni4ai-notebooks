{
 "cells": [
  {
   "cell_type": "markdown",
   "metadata": {},
   "source": [
    "# Working with Streams\n",
    "\n",
    "In this notebook we will focus on retrieving data from the individual time series streams in BTrDB.  As part of this we will also look into the `Point` classes which represent data within a `Stream` instance.  We will start with basic metadata and then move on to real value data.  As part of this we will retrieve both low level data as well as aggregated windows of data.\n",
    "\n",
    "If you would like to learn more about any of the topics covered here, please see the btrdb library [documentation](https://btrdb.readthedocs.io/en/develop/index.html).\n",
    "\n",
    "**NOTE**: To get access to the Sunshine dataset to run this notebook, please register for an API key at [ni4ai.org](https://ni4ai.org/)."
   ]
  },
  {
   "cell_type": "markdown",
   "metadata": {},
   "source": [
    "## Imports"
   ]
  },
  {
   "cell_type": "code",
   "execution_count": 1,
   "metadata": {},
   "outputs": [],
   "source": [
    "import btrdb\n",
    "from tabulate import tabulate\n",
    "from pprint import pprint"
   ]
  },
  {
   "cell_type": "markdown",
   "metadata": {},
   "source": [
    "## Connect To Server"
   ]
  },
  {
   "cell_type": "code",
   "execution_count": 2,
   "metadata": {},
   "outputs": [
    {
     "data": {
      "text/plain": [
       "{'majorVersion': 5, 'build': '5.7.5', 'proxy': {'proxyEndpoints': []}}"
      ]
     },
     "execution_count": 2,
     "metadata": {},
     "output_type": "execute_result"
    }
   ],
   "source": [
    "# Make sure you supply your API key to connect!\n",
    "conn = btrdb.connect(\"api.ni4ai.org:4411\", \"YOURAPIKEYHERE\")\n",
    "conn.info()"
   ]
  },
  {
   "cell_type": "markdown",
   "metadata": {},
   "source": [
    "# Stream Basics\n",
    "\n",
    "Streams contain actual points of data and you can query the time series values in a number of ways.  But first, let's look at the Stream metadata for a better understanding of what is available.\n",
    "\n",
    "## Metadata Properties\n",
    "\n",
    "As discussed in the previous notebook, a stream has its own metadata properties such as its `collection` or `uuid`.  Let's start by defining each read-only property.\n",
    "\n",
    "<dl>\n",
    "    <dt>collection</dt>\n",
    "    <dd>The hierarchichal path where a stream lives.  This is used purely for organizational purposes and has no impact on the underlying data.</dd>\n",
    "    <dt>name</dt> \n",
    "    <dd>A friendly name for the stream.</dd>\n",
    "    <dt>uuid</dt> \n",
    "    <dd>A unique identifier for a given stream.  This UUID cannot be changed and can be used to fetch a stream directly using the connection object.</dd>\n",
    "</dl>"
   ]
  },
  {
   "cell_type": "code",
   "execution_count": 3,
   "metadata": {},
   "outputs": [
    {
     "name": "stdout",
     "output_type": "stream",
     "text": [
      "collection:sunshine/PMU6, name:L2MAG, uuid:a1e473ff-e6bc-43e5-8a4e-ce2f2d9e3126\n",
      "collection:sunshine/PMU6, name:L3MAG, uuid:1c156b57-c27c-453d-863f-dcf95862da6f\n",
      "collection:sunshine/PMU6, name:L1MAG, uuid:8e825b4f-0103-4aa0-9212-e1119b1fd476\n"
     ]
    }
   ],
   "source": [
    "streams = list(conn.streams_in_collection('sunshine/PMU6', tags={\"unit\": \"volts\"}))\n",
    "for stream in streams:\n",
    "    print(\"collection:{}, name:{}, uuid:{}\".format(stream.collection, stream.name, stream.uuid))\n"
   ]
  },
  {
   "cell_type": "markdown",
   "metadata": {},
   "source": [
    "## Metadata Methods\n",
    "\n",
    "In addition to the metadata properties above, each stream has a set of metadata methods.  This information is provided as instance methods to indicate that they typically require a round-trip to the server and may change often.\n",
    "\n",
    "<dl>\n",
    "    <dt>tags</dt>\n",
    "    <dd>A dictionary containing metadata used internally by the BTrDB server.  This is also where the name of a stream can be found as the property is just for convenience.</dd>\n",
    "    <dt>annotations</dt> \n",
    "    <dd>A dictionary so that custom data can be attached to a stream.  As an example you could provide an annotation to indicate a point-of-contact for this data or the make/model of the sensor device.  Whenever you call the annotations method, a separate property version number is also returned. Similar to the stream version, this is a monotonically increasing number but is only updated when the metadata changes.</dd>\n",
    "</dl>\n",
    "\n",
    "Let's look at some sample tags and annotations below."
   ]
  },
  {
   "cell_type": "code",
   "execution_count": 4,
   "metadata": {},
   "outputs": [
    {
     "name": "stdout",
     "output_type": "stream",
     "text": [
      "tags\n",
      "{'distiller': '', 'ingress': '', 'name': 'L2MAG', 'unit': 'volts'}\n",
      "\n",
      "annotations\n",
      "{}\n",
      "\n",
      "property_version\n",
      "1\n"
     ]
    }
   ],
   "source": [
    "stream = streams[0]\n",
    "\n",
    "print(\"tags\")\n",
    "pprint(stream.tags())\n",
    "\n",
    "annotations, property_version = stream.annotations()\n",
    "print(\"\\nannotations\")\n",
    "pprint(annotations)\n",
    "\n",
    "print(\"\\nproperty_version\")\n",
    "print(property_version)"
   ]
  },
  {
   "cell_type": "markdown",
   "metadata": {},
   "source": [
    "## Metadata Example\n",
    "\n",
    "As with the collections, we can write a simple helper method to display information about a Stream."
   ]
  },
  {
   "cell_type": "code",
   "execution_count": 5,
   "metadata": {
    "scrolled": true
   },
   "outputs": [
    {
     "name": "stdout",
     "output_type": "stream",
     "text": [
      "Attribute      Value\n",
      "-------------  -------------\n",
      "collection     sunshine/PMU6\n",
      "version        18999\n",
      "tag/name       L2MAG\n",
      "tag/unit       volts\n",
      "tag/ingress\n",
      "tag/distiller\n"
     ]
    }
   ],
   "source": [
    "def stream_detail(stream):\n",
    "    \"\"\"\n",
    "    Prints detailed information about a stream.\n",
    "    \"\"\"\n",
    "    table = [[\"Attribute\", \"Value\"]]    \n",
    "    table.append([\"collection\", stream.collection])\n",
    "    table.append([\"version\", stream.version()])\n",
    "\n",
    "    for k,v in stream.tags().items():\n",
    "        table.append([\"tag/{}\".format(k), v])\n",
    "                \n",
    "    for k,v in stream.annotations()[0].items():\n",
    "        table.append([\"annotation/{}\".format(k), v])\n",
    "    \n",
    "    return tabulate(table, headers=\"firstrow\")\n",
    "\n",
    "print(stream_detail(stream))"
   ]
  },
  {
   "cell_type": "markdown",
   "metadata": {},
   "source": [
    "## Stream Version\n",
    "\n",
    "Remember that the version of a stream changes whenever data is modified (though not when metadata is modified).  This is especially useful on live data such that you can pin all of your queries to a specific version of your data.  Otherwise, you could potentially get constantly changing statistics as new data is appended or older data arrives out of order.\n",
    "\n",
    "Think of the version as a snapshot of your data in time.  Most of the calls we use on this page allow for an optional `version` argument which we have omitted. _The default value of zero is used which indicates the current (or latest) version_."
   ]
  },
  {
   "cell_type": "markdown",
   "metadata": {},
   "source": [
    "# Viewing Data\n",
    "\n",
    "Most likely you are interested in examining the stored values in each time series stream.  This is fairly straightforward though it is important to note that the time series values are actually provided in a `RawPoint` class which has `time` and `value` attributes.\n",
    "\n",
    "Because a stream may contain billions of values, data queries should provide a start and end time to bound the amount of data retrieved.  All times are stored internally in nanoseconds with the zero value being the [Unix epoch](https://en.wikipedia.org/wiki/Unix_time). Luckily, the btrdb library comes with many convenience functions to help with converting between nanoseconds and other datetime formats.\n",
    "\n",
    "Let's start with a simple example to view data in our `LINE560V1-MAG` stream. We will call the stream's `values` method which returns a sequence.  Each item in the sequence is a tuple containing a `RawPoint` and the version of the stream at retrieval time.  However, before we call the `values` method we will need to determine the start time for our call."
   ]
  },
  {
   "cell_type": "code",
   "execution_count": 6,
   "metadata": {},
   "outputs": [
    {
     "name": "stdout",
     "output_type": "stream",
     "text": [
      "RawPoint(1456790400008333333, 283.017822265625) 18999\n"
     ]
    }
   ],
   "source": [
    "# retrieve the first point of data and the current stream version\n",
    "earliest, version = stream.earliest()\n",
    "print(earliest, version)"
   ]
  },
  {
   "cell_type": "markdown",
   "metadata": {},
   "source": [
    "We can see above that the first data point in the stream has a time of `1536710401000000000` nanoseconds.  Let's convert that to a datetime so we can understand it better."
   ]
  },
  {
   "cell_type": "code",
   "execution_count": 7,
   "metadata": {},
   "outputs": [
    {
     "data": {
      "text/plain": [
       "datetime.datetime(2016, 3, 1, 0, 0, 0, 8333, tzinfo=<UTC>)"
      ]
     },
     "execution_count": 7,
     "metadata": {},
     "output_type": "execute_result"
    }
   ],
   "source": [
    "from btrdb.utils.timez import ns_to_datetime\n",
    "ns_to_datetime(earliest.time)"
   ]
  },
  {
   "cell_type": "markdown",
   "metadata": {},
   "source": [
    "Now, let's call `values` using our start time and ending 200 milliseconds later."
   ]
  },
  {
   "cell_type": "code",
   "execution_count": 8,
   "metadata": {},
   "outputs": [
    {
     "name": "stdout",
     "output_type": "stream",
     "text": [
      "RawPoint(1456790400008333333, 283.017822265625)\n",
      "RawPoint(1456790400016666666, 283.0371398925781)\n",
      "RawPoint(1456790400024999999, 283.05413818359375)\n",
      "RawPoint(1456790400033333332, 283.05853271484375)\n",
      "RawPoint(1456790400041666665, 283.0568542480469)\n",
      "RawPoint(1456790400049999998, 283.06005859375)\n",
      "RawPoint(1456790400058333331, 283.05340576171875)\n",
      "RawPoint(1456790400066666664, 283.0347900390625)\n",
      "RawPoint(1456790400074999997, 283.0113220214844)\n",
      "RawPoint(1456790400083333330, 283.0077209472656)\n",
      "RawPoint(1456790400091666663, 283.02532958984375)\n",
      "RawPoint(1456790400099999996, 283.03515625)\n",
      "RawPoint(1456790400108333329, 283.0439147949219)\n",
      "RawPoint(1456790400116666662, 283.05706787109375)\n",
      "RawPoint(1456790400124999995, 283.0538635253906)\n",
      "RawPoint(1456790400133333328, 283.0562438964844)\n",
      "RawPoint(1456790400141666661, 283.0840759277344)\n",
      "RawPoint(1456790400149999994, 283.11444091796875)\n",
      "RawPoint(1456790400158333327, 283.1253967285156)\n",
      "RawPoint(1456790400166666660, 283.1314697265625)\n",
      "RawPoint(1456790400174999993, 283.1392517089844)\n",
      "RawPoint(1456790400183333326, 283.1244812011719)\n",
      "RawPoint(1456790400191666659, 283.1060485839844)\n",
      "RawPoint(1456790400199999992, 283.09478759765625)\n"
     ]
    }
   ],
   "source": [
    "start = earliest.time\n",
    "end = earliest.time + 2e8\n",
    "\n",
    "for point, version in stream.values(start, end):\n",
    "    print(point)"
   ]
  },
  {
   "cell_type": "markdown",
   "metadata": {},
   "source": [
    "We can also access the `time` and `value` attribute of each point as follows:"
   ]
  },
  {
   "cell_type": "code",
   "execution_count": 9,
   "metadata": {},
   "outputs": [
    {
     "name": "stdout",
     "output_type": "stream",
     "text": [
      "1456790400008333333 283.017822265625\n",
      "1456790400016666666 283.0371398925781\n",
      "1456790400024999999 283.05413818359375\n",
      "1456790400033333332 283.05853271484375\n",
      "1456790400041666665 283.0568542480469\n",
      "1456790400049999998 283.06005859375\n",
      "1456790400058333331 283.05340576171875\n",
      "1456790400066666664 283.0347900390625\n",
      "1456790400074999997 283.0113220214844\n",
      "1456790400083333330 283.0077209472656\n",
      "1456790400091666663 283.02532958984375\n",
      "1456790400099999996 283.03515625\n",
      "1456790400108333329 283.0439147949219\n",
      "1456790400116666662 283.05706787109375\n",
      "1456790400124999995 283.0538635253906\n",
      "1456790400133333328 283.0562438964844\n",
      "1456790400141666661 283.0840759277344\n",
      "1456790400149999994 283.11444091796875\n",
      "1456790400158333327 283.1253967285156\n",
      "1456790400166666660 283.1314697265625\n",
      "1456790400174999993 283.1392517089844\n",
      "1456790400183333326 283.1244812011719\n",
      "1456790400191666659 283.1060485839844\n",
      "1456790400199999992 283.09478759765625\n"
     ]
    }
   ],
   "source": [
    "for point, version in stream.values(start, end):\n",
    "    print(point.time, point.value)"
   ]
  },
  {
   "cell_type": "markdown",
   "metadata": {},
   "source": [
    "# Windowed Data\n",
    "\n",
    "Aside from viewing the raw values, we can also query windows of data.  Windowed queries return `StatPoint` values that contain aggregations of the data in each window rather than individual `RawPoint` values.  Each `StatPoint` contains attributes for the minimum, maximum, mean, and standard deviation of the values along with a count of total points and the start time of the window.  You can find more information about windowing data in the [docs](https://btrdb.readthedocs.io/en/develop/working/stream-view-data.html#view-windows-of-data) or view the [API](https://btrdb.readthedocs.io/en/develop/api/streams.html) reference.\n",
    "\n",
    "This time we will use another convenience function which will help us to manipulate values at the nanosecond scale by better defining the query range and selecting aggregates of data at 100 millisecond intervals."
   ]
  },
  {
   "cell_type": "code",
   "execution_count": 10,
   "metadata": {},
   "outputs": [
    {
     "name": "stdout",
     "output_type": "stream",
     "text": [
      "StatPoint(1456790400008333333, 283.0077209472656, 283.0381681002103, 283.06005859375, 13, 0.01756613630258114)\n",
      "StatPoint(1456790400108333333, 283.0538635253906, 283.09793853759766, 283.1392517089844, 12, 0.02926511135372311)\n",
      "StatPoint(1456790400208333333, 283.0471496582031, 283.06492614746094, 283.0984191894531, 12, 0.015547967306100452)\n",
      "StatPoint(1456790400308333333, 282.9364318847656, 282.9983139038086, 283.05078125, 12, 0.03643236723951196)\n",
      "StatPoint(1456790400408333333, 282.9898376464844, 283.0133412679036, 283.03564453125, 12, 0.013045083005459934)\n",
      "StatPoint(1456790400508333333, 283.0331115722656, 283.0482915242513, 283.07122802734375, 12, 0.012307103363920704)\n",
      "StatPoint(1456790400608333333, 283.05145263671875, 283.0928217569987, 283.16107177734375, 12, 0.032935427117755385)\n",
      "StatPoint(1456790400708333333, 283.089111328125, 283.12634023030597, 283.1594543457031, 12, 0.01963902184332479)\n",
      "StatPoint(1456790400808333333, 283.083740234375, 283.12666575113934, 283.15911865234375, 12, 0.01903334984992742)\n",
      "StatPoint(1456790400908333333, 283.0104064941406, 283.0337940562855, 283.0607604980469, 11, 0.016538414793039025)\n"
     ]
    }
   ],
   "source": [
    "from btrdb.utils.timez import ns_delta\n",
    "\n",
    "start = earliest.time\n",
    "end = earliest.time + ns_delta(seconds=1)   # 1 second later\n",
    "width = ns_delta(milliseconds=100)          # 100 milleseconds per window\n",
    "\n",
    "for point, version in stream.windows(start, end, width):\n",
    "    print(point)"
   ]
  },
  {
   "cell_type": "markdown",
   "metadata": {},
   "source": [
    "Let's create a convenience function to view all of this data in a table using tabulate again."
   ]
  },
  {
   "cell_type": "code",
   "execution_count": 11,
   "metadata": {},
   "outputs": [
    {
     "name": "stdout",
     "output_type": "stream",
     "text": [
      "               time      min      max     mean     stddev    count\n",
      "-------------------  -------  -------  -------  ---------  -------\n",
      "1456790400008333333  283.008  283.06   283.038  0.0175661       13\n",
      "1456790400108333333  283.054  283.139  283.098  0.0292651       12\n",
      "1456790400208333333  283.047  283.098  283.065  0.015548        12\n",
      "1456790400308333333  282.936  283.051  282.998  0.0364324       12\n",
      "1456790400408333333  282.99   283.036  283.013  0.0130451       12\n",
      "1456790400508333333  283.033  283.071  283.048  0.0123071       12\n",
      "1456790400608333333  283.051  283.161  283.093  0.0329354       12\n",
      "1456790400708333333  283.089  283.159  283.126  0.019639        12\n",
      "1456790400808333333  283.084  283.159  283.127  0.0190333       12\n",
      "1456790400908333333  283.01   283.061  283.034  0.0165384       11\n"
     ]
    }
   ],
   "source": [
    "def stat_table(points):\n",
    "    attrs = [\"time\", \"min\", \"max\", \"mean\", \"stddev\", \"count\"]\n",
    "    table = [attrs]\n",
    "    for p in points:\n",
    "        table.append([getattr(p, attr) for attr in attrs])\n",
    "    return tabulate(table, headers=\"firstrow\")\n",
    "\n",
    "points = [point for point, _ in stream.windows(start, end, width)]\n",
    "print(stat_table(points))"
   ]
  },
  {
   "cell_type": "markdown",
   "metadata": {},
   "source": [
    "While we haven't used it in our examples, you can also optionally supply a `depth` argument to the `windows` query. The depth is the precision of the data in each window, which can greatly speed up your queries if you don't need to be precise down to the nanosecond level.  As an example, supplying `depth=30` would return to-second precision and take advantage of the BTrDB database to increase the retrieval performance.  Please see the docs for more information."
   ]
  },
  {
   "cell_type": "markdown",
   "metadata": {},
   "source": [
    "### Aligned Windows\n",
    "\n",
    "The aligned windows method is an alternative aggregate query that more directly exploits the underlying database structure for the best possible performance. This method, `aligned_windows` takes a `pointwidth` argument that defines the window width as a power of two. Like the `windows` method, each point returned is a statistical aggregate of all the raw data within a window but of width $2^{pointwidth}$ nanoseconds.\n",
    "\n",
    "Note that when bounding the query with a time range, `start` is inclusive, but `end` is exclusive. That is, results will be returned for all windows that start in the interval $[start, end)$. If $end < start+2^{pointwidth}$ you will not get any results. If start and end are not powers of two, the bottom pointwidth bits will be cleared. Each window will contain statistical summaries of the window. Statistical points with no points (`count=0`) will be ommitted."
   ]
  },
  {
   "cell_type": "code",
   "execution_count": 12,
   "metadata": {},
   "outputs": [
    {
     "name": "stdout",
     "output_type": "stream",
     "text": [
      "               time      min      max     mean     stddev    count\n",
      "-------------------  -------  -------  -------  ---------  -------\n",
      "1456790399996657664  283.008  283.06   283.04   0.017388        15\n",
      "1456790400130875392  283.054  283.139  283.094  0.0276213       16\n",
      "1456790400265093120  282.95   283.069  283.027  0.0342351       16\n",
      "1456790400399310848  282.936  283.04   283.01   0.0272138       17\n",
      "1456790400533528576  283.034  283.112  283.061  0.0189327       16\n",
      "1456790400667746304  283.089  283.161  283.127  0.0202038       16\n",
      "1456790400801964032  283.044  283.159  283.111  0.0338108       16\n"
     ]
    }
   ],
   "source": [
    "pointwidth = 27    # 2^27 nanoseconds wide\n",
    "points = [point for point, _ in stream.aligned_windows(start, end, pointwidth)]\n",
    "print(stat_table(points))"
   ]
  },
  {
   "cell_type": "markdown",
   "metadata": {},
   "source": [
    "This can be really useful if you dont particularly care where the start/end of your windows are, or if you just want a high level statistical view.\n",
    "\n",
    "As an example, the code below will return a single window of all of the data so you can easily view statistics of the entire dataset. We will use the `currently_as_ns` function to get the current datetime as nanoseconds from epoch to use as our end time."
   ]
  },
  {
   "cell_type": "code",
   "execution_count": 13,
   "metadata": {},
   "outputs": [
    {
     "name": "stdout",
     "output_type": "stream",
     "text": [
      "               time      min      max     mean    stddev      count\n",
      "-------------------  -------  -------  -------  --------  ---------\n",
      "1454662679640670208  240.445  290.53   285.478   1.41733  285105512\n",
      "1459166279268040704  271.247  293.465  284.494   1.62677  536368035\n",
      "1463669878895411200  266.341  289.085  283.935   1.7701   127976453\n"
     ]
    }
   ],
   "source": [
    "from btrdb.utils.timez import currently_as_ns\n",
    "\n",
    "pointwidth = 52\n",
    "points = [point for point, _ in stream.aligned_windows(start, currently_as_ns(), pointwidth)]\n",
    "print(stat_table(points))"
   ]
  }
 ],
 "metadata": {
  "kernelspec": {
   "display_name": "Python 3",
   "language": "python",
   "name": "python3"
  },
  "language_info": {
   "codemirror_mode": {
    "name": "ipython",
    "version": 3
   },
   "file_extension": ".py",
   "mimetype": "text/x-python",
   "name": "python",
   "nbconvert_exporter": "python",
   "pygments_lexer": "ipython3",
   "version": "3.7.7"
  }
 },
 "nbformat": 4,
 "nbformat_minor": 2
}
