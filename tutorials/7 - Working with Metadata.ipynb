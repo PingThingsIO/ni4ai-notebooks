{
 "cells": [
  {
   "cell_type": "markdown",
   "metadata": {},
   "source": [
    "# Working with Metadata\n",
    "\n",
    "This tutorial demonstrates various options for querying and interacting with metadata about streams.\n",
    "\n",
    "### What is Metadata?\n",
    "\n",
    "Metadata reports high-level information about data that is in a stream, such as where it was collected or how it relates to other streams in the database. This tutorial illustrates various functions for interacting with metadata in the database. \n",
    "\n",
    "### Functions covered:\n",
    "\n",
    "- [`db.streams_in_collection()`](https://btrdb.readthedocs.io/en/latest/api/conn.html#btrdb.conn.BTrDB.streams_in_collection)\n",
    "- [`db.collection_metadata()`](https://btrdb.readthedocs.io/en/latest/api/conn.html#btrdb.conn.BTrDB.collection_metadata)\n",
    "- [`db.query()`](https://btrdb.readthedocs.io/en/latest/api/conn.html#btrdb.conn.BTrDB.query)\n",
    "\n"
   ]
  },
  {
   "cell_type": "code",
   "execution_count": 1,
   "metadata": {},
   "outputs": [],
   "source": [
    "import btrdb\n",
    "import pandas as pd\n",
    "from matplotlib import pyplot as plt"
   ]
  },
  {
   "cell_type": "code",
   "execution_count": 2,
   "metadata": {},
   "outputs": [],
   "source": [
    "db = btrdb.connect()"
   ]
  },
  {
   "cell_type": "markdown",
   "metadata": {},
   "source": [
    "### About the data\n",
    "This tutorial uses a data collection ``POW/signatures`` which includes time series data from upwards of 200 events captured by digital fault recorders (DFRs) on the grid. The raw data set includes a 2-second snapshot of the raw waveform data recorded during each fault, as well as information collected after the fact to document what had caused the fault."
   ]
  },
  {
   "cell_type": "code",
   "execution_count": 3,
   "metadata": {},
   "outputs": [],
   "source": [
    "collection = 'POW/signatures'\n",
    "streams = db.streams_in_collection(collection)"
   ]
  },
  {
   "cell_type": "markdown",
   "metadata": {},
   "source": [
    "# Accessing metadata fields\n",
    "\n",
    "Each stream includes two types of metadata:\n",
    "- **Tags** describe required fields, such as the stream name and units\n",
    "- **Annotations**: describe optional fields which are specified by the user.\n",
    "\n",
    "Different types of metadata can be retrieved using [`stream.tags()`](https://btrdb.readthedocs.io/en/latest/api/streams.html#btrdb.stream.Stream.tags) and [`stream.annotations()`](https://btrdb.readthedocs.io/en/latest/api/streams.html#btrdb.stream.Stream.annotations)."
   ]
  },
  {
   "cell_type": "code",
   "execution_count": 4,
   "metadata": {},
   "outputs": [
    {
     "name": "stdout",
     "output_type": "stream",
     "text": [
      "COLLECTION: POW/signatures/event2907\n",
      "\n",
      "#################\n",
      "   TAGS\n",
      "distiller         \n",
      "name            Vb\n",
      "unit         volts\n",
      "ingress           \n",
      "dtype: object\n",
      "\n",
      "#################\n",
      "   ANNOTATIONS\n"
     ]
    },
    {
     "data": {
      "text/plain": [
       "SiteName                                                           Site0010\n",
       "IsolationEquipmentCode                                             Recloser\n",
       "Cause                                                             Lightning\n",
       "FailedEquipmentCode                                                 Unknown\n",
       "Details                   A lightning strike caused a recloser on  F_000...\n",
       "EventId                                                                2907\n",
       "FeederId                                                          F_0000026\n",
       "Phase                                                                     2\n",
       "EventTime                                        2006-08-01 18:07:56.609000\n",
       "Weather                                                         Major Storm\n",
       "DataSource                              https://pqmon.epri.com/see_all.html\n",
       "dtype: object"
      ]
     },
     "execution_count": 4,
     "metadata": {},
     "output_type": "execute_result"
    }
   ],
   "source": [
    "stream = streams[1]\n",
    "\n",
    "print('COLLECTION:', stream.collection)\n",
    "\n",
    "print('\\n#################')\n",
    "print('   TAGS')\n",
    "print(pd.Series(stream.tags()))\n",
    "\n",
    "print('\\n#################')\n",
    "print('   ANNOTATIONS')\n",
    "pd.Series(stream.annotations()[0])"
   ]
  },
  {
   "cell_type": "markdown",
   "metadata": {},
   "source": [
    "## Birds eye view\n",
    "\n",
    "One can get a high-level overview of metadata fields available for streams in a given collection using [`db.collection_metadata`](https://btrdb.readthedocs.io/en/latest/api/conn.html#btrdb.conn.BTrDB.collection_metadata)."
   ]
  },
  {
   "cell_type": "code",
   "execution_count": 5,
   "metadata": {},
   "outputs": [
    {
     "data": {
      "text/plain": [
       "({'name': 0, 'unit': 0, 'ingress': 0, 'distiller': 0},\n",
       " {'Cause': 1773,\n",
       "  'DataSource': 1773,\n",
       "  'Details': 1773,\n",
       "  'EventId': 1773,\n",
       "  'EventTime': 1773,\n",
       "  'FailedEquipmentCode': 1773,\n",
       "  'FeederId': 1773,\n",
       "  'IsolationEquipmentCode': 1773,\n",
       "  'Phase': 1773,\n",
       "  'SiteName': 1773,\n",
       "  'Weather': 1773})"
      ]
     },
     "execution_count": 5,
     "metadata": {},
     "output_type": "execute_result"
    }
   ],
   "source": [
    "metadata = db.collection_metadata(collection)\n",
    "metadata"
   ]
  },
  {
   "cell_type": "markdown",
   "metadata": {},
   "source": [
    "# Filtering on metadata contents\n",
    "\n",
    "Metadata can provide a useful mechanism for determining what streams are relevant to a particular analysis. Two examples of filtering streams based on metadata contents are provided below."
   ]
  },
  {
   "cell_type": "code",
   "execution_count": 6,
   "metadata": {},
   "outputs": [
    {
     "name": "stdout",
     "output_type": "stream",
     "text": [
      "POW/signatures/event2907\n"
     ]
    },
    {
     "data": {
      "text/plain": [
       "[<Stream collection=POW/signatures/event2907 name=Vb>,\n",
       " <Stream collection=POW/signatures/event2907 name=Va>,\n",
       " <Stream collection=POW/signatures/event2907 name=Vc>]"
      ]
     },
     "execution_count": 6,
     "metadata": {},
     "output_type": "execute_result"
    }
   ],
   "source": [
    "# Find all voltage streams for a given event\n",
    "event_name = stream.collection\n",
    "print(event_name)\n",
    "streams = db.streams_in_collection(event_name, \n",
    "                                   tags={'unit':'volts'})\n",
    "streams"
   ]
  },
  {
   "cell_type": "code",
   "execution_count": 7,
   "metadata": {},
   "outputs": [
    {
     "name": "stdout",
     "output_type": "stream",
     "text": [
      "63 streams selected from across 9 collections\n"
     ]
    }
   ],
   "source": [
    "# Find all fault events caused by lightning during a major storm\n",
    "annotations = {'Cause': 'Lightning',\n",
    "              'Weather': 'Major Storm'}\n",
    "streams = db.streams_in_collection(collection, \n",
    "                                   annotations=annotations)\n",
    "\n",
    "print(\"%i streams selected from across %i collections\"\n",
    "      %(len(streams), len(list(set([s.collection for s in streams])))))"
   ]
  },
  {
   "cell_type": "markdown",
   "metadata": {},
   "source": [
    "# Using SQL to query metadata\n",
    "\n",
    "Above, we used dictionaries to specify filtering criteria in terms of tags and annotations we wished to filter upon. You can achieve the same results using the `db.query()` function which allows you to pass any arbitrary SQL query. That query is applied to the database table that stores metadata, and offers much greater flexibility for specifying complex search criteria."
   ]
  },
  {
   "cell_type": "code",
   "execution_count": 8,
   "metadata": {},
   "outputs": [],
   "source": [
    "##################\n",
    "# Specify query\n",
    "query = \"\"\"SELECT uuid, name, unit from streams \n",
    "            WHERE collection LIKE $1 and unit='volts'\"\"\"\n",
    "\n",
    "params = ['%%event%s'%(stream.annotations()[0]['EventId'])]\n",
    "\n",
    "##################\n",
    "# Find Streams\n",
    "streams_dict = db.query(query, params)\n",
    "streams = db.streams(*[s['uuid'] for s in streams_dict])\n",
    "\n",
    "\n",
    "##################\n",
    "# Get data!\n",
    "start = min([s.time for s in streams.earliest()])\n",
    "end = max([s.time for s in streams.latest()])\n",
    "df = streams.filter(start=start, end=end).to_dataframe()\n",
    "\n"
   ]
  },
  {
   "cell_type": "markdown",
   "metadata": {},
   "source": [
    "# Doc strings for functions used"
   ]
  },
  {
   "cell_type": "code",
   "execution_count": 9,
   "metadata": {},
   "outputs": [
    {
     "name": "stdout",
     "output_type": "stream",
     "text": [
      "\n",
      "        Search for streams matching given parameters\n",
      "\n",
      "        This function allows for searching\n",
      "\n",
      "        Parameters\n",
      "        ----------\n",
      "        collection: str\n",
      "            collections to use when searching for streams, case sensitive.\n",
      "        is_collection_prefix: bool\n",
      "            Whether the collection is a prefix.\n",
      "        tags: Dict[str, str]\n",
      "            The tags to identify the stream.\n",
      "        annotations: Dict[str, str]\n",
      "            The annotations to identify the stream.\n",
      "\n",
      "        Returns\n",
      "        ------\n",
      "        list\n",
      "            A list of stream objects found with the provided search arguments.\n",
      "\n",
      "        \n"
     ]
    }
   ],
   "source": [
    "print(db.streams_in_collection.__doc__)"
   ]
  },
  {
   "cell_type": "code",
   "execution_count": 10,
   "metadata": {},
   "outputs": [
    {
     "name": "stdout",
     "output_type": "stream",
     "text": [
      "\n",
      "        Search for streams matching given parameters\n",
      "\n",
      "        This function allows for searching\n",
      "\n",
      "        Parameters\n",
      "        ----------\n",
      "        collection: str\n",
      "            collections to use when searching for streams, case sensitive.\n",
      "        is_collection_prefix: bool\n",
      "            Whether the collection is a prefix.\n",
      "        tags: Dict[str, str]\n",
      "            The tags to identify the stream.\n",
      "        annotations: Dict[str, str]\n",
      "            The annotations to identify the stream.\n",
      "\n",
      "        Returns\n",
      "        ------\n",
      "        list\n",
      "            A list of stream objects found with the provided search arguments.\n",
      "\n",
      "        \n"
     ]
    }
   ],
   "source": [
    "print(db.streams_in_collection.__doc__)"
   ]
  },
  {
   "cell_type": "code",
   "execution_count": 11,
   "metadata": {},
   "outputs": [
    {
     "name": "stdout",
     "output_type": "stream",
     "text": [
      "\n",
      "        Performs a SQL query on the database metadata and returns a list of\n",
      "        dictionaries from the resulting cursor.\n",
      "\n",
      "        Parameters\n",
      "        ----------\n",
      "        stmt: str\n",
      "            a SQL statement to be executed on the BTrDB metadata.  Available\n",
      "            tables are noted below.  To sanitize inputs use a `$1` style parameter such as\n",
      "            `select * from streams where name = $1 or name = $2`.\n",
      "        params: list or tuple\n",
      "            a list of parameter values to be sanitized and interpolated into the\n",
      "            SQL statement. Using parameters forces value/type checking and is\n",
      "            considered a best practice at the very least.\n",
      "\n",
      "        Returns\n",
      "        -------\n",
      "        list\n",
      "            a list of dictionary object representing the cursor results.\n",
      "\n",
      "\n",
      "        Notes\n",
      "        -------\n",
      "        Parameters will be inserted into the SQL statement as noted by the\n",
      "        paramter number such as `$1`, `$2`, or `$3`.  The `streams` table is\n",
      "        available for `SELECT` statements only.\n",
      "\n",
      "        See https://btrdb.readthedocs.io/en/latest/ for more info.\n",
      "        \n"
     ]
    }
   ],
   "source": [
    "print(db.query.__doc__)"
   ]
  },
  {
   "cell_type": "code",
   "execution_count": null,
   "metadata": {},
   "outputs": [],
   "source": []
  },
  {
   "cell_type": "code",
   "execution_count": null,
   "metadata": {},
   "outputs": [],
   "source": []
  }
 ],
 "metadata": {
  "kernelspec": {
   "display_name": "Python 3",
   "language": "python",
   "name": "python3"
  },
  "language_info": {
   "codemirror_mode": {
    "name": "ipython",
    "version": 3
   },
   "file_extension": ".py",
   "mimetype": "text/x-python",
   "name": "python",
   "nbconvert_exporter": "python",
   "pygments_lexer": "ipython3",
   "version": "3.7.3"
  }
 },
 "nbformat": 4,
 "nbformat_minor": 2
}
