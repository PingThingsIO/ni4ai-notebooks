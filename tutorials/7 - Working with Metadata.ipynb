{
 "cells": [
  {
   "cell_type": "markdown",
   "metadata": {},
   "source": [
    "# 7 - Working with Metadata\n",
    "\n",
    "This tutorial demonstrates various options for querying and interacting with metadata about streams.\n",
    "\n",
    "### What is Metadata?\n",
    "\n",
    "Metadata reports high-level information about data that is in a stream, such as where it was collected or how it relates to other streams in the database. This tutorial illustrates various functions for interacting with metadata in the database. \n",
    "\n",
    "### Functions covered:\n",
    "\n",
    "- [`db.streams_in_collection()`](https://btrdb.readthedocs.io/en/latest/api/conn.html#btrdb.conn.BTrDB.streams_in_collection)\n",
    "- [`db.collection_metadata()`](https://btrdb.readthedocs.io/en/latest/api/conn.html#btrdb.conn.BTrDB.collection_metadata)\n",
    "- [`db.query()`](https://btrdb.readthedocs.io/en/latest/api/conn.html#btrdb.conn.BTrDB.query)\n",
    "\n"
   ]
  },
  {
   "cell_type": "code",
   "execution_count": 1,
   "metadata": {},
   "outputs": [],
   "source": [
    "import btrdb\n",
    "import pandas as pd\n",
    "from matplotlib import pyplot as plt"
   ]
  },
  {
   "cell_type": "code",
   "execution_count": 2,
   "metadata": {},
   "outputs": [],
   "source": [
    "db = btrdb.connect()"
   ]
  },
  {
   "cell_type": "markdown",
   "metadata": {},
   "source": [
    "### About the data\n",
    "This tutorial uses a data collection ``POW/signatures`` which includes time series data from upwards of 200 events captured by digital fault recorders (DFRs) on the grid. The raw data set includes a 2-second snapshot of the raw waveform data recorded during each fault, as well as information collected after the fact to document what had caused the fault."
   ]
  },
  {
   "cell_type": "code",
   "execution_count": 3,
   "metadata": {},
   "outputs": [],
   "source": [
    "collection = 'POW/signatures'\n",
    "streams = db.streams_in_collection(collection)"
   ]
  },
  {
   "cell_type": "markdown",
   "metadata": {},
   "source": [
    "# Accessing metadata fields\n",
    "\n",
    "Each stream includes two types of metadata:\n",
    "- **Tags** describe required fields, such as the stream name and units\n",
    "- **Annotations**: describe optional fields which are specified by the user.\n",
    "\n",
    "Different types of metadata can be retrieved using [`stream.tags()`](https://btrdb.readthedocs.io/en/latest/api/streams.html#btrdb.stream.Stream.tags) and [`stream.annotations()`](https://btrdb.readthedocs.io/en/latest/api/streams.html#btrdb.stream.Stream.annotations)."
   ]
  },
  {
   "cell_type": "code",
   "execution_count": 4,
   "metadata": {},
   "outputs": [
    {
     "name": "stdout",
     "output_type": "stream",
     "text": [
      "COLLECTION: POW/signatures/event2907\n",
      "\n",
      "TAGS:\n",
      " dict_keys(['unit', 'ingress', 'distiller', 'name'])\n",
      "\n",
      "ANNOTATIONS:\n",
      " dict_keys(['Weather', 'SiteName', 'EventTime', 'Phase', 'DataSource', 'FailedEquipmentCode', 'IsolationEquipmentCode', 'EventId', 'Details', 'FeederId', 'Cause'])\n"
     ]
    }
   ],
   "source": [
    "stream = streams[1]\n",
    "\n",
    "print('COLLECTION:', stream.collection)\n",
    "\n",
    "print('\\nTAGS:\\n', stream.tags().keys())\n",
    "print('\\nANNOTATIONS:\\n', stream.annotations()[0].keys(),)"
   ]
  },
  {
   "cell_type": "markdown",
   "metadata": {},
   "source": [
    "You can display tags and annotations for a streamsest using the function `streamset.describe()`. Passing additional metadata fields as arguments to the function will add them to the table."
   ]
  },
  {
   "cell_type": "code",
   "execution_count": 5,
   "metadata": {},
   "outputs": [
    {
     "name": "stdout",
     "output_type": "stream",
     "text": [
      "Collection                Name    Unit    UUID           Version  Cause      Weather\n",
      "------------------------  ------  ------  -----------  ---------  ---------  -------------\n",
      "POW/signatures/event2907  Vb      volts   9b4dda9f...         10  Lightning  Major Storm\n",
      "POW/signatures/event0550  Vb      volts   9ff2f527...         10  Equipment  Clear Weather\n",
      "POW/signatures/event0287  Va      volts   684fb803...         10  Vehicle    Snow/Ice\n",
      "POW/signatures/event3067  Va      volts   dafb42ba...         10  Weather    Wind\n",
      "POW/signatures/event3067  Vb      volts   65fd8f4e...         10  Weather    Wind\n",
      "POW/signatures/event3042  Vb      volts   7f0aed61...         10  Equipment  Unknown\n",
      "POW/signatures/event3042  Vc      volts   e009c009...         10  Equipment  Unknown\n",
      "POW/signatures/event2999  Vc      volts   03d8bd43...         10  Tree       Unknown\n",
      "POW/signatures/event3152  Vb      volts   0d094ffd...         10  Equipment  Unknown\n",
      "POW/signatures/event3152  Vc      volts   47d35cde...         10  Equipment  Unknown\n"
     ]
    }
   ],
   "source": [
    "streams = db.streams_in_collection(collection, tags={'unit': 'volts'})\n",
    "streamset = btrdb.stream.StreamSet(streams[:10])\n",
    "print(streamset.describe('Cause','Weather'))"
   ]
  },
  {
   "cell_type": "markdown",
   "metadata": {},
   "source": [
    "## Birds eye view\n",
    "\n",
    "One can get a high-level overview of metadata fields available for streams in a given collection using [`db.collection_metadata`](https://btrdb.readthedocs.io/en/latest/api/conn.html#btrdb.conn.BTrDB.collection_metadata)."
   ]
  },
  {
   "cell_type": "code",
   "execution_count": 6,
   "metadata": {},
   "outputs": [
    {
     "data": {
      "text/plain": [
       "({'name': 0, 'unit': 0, 'ingress': 0, 'distiller': 0},\n",
       " {'Cause': 1766,\n",
       "  'DataSource': 1766,\n",
       "  'Details': 1766,\n",
       "  'EventId': 1766,\n",
       "  'EventTime': 1766,\n",
       "  'FailedEquipmentCode': 1766,\n",
       "  'FeederId': 1766,\n",
       "  'IsolationEquipmentCode': 1766,\n",
       "  'Phase': 1766,\n",
       "  'SiteName': 1766,\n",
       "  'Weather': 1766})"
      ]
     },
     "execution_count": 6,
     "metadata": {},
     "output_type": "execute_result"
    }
   ],
   "source": [
    "metadata = db.collection_metadata(collection)\n",
    "metadata"
   ]
  },
  {
   "cell_type": "markdown",
   "metadata": {},
   "source": [
    "# Filtering on metadata contents\n",
    "\n",
    "Metadata can provide a useful mechanism for determining what streams are relevant to a particular analysis. Two examples of filtering streams based on metadata contents are provided below."
   ]
  },
  {
   "cell_type": "code",
   "execution_count": 7,
   "metadata": {},
   "outputs": [
    {
     "name": "stdout",
     "output_type": "stream",
     "text": [
      "POW/signatures/event2907\n"
     ]
    },
    {
     "data": {
      "text/plain": [
       "[<Stream collection=POW/signatures/event2907 name=Vb>,\n",
       " <Stream collection=POW/signatures/event2907 name=Va>,\n",
       " <Stream collection=POW/signatures/event2907 name=Vc>]"
      ]
     },
     "execution_count": 7,
     "metadata": {},
     "output_type": "execute_result"
    }
   ],
   "source": [
    "# Find all voltage streams for a given event\n",
    "event_name = stream.collection\n",
    "print(event_name)\n",
    "streams = db.streams_in_collection(event_name, \n",
    "                                   tags={'unit':'volts'})\n",
    "streams"
   ]
  },
  {
   "cell_type": "code",
   "execution_count": 8,
   "metadata": {},
   "outputs": [
    {
     "name": "stdout",
     "output_type": "stream",
     "text": [
      "63 streams selected from across 9 collections\n"
     ]
    }
   ],
   "source": [
    "# Find all fault events caused by lightning during a major storm\n",
    "annotations = {'Cause': 'Lightning',\n",
    "              'Weather': 'Major Storm'}\n",
    "streams = db.streams_in_collection(collection, \n",
    "                                   annotations=annotations)\n",
    "\n",
    "print(\"%i streams selected from across %i collections\"\n",
    "      %(len(streams), len(list(set([s.collection for s in streams])))))"
   ]
  },
  {
   "cell_type": "markdown",
   "metadata": {},
   "source": [
    "# Using SQL to query metadata\n",
    "\n",
    "Above, we used dictionaries to specify filtering criteria in terms of tags and annotations we wished to filter upon. You can achieve the same results using the `db.query()` function which allows you to pass any arbitrary SQL query. That query is applied to the database table that stores metadata, and offers much greater flexibility for specifying complex search criteria."
   ]
  },
  {
   "cell_type": "code",
   "execution_count": 9,
   "metadata": {},
   "outputs": [],
   "source": [
    "##################\n",
    "# Specify query\n",
    "query = \"\"\"SELECT uuid, name, unit from streams \n",
    "            WHERE collection LIKE $1 and unit='volts'\"\"\"\n",
    "\n",
    "params = ['%%event%s'%(stream.annotations()[0]['EventId'])]\n",
    "\n",
    "##################\n",
    "# Find Streams\n",
    "streams_dict = db.query(query, params)\n",
    "streams = db.streams(*[s['uuid'] for s in streams_dict])\n",
    "\n",
    "\n",
    "##################\n",
    "# Get data!\n",
    "start = min([s.time for s in streams.earliest()])\n",
    "end = max([s.time for s in streams.latest()])\n",
    "df = streams.filter(start=start, end=end).to_dataframe()"
   ]
  },
  {
   "cell_type": "code",
   "execution_count": 10,
   "metadata": {},
   "outputs": [
    {
     "data": {
      "text/html": [
       "<div>\n",
       "<style scoped>\n",
       "    .dataframe tbody tr th:only-of-type {\n",
       "        vertical-align: middle;\n",
       "    }\n",
       "\n",
       "    .dataframe tbody tr th {\n",
       "        vertical-align: top;\n",
       "    }\n",
       "\n",
       "    .dataframe thead th {\n",
       "        text-align: right;\n",
       "    }\n",
       "</style>\n",
       "<table border=\"1\" class=\"dataframe\">\n",
       "  <thead>\n",
       "    <tr style=\"text-align: right;\">\n",
       "      <th></th>\n",
       "      <th>POW/signatures/event2907/Vb</th>\n",
       "      <th>POW/signatures/event2907/Va</th>\n",
       "      <th>POW/signatures/event2907/Vc</th>\n",
       "    </tr>\n",
       "    <tr>\n",
       "      <th>time</th>\n",
       "      <th></th>\n",
       "      <th></th>\n",
       "      <th></th>\n",
       "    </tr>\n",
       "  </thead>\n",
       "  <tbody>\n",
       "    <tr>\n",
       "      <th>1154455676608999936</th>\n",
       "      <td>-10199.030273</td>\n",
       "      <td>183.957260</td>\n",
       "      <td>10191.901367</td>\n",
       "    </tr>\n",
       "    <tr>\n",
       "      <th>1154455676609130240</th>\n",
       "      <td>-10495.413086</td>\n",
       "      <td>718.309326</td>\n",
       "      <td>9938.632812</td>\n",
       "    </tr>\n",
       "    <tr>\n",
       "      <th>1154455676609260288</th>\n",
       "      <td>-10756.926758</td>\n",
       "      <td>1270.181030</td>\n",
       "      <td>9659.163086</td>\n",
       "    </tr>\n",
       "    <tr>\n",
       "      <th>1154455676609390592</th>\n",
       "      <td>-10974.854492</td>\n",
       "      <td>1857.092407</td>\n",
       "      <td>9370.959961</td>\n",
       "    </tr>\n",
       "    <tr>\n",
       "      <th>1154455676609520896</th>\n",
       "      <td>-11123.044922</td>\n",
       "      <td>2461.523438</td>\n",
       "      <td>9082.756836</td>\n",
       "    </tr>\n",
       "  </tbody>\n",
       "</table>\n",
       "</div>"
      ],
      "text/plain": [
       "                     POW/signatures/event2907/Vb  POW/signatures/event2907/Va  \\\n",
       "time                                                                            \n",
       "1154455676608999936                -10199.030273                   183.957260   \n",
       "1154455676609130240                -10495.413086                   718.309326   \n",
       "1154455676609260288                -10756.926758                  1270.181030   \n",
       "1154455676609390592                -10974.854492                  1857.092407   \n",
       "1154455676609520896                -11123.044922                  2461.523438   \n",
       "\n",
       "                     POW/signatures/event2907/Vc  \n",
       "time                                              \n",
       "1154455676608999936                 10191.901367  \n",
       "1154455676609130240                  9938.632812  \n",
       "1154455676609260288                  9659.163086  \n",
       "1154455676609390592                  9370.959961  \n",
       "1154455676609520896                  9082.756836  "
      ]
     },
     "execution_count": 10,
     "metadata": {},
     "output_type": "execute_result"
    }
   ],
   "source": [
    "df.head()"
   ]
  }
 ],
 "metadata": {
  "kernelspec": {
   "display_name": "Python 3",
   "language": "python",
   "name": "python3"
  },
  "language_info": {
   "codemirror_mode": {
    "name": "ipython",
    "version": 3
   },
   "file_extension": ".py",
   "mimetype": "text/x-python",
   "name": "python",
   "nbconvert_exporter": "python",
   "pygments_lexer": "ipython3",
   "version": "3.7.3"
  }
 },
 "nbformat": 4,
 "nbformat_minor": 2
}
