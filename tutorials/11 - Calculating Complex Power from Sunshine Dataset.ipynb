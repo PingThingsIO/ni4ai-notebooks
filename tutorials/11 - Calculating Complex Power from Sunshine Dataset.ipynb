{
 "cells": [
  {
   "cell_type": "markdown",
   "id": "fe1d6442",
   "metadata": {},
   "source": [
    "## Mini Exploration - Calculating Complex Power\n",
    "\n",
    "Lets calculate complex power at multiple points in time using the sunshine data. You can read more about the sunshine dataset on the blog [here](https://blog.ni4ai.org/post/2020-03-30-sunshine-data/). You can find a diagram with approximate sensor locations [here](https://blog.ni4ai.org/post/2021-05-29-disaggregation/). [This blog post](https://blog.ni4ai.org/post/2021-06-19-power_factor/) introduces what *complex power* is, and of course you can find out more on wikipedia. Another relevant topic is the meaning of phasors which is introduced [here](https://blog.ni4ai.org/post/2020-07-30-what-is-the-angle/). \n",
    "\n",
    "The basic calculation is as follows: $S = VI^*$\n",
    " [in this equation all three quantities are complex numbers ie phasors]. What we store in the `btrdb` platform is the magnitude and angle of a phasor, which you can also rewrite as the real and imaginary components, by Euler’s formula.\n",
    " \n",
    "\n",
    "Functions/objects used here:\n",
    "```\n",
    "btrdb.connect()\n",
    "numpy.unwrap()\n",
    "btrdb.streams.StreamSet\n",
    "btrdb.streams.StreamSet.earliest()\n",
    "btrdb.streams.StreamSet.latest()\n",
    "btrdb.streams.StreamSet.values()\n",
    "btrdb.point.RawPoint\n",
    "```"
   ]
  },
  {
   "cell_type": "markdown",
   "id": "c71d719a",
   "metadata": {},
   "source": [
    "# Imports"
   ]
  },
  {
   "cell_type": "code",
   "execution_count": null,
   "id": "ad79f9ce",
   "metadata": {},
   "outputs": [],
   "source": [
    "import pandas as pd\n",
    "import btrdb\n",
    "import numpy as np\n",
    "import re\n",
    "from btrdb.utils.timez import *\n",
    "from tabulate import tabulate\n",
    "from pprint import pprint\n",
    "from typing import List, Tuple\n",
    "from matplotlib import pyplot as plt"
   ]
  },
  {
   "cell_type": "markdown",
   "id": "45c3860b",
   "metadata": {},
   "source": [
    "# Connect To Server\n",
    "To get started we'll connect to the server and define a helper method from a previous notebook to describe our `btrdb.Stream`s."
   ]
  },
  {
   "cell_type": "code",
   "execution_count": null,
   "id": "b82e404a",
   "metadata": {},
   "outputs": [],
   "source": [
    "connection = btrdb.connect()\n",
    "pprint(connection.info())"
   ]
  },
  {
   "cell_type": "code",
   "execution_count": null,
   "id": "21497496",
   "metadata": {},
   "outputs": [],
   "source": [
    "# add a helper method to describe streams from streamset tutorial notebook 3\n",
    "def describe_streams(streams: btrdb.stream.StreamSet):\n",
    "    table = [[\"Collection\", \"Name\", \"Units\", \"Version\", \"Earliest\", \"Latest\"]]\n",
    "    for stream in streams:\n",
    "        tags = stream.tags()\n",
    "        table.append(\n",
    "            [\n",
    "                stream.collection,\n",
    "                stream.name,\n",
    "                tags[\"unit\"],\n",
    "                stream.version(),\n",
    "                stream.earliest()[0].time,\n",
    "                stream.latest()[0].time,\n",
    "            ]\n",
    "        )\n",
    "    return tabulate(table, headers=\"firstrow\")"
   ]
  },
  {
   "cell_type": "markdown",
   "id": "839d66ab",
   "metadata": {},
   "source": [
    "Lets take a look at the [sunshine data set again](https://blog.ni4ai.org/post/2020-03-30-sunshine-data/)."
   ]
  },
  {
   "cell_type": "code",
   "execution_count": null,
   "id": "1c3d20e3",
   "metadata": {},
   "outputs": [],
   "source": [
    "sunshine_collection = connection.list_collections(\"sunshine\")\n",
    "pprint(sunshine_collection)"
   ]
  },
  {
   "cell_type": "markdown",
   "id": "fe0ee799",
   "metadata": {},
   "source": [
    "For the complex power calculations, let first look at a single collection in this list. In this case, `PMU1`."
   ]
  },
  {
   "cell_type": "code",
   "execution_count": null,
   "id": "0802485c",
   "metadata": {},
   "outputs": [],
   "source": [
    "pmu1 = connection.streams_in_collection(sunshine_collection[0])\n",
    "print(describe_streams(pmu1))"
   ]
  },
  {
   "cell_type": "markdown",
   "id": "e7016783",
   "metadata": {},
   "source": [
    "`StreamSet`s provide us with a nice way to operate on many `Stream`s at once. Lets convert `pmu1` to a `StreamSet`"
   ]
  },
  {
   "cell_type": "code",
   "execution_count": null,
   "id": "529bd7ca",
   "metadata": {},
   "outputs": [],
   "source": [
    "pmu1_streamset = btrdb.stream.StreamSet(pmu1)\n",
    "pprint(pmu1_streamset)"
   ]
  },
  {
   "cell_type": "markdown",
   "id": "ba699587",
   "metadata": {},
   "source": [
    "StreamSets are iterable objects, so our `describe_streams` method we defined above still works!"
   ]
  },
  {
   "cell_type": "code",
   "execution_count": null,
   "id": "f6c36dd8",
   "metadata": {},
   "outputs": [],
   "source": [
    "print(describe_streams(pmu1_streamset))"
   ]
  },
  {
   "cell_type": "markdown",
   "id": "dddfd756",
   "metadata": {},
   "source": [
    "Lets take a look at when the last data point was added to each `Stream`"
   ]
  },
  {
   "cell_type": "code",
   "execution_count": null,
   "id": "e4abc716",
   "metadata": {},
   "outputs": [],
   "source": [
    "# when was the latest datapoint added?\n",
    "btrdb.utils.timez.ns_to_datetime(pmu1_streamset[0].latest()[0][0])"
   ]
  },
  {
   "cell_type": "markdown",
   "id": "b607aaf3",
   "metadata": {},
   "source": [
    "# Viewing Data\n",
    "\n",
    "Like the `Stream` object, the `StreamSet` has a `values` method which will return a list of lists.  Each internal list contains the `RawPoint` instances for a given stream.\n",
    "\n",
    "---\n",
    "\n",
    "Lets add a helper method to take a `RawPoint` and return the time value from it in nanoseconds"
   ]
  },
  {
   "cell_type": "code",
   "execution_count": null,
   "id": "0da6e2c8",
   "metadata": {},
   "outputs": [],
   "source": [
    "def ns_from_rawpoint(point: btrdb.point.RawPoint) -> int:\n",
    "    \"\"\"Automatically take a rawpoint and return the time value (in ns)\n",
    "    when the data was added.\"\"\"\n",
    "\n",
    "    return point[0][0]"
   ]
  },
  {
   "cell_type": "markdown",
   "id": "6f4ca4dd",
   "metadata": {},
   "source": [
    "One more helper method to parse `RawPoint`s and convert them into numpy arrays, since we will be using these values a lot."
   ]
  },
  {
   "cell_type": "code",
   "execution_count": null,
   "id": "d31b60d9",
   "metadata": {},
   "outputs": [],
   "source": [
    "def values_to_arr(values: Tuple[btrdb.stream.RawPoint]) -> np.array:\n",
    "    \"Convert a tuple of RawPoints into a numpy array of time, value pairs.\"\n",
    "    return np.asarray([[time, val] for time, val in values])"
   ]
  },
  {
   "cell_type": "markdown",
   "id": "7a8627b7",
   "metadata": {},
   "source": [
    "To make things a bit simpler, we know that PMU devices excel in time-synchronized data, so we will take a few liberties in data valdiation and assume that the `RawPoint`s we return from our streamset will be equally sized for each stream.\n",
    "\n",
    "When was the latest data point added to each stream in sunshine/PMU1 collection?"
   ]
  },
  {
   "cell_type": "code",
   "execution_count": null,
   "id": "ab6baebf",
   "metadata": {},
   "outputs": [],
   "source": [
    "last_time_updated = []\n",
    "for stream in pmu1_streamset:\n",
    "    tmp_point = stream.latest()\n",
    "    last_time_updated.append(\n",
    "        [stream.tags().get(\"name\", \"N/A\"), ns_from_rawpoint(tmp_point)]\n",
    "    )\n",
    "for val in last_time_updated:\n",
    "    print(f\"Stream: {val[0]}\\t Last Updated: {ns_to_datetime(val[1])}\")"
   ]
  },
  {
   "cell_type": "markdown",
   "id": "99f8896a",
   "metadata": {},
   "source": [
    "Here is an equivalent way to do the same as above, but using a `StreamSet` method."
   ]
  },
  {
   "cell_type": "code",
   "execution_count": null,
   "id": "a9131604",
   "metadata": {},
   "outputs": [],
   "source": [
    "for stream, time in zip(pmu1_streamset, pmu1_streamset.latest()):\n",
    "    print(\n",
    "        f\"Stream: {stream.tags().get('name')}\\t Last Updated: {ns_to_datetime(time.time)}\"\n",
    "    )"
   ]
  },
  {
   "cell_type": "markdown",
   "id": "b57eef35",
   "metadata": {},
   "source": [
    "Lets find the maximum starting time (in ns) and calculate the end time for our power calculation. Lets return all values from our start point to 100 seconds after our start point."
   ]
  },
  {
   "cell_type": "code",
   "execution_count": null,
   "id": "789f5843",
   "metadata": {},
   "outputs": [],
   "source": [
    "start_time_arr = values_to_arr(pmu1_streamset.earliest())\n",
    "\n",
    "start = np.max(start_time_arr[:, 0])\n",
    "end = start + ns_delta(seconds=100)\n",
    "print(start)\n",
    "print(end)\n",
    "\n",
    "print(f\"our bounding start time will be: {btrdb.utils.timez.ns_to_datetime(start)}\")\n",
    "print(f\"our end time will be: {btrdb.utils.timez.ns_to_datetime(end)}\")"
   ]
  },
  {
   "cell_type": "markdown",
   "id": "ff8eeef8",
   "metadata": {},
   "source": [
    "# Complex Power\n",
    "\n",
    "These PMU datasets are exactly what we need to calculate the instantaneous power over some duration of time.\n",
    "\n",
    "To calculate this, lets look again at the equation for instantaneous power:\n",
    "The basic calculation is as follows: $S = VI^*$\n",
    "\n",
    "Our voltage $V$ is a Phasor with a magnitude and an imaginary portion. This is represented by the magnitude and angle of these measurements and the individual streams named:\n",
    "`L1MAG` to `L3MAG` and `L1ANG` to `L3ANG` respectively. The same can be said for the current $I$ as well, with the streams named: `C1MAG` to `C3MAG` and `C1ANG` to `C3ANG` respectively.\n",
    "\n",
    "\n",
    "# Filtering StreamSets\n",
    "\n",
    "Since we know that the voltage and current streams in our stream set each have their corresponding angles and magnitudes, lets group these into more logical `StreamSet`s by filtering these such that all of our current and voltage related streams are grouped together. We can use regex matching to do some advanced filtering."
   ]
  },
  {
   "cell_type": "code",
   "execution_count": null,
   "id": "91595a46",
   "metadata": {},
   "outputs": [],
   "source": [
    "pmu1_c = pmu1_streamset.filter(name=re.compile(\"C[\\d]\"))\n",
    "pmu1_l = pmu1_streamset.filter(name=re.compile(\"L[\\d]\"))\n",
    "\n",
    "print(describe_streams(pmu1_c))\n",
    "print()\n",
    "print(describe_streams(pmu1_l))"
   ]
  },
  {
   "cell_type": "markdown",
   "id": "a8def790",
   "metadata": {},
   "source": [
    "Lets take these `StreamSet`s and and convert the range of values we want to `pandas.DataFrame`s"
   ]
  },
  {
   "cell_type": "code",
   "execution_count": null,
   "id": "4c032e18",
   "metadata": {},
   "outputs": [],
   "source": [
    "pmu1_voltage_df = pmu1_l.filter(start=start, end=end).to_dataframe()\n",
    "pmu1_current_df = pmu1_c.filter(start=start, end=end).to_dataframe()\n",
    "\n",
    "display(pmu1_voltage_df)\n",
    "display(pmu1_current_df)"
   ]
  },
  {
   "cell_type": "markdown",
   "id": "a228b610",
   "metadata": {},
   "source": [
    "Lets convert our magnitude and angles to their complex forms for each combination of streams.\n",
    "\n",
    "**Remember** that we also need to unwrap the angles and convert them to radians."
   ]
  },
  {
   "cell_type": "code",
   "execution_count": null,
   "id": "2399f115",
   "metadata": {},
   "outputs": [],
   "source": [
    "prefix = \"sunshine/PMU1/\"\n",
    "mag = \"MAG\"\n",
    "ang = \"ANG\"\n",
    "for i in range(1, int(len(pmu1_c) / 2) + 1):\n",
    "    # convert to radians and unwrap the angles\n",
    "    pmu1_current_df[f\"{prefix}C{i}{ang}\"] = np.unwrap(\n",
    "        np.deg2rad(pmu1_current_df[f\"{prefix}C{i}{ang}\"][:])\n",
    "    )\n",
    "    pmu1_current_df[f\"{prefix}{i}_complex_current\"] = pmu1_current_df[\n",
    "        f\"{prefix}C{i}{mag}\"\n",
    "    ] * np.exp(1j * pmu1_current_df[f\"{prefix}C{i}{ang}\"])\n",
    "display(pmu1_current_df)"
   ]
  },
  {
   "cell_type": "code",
   "execution_count": null,
   "id": "48f8dcfc",
   "metadata": {},
   "outputs": [],
   "source": [
    "for i in range(1, int(len(pmu1_voltage_df.columns) / 2) + 1):\n",
    "    # convert to radians and unwrap the angles\n",
    "    pmu1_voltage_df[f\"{prefix}L{i}{ang}\"] = np.unwrap(\n",
    "        np.deg2rad(pmu1_voltage_df[f\"{prefix}L{i}{ang}\"][:])\n",
    "    )\n",
    "    pmu1_voltage_df[f\"{prefix}{i}_complex_voltage\"] = pmu1_voltage_df[\n",
    "        f\"{prefix}L{i}{mag}\"\n",
    "    ] * np.exp(1j * pmu1_voltage_df[f\"{prefix}L{i}{ang}\"])\n",
    "display(pmu1_voltage_df)"
   ]
  },
  {
   "cell_type": "markdown",
   "id": "350ab232",
   "metadata": {},
   "source": [
    "Lets calculate the complex power for each of the 3 sets of stream data we just created."
   ]
  },
  {
   "cell_type": "code",
   "execution_count": null,
   "id": "9726bffc",
   "metadata": {},
   "outputs": [],
   "source": [
    "col_list = [\n",
    "    \"sunshine/PMU1/1_complex_\",\n",
    "    \"sunshine/PMU1/2_complex_\",\n",
    "    \"sunshine/PMU1/3_complex_\",\n",
    "]\n",
    "power_list = []\n",
    "for col in col_list:\n",
    "    power_list.append(\n",
    "        pmu1_voltage_df[f\"{col}voltage\"][:]\n",
    "        * np.conjugate(pmu1_current_df[f\"{col}current\"])\n",
    "    )"
   ]
  },
  {
   "cell_type": "markdown",
   "id": "decbdbcd",
   "metadata": {},
   "source": [
    "Lets visualize these using `matplotlib.pyplot`"
   ]
  },
  {
   "cell_type": "code",
   "execution_count": null,
   "id": "dc70fad5",
   "metadata": {},
   "outputs": [],
   "source": [
    "plt.plot(power_list[0])\n",
    "plt.xlabel(\"Time [ns]\")\n",
    "plt.ylabel(\"Power\")"
   ]
  },
  {
   "cell_type": "code",
   "execution_count": null,
   "id": "b5ccddf6",
   "metadata": {},
   "outputs": [],
   "source": [
    "plt.plot(power_list[1])\n",
    "plt.xlabel(\"Time [ns]\")\n",
    "plt.ylabel(\"Power\")"
   ]
  },
  {
   "cell_type": "code",
   "execution_count": null,
   "id": "ee51bc17",
   "metadata": {},
   "outputs": [],
   "source": [
    "plt.plot(power_list[2])\n",
    "plt.xlabel(\"Time [ns]\")\n",
    "plt.ylabel(\"Power\")"
   ]
  }
 ],
 "metadata": {
  "kernelspec": {
   "display_name": "Python 3 (ipykernel)",
   "language": "python",
   "name": "python3"
  },
  "language_info": {
   "codemirror_mode": {
    "name": "ipython",
    "version": 3
   },
   "file_extension": ".py",
   "mimetype": "text/x-python",
   "name": "python",
   "nbconvert_exporter": "python",
   "pygments_lexer": "ipython3",
   "version": "3.9.10"
  }
 },
 "nbformat": 4,
 "nbformat_minor": 5
}
