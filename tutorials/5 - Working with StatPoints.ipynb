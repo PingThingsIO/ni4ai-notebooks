{
 "cells": [
  {
   "cell_type": "markdown",
   "metadata": {},
   "source": [
    "# 5: Working with StatPoints\n",
    "\n",
    "Capitalizing on the tree structure of the database can allow you to work more efficiently with large volumes of time series data. This tutorial describes the structure of the database and how it can be used to develop efficient code.\n",
    "\n",
    "This notebook gives a primer on how the database is structured, and how you can interact with it efficiently."
   ]
  },
  {
   "cell_type": "code",
   "execution_count": 1,
   "metadata": {},
   "outputs": [],
   "source": [
    "import btrdb\n",
    "\n",
    "from datetime import datetime, timedelta\n",
    "from matplotlib import pyplot as plt\n",
    "\n",
    "from btrdb.utils import timez"
   ]
  },
  {
   "cell_type": "code",
   "execution_count": 2,
   "metadata": {},
   "outputs": [],
   "source": [
    "# Make sure you add your API key to the config file to connect!\n",
    "conn = btrdb.connect()"
   ]
  },
  {
   "cell_type": "markdown",
   "metadata": {},
   "source": [
    "## Database structure\n",
    "Data are archived using a tree-based structure, where each level of the tree spans a prescribed time interval. The root node spans about 146 years (or $2^{62}$ nanoseconds). At each level of the database, the parent node is time-partitioned into 64 child nodes, each of which spans a time interval $1/64^{th}$ of the parent node. \n",
    "\n",
    "Each node is characterized by a parameter called the `pointwidth` which describes how many nanoseconds the node spans. The point width is specified in powers of two, and increases by a factor of 64 (or $2^6$) at each level."
   ]
  },
  {
   "cell_type": "code",
   "execution_count": 3,
   "metadata": {},
   "outputs": [
    {
     "name": "stdout",
     "output_type": "stream",
     "text": [
      "sunshine/PMU1 C3MAG amps\n"
     ]
    }
   ],
   "source": [
    "streams = conn.streams_in_collection('sunshine')\n",
    "stream = streams[2]\n",
    "\n",
    "print(stream.collection, stream.name, stream.unit)"
   ]
  },
  {
   "cell_type": "code",
   "execution_count": 4,
   "metadata": {},
   "outputs": [],
   "source": [
    "earliest, _ = stream.earliest()\n",
    "start = earliest.time\n",
    "\n",
    "latest, _ = stream.latest()\n",
    "end = latest.time"
   ]
  },
  {
   "cell_type": "code",
   "execution_count": 5,
   "metadata": {},
   "outputs": [
    {
     "data": {
      "text/plain": [
       "561.3946218171296"
      ]
     },
     "execution_count": 5,
     "metadata": {},
     "output_type": "execute_result"
    }
   ],
   "source": [
    "# converts from nanoseconds to days\n",
    "ns_to_days = lambda ns: ns/1e9/60/60/24\n",
    "ns_to_days(end-start)"
   ]
  },
  {
   "cell_type": "markdown",
   "metadata": {},
   "source": [
    "## Making queries using `aligned_windows`\n",
    "\n",
    "The `aligned_windows` function rounds the start and end times to the nearest time window native to the database. The query returns a list of `StatPoint` objects, each of which spans $2^{pw}$ nanoseconds (where `pw` is the user-defined pointwidth. Using a larger `pointwidth` returns fewer `StatPoint` that span relatively longer time intervals."
   ]
  },
  {
   "cell_type": "code",
   "execution_count": 6,
   "metadata": {},
   "outputs": [
    {
     "name": "stdout",
     "output_type": "stream",
     "text": [
      "Stream duration is 561 days\n",
      "There are 41 statpoints in measurement interval, where each statpoint spans 13.03 days\n",
      "Query took 0.01 seconds to run\n"
     ]
    }
   ],
   "source": [
    "pw = 50 # or 2^50 nanoseconds\n",
    "\n",
    "t0 = datetime.now()\n",
    "points = stream.aligned_windows(start=start, end=end, pointwidth=pw)\n",
    "\n",
    "ns = points[1][0].time - points[0][0].time\n",
    "\n",
    "print('Stream duration is %.0f days'%(ns_to_days(end-start)))\n",
    "print('There are %i statpoints in measurement interval, where each statpoint spans %.2f days'%(len(points), ns_to_days(ns)))\n",
    "print('Query took %.2f seconds to run'%((datetime.now()-t0)).total_seconds())\n"
   ]
  },
  {
   "cell_type": "markdown",
   "metadata": {},
   "source": [
    "Decreasing the pointwidth returns a longer list with more `StatPoint` objects, each of which spans a shorter time interval. The smaller the `pointwidth`, the longer the query will take to run."
   ]
  },
  {
   "cell_type": "code",
   "execution_count": 7,
   "metadata": {},
   "outputs": [
    {
     "name": "stdout",
     "output_type": "stream",
     "text": [
      "Stream duration is 561 days\n",
      "There are 2444 statpoints, each of which spans 293.20 minutes\n",
      "Query took 0.06 seconds to run\n"
     ]
    }
   ],
   "source": [
    "pw = 44 # or 2^38 nanoseconds\n",
    "\n",
    "t0 = datetime.now()\n",
    "points = stream.aligned_windows(start=start, end=end, pointwidth=pw)\n",
    "ns = points[1][0].time - points[0][0].time\n",
    "\n",
    "print('Stream duration is %.0f days'%(ns_to_days(end-start)))\n",
    "print('There are %i statpoints, each of which spans %.2f minutes'%(len(points), 24*60*ns_to_days(ns)))\n",
    "print('Query took %.2f seconds to run'%((datetime.now()-t0)).total_seconds())\n"
   ]
  },
  {
   "cell_type": "markdown",
   "metadata": {},
   "source": [
    "Each `aligned_windows` query returns a list of tuples giving `(StatPoint, version)`. The following line of code separates these into two lists. Here, we don't care about the versions so we'll store those in a throw-away variable called `_`"
   ]
  },
  {
   "cell_type": "code",
   "execution_count": 8,
   "metadata": {},
   "outputs": [],
   "source": [
    "statpoints, _ = zip(*points)"
   ]
  },
  {
   "cell_type": "markdown",
   "metadata": {},
   "source": [
    "## Using StatPoints\n",
    "Every node in a window is characterized by a `StatPoint` which reports summary statistics including the `mean`, `min`, `max`, `stddev`, and `count` of raw values within the interval. Each `StatPoint` also has a `time`, which describes the start of the interval. Each interval spans the time `(start_time, start_time + ns]`, where `ns=2^{pointwidth}`. Time intervals are inclusive of the `start_time`, and exclusive of `end_time`."
   ]
  },
  {
   "cell_type": "code",
   "execution_count": 9,
   "metadata": {},
   "outputs": [
    {
     "name": "stdout",
     "output_type": "stream",
     "text": [
      "Table of Summary Statistics\n"
     ]
    },
    {
     "data": {
      "text/html": [
       "<div>\n",
       "<style scoped>\n",
       "    .dataframe tbody tr th:only-of-type {\n",
       "        vertical-align: middle;\n",
       "    }\n",
       "\n",
       "    .dataframe tbody tr th {\n",
       "        vertical-align: top;\n",
       "    }\n",
       "\n",
       "    .dataframe thead th {\n",
       "        text-align: right;\n",
       "    }\n",
       "</style>\n",
       "<table border=\"1\" class=\"dataframe\">\n",
       "  <thead>\n",
       "    <tr style=\"text-align: right;\">\n",
       "      <th></th>\n",
       "      <th>count</th>\n",
       "      <th>min</th>\n",
       "      <th>mean</th>\n",
       "      <th>max</th>\n",
       "      <th>stddev</th>\n",
       "      <th>time</th>\n",
       "      <th>Interval Start</th>\n",
       "      <th>Interval End</th>\n",
       "    </tr>\n",
       "  </thead>\n",
       "  <tbody>\n",
       "    <tr>\n",
       "      <th>0</th>\n",
       "      <td>535165</td>\n",
       "      <td>0.055121</td>\n",
       "      <td>0.174375</td>\n",
       "      <td>0.224571</td>\n",
       "      <td>0.028975</td>\n",
       "      <td>1443702747734999040</td>\n",
       "      <td>2015-10-01 12:32:27.734999+00:00</td>\n",
       "      <td>2015-10-01 17:25:39.921043+00:00</td>\n",
       "    </tr>\n",
       "    <tr>\n",
       "      <th>1</th>\n",
       "      <td>2075595</td>\n",
       "      <td>0.085291</td>\n",
       "      <td>0.240711</td>\n",
       "      <td>0.268793</td>\n",
       "      <td>0.022665</td>\n",
       "      <td>1443720339921043456</td>\n",
       "      <td>2015-10-01 17:25:39.921043+00:00</td>\n",
       "      <td>2015-10-01 22:18:52.107088+00:00</td>\n",
       "    </tr>\n",
       "    <tr>\n",
       "      <th>2</th>\n",
       "      <td>2111063</td>\n",
       "      <td>0.000149</td>\n",
       "      <td>0.062999</td>\n",
       "      <td>0.199236</td>\n",
       "      <td>0.067157</td>\n",
       "      <td>1443737932107087872</td>\n",
       "      <td>2015-10-01 22:18:52.107088+00:00</td>\n",
       "      <td>2015-10-02 03:12:04.293132+00:00</td>\n",
       "    </tr>\n",
       "    <tr>\n",
       "      <th>3</th>\n",
       "      <td>2111062</td>\n",
       "      <td>0.001072</td>\n",
       "      <td>0.00338</td>\n",
       "      <td>0.006424</td>\n",
       "      <td>0.000884</td>\n",
       "      <td>1443755524293132288</td>\n",
       "      <td>2015-10-02 03:12:04.293132+00:00</td>\n",
       "      <td>2015-10-02 08:05:16.479177+00:00</td>\n",
       "    </tr>\n",
       "    <tr>\n",
       "      <th>4</th>\n",
       "      <td>2111062</td>\n",
       "      <td>0.001199</td>\n",
       "      <td>0.002734</td>\n",
       "      <td>0.005129</td>\n",
       "      <td>0.000487</td>\n",
       "      <td>1443773116479176704</td>\n",
       "      <td>2015-10-02 08:05:16.479177+00:00</td>\n",
       "      <td>2015-10-02 12:58:28.665221+00:00</td>\n",
       "    </tr>\n",
       "  </tbody>\n",
       "</table>\n",
       "</div>"
      ],
      "text/plain": [
       "     count       min      mean       max    stddev                 time  \\\n",
       "0   535165  0.055121  0.174375  0.224571  0.028975  1443702747734999040   \n",
       "1  2075595  0.085291  0.240711  0.268793  0.022665  1443720339921043456   \n",
       "2  2111063  0.000149  0.062999  0.199236  0.067157  1443737932107087872   \n",
       "3  2111062  0.001072   0.00338  0.006424  0.000884  1443755524293132288   \n",
       "4  2111062  0.001199  0.002734  0.005129  0.000487  1443773116479176704   \n",
       "\n",
       "                    Interval Start                     Interval End  \n",
       "0 2015-10-01 12:32:27.734999+00:00 2015-10-01 17:25:39.921043+00:00  \n",
       "1 2015-10-01 17:25:39.921043+00:00 2015-10-01 22:18:52.107088+00:00  \n",
       "2 2015-10-01 22:18:52.107088+00:00 2015-10-02 03:12:04.293132+00:00  \n",
       "3 2015-10-02 03:12:04.293132+00:00 2015-10-02 08:05:16.479177+00:00  \n",
       "4 2015-10-02 08:05:16.479177+00:00 2015-10-02 12:58:28.665221+00:00  "
      ]
     },
     "execution_count": 9,
     "metadata": {},
     "output_type": "execute_result"
    }
   ],
   "source": [
    "import pandas as pd\n",
    "\n",
    "def stats_to_df(statpoints, \n",
    "                attrs=['count','min','mean','max','stddev','time'],\n",
    "                pw=44,\n",
    "                add_start_time=True, \n",
    "                add_end_time=True,\n",
    "               ):\n",
    "    \n",
    "    df = pd.DataFrame(columns=attrs, index=range(len(statpoints)))\n",
    "    for i, spoint in enumerate(statpoints):\n",
    "        df.loc[i] = [getattr(spoint, attr) for attr in attrs]\n",
    "    \n",
    "    if add_start_time:\n",
    "        df['Interval Start'] = [timez.ns_to_datetime(t) for t in df['time'].tolist()]\n",
    "        \n",
    "    if add_end_time:\n",
    "        df['Interval End'] = [timez.ns_to_datetime(t + 2**pw) for t in df['time'].tolist()]\n",
    "    return df\n",
    "\n",
    "df = stats_to_df(statpoints, pw=pw)\n",
    "print('Table of Summary Statistics')\n",
    "df.head()"
   ]
  },
  {
   "cell_type": "markdown",
   "metadata": {},
   "source": [
    "We can use the summary statistics to look for time intervals that we want to study in more detail.\n",
    "\n",
    "## Using StatPoints to detect gaps\n",
    "Because we know the frequency of the streams (120Hz in the case of our test data), we can use the stat points to find gaps in our streams.\n"
   ]
  },
  {
   "cell_type": "code",
   "execution_count": 10,
   "metadata": {},
   "outputs": [
    {
     "name": "stdout",
     "output_type": "stream",
     "text": [
      "2111062.32532992\n"
     ]
    }
   ],
   "source": [
    "# expected number of points\n",
    "expected_points = 120 # samples per second\n",
    "expected_points = 120 * 2**pw / 1e9 # samples per StatPoint\n",
    "\n",
    "print(expected_points)"
   ]
  },
  {
   "cell_type": "markdown",
   "metadata": {},
   "source": [
    "### Plot the actual vs expected count in each time interval \n",
    "By plotting the number of points per stat window vs. the number of points we would exspect based on the frequency and the span of the window, we can find windows with low point counts."
   ]
  },
  {
   "cell_type": "code",
   "execution_count": 11,
   "metadata": {},
   "outputs": [
    {
     "data": {
      "image/png": "[encoded data removed]",
      "text/plain": [
       "<Figure size 720x144 with 1 Axes>"
      ]
     },
     "metadata": {
      "needs_background": "light"
     },
     "output_type": "display_data"
    }
   ],
   "source": [
    "fig, ax = plt.subplots(figsize=(10,2))\n",
    "ax.plot(df['Interval Start'], df['count']/1e6, label='actual', ls=' ', marker='.', alpha=0.5)\n",
    "ax.plot(df['Interval Start'], [expected_points/1e6 for e in df['count']], label='expected', lw=2)\n",
    "ax.set_ylabel('Count\\n(millions)', fontsize=14)\n",
    "ax.legend(fontsize=14)\n",
    "plt.show()"
   ]
  },
  {
   "cell_type": "markdown",
   "metadata": {},
   "source": [
    "### Flag time intervals where there are gaps\n",
    "We can use this comparison to flag regions with inssuficient points for further investigation."
   ]
  },
  {
   "cell_type": "code",
   "execution_count": 12,
   "metadata": {},
   "outputs": [
    {
     "data": {
      "image/png": "[encoded data removed]",
      "text/plain": [
       "<Figure size 720x144 with 1 Axes>"
      ]
     },
     "metadata": {
      "needs_background": "light"
     },
     "output_type": "display_data"
    }
   ],
   "source": [
    "fig, ax = plt.subplots(figsize=(10,2))\n",
    "ax.plot(df['Interval Start'], df['count']/1e6, label='observed', ls=' ', marker='.', alpha=0.5)\n",
    "ax.plot(df['Interval Start'], [expected_points/1e6 for e in df['count']], label='expected')\n",
    "\n",
    "upper = [expected_points/1e6 for e in df['count']]\n",
    "lower = [0 for e in df['count']]\n",
    "ax.fill_between(df['Interval Start'], upper, lower, \n",
    "                where=df['count'] < expected_points-10, color='0.5', alpha=0.5,\n",
    "               label='gaps')\n",
    "\n",
    "ax.set_ylabel('Count\\n(millions)', fontsize=14)\n",
    "ax.legend(fontsize=14)\n",
    "plt.show()"
   ]
  },
  {
   "cell_type": "code",
   "execution_count": null,
   "metadata": {},
   "outputs": [],
   "source": []
  }
 ],
 "metadata": {
  "kernelspec": {
   "display_name": "Python 3",
   "language": "python",
   "name": "python3"
  },
  "language_info": {
   "codemirror_mode": {
    "name": "ipython",
    "version": 3
   },
   "file_extension": ".py",
   "mimetype": "text/x-python",
   "name": "python",
   "nbconvert_exporter": "python",
   "pygments_lexer": "ipython3",
   "version": "3.7.3"
  }
 },
 "nbformat": 4,
 "nbformat_minor": 4
}
