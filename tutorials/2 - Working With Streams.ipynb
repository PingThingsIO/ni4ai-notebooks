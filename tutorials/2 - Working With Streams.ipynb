{
 "cells": [
  {
   "cell_type": "markdown",
   "metadata": {},
   "source": [
    "# 2 - Working with Streams\n",
    "\n",
    "This tutorial focuses on retrieving data from the individual streams of time series data.\n",
    "\n",
    "We will also look into the `Point` classes which represent individual data points that make up a `Stream`.  We will start by looking at basic metadata about the streamm, and then illustrate how to query quantitative data values.\n",
    "\n",
    "In this tutorial we will retrieve both low level data and aggregated windows of data. Once you have mastered these concepts, we recommend working through the tutorial **windows, aligned_windows, and values** to learn more about when it's more appropriate to use windows vs values queries."
   ]
  },
  {
   "cell_type": "markdown",
   "metadata": {},
   "source": [
    "## Imports"
   ]
  },
  {
   "cell_type": "code",
   "execution_count": 1,
   "metadata": {},
   "outputs": [],
   "source": [
    "import btrdb\n",
    "from tabulate import tabulate\n",
    "from pprint import pprint"
   ]
  },
  {
   "cell_type": "markdown",
   "metadata": {},
   "source": [
    "## Connect To Server"
   ]
  },
  {
   "cell_type": "code",
   "execution_count": 2,
   "metadata": {},
   "outputs": [
    {
     "data": {
      "text/plain": [
       "{'majorVersion': 5, 'build': '5.12.5', 'proxy': {'proxyEndpoints': []}}"
      ]
     },
     "execution_count": 2,
     "metadata": {},
     "output_type": "execute_result"
    }
   ],
   "source": [
    "conn = btrdb.connect()\n",
    "conn.info()\n"
   ]
  },
  {
   "cell_type": "markdown",
   "metadata": {},
   "source": [
    "# Stream Basics\n",
    "\n",
    "Streams contain actual points of data and you can query the time series values in a number of ways.  But first, let's look at the Stream metadata for a better understanding of what is available.\n",
    "\n",
    "## Metadata Properties\n",
    "\n",
    "As discussed in the previous notebook, a stream has its own metadata properties such as its `collection` or `uuid`.  Let's start by defining each read-only property.\n",
    "\n",
    "**collection:** The hierarchichal path where a stream lives.  This is used purely for organizational purposes and has no impact on the underlying data.\n",
    "\n",
    "**name:** A friendly name for the stream.\n",
    "\n",
    "**uuid:** A unique identifier for a given stream.  This UUID cannot be changed and can be used to fetch a stream directly using the connection object."
   ]
  },
  {
   "cell_type": "code",
   "execution_count": 3,
   "metadata": {},
   "outputs": [
    {
     "name": "stdout",
     "output_type": "stream",
     "text": [
      "collection:sunshine/PMU6, name:L2MAG, uuid:d60fc469-a6da-4c98-8763-fd833293d955\n",
      "collection:sunshine/PMU6, name:L3MAG, uuid:4833b5e0-ef30-40ed-8db8-352e79d38c28\n",
      "collection:sunshine/PMU6, name:L1MAG, uuid:d3e9ed52-6db9-4b98-bfda-e1b509148e47\n"
     ]
    }
   ],
   "source": [
    "streams = list(conn.streams_in_collection('sunshine/PMU6', tags={\"unit\": \"volts\"}))\n",
    "for stream in streams:\n",
    "    print(\"collection:{}, name:{}, uuid:{}\".format(stream.collection, stream.name, stream.uuid))\n"
   ]
  },
  {
   "cell_type": "markdown",
   "metadata": {},
   "source": [
    "## Metadata Methods\n",
    "\n",
    "In addition to the metadata properties above, each stream has a set of metadata methods.  This information is provided as instance methods to indicate that they typically require a round-trip to the server and may change often.\n",
    "\n",
    "<dl>\n",
    "    <dt>tags</dt>\n",
    "    <dd>A dictionary containing metadata used internally by the BTrDB server.  This is also where the name of a stream can be found as the property is just for convenience. Tags are intended for internal use and generally should not be edited.</dd>\n",
    "    <dt>annotations</dt> \n",
    "    <dd>A dictionary so that custom data can be attached to a stream.  As an example you could provide an annotation to indicate a point-of-contact for this data or the make/model of the sensor device.  Whenever you call the annotations method, a separate property version number is also returned. Similar to the stream version, this is a monotonically increasing number but is only updated when the metadata changes. Annotations are well suited for user-defined metadata that may evolve over time.</dd>\n",
    "</dl>\n",
    "\n",
    "Let's look at some sample tags and annotations below."
   ]
  },
  {
   "cell_type": "code",
   "execution_count": 4,
   "metadata": {},
   "outputs": [
    {
     "name": "stdout",
     "output_type": "stream",
     "text": [
      "tags\n",
      "{'distiller': '', 'ingress': '', 'name': 'L2MAG', 'unit': 'volts'}\n",
      "\n",
      "annotations\n",
      "{'impedance': '{\"source\": \"PMU4\", \"target\": \"PMU6\", \"pos_sequence\": \"0.76 + '\n",
      "              'j0.463\", \"neg_sequence\": \"1.782 + j1.234\"}',\n",
      " 'location': 'building'}\n",
      "\n",
      "property_version\n",
      "1\n"
     ]
    }
   ],
   "source": [
    "stream = streams[0]\n",
    "\n",
    "print(\"tags\")\n",
    "pprint(stream.tags())\n",
    "\n",
    "annotations, property_version = stream.annotations()\n",
    "print(\"\\nannotations\")\n",
    "pprint(annotations)\n",
    "\n",
    "print(\"\\nproperty_version\")\n",
    "print(property_version)\n"
   ]
  },
  {
   "cell_type": "markdown",
   "metadata": {},
   "source": [
    "## Metadata Example\n",
    "\n",
    "As with the collections, we can write a simple helper method to display information about a Stream."
   ]
  },
  {
   "cell_type": "code",
   "execution_count": 5,
   "metadata": {
    "scrolled": true
   },
   "outputs": [
    {
     "name": "stdout",
     "output_type": "stream",
     "text": [
      "Attribute             Value\n",
      "--------------------  -------------------------------------------------------------------------------------------------------\n",
      "collection            sunshine/PMU6\n",
      "version               37988\n",
      "tag/distiller\n",
      "tag/name              L2MAG\n",
      "tag/unit              volts\n",
      "tag/ingress\n",
      "annotation/location   building\n",
      "annotation/impedance  {\"source\": \"PMU4\", \"target\": \"PMU6\", \"pos_sequence\": \"0.76 + j0.463\", \"neg_sequence\": \"1.782 + j1.234\"}\n"
     ]
    }
   ],
   "source": [
    "def stream_detail(stream):\n",
    "    \"\"\"\n",
    "    Prints detailed information about a stream.\n",
    "    \"\"\"\n",
    "    table = [[\"Attribute\", \"Value\"]]    \n",
    "    table.append([\"collection\", stream.collection])\n",
    "    table.append([\"version\", stream.version()])\n",
    "\n",
    "    for k,v in stream.tags().items():\n",
    "        table.append([\"tag/{}\".format(k), v])\n",
    "                \n",
    "    for k,v in stream.annotations()[0].items():\n",
    "        table.append([\"annotation/{}\".format(k), v])\n",
    "    \n",
    "    return tabulate(table, headers=\"firstrow\")\n",
    "\n",
    "print(stream_detail(stream))"
   ]
  },
  {
   "cell_type": "markdown",
   "metadata": {},
   "source": [
    "## Stream Version\n",
    "\n",
    "Remember that the version of a stream changes whenever data is modified (though not when metadata is modified).  This is especially useful on live data such that you can pin all of your queries to a specific version of your data.  Otherwise, you could potentially get constantly changing statistics as new data is appended or older data arrives out of order.\n",
    "\n",
    "Think of the version as a snapshot of your data in time.  Most of the calls we use on this page allow for an optional `version` argument which we have omitted. _The default value of zero is used which indicates the current (or latest) version_."
   ]
  },
  {
   "cell_type": "markdown",
   "metadata": {},
   "source": [
    "# Viewing Data\n",
    "\n",
    "Most likely you are interested in examining the stored values in each time series stream.  This is fairly straightforward though it is important to note that the time series values are actually provided in a `RawPoint` class which has `time` and `value` attributes.\n",
    "\n",
    "Because a stream may contain billions of values, data queries should provide a start and end time to bound the amount of data retrieved.  All times are stored internally in nanoseconds with the zero value being the [Unix epoch](https://en.wikipedia.org/wiki/Unix_time). Luckily, the btrdb library comes with many convenience functions to help with converting between nanoseconds and other datetime formats.\n",
    "\n",
    "Let's start with a simple example to view data in our `LINE560V1-MAG` stream. We will call the stream's `values` method which returns a sequence.  Each item in the sequence is a tuple containing a `RawPoint` and the version of the stream at retrieval time.  However, before we call the `values` method we will need to determine the start time for our call."
   ]
  },
  {
   "cell_type": "code",
   "execution_count": 6,
   "metadata": {},
   "outputs": [
    {
     "name": "stdout",
     "output_type": "stream",
     "text": [
      "RawPoint(1456790400008333000, 283.017822265625) 0\n"
     ]
    }
   ],
   "source": [
    "# retrieve the first point of data and the current stream version\n",
    "earliest, version = stream.earliest()\n",
    "print(earliest, version)"
   ]
  },
  {
   "cell_type": "markdown",
   "metadata": {},
   "source": [
    "We can see above that the first data point in the stream has a time of `1536710401000000000` nanoseconds.  Let's convert that to a datetime so we can understand it better."
   ]
  },
  {
   "cell_type": "code",
   "execution_count": 7,
   "metadata": {},
   "outputs": [
    {
     "data": {
      "text/plain": [
       "datetime.datetime(2016, 3, 1, 0, 0, 0, 8333, tzinfo=<UTC>)"
      ]
     },
     "execution_count": 7,
     "metadata": {},
     "output_type": "execute_result"
    }
   ],
   "source": [
    "from btrdb.utils.timez import ns_to_datetime\n",
    "ns_to_datetime(earliest.time)"
   ]
  },
  {
   "cell_type": "markdown",
   "metadata": {},
   "source": [
    "Now, let's call `values` using our start time and ending 200 milliseconds later."
   ]
  },
  {
   "cell_type": "code",
   "execution_count": 8,
   "metadata": {},
   "outputs": [
    {
     "name": "stdout",
     "output_type": "stream",
     "text": [
      "RawPoint(1456790400008333000, 283.017822265625)\n",
      "RawPoint(1456790400016666000, 283.0371398925781)\n",
      "RawPoint(1456790400024999000, 283.05413818359375)\n",
      "RawPoint(1456790400033333000, 283.05853271484375)\n",
      "RawPoint(1456790400041666000, 283.0568542480469)\n",
      "RawPoint(1456790400049999000, 283.06005859375)\n",
      "RawPoint(1456790400058333000, 283.05340576171875)\n",
      "RawPoint(1456790400066666000, 283.0347900390625)\n",
      "RawPoint(1456790400074999000, 283.0113220214844)\n",
      "RawPoint(1456790400083333000, 283.0077209472656)\n",
      "RawPoint(1456790400091666000, 283.02532958984375)\n",
      "RawPoint(1456790400099999000, 283.03515625)\n",
      "RawPoint(1456790400108333000, 283.0439147949219)\n",
      "RawPoint(1456790400116666000, 283.05706787109375)\n",
      "RawPoint(1456790400124999000, 283.0538635253906)\n",
      "RawPoint(1456790400133333000, 283.0562438964844)\n",
      "RawPoint(1456790400141666000, 283.0840759277344)\n",
      "RawPoint(1456790400149999000, 283.11444091796875)\n",
      "RawPoint(1456790400158333000, 283.1253967285156)\n",
      "RawPoint(1456790400166666000, 283.1314697265625)\n",
      "RawPoint(1456790400174999000, 283.1392517089844)\n",
      "RawPoint(1456790400183333000, 283.1244812011719)\n",
      "RawPoint(1456790400191666000, 283.1060485839844)\n",
      "RawPoint(1456790400199999000, 283.09478759765625)\n",
      "RawPoint(1456790400208333000, 283.088134765625)\n"
     ]
    }
   ],
   "source": [
    "start = earliest.time\n",
    "end = earliest.time + 2e8\n",
    "\n",
    "for point, version in stream.values(start, end):\n",
    "    print(point)"
   ]
  },
  {
   "cell_type": "markdown",
   "metadata": {},
   "source": [
    "We can also access the `time` and `value` attribute of each point as follows:"
   ]
  },
  {
   "cell_type": "code",
   "execution_count": 9,
   "metadata": {},
   "outputs": [
    {
     "name": "stdout",
     "output_type": "stream",
     "text": [
      "1456790400008333000 283.017822265625\n",
      "1456790400016666000 283.0371398925781\n",
      "1456790400024999000 283.05413818359375\n",
      "1456790400033333000 283.05853271484375\n",
      "1456790400041666000 283.0568542480469\n",
      "1456790400049999000 283.06005859375\n",
      "1456790400058333000 283.05340576171875\n",
      "1456790400066666000 283.0347900390625\n",
      "1456790400074999000 283.0113220214844\n",
      "1456790400083333000 283.0077209472656\n",
      "1456790400091666000 283.02532958984375\n",
      "1456790400099999000 283.03515625\n",
      "1456790400108333000 283.0439147949219\n",
      "1456790400116666000 283.05706787109375\n",
      "1456790400124999000 283.0538635253906\n",
      "1456790400133333000 283.0562438964844\n",
      "1456790400141666000 283.0840759277344\n",
      "1456790400149999000 283.11444091796875\n",
      "1456790400158333000 283.1253967285156\n",
      "1456790400166666000 283.1314697265625\n",
      "1456790400174999000 283.1392517089844\n",
      "1456790400183333000 283.1244812011719\n",
      "1456790400191666000 283.1060485839844\n",
      "1456790400199999000 283.09478759765625\n",
      "1456790400208333000 283.088134765625\n"
     ]
    }
   ],
   "source": [
    "for point, version in stream.values(start, end):\n",
    "    print(point.time, point.value)"
   ]
  },
  {
   "cell_type": "markdown",
   "metadata": {},
   "source": [
    "# Windowed Data\n",
    "\n",
    "Aside from viewing the raw values, we can also query windows of data.  Windowed queries return `StatPoint` values that contain aggregations of the data in each window rather than individual `RawPoint` values.  Each `StatPoint` contains attributes for the minimum, maximum, mean, and standard deviation of the values in each window. StatPoints also report the number of raw points (i.e., the count) and the start time of the window.  You can find more information about windowing data in the [docs](https://btrdb.readthedocs.io/en/latest/working/stream-view-data.html#view-windows-of-data) or view the [API](https://btrdb.readthedocs.io/en/latest/api/streams.html) reference.\n",
    "\n",
    "This time we will use another convenience function from `btrdb.utils.timez` which will help us to manipulate values at the nanosecond scale by better defining the query range and selecting aggregates of data at 100 millisecond intervals.\n"
   ]
  },
  {
   "cell_type": "code",
   "execution_count": 10,
   "metadata": {},
   "outputs": [
    {
     "name": "stdout",
     "output_type": "stream",
     "text": [
      "StatPoint(1456790400008333000, 283.0077209472656, 283.0376892089844, 283.06005859375, 12, 0.018201699453480432)\n",
      "StatPoint(1456790400108333000, 283.0439147949219, 283.09425354003906, 283.1392517089844, 12, 0.03283400327693183)\n",
      "StatPoint(1456790400208333000, 283.0471496582031, 283.06798299153644, 283.0984191894531, 12, 0.016191161279048426)\n",
      "StatPoint(1456790400308333000, 282.9364318847656, 283.0061569213867, 283.05145263671875, 12, 0.03689424607932575)\n",
      "StatPoint(1456790400408333000, 282.95733642578125, 283.0086212158203, 283.03564453125, 12, 0.02022968452356655)\n",
      "StatPoint(1456790400508333000, 283.01397705078125, 283.04548899332684, 283.07122802734375, 12, 0.01554654929714072)\n",
      "StatPoint(1456790400608333000, 283.047607421875, 283.08336639404297, 283.13568115234375, 12, 0.0278841838563787)\n",
      "StatPoint(1456790400708333000, 283.089111328125, 283.13182830810547, 283.16107177734375, 12, 0.01937428873128766)\n",
      "StatPoint(1456790400808333000, 283.09521484375, 283.1276219685872, 283.15911865234375, 12, 0.017036256335062058)\n",
      "StatPoint(1456790400908333000, 283.0104064941406, 283.03795623779297, 283.083740234375, 12, 0.0210068369334544)\n"
     ]
    }
   ],
   "source": [
    "from btrdb.utils.timez import ns_delta\n",
    "\n",
    "start = earliest.time\n",
    "end = earliest.time + ns_delta(seconds=1)   # 1 second later\n",
    "width = ns_delta(milliseconds=100)          # 100 milleseconds per window\n",
    "\n",
    "for point, version in stream.windows(start, end, width):\n",
    "    print(point)\n",
    "    "
   ]
  },
  {
   "cell_type": "markdown",
   "metadata": {},
   "source": [
    "Let's create a convenience function to view all of this data in a table using tabulate again."
   ]
  },
  {
   "cell_type": "code",
   "execution_count": 11,
   "metadata": {},
   "outputs": [
    {
     "name": "stdout",
     "output_type": "stream",
     "text": [
      "               time      min      max     mean     stddev    count\n",
      "-------------------  -------  -------  -------  ---------  -------\n",
      "1456790400008333000  283.008  283.06   283.038  0.0182017       12\n",
      "1456790400108333000  283.044  283.139  283.094  0.032834        12\n",
      "1456790400208333000  283.047  283.098  283.068  0.0161912       12\n",
      "1456790400308333000  282.936  283.051  283.006  0.0368942       12\n",
      "1456790400408333000  282.957  283.036  283.009  0.0202297       12\n",
      "1456790400508333000  283.014  283.071  283.045  0.0155465       12\n",
      "1456790400608333000  283.048  283.136  283.083  0.0278842       12\n",
      "1456790400708333000  283.089  283.161  283.132  0.0193743       12\n",
      "1456790400808333000  283.095  283.159  283.128  0.0170363       12\n",
      "1456790400908333000  283.01   283.084  283.038  0.0210068       12\n"
     ]
    }
   ],
   "source": [
    "def stat_table(points):\n",
    "    attrs = [\"time\", \"min\", \"max\", \"mean\", \"stddev\", \"count\"]\n",
    "    table = [attrs]\n",
    "    for p in points:\n",
    "        table.append([getattr(p, attr) for attr in attrs])\n",
    "    return tabulate(table, headers=\"firstrow\")\n",
    "\n",
    "points = [point for point, _ in stream.windows(start, end, width)]\n",
    "print(stat_table(points))"
   ]
  },
  {
   "cell_type": "markdown",
   "metadata": {},
   "source": [
    "While we haven't used it in our examples, you can also optionally supply a `depth` argument to the `windows` query. The depth is the precision of the data in each window, which can greatly speed up your queries if you don't need to be precise down to the nanosecond level.  As an example, supplying `depth=30` would return to-second precision and take advantage of the BTrDB database to increase the retrieval performance.  Please see the docs for more information."
   ]
  },
  {
   "cell_type": "markdown",
   "metadata": {},
   "source": [
    "### Aligned Windows\n",
    "\n",
    "The aligned windows method is an alternative aggregate query that more directly exploits the underlying database structure for the best possible performance. This method, `aligned_windows` takes a `pointwidth` argument that defines the window width as a power of two. Like the `windows` method, each point returned is a statistical aggregate of all the raw data within a window but of width $2^{pointwidth}$ nanoseconds.\n",
    "\n",
    "Note that when bounding the query with a time range, `start` is inclusive, but `end` is exclusive. That is, results will be returned for all windows that start in the interval $[start, end)$. If $end < start+2^{pointwidth}$ you will not get any results. If start and end are not powers of two, the bottom pointwidth bits will be cleared. Each window will contain statistical summaries of the window. Statistical points with no points (`count=0`) will be ommitted."
   ]
  },
  {
   "cell_type": "code",
   "execution_count": 12,
   "metadata": {},
   "outputs": [
    {
     "name": "stdout",
     "output_type": "stream",
     "text": [
      "               time      min      max     mean     stddev    count\n",
      "-------------------  -------  -------  -------  ---------  -------\n",
      "1456790399996657664  283.008  283.06   283.04   0.017388        15\n",
      "1456790400130875392  283.054  283.139  283.094  0.0276213       16\n",
      "1456790400265093120  282.95   283.069  283.027  0.0342351       16\n",
      "1456790400399310848  282.936  283.04   283.01   0.0272138       17\n",
      "1456790400533528576  283.034  283.112  283.061  0.0189327       16\n",
      "1456790400667746304  283.089  283.161  283.127  0.0202038       16\n",
      "1456790400801964032  283.044  283.159  283.111  0.0338108       16\n"
     ]
    }
   ],
   "source": [
    "pointwidth = 27    # 2^27 nanoseconds wide\n",
    "points = [point for point, _ in stream.aligned_windows(start, end, pointwidth)]\n",
    "print(stat_table(points))"
   ]
  },
  {
   "cell_type": "markdown",
   "metadata": {},
   "source": [
    "This can be really useful if you dont particularly care where the start/end of your windows are, or if you just want a high level statistical view.\n",
    "\n",
    "As an example, the code below will return a single window of all of the data so you can easily view statistics of the entire dataset. We will use the `currently_as_ns` function to get the current datetime as nanoseconds from epoch to use as our end time."
   ]
  },
  {
   "cell_type": "code",
   "execution_count": 13,
   "metadata": {},
   "outputs": [
    {
     "name": "stdout",
     "output_type": "stream",
     "text": [
      "               time      min      max     mean    stddev      count\n",
      "-------------------  -------  -------  -------  --------  ---------\n",
      "1454662679640670208  240.445  290.53   285.478   1.41733  285105792\n",
      "1459166279268040704  271.247  293.465  284.494   1.62677  536368941\n",
      "1463669878895411200  266.341  289.085  283.935   1.7701   127976711\n"
     ]
    }
   ],
   "source": [
    "from btrdb.utils.timez import currently_as_ns\n",
    "\n",
    "pointwidth = 52\n",
    "points = [point for point, _ in stream.aligned_windows(start, currently_as_ns(), pointwidth)]\n",
    "print(stat_table(points))"
   ]
  },
  {
   "cell_type": "code",
   "execution_count": null,
   "metadata": {},
   "outputs": [],
   "source": []
  }
 ],
 "metadata": {
  "kernelspec": {
   "display_name": "Python 3",
   "language": "python",
   "name": "python3"
  },
  "language_info": {
   "codemirror_mode": {
    "name": "ipython",
    "version": 3
   },
   "file_extension": ".py",
   "mimetype": "text/x-python",
   "name": "python",
   "nbconvert_exporter": "python",
   "pygments_lexer": "ipython3",
   "version": "3.7.3"
  }
 },
 "nbformat": 4,
 "nbformat_minor": 2
}
