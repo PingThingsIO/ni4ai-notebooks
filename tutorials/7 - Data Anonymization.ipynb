{
 "cells": [
  {
   "cell_type": "markdown",
   "metadata": {},
   "source": [
    "# Data Anonymization via PredictiveGrid"
   ]
  },
  {
   "cell_type": "code",
   "execution_count": 1,
   "metadata": {},
   "outputs": [],
   "source": [
    "import pandas as pd\n",
    "import btrdb\n",
    "\n",
    "from btrdb.utils.timez import *\n",
    "from datetime import datetime, timedelta"
   ]
  },
  {
   "cell_type": "code",
   "execution_count": 2,
   "metadata": {},
   "outputs": [],
   "source": [
    "db = btrdb.connect('api.ni4ai.org:4411', apikey='API_KEY')"
   ]
  },
  {
   "cell_type": "markdown",
   "metadata": {},
   "source": [
    "# Select streams from the database\n",
    "\n",
    "This demo will use real-time data streaming from a sensor in my home.\n",
    "\n",
    "Here's a \"permalink\" to visualize data in The Plotter, our data visualization interface.\n",
    "\n",
    "https://plot.ni4ai.org/permalink/v3iP--iLU"
   ]
  },
  {
   "cell_type": "code",
   "execution_count": 3,
   "metadata": {},
   "outputs": [],
   "source": [
    "voltage = db.stream_from_uuid(\"cf0462cf-1c19-595b-96e4-169edc4a7448\")"
   ]
  },
  {
   "cell_type": "code",
   "execution_count": 4,
   "metadata": {},
   "outputs": [
    {
     "name": "stdout",
     "output_type": "stream",
     "text": [
      "Collection Name\n",
      "===============\n"
     ]
    },
    {
     "data": {
      "text/plain": [
       "'ni4ai/oakland'"
      ]
     },
     "execution_count": 4,
     "metadata": {},
     "output_type": "execute_result"
    }
   ],
   "source": [
    "print('Collection Name\\n===============')\n",
    "voltage.collection"
   ]
  },
  {
   "cell_type": "code",
   "execution_count": 5,
   "metadata": {},
   "outputs": [
    {
     "name": "stdout",
     "output_type": "stream",
     "text": [
      "Sensor Metadata\n",
      "===============\n"
     ]
    },
    {
     "data": {
      "text/plain": [
       "({'STN': 'Laurel_UPMU',\n",
       "  'longitude': -122.211962,\n",
       "  'ID_1': 0,\n",
       "  'hardware': 'microPMU',\n",
       "  'latitude': 37.842514,\n",
       "  'location': 'Oakland, CA',\n",
       "  'nominal_volts': 120,\n",
       "  'sample_rate': '60Hz',\n",
       "  'interconnect': 'WECC',\n",
       "  'original_uuid': 'cf0462cf-1c19-595b-96e4-169edc4a7448',\n",
       "  'ID_2': 0,\n",
       "  'siting': 'wall outlet'},\n",
       " 7)"
      ]
     },
     "execution_count": 5,
     "metadata": {},
     "output_type": "execute_result"
    }
   ],
   "source": [
    "print('Sensor Metadata\\n===============')\n",
    "voltage.annotations()\n"
   ]
  },
  {
   "cell_type": "markdown",
   "metadata": {},
   "source": [
    "# Querying recent measurements"
   ]
  },
  {
   "cell_type": "code",
   "execution_count": 6,
   "metadata": {},
   "outputs": [],
   "source": [
    "point, version = voltage.current()"
   ]
  },
  {
   "cell_type": "code",
   "execution_count": 7,
   "metadata": {},
   "outputs": [
    {
     "name": "stdout",
     "output_type": "stream",
     "text": [
      "Latest Measurement Values\n",
      "=========================\n",
      "Voltage: \t 123.30\n",
      "Time (ns): \t 1618508824991662700\n",
      "Time (date): \t 2021-04-15 17:47:04\n",
      "Time (delta): \t 0:00:01.799706\n"
     ]
    }
   ],
   "source": [
    "print('Latest Measurement Values\\n=========================')\n",
    "print('Voltage: \\t %.2f'%(point.value))\n",
    "print('Time (ns): \\t %i'%(point.time))\n",
    "\n",
    "# convert nanoseconds to datetime\n",
    "tstamp = ns_to_datetime(point.time)\n",
    "print('Time (date): \\t %s'%str(tstamp.strftime('%Y-%m-%d %H:%M:%S')))\n",
    "\n",
    "# how much time has passed since measurement\n",
    "dt = currently_as_ns()-point.time\n",
    "print('Time (delta): \\t %s'%(timedelta(seconds=dt/1e9)))"
   ]
  },
  {
   "cell_type": "markdown",
   "metadata": {},
   "source": [
    "# Querying statistical aggregates"
   ]
  },
  {
   "cell_type": "code",
   "execution_count": 8,
   "metadata": {},
   "outputs": [
    {
     "name": "stdout",
     "output_type": "stream",
     "text": [
      "time history: \t 27 days\n",
      "window: \t 68 seconds\n",
      "start time: \t 2021-03-19 17:03:28.008333+00:00\n",
      "end time: \t 2021-04-15 17:47:04.991663+00:00\n",
      "\n",
      "CPU times: user 208 ms, sys: 20.3 ms, total: 228 ms\n",
      "Wall time: 922 ms\n"
     ]
    }
   ],
   "source": [
    "%%time\n",
    "\n",
    "pw = 36 # 2**36 nanoseconds, or about 1 min\n",
    "\n",
    "start, _ = voltage.earliest()\n",
    "end, _ = voltage.latest()\n",
    "\n",
    "points, _ = zip(*voltage.aligned_windows(start.time, end.time, pw))\n",
    "\n",
    "print('time history: \\t %i days'%((ns_to_datetime(end.time)-ns_to_datetime(start.time)).days))\n",
    "print('window: \\t %i seconds'%(2**pw/1e9))\n",
    "print('start time:', '\\t', ns_to_datetime(start.time))\n",
    "print('end time:', '\\t', ns_to_datetime(end.time))\n",
    "print()"
   ]
  },
  {
   "cell_type": "code",
   "execution_count": 9,
   "metadata": {},
   "outputs": [
    {
     "data": {
      "text/plain": [
       "StatPoint(1616173378618523648, 121.51087188720703, 121.76421417624263, 121.92274475097656, 2360, 0.065849794621763)"
      ]
     },
     "execution_count": 9,
     "metadata": {},
     "output_type": "execute_result"
    }
   ],
   "source": [
    "points[0]"
   ]
  },
  {
   "cell_type": "code",
   "execution_count": 10,
   "metadata": {},
   "outputs": [
    {
     "data": {
      "text/plain": [
       "['max', 'mean', 'min', 'stddev', 'time']"
      ]
     },
     "execution_count": 10,
     "metadata": {},
     "output_type": "execute_result"
    }
   ],
   "source": [
    "dir(points[0])[-5:]"
   ]
  },
  {
   "cell_type": "code",
   "execution_count": 11,
   "metadata": {},
   "outputs": [
    {
     "data": {
      "text/html": [
       "<div>\n",
       "<style scoped>\n",
       "    .dataframe tbody tr th:only-of-type {\n",
       "        vertical-align: middle;\n",
       "    }\n",
       "\n",
       "    .dataframe tbody tr th {\n",
       "        vertical-align: top;\n",
       "    }\n",
       "\n",
       "    .dataframe thead th {\n",
       "        text-align: right;\n",
       "    }\n",
       "</style>\n",
       "<table border=\"1\" class=\"dataframe\">\n",
       "  <thead>\n",
       "    <tr style=\"text-align: right;\">\n",
       "      <th></th>\n",
       "      <th>nanosec</th>\n",
       "      <th>time</th>\n",
       "      <th>min</th>\n",
       "      <th>max</th>\n",
       "      <th>mean</th>\n",
       "      <th>stddev</th>\n",
       "      <th>count</th>\n",
       "    </tr>\n",
       "  </thead>\n",
       "  <tbody>\n",
       "    <tr>\n",
       "      <th>0</th>\n",
       "      <td>1616173378618523648</td>\n",
       "      <td>2021-03-19 17:02:58.618524+00:00</td>\n",
       "      <td>121.510872</td>\n",
       "      <td>121.922745</td>\n",
       "      <td>121.764214</td>\n",
       "      <td>0.065850</td>\n",
       "      <td>2360</td>\n",
       "    </tr>\n",
       "    <tr>\n",
       "      <th>1</th>\n",
       "      <td>1616173447338000384</td>\n",
       "      <td>2021-03-19 17:04:07.338000+00:00</td>\n",
       "      <td>121.668205</td>\n",
       "      <td>122.032745</td>\n",
       "      <td>121.814888</td>\n",
       "      <td>0.073597</td>\n",
       "      <td>4123</td>\n",
       "    </tr>\n",
       "    <tr>\n",
       "      <th>2</th>\n",
       "      <td>1616173516057477120</td>\n",
       "      <td>2021-03-19 17:05:16.057477+00:00</td>\n",
       "      <td>121.698715</td>\n",
       "      <td>122.010353</td>\n",
       "      <td>121.896411</td>\n",
       "      <td>0.042958</td>\n",
       "      <td>4124</td>\n",
       "    </tr>\n",
       "    <tr>\n",
       "      <th>3</th>\n",
       "      <td>1616173584776953856</td>\n",
       "      <td>2021-03-19 17:06:24.776954+00:00</td>\n",
       "      <td>121.671600</td>\n",
       "      <td>122.037033</td>\n",
       "      <td>121.858147</td>\n",
       "      <td>0.096262</td>\n",
       "      <td>4123</td>\n",
       "    </tr>\n",
       "    <tr>\n",
       "      <th>4</th>\n",
       "      <td>1616173653496430592</td>\n",
       "      <td>2021-03-19 17:07:33.496431+00:00</td>\n",
       "      <td>121.654892</td>\n",
       "      <td>122.046783</td>\n",
       "      <td>121.872823</td>\n",
       "      <td>0.074416</td>\n",
       "      <td>4123</td>\n",
       "    </tr>\n",
       "  </tbody>\n",
       "</table>\n",
       "</div>"
      ],
      "text/plain": [
       "               nanosec                             time         min  \\\n",
       "0  1616173378618523648 2021-03-19 17:02:58.618524+00:00  121.510872   \n",
       "1  1616173447338000384 2021-03-19 17:04:07.338000+00:00  121.668205   \n",
       "2  1616173516057477120 2021-03-19 17:05:16.057477+00:00  121.698715   \n",
       "3  1616173584776953856 2021-03-19 17:06:24.776954+00:00  121.671600   \n",
       "4  1616173653496430592 2021-03-19 17:07:33.496431+00:00  121.654892   \n",
       "\n",
       "          max        mean    stddev  count  \n",
       "0  121.922745  121.764214  0.065850   2360  \n",
       "1  122.032745  121.814888  0.073597   4123  \n",
       "2  122.010353  121.896411  0.042958   4124  \n",
       "3  122.037033  121.858147  0.096262   4123  \n",
       "4  122.046783  121.872823  0.074416   4123  "
      ]
     },
     "execution_count": 11,
     "metadata": {},
     "output_type": "execute_result"
    }
   ],
   "source": [
    "df = pd.DataFrame([[p.time, ns_to_datetime(p.time), p.min, p.max, p.mean, p.stddev, p.count] for p in points],\n",
    "                 columns=['nanosec', 'time','min','max','mean','stddev','count'])\n",
    "\n",
    "df.head()"
   ]
  },
  {
   "cell_type": "code",
   "execution_count": 12,
   "metadata": {},
   "outputs": [
    {
     "name": "stderr",
     "output_type": "stream",
     "text": [
      "/Users/laureldunn/miniconda3/lib/python3.7/site-packages/pandas/plotting/_matplotlib/converter.py:256: MatplotlibDeprecationWarning: \n",
      "The epoch2num function was deprecated in Matplotlib 3.3 and will be removed two minor releases later.\n",
      "  base = dates.epoch2num(dt.asi8 / 1.0e9)\n"
     ]
    },
    {
     "data": {
      "text/plain": [
       "<AxesSubplot:xlabel='time'>"
      ]
     },
     "execution_count": 12,
     "metadata": {},
     "output_type": "execute_result"
    },
    {
     "data": {
      "image/png": "[encoded data removed]",
      "text/plain": [
       "<Figure size 720x216 with 1 Axes>"
      ]
     },
     "metadata": {
      "needs_background": "light"
     },
     "output_type": "display_data"
    }
   ],
   "source": [
    "df.plot(x='time', y='mean', figsize=(10,3))"
   ]
  },
  {
   "cell_type": "markdown",
   "metadata": {},
   "source": [
    "# Finding an event"
   ]
  },
  {
   "cell_type": "code",
   "execution_count": 13,
   "metadata": {},
   "outputs": [
    {
     "data": {
      "text/plain": [
       "Timestamp('2021-03-24 20:52:41.864110+0000', tz='UTC')"
      ]
     },
     "execution_count": 13,
     "metadata": {},
     "output_type": "execute_result"
    }
   ],
   "source": [
    "min_time = df['mean'].idxmin()\n",
    "df['time'].loc[min_time]"
   ]
  },
  {
   "cell_type": "code",
   "execution_count": 14,
   "metadata": {},
   "outputs": [],
   "source": [
    "# Choose a 5-hour window to share that includes data leading up to and after the event\n",
    "start_share = datetime(2021, 3, 24, 18)\n",
    "end_share = datetime(2021, 3, 24, 23)"
   ]
  },
  {
   "cell_type": "markdown",
   "metadata": {},
   "source": [
    "# Data anonymization\n",
    "\n",
    "## Examining metadata"
   ]
  },
  {
   "cell_type": "code",
   "execution_count": 15,
   "metadata": {},
   "outputs": [
    {
     "name": "stdout",
     "output_type": "stream",
     "text": [
      "Sensor Metadata\n",
      "===============\n"
     ]
    },
    {
     "data": {
      "text/plain": [
       "({'STN': 'Laurel_UPMU',\n",
       "  'longitude': -122.211962,\n",
       "  'ID_1': 0,\n",
       "  'hardware': 'microPMU',\n",
       "  'latitude': 37.842514,\n",
       "  'location': 'Oakland, CA',\n",
       "  'nominal_volts': 120,\n",
       "  'sample_rate': '60Hz',\n",
       "  'interconnect': 'WECC',\n",
       "  'original_uuid': 'cf0462cf-1c19-595b-96e4-169edc4a7448',\n",
       "  'ID_2': 0,\n",
       "  'siting': 'wall outlet'},\n",
       " 7)"
      ]
     },
     "execution_count": 15,
     "metadata": {},
     "output_type": "execute_result"
    }
   ],
   "source": [
    "print('Sensor Metadata\\n===============')\n",
    "voltage.annotations()\n"
   ]
  },
  {
   "cell_type": "markdown",
   "metadata": {},
   "source": [
    "## Modify metadata to remove sensitive information"
   ]
  },
  {
   "cell_type": "code",
   "execution_count": 16,
   "metadata": {},
   "outputs": [
    {
     "name": "stdout",
     "output_type": "stream",
     "text": [
      "Updated Metadata\n",
      "===============\n"
     ]
    },
    {
     "data": {
      "text/plain": [
       "{'siting': 'wall outlet',\n",
       " 'hardware': 'microPMU',\n",
       " 'interconnect': 'WECC',\n",
       " 'location': 'Oakland, CA',\n",
       " 'sample_rate': '60Hz',\n",
       " 'station': 'pmu0001'}"
      ]
     },
     "execution_count": 16,
     "metadata": {},
     "output_type": "execute_result"
    }
   ],
   "source": [
    "raw_metadata, _ = voltage.annotations()\n",
    "anon_metadata = {}\n",
    "\n",
    "share_fields = ['siting','hardware','interconnect','location','sample_rate',]\n",
    "for field in share_fields:\n",
    "    anon_metadata[field] = str(raw_metadata[field])\n",
    "\n",
    "if 'latitude' in anon_metadata.keys():\n",
    "    del anon_metadata['latitude']\n",
    "\n",
    "if 'longitude' in anon_metadata.keys():\n",
    "    del anon_metadata['longitude']\n",
    "\n",
    "anon_metadata['station'] = 'pmu0001'\n",
    "\n",
    "\n",
    "print('Updated Metadata\\n===============')    \n",
    "anon_metadata"
   ]
  },
  {
   "cell_type": "code",
   "execution_count": 17,
   "metadata": {},
   "outputs": [],
   "source": [
    "for s in db.streams_in_collection('anonymized/oakland'):\n",
    "    s.obliterate()"
   ]
  },
  {
   "cell_type": "markdown",
   "metadata": {},
   "source": [
    "# Create an anonymized stream"
   ]
  },
  {
   "cell_type": "code",
   "execution_count": 18,
   "metadata": {},
   "outputs": [],
   "source": [
    "import uuid\n",
    "\n",
    "new_stream = db.create(uuid=uuid.uuid4(),\n",
    "                       tags={'name': 'Vmag', 'unit': 'p.u.'},\n",
    "                       annotations=anon_metadata,\n",
    "                       collection='anonymized/oakland')"
   ]
  },
  {
   "cell_type": "markdown",
   "metadata": {},
   "source": [
    "## Check that metadata is changed"
   ]
  },
  {
   "cell_type": "code",
   "execution_count": 19,
   "metadata": {},
   "outputs": [
    {
     "data": {
      "text/plain": [
       "({'siting': 'wall outlet',\n",
       "  'hardware': 'microPMU',\n",
       "  'interconnect': 'WECC',\n",
       "  'location': 'Oakland, CA',\n",
       "  'sample_rate': '60Hz',\n",
       "  'station': 'pmu0001'},\n",
       " 0)"
      ]
     },
     "execution_count": 19,
     "metadata": {},
     "output_type": "execute_result"
    }
   ],
   "source": [
    "new_stream.annotations()"
   ]
  },
  {
   "cell_type": "markdown",
   "metadata": {},
   "source": [
    "## Pull raw data from original data stream"
   ]
  },
  {
   "cell_type": "code",
   "execution_count": 20,
   "metadata": {},
   "outputs": [
    {
     "name": "stdout",
     "output_type": "stream",
     "text": [
      "CPU times: user 4.46 s, sys: 320 ms, total: 4.78 s\n",
      "Wall time: 5.32 s\n"
     ]
    }
   ],
   "source": [
    "%%time\n",
    "\n",
    "# get data from database\n",
    "points, _ = zip(*voltage.values(datetime_to_ns(start_share), datetime_to_ns(end_share)))"
   ]
  },
  {
   "cell_type": "markdown",
   "metadata": {},
   "source": [
    "## Perform transformations\n",
    "\n",
    "Here we'll convert to p.u. voltage."
   ]
  },
  {
   "cell_type": "code",
   "execution_count": 21,
   "metadata": {},
   "outputs": [
    {
     "name": "stdout",
     "output_type": "stream",
     "text": [
      "CPU times: user 1.3 s, sys: 98.4 ms, total: 1.4 s\n",
      "Wall time: 1.94 s\n"
     ]
    }
   ],
   "source": [
    "%%time\n",
    "def convert_to_pu(values, base=raw_metadata['nominal_volts']):\n",
    "    return [v/base for v in values]\n",
    "\n",
    "def do_nothing(values):\n",
    "    return values\n",
    "\n",
    "times, values = zip(*[(v.time, v.value) for v in points])\n",
    "pu_values = convert_to_pu(values)"
   ]
  },
  {
   "cell_type": "markdown",
   "metadata": {},
   "source": [
    "## Insert transformed values into the new anonymized stream"
   ]
  },
  {
   "cell_type": "code",
   "execution_count": 22,
   "metadata": {},
   "outputs": [
    {
     "name": "stdout",
     "output_type": "stream",
     "text": [
      "CPU times: user 5.8 s, sys: 312 ms, total: 6.11 s\n",
      "Wall time: 20.9 s\n"
     ]
    },
    {
     "data": {
      "text/plain": [
       "30"
      ]
     },
     "execution_count": 22,
     "metadata": {},
     "output_type": "execute_result"
    }
   ],
   "source": [
    "%%time\n",
    "new_stream.insert(list(zip(times, pu_values)))"
   ]
  },
  {
   "cell_type": "code",
   "execution_count": null,
   "metadata": {},
   "outputs": [],
   "source": []
  }
 ],
 "metadata": {
  "kernelspec": {
   "display_name": "Python 3",
   "language": "python",
   "name": "python3"
  },
  "language_info": {
   "codemirror_mode": {
    "name": "ipython",
    "version": 3
   },
   "file_extension": ".py",
   "mimetype": "text/x-python",
   "name": "python",
   "nbconvert_exporter": "python",
   "pygments_lexer": "ipython3",
   "version": "3.7.7"
  }
 },
 "nbformat": 4,
 "nbformat_minor": 4
}
