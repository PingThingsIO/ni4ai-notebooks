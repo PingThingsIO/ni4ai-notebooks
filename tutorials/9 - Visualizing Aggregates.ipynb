{
 "cells": [
  {
   "cell_type": "markdown",
   "metadata": {},
   "source": [
    "# 9 - Visualizing Aggregates\n",
    "\n",
    "This tutorial brings together concepts from previous posts around data visualization, statpoints, and windows queries. The visualizations provided below offer a powerful tool for visualizing arbitrarily long time series of data, while also highlighting specific regions in the data that may be of interest.\n",
    "\n",
    "We also provide two helper functions which may be useful for other user-developed code. The first (`points_to_dataframe`) takes a list of StatPoint objects returned from a btrdb windows queries and converts it into a Pandas dataframe, where the columns are StatPoint attributes (i.e., min, max, mean, standard deviation and count). The second helper function (`plot_aggregates`) uses this Pandas dataframe to generate a plot showing the range and distribution of values over time."
   ]
  },
  {
   "cell_type": "code",
   "execution_count": 1,
   "metadata": {},
   "outputs": [],
   "source": [
    "import btrdb\n",
    "import pandas as pd\n",
    "import numpy as np\n",
    "\n",
    "import time\n",
    "\n",
    "\n",
    "from datetime import datetime, timedelta\n",
    "\n",
    "from matplotlib import pyplot as plt\n",
    "from btrdb.utils import timez\n",
    "\n",
    "db = btrdb.connect()"
   ]
  },
  {
   "cell_type": "markdown",
   "metadata": {},
   "source": [
    "### Select data"
   ]
  },
  {
   "cell_type": "code",
   "execution_count": 2,
   "metadata": {},
   "outputs": [
    {
     "data": {
      "text/html": [
       "<div>\n",
       "<style scoped>\n",
       "    .dataframe tbody tr th:only-of-type {\n",
       "        vertical-align: middle;\n",
       "    }\n",
       "\n",
       "    .dataframe tbody tr th {\n",
       "        vertical-align: top;\n",
       "    }\n",
       "\n",
       "    .dataframe thead th {\n",
       "        text-align: right;\n",
       "    }\n",
       "</style>\n",
       "<table border=\"1\" class=\"dataframe\">\n",
       "  <thead>\n",
       "    <tr style=\"text-align: right;\">\n",
       "      <th></th>\n",
       "      <th>name</th>\n",
       "      <th>unit</th>\n",
       "      <th>collection</th>\n",
       "    </tr>\n",
       "  </thead>\n",
       "  <tbody>\n",
       "    <tr>\n",
       "      <th>0</th>\n",
       "      <td>L3MAG</td>\n",
       "      <td>volts</td>\n",
       "      <td>sunshine/PMU1</td>\n",
       "    </tr>\n",
       "    <tr>\n",
       "      <th>1</th>\n",
       "      <td>L1MAG</td>\n",
       "      <td>volts</td>\n",
       "      <td>sunshine/PMU1</td>\n",
       "    </tr>\n",
       "    <tr>\n",
       "      <th>2</th>\n",
       "      <td>L2MAG</td>\n",
       "      <td>volts</td>\n",
       "      <td>sunshine/PMU1</td>\n",
       "    </tr>\n",
       "  </tbody>\n",
       "</table>\n",
       "</div>"
      ],
      "text/plain": [
       "    name   unit     collection\n",
       "0  L3MAG  volts  sunshine/PMU1\n",
       "1  L1MAG  volts  sunshine/PMU1\n",
       "2  L2MAG  volts  sunshine/PMU1"
      ]
     },
     "execution_count": 2,
     "metadata": {},
     "output_type": "execute_result"
    }
   ],
   "source": [
    "streams = db.streams_in_collection('sunshine/PMU1', tags={'unit': 'volts'})\n",
    "\n",
    "pd.DataFrame([[s.name, s.unit, s.collection] for s in streams],\n",
    "            columns=['name','unit','collection'])"
   ]
  },
  {
   "cell_type": "markdown",
   "metadata": {},
   "source": [
    "### Determine time interval\n",
    "\n",
    "Below, we use `stream.earliest()` and `stream.latest()` to determine the time interval spanned by the data."
   ]
  },
  {
   "cell_type": "code",
   "execution_count": 3,
   "metadata": {},
   "outputs": [
    {
     "name": "stdout",
     "output_type": "stream",
     "text": [
      "start: 2015-10-01 16:08:24.008333+00:00\n",
      "end: 2017-04-15 01:41:35.999999+00:00\n",
      "561 days, 9:33:11.991666\n"
     ]
    }
   ],
   "source": [
    "stream = db.stream_from_uuid(streams[1].uuid)\n",
    "\n",
    "def get_time(stream, func):\n",
    "    return timez.ns_to_datetime(getattr(stream, func)()[0].time)\n",
    "\n",
    "print('start:', get_time(streams[0], 'earliest'))\n",
    "print('end:', get_time(streams[0], 'latest'))\n",
    "print(str(get_time(streams[0], 'latest') - get_time(streams[0], 'earliest')))"
   ]
  },
  {
   "cell_type": "markdown",
   "metadata": {},
   "source": [
    "See it in the plotter: https://plot.ni4ai.org/permalink/VKne4LTTl"
   ]
  },
  {
   "cell_type": "markdown",
   "metadata": {},
   "source": [
    "### Choose time interval\n",
    "\n",
    "Here, we select a time interval of one year."
   ]
  },
  {
   "cell_type": "code",
   "execution_count": 4,
   "metadata": {},
   "outputs": [],
   "source": [
    "start_time = datetime(2016,4,1)\n",
    "end_time = datetime(2017,4,1)\n",
    "\n",
    "start_ns = timez.datetime_to_ns(start_time)\n",
    "end_ns = timez.datetime_to_ns(end_time)"
   ]
  },
  {
   "cell_type": "markdown",
   "metadata": {},
   "source": [
    "https://plot.ni4ai.org/permalink/2KN5iCXw5"
   ]
  },
  {
   "cell_type": "code",
   "execution_count": 5,
   "metadata": {},
   "outputs": [
    {
     "data": {
      "text/plain": [
       "(StatPoint(1459166279268040704, 6825.37109375, 7157.580867829119, 7301.88525390625, 269591739, 36.51418677591111),\n",
       " StatPoint(1461418079081725952, 6580.9541015625, 7161.23304578515, 7300.8623046875, 269692154, 35.61453444076186),\n",
       " StatPoint(1463669878895411200, 6796.833984375, 7160.458736401789, 7286.55126953125, 147383982, 34.1646855496053),\n",
       " StatPoint(1465921678709096448, 6964.91455078125, 7159.378036144785, 7325.37158203125, 206497053, 40.14920297145494),\n",
       " StatPoint(1468173478522781696, 5558.57421875, 7167.452925690963, 7294.76318359375, 269810992, 39.238088874956624),\n",
       " StatPoint(1470425278336466944, 5780.056640625, 7161.174368865373, 7307.212890625, 268549058, 41.321696619794494),\n",
       " StatPoint(1472677078150152192, 6392.52099609375, 7161.894405845441, 7318.228515625, 268988146, 39.96141042153979),\n",
       " StatPoint(1474928877963837440, 5955.3212890625, 7158.670968887105, 7300.72509765625, 255962541, 39.97700500308349),\n",
       " StatPoint(1477180677777522688, 5097.31298828125, 7156.974233908252, 7283.45361328125, 268787149, 36.33054088798969),\n",
       " StatPoint(1479432477591207936, 6591.23486328125, 7158.855179375172, 7281.74755859375, 270215978, 33.48565115468457),\n",
       " StatPoint(1481684277404893184, 6501.1142578125, 7162.591062269605, 7282.77734375, 270216211, 34.53212742881303),\n",
       " StatPoint(1483936077218578432, 6076.43017578125, 7162.1296525714415, 7262.462890625, 270089894, 35.17972671790351),\n",
       " StatPoint(1486187877032263680, 6127.64404296875, 7153.473267831473, 7292.42724609375, 234816262, 37.10013475124324),\n",
       " StatPoint(1488439676845948928, 5907.42041015625, 7160.925875368738, 7297.984375, 270196174, 34.90643606628646))"
      ]
     },
     "execution_count": 5,
     "metadata": {},
     "output_type": "execute_result"
    }
   ],
   "source": [
    "window = timez.ns_delta(days=30)\n",
    "pw = int(np.log2(window))\n",
    "\n",
    "points, _ = zip(*stream.aligned_windows(start_ns, end_ns, pointwidth=pw))\n",
    "points"
   ]
  },
  {
   "cell_type": "markdown",
   "metadata": {},
   "source": [
    "## Convert to pandas dataframe"
   ]
  },
  {
   "cell_type": "code",
   "execution_count": 6,
   "metadata": {},
   "outputs": [
    {
     "data": {
      "text/html": [
       "<div>\n",
       "<style scoped>\n",
       "    .dataframe tbody tr th:only-of-type {\n",
       "        vertical-align: middle;\n",
       "    }\n",
       "\n",
       "    .dataframe tbody tr th {\n",
       "        vertical-align: top;\n",
       "    }\n",
       "\n",
       "    .dataframe thead th {\n",
       "        text-align: right;\n",
       "    }\n",
       "</style>\n",
       "<table border=\"1\" class=\"dataframe\">\n",
       "  <thead>\n",
       "    <tr style=\"text-align: right;\">\n",
       "      <th></th>\n",
       "      <th>time</th>\n",
       "      <th>min</th>\n",
       "      <th>max</th>\n",
       "      <th>mean</th>\n",
       "      <th>stddev</th>\n",
       "      <th>count</th>\n",
       "    </tr>\n",
       "    <tr>\n",
       "      <th>datetime</th>\n",
       "      <th></th>\n",
       "      <th></th>\n",
       "      <th></th>\n",
       "      <th></th>\n",
       "      <th></th>\n",
       "      <th></th>\n",
       "    </tr>\n",
       "  </thead>\n",
       "  <tbody>\n",
       "    <tr>\n",
       "      <th>2016-03-28 11:57:59.268041+00:00</th>\n",
       "      <td>1459166279268040704</td>\n",
       "      <td>6825.371094</td>\n",
       "      <td>7301.885254</td>\n",
       "      <td>7157.580868</td>\n",
       "      <td>36.514187</td>\n",
       "      <td>269591739</td>\n",
       "    </tr>\n",
       "    <tr>\n",
       "      <th>2016-04-23 13:27:59.081726+00:00</th>\n",
       "      <td>1461418079081725952</td>\n",
       "      <td>6580.954102</td>\n",
       "      <td>7300.862305</td>\n",
       "      <td>7161.233046</td>\n",
       "      <td>35.614534</td>\n",
       "      <td>269692154</td>\n",
       "    </tr>\n",
       "    <tr>\n",
       "      <th>2016-05-19 14:57:58.895411+00:00</th>\n",
       "      <td>1463669878895411200</td>\n",
       "      <td>6796.833984</td>\n",
       "      <td>7286.551270</td>\n",
       "      <td>7160.458736</td>\n",
       "      <td>34.164686</td>\n",
       "      <td>147383982</td>\n",
       "    </tr>\n",
       "    <tr>\n",
       "      <th>2016-06-14 16:27:58.709096+00:00</th>\n",
       "      <td>1465921678709096448</td>\n",
       "      <td>6964.914551</td>\n",
       "      <td>7325.371582</td>\n",
       "      <td>7159.378036</td>\n",
       "      <td>40.149203</td>\n",
       "      <td>206497053</td>\n",
       "    </tr>\n",
       "    <tr>\n",
       "      <th>2016-07-10 17:57:58.522782+00:00</th>\n",
       "      <td>1468173478522781696</td>\n",
       "      <td>5558.574219</td>\n",
       "      <td>7294.763184</td>\n",
       "      <td>7167.452926</td>\n",
       "      <td>39.238089</td>\n",
       "      <td>269810992</td>\n",
       "    </tr>\n",
       "    <tr>\n",
       "      <th>2016-08-05 19:27:58.336467+00:00</th>\n",
       "      <td>1470425278336466944</td>\n",
       "      <td>5780.056641</td>\n",
       "      <td>7307.212891</td>\n",
       "      <td>7161.174369</td>\n",
       "      <td>41.321697</td>\n",
       "      <td>268549058</td>\n",
       "    </tr>\n",
       "    <tr>\n",
       "      <th>2016-08-31 20:57:58.150152+00:00</th>\n",
       "      <td>1472677078150152192</td>\n",
       "      <td>6392.520996</td>\n",
       "      <td>7318.228516</td>\n",
       "      <td>7161.894406</td>\n",
       "      <td>39.961410</td>\n",
       "      <td>268988146</td>\n",
       "    </tr>\n",
       "    <tr>\n",
       "      <th>2016-09-26 22:27:57.963837+00:00</th>\n",
       "      <td>1474928877963837440</td>\n",
       "      <td>5955.321289</td>\n",
       "      <td>7300.725098</td>\n",
       "      <td>7158.670969</td>\n",
       "      <td>39.977005</td>\n",
       "      <td>255962541</td>\n",
       "    </tr>\n",
       "    <tr>\n",
       "      <th>2016-10-22 23:57:57.777523+00:00</th>\n",
       "      <td>1477180677777522688</td>\n",
       "      <td>5097.312988</td>\n",
       "      <td>7283.453613</td>\n",
       "      <td>7156.974234</td>\n",
       "      <td>36.330541</td>\n",
       "      <td>268787149</td>\n",
       "    </tr>\n",
       "    <tr>\n",
       "      <th>2016-11-18 01:27:57.591208+00:00</th>\n",
       "      <td>1479432477591207936</td>\n",
       "      <td>6591.234863</td>\n",
       "      <td>7281.747559</td>\n",
       "      <td>7158.855179</td>\n",
       "      <td>33.485651</td>\n",
       "      <td>270215978</td>\n",
       "    </tr>\n",
       "    <tr>\n",
       "      <th>2016-12-14 02:57:57.404893+00:00</th>\n",
       "      <td>1481684277404893184</td>\n",
       "      <td>6501.114258</td>\n",
       "      <td>7282.777344</td>\n",
       "      <td>7162.591062</td>\n",
       "      <td>34.532127</td>\n",
       "      <td>270216211</td>\n",
       "    </tr>\n",
       "    <tr>\n",
       "      <th>2017-01-09 04:27:57.218578+00:00</th>\n",
       "      <td>1483936077218578432</td>\n",
       "      <td>6076.430176</td>\n",
       "      <td>7262.462891</td>\n",
       "      <td>7162.129653</td>\n",
       "      <td>35.179727</td>\n",
       "      <td>270089894</td>\n",
       "    </tr>\n",
       "    <tr>\n",
       "      <th>2017-02-04 05:57:57.032264+00:00</th>\n",
       "      <td>1486187877032263680</td>\n",
       "      <td>6127.644043</td>\n",
       "      <td>7292.427246</td>\n",
       "      <td>7153.473268</td>\n",
       "      <td>37.100135</td>\n",
       "      <td>234816262</td>\n",
       "    </tr>\n",
       "    <tr>\n",
       "      <th>2017-03-02 07:27:56.845949+00:00</th>\n",
       "      <td>1488439676845948928</td>\n",
       "      <td>5907.420410</td>\n",
       "      <td>7297.984375</td>\n",
       "      <td>7160.925875</td>\n",
       "      <td>34.906436</td>\n",
       "      <td>270196174</td>\n",
       "    </tr>\n",
       "  </tbody>\n",
       "</table>\n",
       "</div>"
      ],
      "text/plain": [
       "                                                 time          min  \\\n",
       "datetime                                                             \n",
       "2016-03-28 11:57:59.268041+00:00  1459166279268040704  6825.371094   \n",
       "2016-04-23 13:27:59.081726+00:00  1461418079081725952  6580.954102   \n",
       "2016-05-19 14:57:58.895411+00:00  1463669878895411200  6796.833984   \n",
       "2016-06-14 16:27:58.709096+00:00  1465921678709096448  6964.914551   \n",
       "2016-07-10 17:57:58.522782+00:00  1468173478522781696  5558.574219   \n",
       "2016-08-05 19:27:58.336467+00:00  1470425278336466944  5780.056641   \n",
       "2016-08-31 20:57:58.150152+00:00  1472677078150152192  6392.520996   \n",
       "2016-09-26 22:27:57.963837+00:00  1474928877963837440  5955.321289   \n",
       "2016-10-22 23:57:57.777523+00:00  1477180677777522688  5097.312988   \n",
       "2016-11-18 01:27:57.591208+00:00  1479432477591207936  6591.234863   \n",
       "2016-12-14 02:57:57.404893+00:00  1481684277404893184  6501.114258   \n",
       "2017-01-09 04:27:57.218578+00:00  1483936077218578432  6076.430176   \n",
       "2017-02-04 05:57:57.032264+00:00  1486187877032263680  6127.644043   \n",
       "2017-03-02 07:27:56.845949+00:00  1488439676845948928  5907.420410   \n",
       "\n",
       "                                          max         mean     stddev  \\\n",
       "datetime                                                                \n",
       "2016-03-28 11:57:59.268041+00:00  7301.885254  7157.580868  36.514187   \n",
       "2016-04-23 13:27:59.081726+00:00  7300.862305  7161.233046  35.614534   \n",
       "2016-05-19 14:57:58.895411+00:00  7286.551270  7160.458736  34.164686   \n",
       "2016-06-14 16:27:58.709096+00:00  7325.371582  7159.378036  40.149203   \n",
       "2016-07-10 17:57:58.522782+00:00  7294.763184  7167.452926  39.238089   \n",
       "2016-08-05 19:27:58.336467+00:00  7307.212891  7161.174369  41.321697   \n",
       "2016-08-31 20:57:58.150152+00:00  7318.228516  7161.894406  39.961410   \n",
       "2016-09-26 22:27:57.963837+00:00  7300.725098  7158.670969  39.977005   \n",
       "2016-10-22 23:57:57.777523+00:00  7283.453613  7156.974234  36.330541   \n",
       "2016-11-18 01:27:57.591208+00:00  7281.747559  7158.855179  33.485651   \n",
       "2016-12-14 02:57:57.404893+00:00  7282.777344  7162.591062  34.532127   \n",
       "2017-01-09 04:27:57.218578+00:00  7262.462891  7162.129653  35.179727   \n",
       "2017-02-04 05:57:57.032264+00:00  7292.427246  7153.473268  37.100135   \n",
       "2017-03-02 07:27:56.845949+00:00  7297.984375  7160.925875  34.906436   \n",
       "\n",
       "                                      count  \n",
       "datetime                                     \n",
       "2016-03-28 11:57:59.268041+00:00  269591739  \n",
       "2016-04-23 13:27:59.081726+00:00  269692154  \n",
       "2016-05-19 14:57:58.895411+00:00  147383982  \n",
       "2016-06-14 16:27:58.709096+00:00  206497053  \n",
       "2016-07-10 17:57:58.522782+00:00  269810992  \n",
       "2016-08-05 19:27:58.336467+00:00  268549058  \n",
       "2016-08-31 20:57:58.150152+00:00  268988146  \n",
       "2016-09-26 22:27:57.963837+00:00  255962541  \n",
       "2016-10-22 23:57:57.777523+00:00  268787149  \n",
       "2016-11-18 01:27:57.591208+00:00  270215978  \n",
       "2016-12-14 02:57:57.404893+00:00  270216211  \n",
       "2017-01-09 04:27:57.218578+00:00  270089894  \n",
       "2017-02-04 05:57:57.032264+00:00  234816262  \n",
       "2017-03-02 07:27:56.845949+00:00  270196174  "
      ]
     },
     "execution_count": 6,
     "metadata": {},
     "output_type": "execute_result"
    }
   ],
   "source": [
    "def points_to_dataframe(points, \n",
    "                        aggregates=['time','min','max','mean','stddev','count'],\n",
    "                        use_datetime_index=True):\n",
    "    df = pd.DataFrame([[getattr(p, agg) for agg in aggregates] for p in points],\n",
    "                         columns=aggregates)\n",
    "    if use_datetime_index:\n",
    "        df['datetime'] = [timez.ns_to_datetime(t) for t in df.time]\n",
    "        df = df.set_index('datetime')\n",
    "    return df\n",
    "\n",
    "df = points_to_dataframe(points)\n",
    "df"
   ]
  },
  {
   "cell_type": "markdown",
   "metadata": {},
   "source": [
    "## Define data viz helper function"
   ]
  },
  {
   "cell_type": "code",
   "execution_count": 7,
   "metadata": {},
   "outputs": [
    {
     "data": {
      "image/png": "[encoded data removed]",
      "text/plain": [
       "<Figure size 1080x216 with 1 Axes>"
      ]
     },
     "metadata": {
      "needs_background": "light"
     },
     "output_type": "display_data"
    }
   ],
   "source": [
    "def plot_aggregates(df, vlines=[], hlines=[]):\n",
    "    fig, ax = plt.subplots(figsize=(15,3))\n",
    "    df['min'].plot(ax=ax, ls=' ', marker='_', color='black', markersize=5, label='minimum')\n",
    "    df['max'].plot(ax=ax, ls=' ', marker='_', color='black', markersize=5, label='maximum')\n",
    "    df['mean'].plot(ax=ax, label='average', ls=' ', marker='.')\n",
    "    ax.fill_between(df.index, df['mean']-df['stddev'], df['mean'] + df['stddev'], alpha=0.5, label=r'$+/- 1\\times\\sigma$')\n",
    "    plt.legend()\n",
    "\n",
    "    ax.vlines(vlines, *ax.get_ylim(), color='0.5', alpha=0.5, zorder=10, lw=3, label='events')\n",
    "    ax.hlines(hlines, *ax.get_xlim(), color='0.5', zorder=10, lw=1, ls='--', label='threshold')\n",
    "    return fig\n",
    "    \n",
    "plot_aggregates(df)\n",
    "plt.show()"
   ]
  },
  {
   "cell_type": "markdown",
   "metadata": {},
   "source": [
    "## Visualize aggregates at different time-resolutions"
   ]
  },
  {
   "cell_type": "markdown",
   "metadata": {},
   "source": [
    "### Weekly"
   ]
  },
  {
   "cell_type": "code",
   "execution_count": 8,
   "metadata": {},
   "outputs": [
    {
     "data": {
      "image/png": "[encoded data removed]",
      "text/plain": [
       "<Figure size 1080x216 with 1 Axes>"
      ]
     },
     "metadata": {
      "needs_background": "light"
     },
     "output_type": "display_data"
    }
   ],
   "source": [
    "window = timez.ns_delta(days=7)\n",
    "pw = int(np.log2(window))\n",
    "\n",
    "points, _ = zip(*stream.aligned_windows(start_ns, end_ns, pointwidth=pw))\n",
    "df = points_to_dataframe(points)\n",
    "fig = plot_aggregates(df)"
   ]
  },
  {
   "cell_type": "markdown",
   "metadata": {},
   "source": [
    "### Daily"
   ]
  },
  {
   "cell_type": "code",
   "execution_count": 9,
   "metadata": {},
   "outputs": [
    {
     "data": {
      "image/png": "[encoded data removed]",
      "text/plain": [
       "<Figure size 1080x216 with 1 Axes>"
      ]
     },
     "metadata": {
      "needs_background": "light"
     },
     "output_type": "display_data"
    }
   ],
   "source": [
    "window = timez.ns_delta(days=1)\n",
    "pw = int(np.log2(window))\n",
    "\n",
    "points, _ = zip(*stream.aligned_windows(start_ns, end_ns, pointwidth=pw))\n",
    "df = points_to_dataframe(points)\n",
    "fig = plot_aggregates(df)"
   ]
  },
  {
   "cell_type": "code",
   "execution_count": null,
   "metadata": {},
   "outputs": [],
   "source": []
  }
 ],
 "metadata": {
  "kernelspec": {
   "display_name": "Python 3",
   "language": "python",
   "name": "python3"
  },
  "language_info": {
   "codemirror_mode": {
    "name": "ipython",
    "version": 3
   },
   "file_extension": ".py",
   "mimetype": "text/x-python",
   "name": "python",
   "nbconvert_exporter": "python",
   "pygments_lexer": "ipython3",
   "version": "3.7.3"
  }
 },
 "nbformat": 4,
 "nbformat_minor": 2
}
