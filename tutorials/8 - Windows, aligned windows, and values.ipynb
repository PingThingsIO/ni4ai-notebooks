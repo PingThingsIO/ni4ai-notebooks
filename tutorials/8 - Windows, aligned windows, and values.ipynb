{
 "cells": [
  {
   "cell_type": "markdown",
   "metadata": {},
   "source": [
    "# 8 - Windows, aligned windows, and values\n",
    "\n",
    "> The term “big data” refers to data that is so large, fast or complex that it’s difficult or impossible to process using traditional methods.\n",
    "\n",
    "This tutorial offers a guide on using non-traditional methods in PredictiveGrid to work with big time series data sets.\n",
    "\n",
    "For high resolution streams a simple query such as \"Give me all of the data in this stream\" can return a volume of data large enough to overload any computing environment. This tutorial describes options for interacting with data in various ways to enable interactions with very large volumes of data.\n",
    "\n",
    "We'll describe three methods for querying data in PredictiveGrid. In practice none of these is better or worse; there is a time and a place for each. This post will explore when each is appropriate to use.\n",
    "\n",
    "### Functions used\n",
    "- `stream.values()`\n",
    "- `stream.windows()`\n",
    "- `stream.aligned_windows()`"
   ]
  },
  {
   "cell_type": "code",
   "execution_count": 1,
   "metadata": {},
   "outputs": [],
   "source": [
    "import btrdb\n",
    "import pandas as pd\n",
    "import numpy as np\n",
    "from btrdb.utils.timez import *\n",
    "from datetime import datetime, timedelta\n",
    "\n",
    "from matplotlib import pyplot as plt"
   ]
  },
  {
   "cell_type": "code",
   "execution_count": 2,
   "metadata": {},
   "outputs": [],
   "source": [
    "db = btrdb.connect()"
   ]
  },
  {
   "cell_type": "markdown",
   "metadata": {},
   "source": [
    "### Querying data\n",
    "\n",
    "To illustrate what's meant by `BIG DATA`, let's investigate the very simple task of querying data from a single stream.\n",
    "\n",
    "If you ask for all of the data in a stream, what will that yield?"
   ]
  },
  {
   "cell_type": "code",
   "execution_count": 3,
   "metadata": {},
   "outputs": [
    {
     "name": "stdout",
     "output_type": "stream",
     "text": [
      "collection:\t sunshine/PMU1\n",
      "stream name:\t L1MAG\n",
      "size:\t\t 5.14 billion points\n",
      "volume:\t\t 82.29 gigabytes\n"
     ]
    }
   ],
   "source": [
    "streams = db.streams_in_collection('sunshine/PMU1', tags={'name': 'L1MAG'})\n",
    "stream = streams[0]\n",
    "print('collection:\\t', stream.collection)\n",
    "print('stream name:\\t', stream.name)\n",
    "\n",
    "# How many points is that?\n",
    "print('size:\\t\\t', round(stream.count()/1e9,2), 'billion points')\n",
    "print('volume:\\t\\t', round(stream.count()*64*2/8/1e9,2), 'gigabytes')"
   ]
  },
  {
   "cell_type": "markdown",
   "metadata": {},
   "source": [
    "### That's a lot of data!\n",
    "Querying that much data will likely overload your computing environment and will likely take quite a long time to get the data back to you. \n",
    "\n",
    "***Is there a better way?***"
   ]
  },
  {
   "cell_type": "markdown",
   "metadata": {},
   "source": [
    "# Windows Queries\n",
    "\n",
    "Windows queries provide *statistical aggregates* or \"summary statistics\" of raw data points in a given time interval. A windows query will return a time series of `StatPoint` objects, which can be used to explore summary statistics of raw values over time.\n",
    "\n",
    "New to `StatPoints`? Start with the tutorial below. \n",
    "\n",
    "https://github.com/PingThingsIO/ni4ai-notebooks/blob/main/tutorials/5%20-%20Working%20with%20StatPoints.ipynb"
   ]
  },
  {
   "cell_type": "code",
   "execution_count": 4,
   "metadata": {},
   "outputs": [
    {
     "name": "stdout",
     "output_type": "stream",
     "text": [
      "Runtime: 0.24 seconds\n"
     ]
    }
   ],
   "source": [
    "t0 = currently_as_ns()\n",
    "\n",
    "start, _ = stream.earliest()\n",
    "start = ns_to_datetime(start.time)\n",
    "\n",
    "end, _ = stream.latest()\n",
    "end = ns_to_datetime(end.time)\n",
    "\n",
    "window = ns_delta(days=5)\n",
    "\n",
    "start_time = datetime(start.year, start.month, start.day+1)\n",
    "statpoints = stream.windows(start_time, end, window)\n",
    "print('Runtime: %.2f seconds'%((currently_as_ns()-t0)/1e9))"
   ]
  },
  {
   "cell_type": "code",
   "execution_count": 5,
   "metadata": {},
   "outputs": [
    {
     "data": {
      "text/html": [
       "<div>\n",
       "<style scoped>\n",
       "    .dataframe tbody tr th:only-of-type {\n",
       "        vertical-align: middle;\n",
       "    }\n",
       "\n",
       "    .dataframe tbody tr th {\n",
       "        vertical-align: top;\n",
       "    }\n",
       "\n",
       "    .dataframe thead th {\n",
       "        text-align: right;\n",
       "    }\n",
       "</style>\n",
       "<table border=\"1\" class=\"dataframe\">\n",
       "  <thead>\n",
       "    <tr style=\"text-align: right;\">\n",
       "      <th></th>\n",
       "      <th>min</th>\n",
       "      <th>mean</th>\n",
       "      <th>max</th>\n",
       "      <th>stddev</th>\n",
       "      <th>count</th>\n",
       "      <th>time</th>\n",
       "    </tr>\n",
       "    <tr>\n",
       "      <th>datetime</th>\n",
       "      <th></th>\n",
       "      <th></th>\n",
       "      <th></th>\n",
       "      <th></th>\n",
       "      <th></th>\n",
       "      <th></th>\n",
       "    </tr>\n",
       "  </thead>\n",
       "  <tbody>\n",
       "    <tr>\n",
       "      <th>2015-10-02 00:00:00+00:00</th>\n",
       "      <td>116.784149</td>\n",
       "      <td>119.321719</td>\n",
       "      <td>121.366257</td>\n",
       "      <td>0.566179</td>\n",
       "      <td>51840000</td>\n",
       "      <td>1443744000000000000</td>\n",
       "    </tr>\n",
       "    <tr>\n",
       "      <th>2015-10-07 00:00:00+00:00</th>\n",
       "      <td>105.813171</td>\n",
       "      <td>4269.307051</td>\n",
       "      <td>7299.838379</td>\n",
       "      <td>3462.597022</td>\n",
       "      <td>51721157</td>\n",
       "      <td>1444176000000000000</td>\n",
       "    </tr>\n",
       "    <tr>\n",
       "      <th>2015-10-12 00:00:00+00:00</th>\n",
       "      <td>5.467874</td>\n",
       "      <td>7154.005115</td>\n",
       "      <td>7355.261230</td>\n",
       "      <td>46.374464</td>\n",
       "      <td>51816197</td>\n",
       "      <td>1444608000000000000</td>\n",
       "    </tr>\n",
       "    <tr>\n",
       "      <th>2015-10-17 00:00:00+00:00</th>\n",
       "      <td>6681.592773</td>\n",
       "      <td>7154.443182</td>\n",
       "      <td>7249.294922</td>\n",
       "      <td>35.945926</td>\n",
       "      <td>51840320</td>\n",
       "      <td>1445040000000000000</td>\n",
       "    </tr>\n",
       "    <tr>\n",
       "      <th>2015-10-22 00:00:00+00:00</th>\n",
       "      <td>6954.883789</td>\n",
       "      <td>7154.556317</td>\n",
       "      <td>7270.524902</td>\n",
       "      <td>38.951711</td>\n",
       "      <td>51840000</td>\n",
       "      <td>1445472000000000000</td>\n",
       "    </tr>\n",
       "  </tbody>\n",
       "</table>\n",
       "</div>"
      ],
      "text/plain": [
       "                                   min         mean          max       stddev  \\\n",
       "datetime                                                                        \n",
       "2015-10-02 00:00:00+00:00   116.784149   119.321719   121.366257     0.566179   \n",
       "2015-10-07 00:00:00+00:00   105.813171  4269.307051  7299.838379  3462.597022   \n",
       "2015-10-12 00:00:00+00:00     5.467874  7154.005115  7355.261230    46.374464   \n",
       "2015-10-17 00:00:00+00:00  6681.592773  7154.443182  7249.294922    35.945926   \n",
       "2015-10-22 00:00:00+00:00  6954.883789  7154.556317  7270.524902    38.951711   \n",
       "\n",
       "                              count                 time  \n",
       "datetime                                                  \n",
       "2015-10-02 00:00:00+00:00  51840000  1443744000000000000  \n",
       "2015-10-07 00:00:00+00:00  51721157  1444176000000000000  \n",
       "2015-10-12 00:00:00+00:00  51816197  1444608000000000000  \n",
       "2015-10-17 00:00:00+00:00  51840320  1445040000000000000  \n",
       "2015-10-22 00:00:00+00:00  51840000  1445472000000000000  "
      ]
     },
     "execution_count": 5,
     "metadata": {},
     "output_type": "execute_result"
    }
   ],
   "source": [
    "def statpoints_to_dataframe(statpoints, datetime_index=True):\n",
    "    attributes = ['min','mean','max','stddev','count','time',]\n",
    "    \n",
    "    df = pd.DataFrame([[getattr(p, attr) for attr in attributes] for p, _ in statpoints],\n",
    "                     columns=attributes)\n",
    "\n",
    "    if datetime_index:\n",
    "        df['datetime'] = [ns_to_datetime(t) for t in df['time']]\n",
    "        return df.set_index('datetime')\n",
    "    else:\n",
    "        return df\n",
    "\n",
    "df = statpoints_to_dataframe(statpoints)\n",
    "df.head()"
   ]
  },
  {
   "cell_type": "markdown",
   "metadata": {},
   "source": [
    "### What just happened?\n",
    "\n",
    "The query `stream.windows()` scanned through 18 months [!!!] of data and returned a tuple of StatPoint objects. \n",
    "\n",
    "Those 18 months are partitioned into 5-day time increments (as specified by the `window` parameter). Each StatPoint reports summary statistics of values observed during that time frame.\n",
    "\n",
    "Note that pulling all 9+ billion raw point values for the same interval would have taken MUCH longer, and would have returned more data than would have been feasible to hold in RAM. Leveraging StatPoint objects makes it feasible to mine through long time intervals of data to look for trends or event signatures that warrant more detailed / granular analysis."
   ]
  },
  {
   "cell_type": "markdown",
   "metadata": {},
   "source": [
    "# What happens if we zoom in?"
   ]
  },
  {
   "cell_type": "code",
   "execution_count": 6,
   "metadata": {},
   "outputs": [
    {
     "name": "stdout",
     "output_type": "stream",
     "text": [
      "Data Duration: 561 days, 9:28:47.325000\n",
      "Aggregation window: 1 day, 0:00:00\n",
      "Runtime: 1.39 seconds\n"
     ]
    },
    {
     "data": {
      "text/html": [
       "<div>\n",
       "<style scoped>\n",
       "    .dataframe tbody tr th:only-of-type {\n",
       "        vertical-align: middle;\n",
       "    }\n",
       "\n",
       "    .dataframe tbody tr th {\n",
       "        vertical-align: top;\n",
       "    }\n",
       "\n",
       "    .dataframe thead th {\n",
       "        text-align: right;\n",
       "    }\n",
       "</style>\n",
       "<table border=\"1\" class=\"dataframe\">\n",
       "  <thead>\n",
       "    <tr style=\"text-align: right;\">\n",
       "      <th></th>\n",
       "      <th>min</th>\n",
       "      <th>mean</th>\n",
       "      <th>max</th>\n",
       "      <th>stddev</th>\n",
       "      <th>count</th>\n",
       "      <th>time</th>\n",
       "    </tr>\n",
       "    <tr>\n",
       "      <th>datetime</th>\n",
       "      <th></th>\n",
       "      <th></th>\n",
       "      <th></th>\n",
       "      <th></th>\n",
       "      <th></th>\n",
       "      <th></th>\n",
       "    </tr>\n",
       "  </thead>\n",
       "  <tbody>\n",
       "    <tr>\n",
       "      <th>2015-10-01 16:08:24.008333+00:00</th>\n",
       "      <td>117.231087</td>\n",
       "      <td>119.139902</td>\n",
       "      <td>121.366257</td>\n",
       "      <td>0.759523</td>\n",
       "      <td>10287287</td>\n",
       "      <td>1443715704008333056</td>\n",
       "    </tr>\n",
       "    <tr>\n",
       "      <th>2015-10-02 16:08:24.008333+00:00</th>\n",
       "      <td>117.449776</td>\n",
       "      <td>119.251162</td>\n",
       "      <td>121.302170</td>\n",
       "      <td>0.569169</td>\n",
       "      <td>10368000</td>\n",
       "      <td>1443802104008333056</td>\n",
       "    </tr>\n",
       "    <tr>\n",
       "      <th>2015-10-03 16:08:24.008333+00:00</th>\n",
       "      <td>116.784149</td>\n",
       "      <td>119.547277</td>\n",
       "      <td>120.763474</td>\n",
       "      <td>0.502983</td>\n",
       "      <td>10368000</td>\n",
       "      <td>1443888504008333056</td>\n",
       "    </tr>\n",
       "    <tr>\n",
       "      <th>2015-10-04 16:08:24.008333+00:00</th>\n",
       "      <td>117.354645</td>\n",
       "      <td>119.350104</td>\n",
       "      <td>120.760208</td>\n",
       "      <td>0.495989</td>\n",
       "      <td>10368000</td>\n",
       "      <td>1443974904008333056</td>\n",
       "    </tr>\n",
       "    <tr>\n",
       "      <th>2015-10-05 16:08:24.008333+00:00</th>\n",
       "      <td>117.235992</td>\n",
       "      <td>119.055069</td>\n",
       "      <td>120.682983</td>\n",
       "      <td>0.525771</td>\n",
       "      <td>10368000</td>\n",
       "      <td>1444061304008333056</td>\n",
       "    </tr>\n",
       "  </tbody>\n",
       "</table>\n",
       "</div>"
      ],
      "text/plain": [
       "                                         min        mean         max  \\\n",
       "datetime                                                               \n",
       "2015-10-01 16:08:24.008333+00:00  117.231087  119.139902  121.366257   \n",
       "2015-10-02 16:08:24.008333+00:00  117.449776  119.251162  121.302170   \n",
       "2015-10-03 16:08:24.008333+00:00  116.784149  119.547277  120.763474   \n",
       "2015-10-04 16:08:24.008333+00:00  117.354645  119.350104  120.760208   \n",
       "2015-10-05 16:08:24.008333+00:00  117.235992  119.055069  120.682983   \n",
       "\n",
       "                                    stddev     count                 time  \n",
       "datetime                                                                   \n",
       "2015-10-01 16:08:24.008333+00:00  0.759523  10287287  1443715704008333056  \n",
       "2015-10-02 16:08:24.008333+00:00  0.569169  10368000  1443802104008333056  \n",
       "2015-10-03 16:08:24.008333+00:00  0.502983  10368000  1443888504008333056  \n",
       "2015-10-04 16:08:24.008333+00:00  0.495989  10368000  1443974904008333056  \n",
       "2015-10-05 16:08:24.008333+00:00  0.525771  10368000  1444061304008333056  "
      ]
     },
     "execution_count": 6,
     "metadata": {},
     "output_type": "execute_result"
    }
   ],
   "source": [
    "t0 = currently_as_ns()\n",
    "\n",
    "window = ns_delta(days=1)\n",
    "statpoints = stream.windows(start, end, window)\n",
    "print('Data Duration:',(end-start))\n",
    "print('Aggregation window:', timedelta(seconds=int(window/1e9)))\n",
    "print('Runtime: %.2f seconds'%((currently_as_ns()-t0)/1e9))\n",
    "\n",
    "df = statpoints_to_dataframe(statpoints)\n",
    "df.head()"
   ]
  },
  {
   "cell_type": "markdown",
   "metadata": {},
   "source": [
    "# Aligned windows\n",
    "\n",
    "Aligned windows return results that look very much like windows queries. The only differece is that time stamps are adjusted to align with time windows stored inherently in the database. Where `windows` queries may need to re-compute statistical aggregates over the time window requested, `aligned_windows` queries can leverage pre-computed values.\n",
    "\n",
    "\n",
    "Let's look at the difference in performance."
   ]
  },
  {
   "cell_type": "code",
   "execution_count": 7,
   "metadata": {},
   "outputs": [
    {
     "name": "stdout",
     "output_type": "stream",
     "text": [
      "Data Duration: 561 days, 9:28:47.325000\n",
      "Aggregation window: 1 day, 0:00:00\n",
      "Runtime: 0.01 seconds\n"
     ]
    },
    {
     "data": {
      "text/html": [
       "<div>\n",
       "<style scoped>\n",
       "    .dataframe tbody tr th:only-of-type {\n",
       "        vertical-align: middle;\n",
       "    }\n",
       "\n",
       "    .dataframe tbody tr th {\n",
       "        vertical-align: top;\n",
       "    }\n",
       "\n",
       "    .dataframe thead th {\n",
       "        text-align: right;\n",
       "    }\n",
       "</style>\n",
       "<table border=\"1\" class=\"dataframe\">\n",
       "  <thead>\n",
       "    <tr style=\"text-align: right;\">\n",
       "      <th></th>\n",
       "      <th>min</th>\n",
       "      <th>mean</th>\n",
       "      <th>max</th>\n",
       "      <th>stddev</th>\n",
       "      <th>count</th>\n",
       "      <th>time</th>\n",
       "    </tr>\n",
       "    <tr>\n",
       "      <th>datetime</th>\n",
       "      <th></th>\n",
       "      <th></th>\n",
       "      <th></th>\n",
       "      <th></th>\n",
       "      <th></th>\n",
       "      <th></th>\n",
       "    </tr>\n",
       "  </thead>\n",
       "  <tbody>\n",
       "    <tr>\n",
       "      <th>2015-10-01 07:39:15.548955+00:00</th>\n",
       "      <td>117.231087</td>\n",
       "      <td>118.795732</td>\n",
       "      <td>121.259659</td>\n",
       "      <td>0.750870</td>\n",
       "      <td>4697722</td>\n",
       "      <td>1443685155548954624</td>\n",
       "    </tr>\n",
       "    <tr>\n",
       "      <th>2015-10-02 03:12:04.293132+00:00</th>\n",
       "      <td>117.318283</td>\n",
       "      <td>119.183483</td>\n",
       "      <td>121.366257</td>\n",
       "      <td>0.681662</td>\n",
       "      <td>8444249</td>\n",
       "      <td>1443755524293132288</td>\n",
       "    </tr>\n",
       "    <tr>\n",
       "      <th>2015-10-02 22:44:53.037310+00:00</th>\n",
       "      <td>117.655342</td>\n",
       "      <td>119.438784</td>\n",
       "      <td>121.302170</td>\n",
       "      <td>0.441992</td>\n",
       "      <td>8444249</td>\n",
       "      <td>1443825893037309952</td>\n",
       "    </tr>\n",
       "    <tr>\n",
       "      <th>2015-10-03 18:17:41.781488+00:00</th>\n",
       "      <td>116.784149</td>\n",
       "      <td>119.591669</td>\n",
       "      <td>120.763474</td>\n",
       "      <td>0.531194</td>\n",
       "      <td>8444250</td>\n",
       "      <td>1443896261781487616</td>\n",
       "    </tr>\n",
       "    <tr>\n",
       "      <th>2015-10-04 13:50:30.525665+00:00</th>\n",
       "      <td>117.887520</td>\n",
       "      <td>119.463267</td>\n",
       "      <td>120.760208</td>\n",
       "      <td>0.432865</td>\n",
       "      <td>8444249</td>\n",
       "      <td>1443966630525665280</td>\n",
       "    </tr>\n",
       "  </tbody>\n",
       "</table>\n",
       "</div>"
      ],
      "text/plain": [
       "                                         min        mean         max  \\\n",
       "datetime                                                               \n",
       "2015-10-01 07:39:15.548955+00:00  117.231087  118.795732  121.259659   \n",
       "2015-10-02 03:12:04.293132+00:00  117.318283  119.183483  121.366257   \n",
       "2015-10-02 22:44:53.037310+00:00  117.655342  119.438784  121.302170   \n",
       "2015-10-03 18:17:41.781488+00:00  116.784149  119.591669  120.763474   \n",
       "2015-10-04 13:50:30.525665+00:00  117.887520  119.463267  120.760208   \n",
       "\n",
       "                                    stddev    count                 time  \n",
       "datetime                                                                  \n",
       "2015-10-01 07:39:15.548955+00:00  0.750870  4697722  1443685155548954624  \n",
       "2015-10-02 03:12:04.293132+00:00  0.681662  8444249  1443755524293132288  \n",
       "2015-10-02 22:44:53.037310+00:00  0.441992  8444249  1443825893037309952  \n",
       "2015-10-03 18:17:41.781488+00:00  0.531194  8444250  1443896261781487616  \n",
       "2015-10-04 13:50:30.525665+00:00  0.432865  8444249  1443966630525665280  "
      ]
     },
     "execution_count": 7,
     "metadata": {},
     "output_type": "execute_result"
    }
   ],
   "source": [
    "window = ns_delta(days=1)\n",
    "pw = np.log2(window)\n",
    "\n",
    "t0 = currently_as_ns()\n",
    "statpoints = stream.aligned_windows(start, end, pointwidth=pw)\n",
    "print('Data Duration:',(end-start))\n",
    "print('Aggregation window:', timedelta(seconds=int(window/1e9)))\n",
    "print('Runtime: %.2f seconds'%((currently_as_ns()-t0)/1e9))\n",
    "\n",
    "df = statpoints_to_dataframe(statpoints)\n",
    "df.head()"
   ]
  },
  {
   "cell_type": "markdown",
   "metadata": {},
   "source": [
    "That's much faster! The only thing to note is that the time increment in an `aligned_windows` query is rounded to the nearest time increment that matches the inherent structure of the database. This means your start time, end time, and window may be modified slightly to optimize performance."
   ]
  },
  {
   "cell_type": "code",
   "execution_count": 8,
   "metadata": {},
   "outputs": [
    {
     "name": "stdout",
     "output_type": "stream",
     "text": [
      "WINDOW DURATION\n",
      "\tAs specified: 1 day, 0:00:00\n",
      "\tAs returned: 19.55 hours\n",
      "\n",
      "\n",
      "START TIME\n",
      "\tAs specified: 2015-10-01 16:08:24.008333+00:00\n",
      "\tAs returned: 2015-10-01 07:39:15.548955+00:00\n",
      "\n",
      "\n",
      "END TIME\n",
      "\tAs specified: 2017-04-15 01:37:11.333333+00:00\n",
      "\tAs returned: 2017-04-14 15:54:11.543187+00:00\n"
     ]
    }
   ],
   "source": [
    "print('WINDOW DURATION')\n",
    "print('\\tAs specified:', timedelta(seconds=int(window/1e9)))\n",
    "print('\\tAs returned:', btrdb.utils.general.pointwidth(pw))\n",
    "\n",
    "\n",
    "print('\\n\\nSTART TIME')\n",
    "print('\\tAs specified:', start)\n",
    "print('\\tAs returned:', df.index.min())\n",
    "\n",
    "\n",
    "print('\\n\\nEND TIME')\n",
    "print('\\tAs specified:', end)\n",
    "print('\\tAs returned:', df.index.max()+timedelta(seconds=int(window/1e9)))"
   ]
  },
  {
   "cell_type": "markdown",
   "metadata": {},
   "source": [
    "# Getting more granular with aligned_windows\n",
    "\n",
    "Performance on `aligned_windows` queries is much faster, and will enable you to query data more quickly and at finer resolutions that you'll be able to do using `windows`."
   ]
  },
  {
   "cell_type": "code",
   "execution_count": 9,
   "metadata": {},
   "outputs": [
    {
     "name": "stdout",
     "output_type": "stream",
     "text": [
      "Data Duration: 561 days, 9:28:47.325000\n",
      "Aggregation window: 4.89 hours\n",
      "Runtime: 0.02 seconds\n"
     ]
    }
   ],
   "source": [
    "window = ns_delta(hours=6)\n",
    "pw = np.log2(window)\n",
    "\n",
    "t0 = currently_as_ns()\n",
    "statpoints = stream.aligned_windows(start, end, pointwidth=pw)\n",
    "\n",
    "print('Data Duration:',(end-start))\n",
    "print('Aggregation window:', btrdb.utils.general.pointwidth(pw))\n",
    "print('Runtime: %.2f seconds'%((currently_as_ns()-t0)/1e9))"
   ]
  },
  {
   "cell_type": "code",
   "execution_count": 10,
   "metadata": {},
   "outputs": [
    {
     "name": "stdout",
     "output_type": "stream",
     "text": [
      "Data Duration: 561 days, 9:28:47.325000\n",
      "Aggregation window: 18.33 minutes\n",
      "Runtime: 2.13 seconds\n"
     ]
    }
   ],
   "source": [
    "window = ns_delta(minutes=30)\n",
    "pw = np.log2(window)\n",
    "\n",
    "t0 = currently_as_ns()\n",
    "statpoints = stream.aligned_windows(start, end, pointwidth=pw)\n",
    "\n",
    "print('Data Duration:',(end-start))\n",
    "print('Aggregation window:', btrdb.utils.general.pointwidth(pw))\n",
    "print('Runtime: %.2f seconds'%((currently_as_ns()-t0)/1e9))"
   ]
  },
  {
   "cell_type": "code",
   "execution_count": 11,
   "metadata": {},
   "outputs": [
    {
     "name": "stdout",
     "output_type": "stream",
     "text": [
      "Data Duration: 561 days, 9:28:47.325000\n",
      "Aggregation window: 4.58 minutes\n",
      "Runtime: 1.51 seconds\n"
     ]
    }
   ],
   "source": [
    "window = ns_delta(minutes=5)\n",
    "pw = np.log2(window)\n",
    "\n",
    "t0 = currently_as_ns()\n",
    "statpoints = stream.aligned_windows(start, end, pointwidth=pw)\n",
    "\n",
    "print('Data Duration:',(end-start))\n",
    "print('Aggregation window:', btrdb.utils.general.pointwidth(pw))\n",
    "print('Runtime: %.2f seconds'%((currently_as_ns()-t0)/1e9))"
   ]
  },
  {
   "cell_type": "markdown",
   "metadata": {},
   "source": [
    "That last query took a while! Let's make note that querying 1.5 years of data at 1-minute resolution is starting to push the limits of what our environment (or patience!) can handle.\n",
    "\n",
    "It is possible to speed that up, however, by using a larger computing environment."
   ]
  },
  {
   "cell_type": "markdown",
   "metadata": {},
   "source": [
    "# When to use `values`\n",
    "\n",
    "Many analytics can be done using StatPoints to summarize steady state characteristics of the data at the time-scale that is of interest, or to identify intervals in the data where there is an \"event\" in the data. \n",
    "\n",
    "Here, we'll simply explore at what point values queries become intractable to perform."
   ]
  },
  {
   "cell_type": "code",
   "execution_count": 12,
   "metadata": {},
   "outputs": [
    {
     "name": "stdout",
     "output_type": "stream",
     "text": [
      "Runtime: 0.06 seconds\n"
     ]
    }
   ],
   "source": [
    "window = ns_delta(minutes=1)\n",
    "start_time = datetime_to_ns(start)\n",
    "end_time = start_time + window\n",
    "\n",
    "t0 = currently_as_ns()\n",
    "statpoints = stream.values(start_time, end_time)\n",
    "print('Runtime: %.2f seconds'%((currently_as_ns()-t0)/1e9))"
   ]
  },
  {
   "cell_type": "code",
   "execution_count": 13,
   "metadata": {},
   "outputs": [
    {
     "name": "stdout",
     "output_type": "stream",
     "text": [
      "Runtime: 0.17 seconds\n"
     ]
    }
   ],
   "source": [
    "window = ns_delta(minutes=10)\n",
    "start_time = datetime_to_ns(start)\n",
    "end_time = start_time + window\n",
    "\n",
    "t0 = currently_as_ns()\n",
    "statpoints = stream.values(start_time, end_time)\n",
    "print('Runtime: %.2f seconds'%((currently_as_ns()-t0)/1e9))"
   ]
  },
  {
   "cell_type": "code",
   "execution_count": 14,
   "metadata": {},
   "outputs": [
    {
     "name": "stdout",
     "output_type": "stream",
     "text": [
      "Runtime: 0.94 seconds\n"
     ]
    }
   ],
   "source": [
    "window = ns_delta(hours=1)\n",
    "start_time = datetime_to_ns(start)\n",
    "end_time = start_time + window\n",
    "\n",
    "t0 = currently_as_ns()\n",
    "statpoints = stream.values(start_time, end_time)\n",
    "print('Runtime: %.2f seconds'%((currently_as_ns()-t0)/1e9))"
   ]
  },
  {
   "cell_type": "code",
   "execution_count": 15,
   "metadata": {},
   "outputs": [
    {
     "name": "stdout",
     "output_type": "stream",
     "text": [
      "Runtime: 2.64 seconds\n"
     ]
    }
   ],
   "source": [
    "window = ns_delta(hours=3)\n",
    "start_time = datetime_to_ns(start)\n",
    "end_time = start_time + window\n",
    "\n",
    "t0 = currently_as_ns()\n",
    "statpoints = stream.values(start_time, end_time)\n",
    "print('Runtime: %.2f seconds'%((currently_as_ns()-t0)/1e9))"
   ]
  },
  {
   "cell_type": "markdown",
   "metadata": {},
   "source": [
    "### Final note...\n",
    "\n",
    "When running values queries, be sure to check how much working memory you have available in your jupyterhub instance. Bringing large amounts of data into memory can easily cause your environment to crash! You may need to shut down and move to a larger instance."
   ]
  },
  {
   "cell_type": "markdown",
   "metadata": {},
   "source": [
    "### `aligned_windows` queries in action \n",
    "Here are some examples where we use statpoints to hone in on time intervals that are known (or likely) to be of interest for a given analytic:\n",
    "- Voltage sags: https://github.com/PingThingsIO/ni4ai-notebooks/blob/main/demo/Voltage%20Sag%20Exploration.ipynb\n",
    "- Tap changes: https://github.com/PingThingsIO/ni4ai-notebooks/blob/main/demo/Voltage%20Change%20Detection.ipynb\n",
    "\n",
    "### `values` queries in action\n",
    "\n",
    "Here are examples where we use values queries to examine events that warrant full-resolution queries:\n",
    "- Spectral analysis: https://github.com/PingThingsIO/ni4ai-notebooks/blob/main/demo/PV_spectrogram.ipynb\n",
    "- Phase angle differencing: https://github.com/PingThingsIO/ni4ai-notebooks/blob/main/demo/Phase%20Angle%20Monitoring.ipynb"
   ]
  }
 ],
 "metadata": {
  "kernelspec": {
   "display_name": "Python 3",
   "language": "python",
   "name": "python3"
  },
  "language_info": {
   "codemirror_mode": {
    "name": "ipython",
    "version": 3
   },
   "file_extension": ".py",
   "mimetype": "text/x-python",
   "name": "python",
   "nbconvert_exporter": "python",
   "pygments_lexer": "ipython3",
   "version": "3.7.3"
  }
 },
 "nbformat": 4,
 "nbformat_minor": 2
}
