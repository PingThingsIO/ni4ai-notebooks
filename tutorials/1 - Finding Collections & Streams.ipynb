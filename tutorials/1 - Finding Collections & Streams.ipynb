{
 "cells": [
  {
   "cell_type": "markdown",
   "metadata": {},
   "source": [
    "# Finding Collections & Streams\n",
    "\n",
    "In this notebook we will focus on finding our data streams.  We start with collections which are how streams are organized.  Then, we can use the collections to find individual streams.\n",
    "\n",
    "If you would like to learn more about any of the topics covered here, please see the btrdb library [documentation](https://btrdb.readthedocs.io/en/latest/).\n",
    "\n",
    "\n",
    "**NOTE**: To get access to the Sunshine dataset to run this notebook, please register for an API key at [ni4ai.org](https://ni4ai.org/)."
   ]
  },
  {
   "cell_type": "markdown",
   "metadata": {},
   "source": [
    "## Imports"
   ]
  },
  {
   "cell_type": "code",
   "execution_count": 1,
   "metadata": {},
   "outputs": [],
   "source": [
    "import btrdb\n",
    "from tabulate import tabulate"
   ]
  },
  {
   "cell_type": "markdown",
   "metadata": {},
   "source": [
    "## Establish Server Connection\n",
    "\n",
    "We always start with establishing a connection to the server using the `connect` function from the `btrdb` library.  The connect function takes two optional arguments - the address of the BTrDB cluster and an API key to identify the user."
   ]
  },
  {
   "cell_type": "code",
   "execution_count": 2,
   "metadata": {},
   "outputs": [
    {
     "data": {
      "text/plain": [
       "{'majorVersion': 5, 'build': '5.11.157', 'proxy': {'proxyEndpoints': []}}"
      ]
     },
     "execution_count": 2,
     "metadata": {},
     "output_type": "execute_result"
    }
   ],
   "source": [
    "conn = btrdb.connect()\n",
    "conn.info()"
   ]
  },
  {
   "cell_type": "markdown",
   "metadata": {},
   "source": [
    "# Finding Collections\n",
    "\n",
    "Time series data in BTrDB is organized into collections which can be thought of as a hierarchical paths such as `CALIFORNIA/SanFrancisco/91405`.  Within this collection/path you can put as many time series streams as you like.  Listing all available collections is easy an can be done with the `list_collections` method from the primary database handle."
   ]
  },
  {
   "cell_type": "code",
   "execution_count": 3,
   "metadata": {},
   "outputs": [
    {
     "name": "stdout",
     "output_type": "stream",
     "text": [
      " -> sunshine\n",
      "  -> PMU1\n"
     ]
    }
   ],
   "source": [
    "import pandas as pd\n",
    "\n",
    "collections = conn.list_collections()\n",
    "collections.sort()\n",
    "\n",
    "for i, c in enumerate(collections):\n",
    "    levels = c.split('/')\n",
    "    for j, l in enumerate(levels):\n",
    "        if i == 0:\n",
    "            pass\n",
    "        elif l in collections[i-1]:\n",
    "            continue\n",
    "        print(j*' ','->', l)\n"
   ]
  },
  {
   "cell_type": "markdown",
   "metadata": {},
   "source": [
    "## Narrowing Our Search\n",
    "\n",
    "Alternatively, you can use a targetted search if you want to limit the results to a particular set of collections by providing the first part of the collection path."
   ]
  },
  {
   "cell_type": "code",
   "execution_count": 4,
   "metadata": {},
   "outputs": [
    {
     "data": {
      "text/plain": [
       "['sunshine/PMU1']"
      ]
     },
     "execution_count": 4,
     "metadata": {},
     "output_type": "execute_result"
    }
   ],
   "source": [
    "conn.list_collections(\"sunshine/PMU\")"
   ]
  },
  {
   "cell_type": "markdown",
   "metadata": {},
   "source": [
    "# Finding Streams\n",
    "\n",
    "Streams in BTrDB are one of the most important objects you will be dealing with.  Each represents a particular time series within the database and contains both metadata as well as the underlying time/value pairs.\n",
    "\n",
    "We will look at stream objects in more detail as a future exercise but for now we will concentrate on just retrieving the stream objects."
   ]
  },
  {
   "cell_type": "markdown",
   "metadata": {},
   "source": [
    "## Search By Collection"
   ]
  },
  {
   "cell_type": "markdown",
   "metadata": {},
   "source": [
    "The easiest way to find the particular streams you are looking for is to use the `streams_in_collection` method.  In the simplest use case, you can provide the collection that contains your streams.  \n",
    "\n",
    "Note that this method returns a generator and so the examples below convert it to a list to retrieve the data."
   ]
  },
  {
   "cell_type": "code",
   "execution_count": 5,
   "metadata": {},
   "outputs": [
    {
     "data": {
      "text/plain": [
       "[<Stream collection=sunshine/PMU1 name=LSTATE>,\n",
       " <Stream collection=sunshine/PMU1 name=C1ANG>,\n",
       " <Stream collection=sunshine/PMU1 name=C3MAG>,\n",
       " <Stream collection=sunshine/PMU1 name=C2MAG>,\n",
       " <Stream collection=sunshine/PMU1 name=C1MAG>,\n",
       " <Stream collection=sunshine/PMU1 name=C3ANG>,\n",
       " <Stream collection=sunshine/PMU1 name=L3ANG>,\n",
       " <Stream collection=sunshine/PMU1 name=L2ANG>,\n",
       " <Stream collection=sunshine/PMU1 name=L3MAG>,\n",
       " <Stream collection=sunshine/PMU1 name=L1ANG>,\n",
       " <Stream collection=sunshine/PMU1 name=C2ANG>,\n",
       " <Stream collection=sunshine/PMU1 name=L1MAG>,\n",
       " <Stream collection=sunshine/PMU1 name=L2MAG>]"
      ]
     },
     "execution_count": 5,
     "metadata": {},
     "output_type": "execute_result"
    }
   ],
   "source": [
    "streams = list(conn.streams_in_collection('sunshine/PMU1'))\n",
    "streams"
   ]
  },
  {
   "cell_type": "markdown",
   "metadata": {},
   "source": [
    "## Convenience Function for Displaying Metadata \n",
    "\n",
    "Each of these streams has its own metadata such as `collection`, `name`, `uuid` and so on.  Let's create a simple convenience function to display the stream metadata using the `tabulate` library."
   ]
  },
  {
   "cell_type": "code",
   "execution_count": 6,
   "metadata": {},
   "outputs": [
    {
     "name": "stdout",
     "output_type": "stream",
     "text": [
      "Collection     Name    Units      Version  UUID\n",
      "-------------  ------  -------  ---------  ------------------------------------\n",
      "sunshine/PMU1  LSTATE  mask        243640  6ffb2e7e-273c-4963-9143-b416923980b0\n",
      "sunshine/PMU1  C1ANG   deg         240607  d625793b-721f-46e2-8b8c-18f882366eeb\n",
      "sunshine/PMU1  C3MAG   amps        240481  fb61e4d1-3e17-48ee-bdf3-43c54b03d7c8\n",
      "sunshine/PMU1  C2MAG   amps        240718  d765f128-4c00-4226-bacf-0de8ebb090b5\n",
      "sunshine/PMU1  C1MAG   amps        240380  1187af71-2d54-49d4-9027-bae5d23c4bda\n",
      "sunshine/PMU1  C3ANG   deg         240781  0be8a8f4-3b45-4fe3-b77c-1cbdadb92039\n",
      "sunshine/PMU1  L3ANG   deg         240862  e4efd9f6-9932-49b6-9799-90815507aed0\n",
      "sunshine/PMU1  L2ANG   deg         240662  886203ca-d3e8-4fca-90cc-c88dfd0283d4\n",
      "sunshine/PMU1  L3MAG   volts       229263  b2936212-253e-488a-87f6-a9927042031f\n",
      "sunshine/PMU1  L1ANG   deg         229265  51840b07-297a-42e5-a73a-290c0a47bddb\n",
      "sunshine/PMU1  C2ANG   deg         229263  97de3802-d38d-403c-96af-d23b874b5e95\n",
      "sunshine/PMU1  L1MAG   volts       229266  35bdb8dc-bf18-4523-85ca-8ebe384bd9b5\n",
      "sunshine/PMU1  L2MAG   volts       229264  d4cfa9a6-e11a-4370-9eda-16e80773ce8c\n"
     ]
    }
   ],
   "source": [
    "def describe_streams(streams):\n",
    "    table = [[\"Collection\", \"Name\", \"Units\", \"Version\", \"UUID\"]]\n",
    "    for stream in streams:\n",
    "        tags = stream.tags()\n",
    "        table.append([\n",
    "            stream.collection, stream.name, tags[\"unit\"], stream.version(), stream.uuid\n",
    "        ])\n",
    "    return tabulate(table, headers=\"firstrow\")\n",
    "\n",
    "print(describe_streams(streams))"
   ]
  },
  {
   "cell_type": "markdown",
   "metadata": {},
   "source": [
    "## Narrowing Our Search\n",
    "\n",
    "We can also include extra parameters to `streams_in_collection` when searching for streams.  Streams contain dictionaries for metadata called `tags` and `annotations`.  Tags are generally reserved for internal use while annotations are for custom metadata.\n",
    "\n",
    "Let's do our search again but narrow our results to just include streams that have a unit of \"amps\".  Similarly we can provide a dictionary for the custom annotation data if that would help to narrow our search."
   ]
  },
  {
   "cell_type": "code",
   "execution_count": 7,
   "metadata": {
    "scrolled": false
   },
   "outputs": [
    {
     "name": "stdout",
     "output_type": "stream",
     "text": [
      "Collection     Name    Units      Version  UUID\n",
      "-------------  ------  -------  ---------  ------------------------------------\n",
      "sunshine/PMU1  C3MAG   amps        240481  fb61e4d1-3e17-48ee-bdf3-43c54b03d7c8\n",
      "sunshine/PMU1  C2MAG   amps        240718  d765f128-4c00-4226-bacf-0de8ebb090b5\n",
      "sunshine/PMU1  C1MAG   amps        240380  1187af71-2d54-49d4-9027-bae5d23c4bda\n"
     ]
    }
   ],
   "source": [
    "streams = conn.streams_in_collection('sunshine/PMU1', tags={\"unit\": \"amps\"})\n",
    "print(describe_streams(streams))"
   ]
  },
  {
   "cell_type": "code",
   "execution_count": null,
   "metadata": {},
   "outputs": [],
   "source": []
  }
 ],
 "metadata": {
  "kernelspec": {
   "display_name": "Python 3",
   "language": "python",
   "name": "python3"
  },
  "language_info": {
   "codemirror_mode": {
    "name": "ipython",
    "version": 3
   },
   "file_extension": ".py",
   "mimetype": "text/x-python",
   "name": "python",
   "nbconvert_exporter": "python",
   "pygments_lexer": "ipython3",
   "version": "3.7.3"
  }
 },
 "nbformat": 4,
 "nbformat_minor": 2
}
